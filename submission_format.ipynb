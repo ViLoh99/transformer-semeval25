{
 "cells": [
  {
   "cell_type": "code",
   "execution_count": null,
   "metadata": {},
   "outputs": [],
   "source": [
    "submission = []\n",
    "\n",
    "for i in range(len(data)):\n",
    "    current = data.iloc[i]\n",
    "    sentences = [\n",
    "        current[\"compound\"],\n",
    "        current[\"sentence\"],\n",
    "        current[\"image1_caption\"],\n",
    "        current[\"image2_caption\"],\n",
    "        current[\"image3_caption\"],\n",
    "        current[\"image4_caption\"],\n",
    "        current[\"image5_caption\"]\n",
    "    ]\n",
    "\n",
    "    scores = sim_scores_combined(current, sentences)\n",
    "    ranking = rank_images(scores)\n",
    "    #print(type(ranking))\n",
    "\n",
    "    exp_order = current[\"expected_order\"]\n",
    "    evaluation = evaluation_single(ranking,exp_order)\n",
    "    total_acc += evaluation[0]\n",
    "    total_spearman += evaluation[1]\n",
    "\n",
    "    submission.append({\n",
    "        \"compound\": current[\"compound\"],\n",
    "        \"expected_order\":ranking \n",
    "    })\n",
    "\n",
    "# Save the submission data to a .tsv file\n",
    "submission_df = pd.DataFrame(submission)\n",
    "submission_df.to_csv(\"submission_EN.tsv\", sep=\"\\t\", index=False)\n",
    "print(\"File saved as submission_EN.tsv\")"
   ]
  }
 ],
 "metadata": {
  "language_info": {
   "name": "python"
  },
  "orig_nbformat": 4
 },
 "nbformat": 4,
 "nbformat_minor": 2
}
