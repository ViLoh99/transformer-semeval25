{
 "cells": [
  {
   "cell_type": "markdown",
   "metadata": {},
   "source": [
    "# Make predictions\n",
    "\n",
    "## Load data and investigate"
   ]
  },
  {
   "cell_type": "code",
   "execution_count": 1,
   "metadata": {},
   "outputs": [],
   "source": [
    "import csv\n",
    "import sys\n",
    "import ast\n",
    "import pandas as pd\n",
    "import numpy as np\n",
    "\n",
    "# Parameter setting\n",
    "\n",
    "# model\n",
    "#checkpoint = 'bert-base-uncased' \n",
    "checkpoint ='jlsalim/bert-uncased-idiomatic-literal-recognizer'\n",
    "\n",
    "# full sentences or preprocessed (filtered to content words of specific POS)\n",
    "preprocessed = False \n",
    "#preprocessed = True\n",
    "\n",
    "#remove_CLS_SEP = True \n",
    "remove_CLS_SEP = False\n",
    "\n",
    "\n",
    "# load pkl-file\n",
    "import pickle\n",
    "if preprocessed == True:\n",
    "    prep = \"_preprocessed_\"\n",
    "else:\n",
    "    prep = \"_\"\n",
    "\n",
    "if remove_CLS_SEP == True:\n",
    "    cls_sep = \"_without_CLS_SEP\"\n",
    "else:\n",
    "    cls_sep = \"\"\n",
    "\n",
    "checkpoint_write = checkpoint.replace(\"/\", \"_\").replace(\"\\\\\", \"_\")\n",
    "dataA = pd.read_pickle(\"dataA\"+ prep + checkpoint_write + cls_sep + \".pkl\")\n"
   ]
  },
  {
   "cell_type": "code",
   "execution_count": 2,
   "metadata": {},
   "outputs": [],
   "source": [
    "\n",
    "f = open('results.txt', 'a')\n",
    "f.write(\"\\n\" \"=================================================\")\n",
    "f.write(\"\\n\" +\"checkpoint = \" + checkpoint)\n",
    "if prep == \"_preprocessed_\":\n",
    "    f.write(\"\\n\" +\"preprocessed: True \" + \"noun, verb\")\n",
    "else: \n",
    "    f.write(\"\\n\" +\"preprocessed: False\")\n",
    "if cls_sep == \"_without_CLS_SEP\":\n",
    "    f.write(\"\\n\" + \"CLS and SEP Tokens removed\")\n",
    "else:\n",
    "    f.write(\"\\n\" + \"without CLS and SEP Tokens removed\")\n",
    "\n",
    "f.write(\"\\n\" \"-------------------------------------------------\")\n",
    "f.close()\n",
    "\n",
    "# file to collect results \"results.txt\"\n"
   ]
  },
  {
   "cell_type": "code",
   "execution_count": 3,
   "metadata": {},
   "outputs": [
    {
     "data": {
      "text/plain": [
       "Extended Evaluation    100\n",
       "Train                   60\n",
       "Dev                     15\n",
       "Test                    15\n",
       "Sample                  10\n",
       "Name: subset, dtype: int64"
      ]
     },
     "execution_count": 3,
     "metadata": {},
     "output_type": "execute_result"
    }
   ],
   "source": [
    "dataA[\"subset\"].value_counts()"
   ]
  },
  {
   "cell_type": "code",
   "execution_count": 4,
   "metadata": {},
   "outputs": [
    {
     "data": {
      "text/plain": [
       "idiomatic    39\n",
       "literal      31\n",
       "Name: sentence_type, dtype: int64"
      ]
     },
     "execution_count": 4,
     "metadata": {},
     "output_type": "execute_result"
    }
   ],
   "source": [
    "dataA['sentence_type'].value_counts()"
   ]
  },
  {
   "cell_type": "code",
   "execution_count": 5,
   "metadata": {},
   "outputs": [],
   "source": [
    "# returns the dataframe sample and train (data items that have literal/idiomatic information given)\n",
    "def only_train(dataA): # returns the dataframe sample and train (data items that have literal/idiomatic information given)\n",
    "    return pd.concat([dataA[dataA[\"subset\"] == \"Sample\"],dataA[dataA[\"subset\"]== \"Train\"]])\n",
    "\n",
    "# returns the dataframe of subset\n",
    "def only_subset(dataA, subset): # returns the dataframe sample and train (data items that have literal/idiomatic information given)\n",
    "    return dataA[dataA[\"subset\"] == subset]"
   ]
  },
  {
   "cell_type": "code",
   "execution_count": 6,
   "metadata": {},
   "outputs": [],
   "source": [
    "# generates submission file from column for subset\n",
    "from zipfile import ZipFile\n",
    "def make_submission(dataA, column, subset):\n",
    "    if subset == \"Dev\":\n",
    "        name = \"EN\"\n",
    "    if subset == \"Extended Evaluation\":\n",
    "        name = \"xe\"\n",
    "    if subset == \"Test\":\n",
    "        name = \"EN\"\n",
    "    full_name = \"submission_\" + name\n",
    "    subset_data = only_subset(dataA,subset)\n",
    "    submission_df = pd.DataFrame()\n",
    "    submission_df[\"compound\"] = subset_data[\"compound\"]\n",
    "    submission_df[\"expected_order\"] = subset_data[column]\n",
    "    submission_df.to_csv(full_name + \".tsv\", sep=\"\\t\", index=False)\n",
    "    ZipFile(full_name + '.zip', 'w').write(full_name + '.tsv')\n",
    "    print(\"File zipped and saved as \" +  full_name + \".zip\")\n",
    "\n",
    "\n"
   ]
  },
  {
   "cell_type": "code",
   "execution_count": 7,
   "metadata": {},
   "outputs": [],
   "source": [
    "# functions to display images\n",
    "\n",
    "from PIL import Image\n",
    "from IPython.display import display\n",
    "\n",
    "\n",
    "fileDirectory = 'D:\\\\Wiebke Petersen\\\\Downloads\\\\AdMIRe Subtask A Train\\\\train'\n",
    "\n",
    "# Open the image file\n",
    "def display_image(compound, fn):\n",
    "    img = Image.open(fileDirectory + \"\\\\\" + compound + \"\\\\\" + fn)\n",
    "    new_size = (150, 150)  # Width, Height\n",
    "    img_resized = img.resize(new_size)  \n",
    "    # Display the image\n",
    "    display(img_resized)\n",
    "\n",
    "# returns list of image names sorted from image1 to image5\n",
    "def get_image_names(n,mydata):\n",
    "    names = []\n",
    "    for i in [1,2,3,4,5]:\n",
    "         names.append(mydata['image' + str(i) + '_name'][n])\n",
    "    return names\n"
   ]
  },
  {
   "cell_type": "code",
   "execution_count": 8,
   "metadata": {},
   "outputs": [],
   "source": [
    "# print information of 1 item:\n",
    "\n",
    "def print_item(n, mydata):\n",
    "    # print  'sentence_type', 'sentence'\n",
    "    compound = mydata['compound'][n]\n",
    "    print(compound)\n",
    "    print(mydata['sentence_type'][n])\n",
    "    print(mydata['sentence'][n])\n",
    "    print('---------------------------------------------------------------------')\n",
    "\n",
    "\n",
    "    # for image_names in 'expected_order' print image_captions\n",
    "    names  =  get_image_names(n,mydata)\n",
    "    expected_order = mydata['expected_order'][n]\n",
    "    print(expected_order)\n",
    "\n",
    "    for image_name in expected_order:\n",
    "        display_image(compound, image_name)\n",
    "        # get index of image_name in names\n",
    "        index = names.index(image_name) + 1\n",
    "        print(mydata['image'+str(index)+'_caption'][n])\n",
    "    "
   ]
  },
  {
   "cell_type": "code",
   "execution_count": 9,
   "metadata": {},
   "outputs": [
    {
     "name": "stdout",
     "output_type": "stream",
     "text": [
      "green fingers\n",
      "literal\n",
      "The toddler ran in and proudly held up a picture of a tree as her green fingers threatened to smear paint on the kitchen walls and cupboards.\n",
      "---------------------------------------------------------------------\n",
      "['38213294711.png', '92628846416.png', '88406435457.png', '10027562830.png', '88683770392.png']\n"
     ]
    },
    {
     "data": {
      "image/png": "[encoded data removed]",
      "text/plain": [
       "<PIL.Image.Image image mode=RGB size=150x150>"
      ]
     },
     "metadata": {},
     "output_type": "display_data"
    },
    {
     "name": "stdout",
     "output_type": "stream",
     "text": [
      "The image depicts a cartoon-style illustration of a young girl with brown hair tied back in a ponytail. She is wearing overalls and has paint splatters on her hands, face, and clothing. The paint appears to be green and orange, suggesting she might have been involved in some form of creative activity or playtime. Her expression is cheerful and enthusiastic, with wide eyes and a big smile, indicating she is enjoying herself. The background is plain white, which helps to focus attention on the girl and her colorful paint splatters.\n"
     ]
    },
    {
     "data": {
      "image/png": "[encoded data removed]",
      "text/plain": [
       "<PIL.Image.Image image mode=RGB size=150x150>"
      ]
     },
     "metadata": {},
     "output_type": "display_data"
    },
    {
     "name": "stdout",
     "output_type": "stream",
     "text": [
      "The image depicts a close-up of a human hand with the palm facing upwards and fingers slightly curled. The hand appears to be of a light skin tone, and it is holding a small object that is not visible in the image. The nails on the fingers are painted with a glossy, dark green nail polish. The lighting in the image is soft, creating subtle shadows and highlights on the hand, which gives it a realistic appearance. The background is plain and white, ensuring that the focus remains solely on the hand and its details. There are no other objects or elements present in the image.\n"
     ]
    },
    {
     "data": {
      "image/png": "[encoded data removed]",
      "text/plain": [
       "<PIL.Image.Image image mode=RGB size=150x150>"
      ]
     },
     "metadata": {},
     "output_type": "display_data"
    },
    {
     "name": "stdout",
     "output_type": "stream",
     "text": [
      "The image depicts an elderly man with gray hair and a mustache, wearing a light-colored shirt and dark pants. He is standing next to a potted plant, which appears to be a small palm tree or similar type of plant. The man is holding a watering can in his right hand and a smaller container in his left hand. He is in the process of watering the plant, pouring water from the watering can onto the soil in the pot. The background is plain and white, focusing attention on the man and the plant. The overall scene suggests a nurturing activity, possibly related to gardening or plant care.\n"
     ]
    },
    {
     "data": {
      "image/png": "[encoded data removed]",
      "text/plain": [
       "<PIL.Image.Image image mode=RGB size=150x150>"
      ]
     },
     "metadata": {},
     "output_type": "display_data"
    },
    {
     "name": "stdout",
     "output_type": "stream",
     "text": [
      "The image depicts an elderly man engaged in gardening activities. He is crouching down next to a small garden bed, which is enclosed by a wooden fence. The garden bed contains various plants and vegetables, including tomatoes, garlic, and what appears to be young seedlings or small plants. \\n\\nThe man is wearing a light-colored shirt, brown pants, and a wide-brimmed hat with a small orange decoration on the brim. He has a white beard and glasses, suggesting he might be older. His expression seems focused as he tends to the plants.\\n\\nIn the background, there is a tree with green leaves, providing some shade over the garden bed. The tree is situated behind the fence, adding a natural element to the scene. The ground around the garden bed is covered with dark soil, indicating that it is actively being cultivated.\\n\\nThere are several tomatoes visible in the garden bed, some of which are already fully grown while others are still small and green. Garlic bulbs are also present, identifiable by their distinct shape and size. Additionally, there are young seedlings or small plants emerging from the soil, showing signs of growth.\\n\\nThe overall scene conveys a sense of tranquility and diligence, highlighting the man's commitment to his gardening hobby. The presence of the fence suggests that the garden is well-maintained and possibly part of a larger garden or backyard area.\\n\\nThis detailed description should provide a comprehensive understanding of the image for any text-based model to answer related questions.\n"
     ]
    },
    {
     "data": {
      "image/png": "[encoded data removed]",
      "text/plain": [
       "<PIL.Image.Image image mode=RGB size=150x150>"
      ]
     },
     "metadata": {},
     "output_type": "display_data"
    },
    {
     "name": "stdout",
     "output_type": "stream",
     "text": [
      "The image depicts an elderly man playing the piano. He is seated on a black stool with orange accents, positioned in front of a large, dark-colored grand piano. The piano has a shiny, reflective surface and is placed on a raised platform. The man is dressed in a formal suit with a red tie, and he appears to be focused on playing the instrument. The background is plain white, which helps to emphasize the subject and the piano. The overall scene suggests a classical music performance or practice session.\n"
     ]
    }
   ],
   "source": [
    "dataA_train = only_train(dataA)\n",
    "print_item(10,dataA_train)"
   ]
  },
  {
   "cell_type": "code",
   "execution_count": 10,
   "metadata": {},
   "outputs": [],
   "source": [
    "# add opposite sentence_type for each compound in extended data that is also in train/sample\n",
    "# it is not guaranteed that this is the correct sentence_type\n",
    "# no cheating: the extended data is only used to measure accuracy on a bigger dataset.\n",
    "\n",
    "dataA_train = only_train(dataA)\n",
    "dataA_train = dataA_train.reset_index(drop=True)\n",
    "train_compounds = [(dataA_train[\"compound\"][i], dataA_train[\"sentence_type\"][i], list(dataA_train[\"expected_order\"][i])) for i in range(len(dataA_train))]\n",
    "def cheat_items(item):\n",
    "    new_order = [3,2,1,0,4]\n",
    "    if item[\"subset\"] == \"Extended Evaluation\":\n",
    "        compound = item[\"compound\"]\n",
    "        t = [triple for triple in train_compounds if triple[0] == compound]\n",
    "        if t != []:\n",
    "            (c,sent_type,order) = t[0]\n",
    "            if sent_type == \"literal\":\n",
    "                item[\"sentence_type\"] = \"idiomatic\"\n",
    "            else: \n",
    "                item[\"sentence_type\"] = \"literal\"\n",
    "            item[\"expected_order\"] = [order[i] for i in new_order]\n",
    "        else: \n",
    "            item[\"sentence_type\"] = None\n",
    "            item[\"expected_order\"] = None\n",
    "    return item\n",
    "\n",
    "dataA = dataA.apply(lambda x: cheat_items(x), axis=1)    "
   ]
  },
  {
   "cell_type": "markdown",
   "metadata": {},
   "source": [
    "## Binary classification idiomatic/literal via cosine similarities "
   ]
  },
  {
   "cell_type": "markdown",
   "metadata": {},
   "source": [
    "### Binary classification (idiomatic/literal) via cosine similarities using chatGPT data and BERT embeddings"
   ]
  },
  {
   "cell_type": "code",
   "execution_count": 11,
   "metadata": {},
   "outputs": [],
   "source": [
    "def cosine_similarity(u, v):\n",
    "    return np.dot(u, v) / (np.linalg.norm(u) * np.linalg.norm(v))\n",
    "\n",
    "\n",
    "def compare(emb,emb0,emb1):\n",
    "    sim0 = cosine_similarity(emb,emb0)\n",
    "    sim1 = cosine_similarity(emb,emb1)\n",
    "    if sim0 > sim1:\n",
    "        return 0\n",
    "    else:\n",
    "        return 1\n",
    "\n",
    "def binary2values(list,val0,val1):\n",
    "    final = []\n",
    "    for element in list:\n",
    "        if element == 1:\n",
    "            final.append(val1)\n",
    "        else:\n",
    "            final.append(val0)\n",
    "    return final\n"
   ]
  },
  {
   "cell_type": "markdown",
   "metadata": {},
   "source": [
    "##### sentence embedding versus gpt sentence/meaning embedding"
   ]
  },
  {
   "cell_type": "code",
   "execution_count": 12,
   "metadata": {},
   "outputs": [
    {
     "name": "stdout",
     "output_type": "stream",
     "text": [
      "sentence compared to gpt sentence embeddings\n",
      "sentence_embedding_meanSecondToLast\n",
      "0.957\n",
      "sentence_embedding_meanLast4\n",
      "0.943\n",
      "sentence_embedding_meanLast\n",
      "0.971\n",
      "sentence_embedding_meanFirst\n",
      "0.557\n",
      "sentence_embedding_firstCLS\n",
      "0.557\n",
      "sentence_embedding_lastCLS\n",
      "0.957\n",
      "meaning_embedding_meanSecondToLast\n",
      "0.886\n",
      "meaning_embedding_meanLast4\n",
      "0.871\n",
      "meaning_embedding_meanLast\n",
      "0.914\n",
      "meaning_embedding_meanFirst\n",
      "0.6\n",
      "meaning_embedding_firstCLS\n",
      "0.557\n",
      "meaning_embedding_lastCLS\n",
      "0.871\n"
     ]
    }
   ],
   "source": [
    "from sklearn.metrics import accuracy_score\n",
    "from sklearn.metrics import classification_report\n",
    "# only training data has sentence_type information\n",
    "dataA_train = only_train(dataA)\n",
    "\n",
    "\n",
    "compound_methods = ['meanSecondToLast','meanLast4','meanLast','meanFirst']\n",
    "methods = ['meanSecondToLast','meanLast4','meanLast','meanFirst','firstCLS','lastCLS']\n",
    "\n",
    "# systematic analysis sentence compared to gpt sentence embeddings\n",
    "gpt_sents = [\"sentence\", \"meaning\"]\n",
    "\n",
    "# write results to file results.txt\n",
    "f = open('results.txt', 'a')\n",
    "f.write(\"\\n\" +\"Binary classification\")\n",
    "f.write(\"\\n\" +\"sentence compared to gpt sentence embeddings\")\n",
    "\n",
    "print(\"sentence compared to gpt sentence embeddings\")\n",
    "\n",
    "for sent in gpt_sents:\n",
    "    for m in methods:\n",
    "        pred = dataA.apply(lambda x: compare(x[\"sentence_embedding_\" + m],\n",
    "                                         x[\"gpt_literal_\" + sent + \"_embedding_\" + m], \n",
    "                                         x[\"gpt_idiomatic_\" + sent + \"_embedding_\" + m]), axis=1)\n",
    "        pred = binary2values(pred,\"literal\",\"idiomatic\")\n",
    "        dataA[\"pred_sentence_embedding_compared_to_gpt_\" + sent + \"_embedding_\" +m  ] =pred\n",
    "\n",
    "        dataA_train = only_train(dataA)\n",
    "        pred = dataA_train[\"pred_sentence_embedding_compared_to_gpt_\" + sent + \"_embedding_\" +m ]\n",
    "        # evaluate\n",
    "        print(sent + \"_embedding_\" + m)\n",
    "        y = dataA_train[\"sentence_type\"]\n",
    "        print(round(accuracy_score(y, pred),3))\n",
    "        f.write(\"\\n\" +str(round(accuracy_score(y, pred),3))+  \" -- \" + sent + \"_embedding_\" + m)\n",
    "\n",
    "#        print(classification_report(y, pred,zero_division=0))\n",
    "\n",
    "f.write(\"\\n\" +\"-----------------\")\n",
    "f.close()\n"
   ]
  },
  {
   "cell_type": "code",
   "execution_count": 13,
   "metadata": {},
   "outputs": [
    {
     "name": "stdout",
     "output_type": "stream",
     "text": [
      "sentence_embedding_meanLast\n",
      "              precision    recall  f1-score   support\n",
      "\n",
      "   idiomatic       1.00      0.95      0.97        39\n",
      "     literal       0.94      1.00      0.97        31\n",
      "\n",
      "    accuracy                           0.97        70\n",
      "   macro avg       0.97      0.97      0.97        70\n",
      "weighted avg       0.97      0.97      0.97        70\n",
      "\n"
     ]
    }
   ],
   "source": [
    "# classification report for winning system\n",
    "for sent in [\"sentence\"]:\n",
    "    for m in [\"meanLast\"]:\n",
    "        pred = dataA.apply(lambda x: compare(x[\"sentence_embedding_\" + m],\n",
    "                                         x[\"gpt_literal_\" + sent + \"_embedding_\" + m], \n",
    "                                         x[\"gpt_idiomatic_\" + sent + \"_embedding_\" + m]), axis=1)\n",
    "        pred = binary2values(pred,\"literal\",\"idiomatic\")\n",
    "        dataA[\"pred_sentence_embedding_compared_to_gpt_\" + sent + \"_embedding_\" +m  ] =pred\n",
    "\n",
    "        dataA_train = only_train(dataA)\n",
    "        pred = dataA_train[\"pred_sentence_embedding_compared_to_gpt_\" + sent + \"_embedding_\" +m ]\n",
    "        # evaluate\n",
    "        print(sent + \"_embedding_\" + m)\n",
    "        y = dataA_train[\"sentence_type\"]\n",
    "        print(classification_report(y, pred))\n"
   ]
  },
  {
   "cell_type": "markdown",
   "metadata": {},
   "source": [
    "##### compound in sentence embedding versus compound in gpt sentence/meaning embedding"
   ]
  },
  {
   "cell_type": "code",
   "execution_count": 14,
   "metadata": {},
   "outputs": [
    {
     "name": "stdout",
     "output_type": "stream",
     "text": [
      "compound in sentence compared to gpt compound in sentence embeddings\n",
      "sentence_embedding_meanSecondToLast\n",
      "0.971\n",
      "sentence_embedding_meanLast4\n",
      "0.971\n",
      "sentence_embedding_meanLast\n",
      "0.986\n",
      "sentence_embedding_meanFirst\n",
      "0.471\n",
      "meaning_embedding_meanSecondToLast\n",
      "0.886\n",
      "meaning_embedding_meanLast4\n",
      "0.843\n",
      "meaning_embedding_meanLast\n",
      "0.9\n",
      "meaning_embedding_meanFirst\n",
      "0.543\n"
     ]
    }
   ],
   "source": [
    "# systematic analysis compound embeddings\n",
    "gpt_sents = [\"sentence\", \"meaning\"]\n",
    "\n",
    "f = open('results.txt', 'a')\n",
    "f.write(\"\\n\" +\"compound in sentence compared to gpt compound in sentence embeddings\")\n",
    "print(\"compound in sentence compared to gpt compound in sentence embeddings\")\n",
    "\n",
    "for sent in gpt_sents:\n",
    "    for m in compound_methods:\n",
    "        pred = dataA.apply(lambda x: compare(x[\"compound_embedding_sentence_\" + m],\n",
    "                                         x[\"compound_embedding_gpt_literal_\" + sent + \"_\" + m], \n",
    "                                         x[\"compound_embedding_gpt_idiomatic_\" + sent + \"_\" + m]), axis=1)\n",
    "        pred = binary2values(pred,\"literal\",\"idiomatic\")\n",
    "        dataA[\"pred_compound_embedding_sentence_compared_to_compound_embedding_gpt_\" + sent + \"_\" +m  ] = pred\n",
    "\n",
    "        dataA_train = only_train(dataA)\n",
    "        pred = dataA_train[\"pred_compound_embedding_sentence_compared_to_compound_embedding_gpt_\" + sent + \"_\" +m  ] \n",
    "\n",
    "        # evaluate\n",
    "        print(sent + \"_embedding_\" + m)\n",
    "        y = dataA_train[\"sentence_type\"]\n",
    "        print(round(accuracy_score(y, pred),3))\n",
    "        f.write(\"\\n\" + str(round(accuracy_score(y, pred),3)) + \" -- \"  +sent + \"_embedding_\" + m)\n",
    "\n",
    "        \n",
    "#        print(classification_report(y, pred,zero_division=0))\n",
    "\n",
    "f.write(\"\\n\" +\"-----------------\")\n",
    "f.close()\n",
    "\n"
   ]
  },
  {
   "cell_type": "code",
   "execution_count": 15,
   "metadata": {},
   "outputs": [
    {
     "name": "stdout",
     "output_type": "stream",
     "text": [
      "compound in sentence compared to gpt compound in sentence embeddings\n",
      "sentence_embedding_meanLast\n",
      "0.986\n",
      "              precision    recall  f1-score   support\n",
      "\n",
      "   idiomatic       1.00      0.97      0.99        39\n",
      "     literal       0.97      1.00      0.98        31\n",
      "\n",
      "    accuracy                           0.99        70\n",
      "   macro avg       0.98      0.99      0.99        70\n",
      "weighted avg       0.99      0.99      0.99        70\n",
      "\n"
     ]
    }
   ],
   "source": [
    "# systematic analysis compound embeddings of winning systems\n",
    "gpt_sents = [\"sentence\"]\n",
    "\n",
    "print(\"compound in sentence compared to gpt compound in sentence embeddings\")\n",
    "for sent in gpt_sents:\n",
    "    for m in [\"meanLast\"]:\n",
    "\n",
    "        dataA_train = only_train(dataA)\n",
    "        pred = dataA_train[\"pred_compound_embedding_sentence_compared_to_compound_embedding_gpt_\" + sent + \"_\" +m  ] \n",
    "\n",
    "        # evaluate\n",
    "        print(sent + \"_embedding_\" + m)\n",
    "        y = dataA_train[\"sentence_type\"]\n",
    "        print(round(accuracy_score(y, pred),3))\n",
    "        print(classification_report(y, pred,zero_division=0))\n"
   ]
  },
  {
   "cell_type": "code",
   "execution_count": 16,
   "metadata": {},
   "outputs": [
    {
     "name": "stdout",
     "output_type": "stream",
     "text": [
      "0.9857142857142858\n",
      "0.9357142857142857\n"
     ]
    }
   ],
   "source": [
    "# select best classificator:\n",
    "\n",
    "pred_all = dataA[\"pred_compound_embedding_sentence_compared_to_compound_embedding_gpt_sentence_meanLast\"] \n",
    "dataA[\"binary_pred\"] = pred_all\n",
    "\n",
    "dataA_train = only_train(dataA)\n",
    "print(accuracy_score(dataA_train[\"binary_pred\"].tolist(),dataA_train[\"sentence_type\"].tolist()))\n",
    "dataA_trainext = dataA[dataA[\"sentence_type\"].notnull()] \n",
    "print(accuracy_score(dataA_trainext[\"binary_pred\"].tolist(),dataA_trainext[\"sentence_type\"].tolist()))\n",
    "\n"
   ]
  },
  {
   "cell_type": "markdown",
   "metadata": {},
   "source": [
    "### binary prediction on sBERT\n",
    "For completion: predict binary decision idiomatic/literal on cosine similarities of sBERT embeddings   \n",
    "Forecast: bad results\n"
   ]
  },
  {
   "cell_type": "code",
   "execution_count": 17,
   "metadata": {},
   "outputs": [],
   "source": [
    "def idiomatic_literal_prediction(current, sent_type):\n",
    "    sims = model.similarity(current[\"sentence_embedding_sbert\"], [current[\"gpt_idiomatic_\" + sent_type + \"_embedding_sbert\"], \n",
    "                                                                  current[\"gpt_literal_\" + sent_type +  \"_embedding_sbert\"]])\n",
    "    sims = sims.numpy()\n",
    "    if np.argmax(sims[0]) == 0:\n",
    "        return \"idiomatic\"\n",
    "    else:\n",
    "        return \"literal\"\n"
   ]
  },
  {
   "cell_type": "code",
   "execution_count": 32,
   "metadata": {},
   "outputs": [
    {
     "name": "stderr",
     "output_type": "stream",
     "text": [
      "C:\\Users\\Wiebke Petersen\\AppData\\Roaming\\Python\\Python311\\site-packages\\sentence_transformers\\util.py:44: UserWarning: Creating a tensor from a list of numpy.ndarrays is extremely slow. Please consider converting the list to a single numpy.ndarray with numpy.array() before converting to a tensor. (Triggered internally at ..\\torch\\csrc\\utils\\tensor_new.cpp:264.)\n",
      "  a = torch.tensor(a)\n"
     ]
    },
    {
     "name": "stdout",
     "output_type": "stream",
     "text": [
      "accuracy image 0.6\n",
      "on extended accuracy image 0.6071428571428571\n",
      "accuracy sentence 0.7857142857142857\n",
      "on extended accuracy sentence 0.7785714285714286\n",
      "accuracy meaning 0.8142857142857143\n",
      "on extended accuracy meaning 0.8071428571428572\n"
     ]
    }
   ],
   "source": [
    "from sentence_transformers import SentenceTransformer\n",
    "model = SentenceTransformer('sentence-transformers/all-MiniLM-L6-v2')\n",
    "f = open('results_rankings.txt', 'a')\n",
    "f.write(\"\\n\" \"-------------------------------------------------\")\n",
    "f.write(\"\\n\" + \"binary classification literal/idiomatic with SBERT embeddings:\")\n",
    "\n",
    "for sent_type in [\"image\", \"sentence\", \"meaning\"]:\n",
    "    dataA[\"binary_pred_sbert\"] = dataA.apply(lambda x: idiomatic_literal_prediction(x, sent_type), axis = 1)\n",
    "    dataA_train = only_train(dataA)\n",
    "    dataA_trainext = dataA[dataA[\"sentence_type\"].notnull()] \n",
    "    print(\"accuracy\",sent_type,accuracy_score(dataA_train[\"binary_pred_sbert\"], dataA_train[\"sentence_type\"]))\n",
    "    f.write(\"\\n\" + sent_type)\n",
    "    f.write(\"\\n\" + \"top1 accuracy \" +  str(top1accuracy(dataA_train[\"binary_pred_sbert\"],  dataA_train[\"sentence_type\"])))\n",
    "    print(\"on extended accuracy\",sent_type,accuracy_score(dataA_trainext[\"binary_pred_sbert\"], dataA_trainext[\"sentence_type\"]))\n",
    "\n",
    "f.close()"
   ]
  },
  {
   "cell_type": "markdown",
   "metadata": {},
   "source": [
    "## Make Ranking Predictions "
   ]
  },
  {
   "cell_type": "code",
   "execution_count": 33,
   "metadata": {},
   "outputs": [],
   "source": [
    "from scipy.stats import spearmanr\n",
    "import numpy as np\n",
    "\n",
    "\n",
    "# evaluation functions for ranked orders\n",
    "def top1accuracy(pred_rankings,expected_order):\n",
    "    pred_rankings = pred_rankings.to_list()\n",
    "    expected_order = expected_order.to_list()\n",
    "    correct = 0\n",
    "    for i in range(len(pred_rankings)):\n",
    "        if pred_rankings[i][0] == expected_order[i][0]:\n",
    "            correct += 1\n",
    "    return round(correct/len(pred_rankings),3)\n",
    "\n",
    "\n",
    "def spearman_correlation(pred_rankings,expected_order):\n",
    "    pred_rankings = pred_rankings.to_list()\n",
    "    expected_order = expected_order.to_list()\n",
    "    corr = []\n",
    "    for i in range(len(pred_rankings)):\n",
    "        corr.append(spearmanr(pred_rankings[i],expected_order[i]).correlation)\n",
    "    return round(np.mean(corr),3)\n"
   ]
  },
  {
   "cell_type": "code",
   "execution_count": 34,
   "metadata": {},
   "outputs": [],
   "source": [
    "def sim_scores(current, comparator,method):\n",
    "    # input = current line(example) & embeddings for sentence + captions\n",
    "    \n",
    "    scores = {}\n",
    "    # keys = image names\n",
    "    # values = scores\n",
    "    embeddings = [current[comparator+ \"_embedding_\" + method], \n",
    "                 current[\"image1_caption_embedding_\" + method],\n",
    "                 current[\"image2_caption_embedding_\" + method],\n",
    "                 current[\"image3_caption_embedding_\" + method],\n",
    "                 current[\"image4_caption_embedding_\" + method],\n",
    "                 current[\"image5_caption_embedding_\" + method]]\n",
    "\n",
    "    #embeddings = model.encode(sentences)\n",
    "    similarities = model.similarity(embeddings[0], embeddings)\n",
    "    # compares the embedding for the sentence including the compound \n",
    "    # with each of the embeddings, including itself and all the captions\n",
    "\n",
    "    # [0][x] required because similarities tensor has additional layer\n",
    "    score1 = similarities[0][1].item()\n",
    "    scores[current[\"image1_name\"]] = score1\n",
    "\n",
    "    score2 = similarities[0][2].item()\n",
    "    scores[current[\"image2_name\"]] = score2\n",
    "\n",
    "    score3 = similarities[0][3].item()\n",
    "    scores[current[\"image3_name\"]] = score3\n",
    "\n",
    "    score4 = similarities[0][4].item()\n",
    "    scores[current[\"image4_name\"]] = score4\n",
    "\n",
    "    score5 = similarities[0][5].item()\n",
    "    scores[current[\"image5_name\"]] = score5\n",
    "    \n",
    "    return scores"
   ]
  },
  {
   "cell_type": "code",
   "execution_count": 35,
   "metadata": {},
   "outputs": [],
   "source": [
    "def rank_images(scores):\n",
    "    ranking = []\n",
    "    # scores = dictionary containing the cos similarity scores\n",
    "    # comparing the sentence with the captions of the five images\n",
    "    # keys = image names\n",
    "    # values = scores\n",
    "\n",
    "    for i in range(5):\n",
    "        # find key which corresponds to the highest value\n",
    "        m = max(scores, key=scores.get)\n",
    "        # add the key (image name) to the ranking\n",
    "        ranking.append(m)\n",
    "        # delete the entry in the dictionary\n",
    "        del scores[m]\n",
    "\n",
    "    return ranking"
   ]
  },
  {
   "cell_type": "code",
   "execution_count": 36,
   "metadata": {},
   "outputs": [],
   "source": [
    "def dependent_preds(current, comparator, method):\n",
    "    pred = current[\"binary_pred\"]\n",
    "    return rank_images(sim_scores(current, \"gpt_\" + pred + \"_\" + comparator , method))"
   ]
  },
  {
   "cell_type": "code",
   "execution_count": 37,
   "metadata": {},
   "outputs": [
    {
     "name": "stdout",
     "output_type": "stream",
     "text": [
      "0.9857142857142858\n",
      "0.9357142857142857\n"
     ]
    }
   ],
   "source": [
    "\n",
    "dataA_train = only_train(dataA)\n",
    "print(accuracy_score(dataA_train[\"binary_pred\"].tolist(),dataA_train[\"sentence_type\"].tolist()))\n",
    "dataA_trainext = dataA[dataA[\"sentence_type\"].notnull()] \n",
    "print(accuracy_score(dataA_trainext[\"binary_pred\"].tolist(),dataA_trainext[\"sentence_type\"].tolist()))\n",
    "\n"
   ]
  },
  {
   "cell_type": "code",
   "execution_count": 38,
   "metadata": {},
   "outputs": [
    {
     "name": "stdout",
     "output_type": "stream",
     "text": [
      "Evaluation on training data (rank images by similarity to original sentence):\n",
      "top1 accuracy 0.4\n",
      "spearman correlation 0.201\n"
     ]
    }
   ],
   "source": [
    "method = \"sbert\" # \"lastCLS\"\n",
    "dataA[\"pred_order\"] = dataA.apply(lambda x: rank_images(sim_scores(x, \"sentence\", method)), axis=1)\n",
    "\n",
    "dataA_train = only_train(dataA)\n",
    "print(\"Evaluation on training data (rank images by similarity to original sentence):\")\n",
    "print(\"top1 accuracy\", top1accuracy(dataA_train[\"expected_order\"], dataA_train[\"pred_order\"]))\n",
    "print(\"spearman correlation\", spearman_correlation(dataA_train[\"expected_order\"], dataA_train[\"pred_order\"]))\n",
    "\n",
    "#make_submission(dataA,\"pred_order\", \"Dev\")\n",
    "\n",
    "f = open('results_rankings.txt', 'a')\n",
    "f.write(\"\\n\" \"-------------------------------------------------\")\n",
    "f.write(\"\\n\" + \"Evaluation on training data (rank image captions by similarity to original sentence):\")\n",
    "f.write(\"\\n\" + \"top1 accuracy \" +  str(top1accuracy(dataA_train[\"expected_order\"],  dataA_train[\"pred_order\"])))\n",
    "f.write(\"\\n\" +\"spearman correlation \" + str(spearman_correlation(dataA_train[\"expected_order\"], dataA_train[\"pred_order\"])))\n",
    "f.close()\n"
   ]
  },
  {
   "cell_type": "code",
   "execution_count": 39,
   "metadata": {},
   "outputs": [
    {
     "name": "stdout",
     "output_type": "stream",
     "text": [
      "\n",
      "Depending on binary prediction (literal/idiomatic) rank images by similarity to gpt_sentence\n",
      "top1 accuracy 0.343\n",
      "spearman correlation 0.061\n",
      "\n",
      "Depending on binary prediction (literal/idiomatic) rank images by similarity to gpt_meaning\n",
      "top1 accuracy 0.371\n",
      "spearman correlation 0.183\n",
      "\n",
      "Depending on binary prediction (literal/idiomatic) rank images by similarity to gpt_image\n",
      "top1 accuracy 0.614\n",
      "spearman correlation 0.133\n"
     ]
    }
   ],
   "source": [
    "method = \"sbert\" # \"meanLast\" #\n",
    "for sent_type in ['sentence', 'meaning','image']:\n",
    "    print(\"\\nDepending on binary prediction (literal/idiomatic) rank images by similarity to gpt_\" + sent_type)\n",
    "    dataA[\"pred_order_dependent\"] = dataA.apply(lambda x: dependent_preds(x,sent_type, method), axis=1)\n",
    "\n",
    "    dataA_train = only_train(dataA)\n",
    "    print(\"top1 accuracy\", top1accuracy(dataA_train[\"expected_order\"], dataA_train[\"pred_order_dependent\"]))\n",
    "    print(\"spearman correlation\", spearman_correlation(dataA_train[\"expected_order\"], dataA_train[\"pred_order_dependent\"]))\n",
    "    f = open('results_rankings.txt', 'a')\n",
    "    f.write(\"\\n\" \"-------------------------------------------------\")\n",
    "    f.write(\"\\n\" + \"\\nDepending on binary prediction (literal/idiomatic) rank images by similarity to gpt_\" + sent_type)\n",
    "    f.write(\"\\n\" + \"top1 accuracy \" +  str(top1accuracy(dataA_train[\"expected_order\"],  dataA_train[\"pred_order_dependent\"])))\n",
    "    f.write(\"\\n\" +\"spearman correlation \" + str(spearman_correlation(dataA_train[\"expected_order\"], dataA_train[\"pred_order_dependent\"])))\n",
    "    f.close()\n"
   ]
  },
  {
   "cell_type": "code",
   "execution_count": 40,
   "metadata": {},
   "outputs": [
    {
     "name": "stdout",
     "output_type": "stream",
     "text": [
      "top1 accuracy 0.614\n",
      "spearman correlation 0.133\n"
     ]
    }
   ],
   "source": [
    "sent_type = \"image\"\n",
    "method = \"sbert\"\n",
    "dataA[\"pred_order_dependent\"] = dataA.apply(lambda x: dependent_preds(x,sent_type,method), axis=1)\n",
    "print(\"top1 accuracy\", top1accuracy(dataA_train[\"expected_order\"], dataA_train[\"pred_order_dependent\"]))\n",
    "print(\"spearman correlation\", spearman_correlation(dataA_train[\"expected_order\"], dataA_train[\"pred_order_dependent\"]))\n",
    "#make_submission(dataA,\"pred_order\", \"Dev\")"
   ]
  },
  {
   "cell_type": "code",
   "execution_count": 41,
   "metadata": {},
   "outputs": [],
   "source": [
    "# pair of most literal images, pair of most idiomatic image, unrelated\n",
    "\n",
    "def dependent_preds_compare_pairs(current, sent_type,method):\n",
    "       preds = [0 for i in range(5)]\n",
    "       scores_lit = sim_scores(current, \"gpt_literal_\" + sent_type,method)\n",
    "       scores_id = sim_scores(current, \"gpt_idiomatic_\" + sent_type,method)\n",
    "       image_names = list(scores_lit.keys())\n",
    "\n",
    "       # get highest scoring image for literal and idiomatic (m_lit and m_id)\n",
    "       m_lit = max(scores_lit,key=scores_lit.get)\n",
    "       preds[0] = m_lit\n",
    "       del scores_id[m_lit]\n",
    "       m_id = max(scores_id, key=scores_id.get)\n",
    "       preds[3] = m_id\n",
    "\n",
    "       # score images by similarity to most literal and most idiomatic image\n",
    "       m_lit_index = image_names.index(m_lit)\n",
    "       m_id_index = image_names.index(m_id)\n",
    "       scores_images_lit = sim_scores(current, \"image\" + str(m_lit_index + 1) + \"_caption\",method)\n",
    "       scores_images_id = sim_scores(current, \"image\" + str(m_id_index +1) + \"_caption\",method)\n",
    "       del scores_images_lit[m_lit]\n",
    "       del scores_images_lit[m_id]\n",
    "       del scores_images_id[m_lit]\n",
    "       del scores_images_id[m_id]\n",
    "\n",
    "       # choose most similar to m_lit and to m_id\n",
    "       sim_max_lit = max(scores_images_lit, key=scores_images_lit.get)\n",
    "       preds[1] = sim_max_lit\n",
    "    \n",
    "       del scores_images_id[sim_max_lit]\n",
    "       sim_max_id = max(scores_images_id, key=scores_images_id.get)\n",
    "       preds[2] = sim_max_id\n",
    "       # remaining image is unrelated image\n",
    "       preds[4] = list(set(image_names).difference(set([m_lit,m_id,sim_max_lit,sim_max_id])))[0]\n",
    "       if not(set(preds) == set(image_names)):\n",
    "           print(\"there is some serious problem\") \n",
    "       if current[\"binary_pred\"] == \"idiomatic\":\n",
    "          preds_new = [preds[i] for i in [3,2,1,0,4]]\n",
    "          preds = preds_new\n",
    "       return preds\n"
   ]
  },
  {
   "cell_type": "code",
   "execution_count": 42,
   "metadata": {},
   "outputs": [
    {
     "name": "stdout",
     "output_type": "stream",
     "text": [
      "Evaluation on training data (rank images dependent on binary classification. For order use inter-image similarity):\n",
      "top1 accuracy 0.6\n",
      "spearman correlation 0.373\n",
      "on extended data\n",
      "top1 accuracy 0.3\n",
      "spearman correlation 0.173\n",
      "File zipped and saved as submission_xe.zip\n",
      "File zipped and saved as submission_EN.zip\n"
     ]
    }
   ],
   "source": [
    "method = \"sbert\" # \"meanLast\" #  \n",
    "sent_type = \"image\" #  \"meaning\" # \"sentence\" #  \n",
    "dataA[\"pred_order_dependent\"] = dataA.apply(lambda x: dependent_preds_compare_pairs(x,sent_type,method), axis=1)\n",
    "\n",
    "dataA_train = only_train(dataA)\n",
    "print(\"Evaluation on training data (rank images dependent on binary classification. For order use inter-image similarity):\")\n",
    "print(\"top1 accuracy\", top1accuracy(dataA_train[\"expected_order\"], dataA_train[\"pred_order_dependent\"]))\n",
    "print(\"spearman correlation\", spearman_correlation(dataA_train[\"expected_order\"], dataA_train[\"pred_order_dependent\"]))\n",
    "\n",
    "f = open('results_rankings.txt', 'a')\n",
    "f.write(\"\\n\" \"-------------------------------------------------\")\n",
    "f.write(\"\\n\" + \"Evaluation on training data (rank images dependent on binary classification. For order use inter-image similarity):\")\n",
    "f.write(\"\\n\" + \"top1 accuracy \" +  str(top1accuracy(dataA_train[\"expected_order\"],  dataA_train[\"pred_order_dependent\"])))\n",
    "f.write(\"\\n\" +\"spearman correlation \" + str(spearman_correlation(dataA_train[\"expected_order\"], dataA_train[\"pred_order_dependent\"])))\n",
    "f.close()\n",
    "\n",
    "\n",
    "dataA_trainext = dataA[dataA[\"sentence_type\"].notnull()] \n",
    "print(\"on extended data\")\n",
    "print(\"top1 accuracy\", top1accuracy(dataA_trainext[\"expected_order\"], dataA_trainext[\"pred_order_dependent\"]))\n",
    "print(\"spearman correlation\", spearman_correlation(dataA_trainext[\"expected_order\"], dataA_trainext[\"pred_order_dependent\"]))\n",
    "#make_submission(dataA,\"pred_order_dependent\", \"Dev\")\n",
    "\n",
    "\n",
    "make_submission(dataA,\"pred_order_dependent\", \"Extended Evaluation\")\n",
    "make_submission(dataA,\"pred_order_dependent\", \"Test\")\n"
   ]
  },
  {
   "cell_type": "code",
   "execution_count": 43,
   "metadata": {},
   "outputs": [],
   "source": [
    "# sim scores\n",
    "\n",
    "def dependent_preds_no_pairs(current, sent_type, method):\n",
    "    preds = [0 for i in range(5)]\n",
    "    scores_lit = sim_scores(current, \"gpt_literal_\" + sent_type,method)\n",
    "    scores_id = sim_scores(current, \"gpt_idiomatic_\" + sent_type,method)\n",
    "    image_names = list(scores_lit.keys())\n",
    "    # get highest scoring image for literal and idiomatic\n",
    "    m_lit = max(scores_lit,key=scores_lit.get)\n",
    "    preds[0] = m_lit\n",
    "    del scores_id[m_lit]\n",
    "    m_id = max(scores_id, key=scores_id.get)\n",
    "    preds[3] = m_id\n",
    "    del scores_lit[m_lit]\n",
    "    del scores_lit[m_id]\n",
    "\n",
    "    # get second highest scoring lit and id\n",
    "    m_lit_second = max(scores_lit, key=scores_lit.get)\n",
    "    preds[1] = m_lit_second\n",
    "    del scores_id[m_id]\n",
    "    del scores_id[m_lit_second]\n",
    "    m_id_second = max(scores_id, key=scores_id.get)\n",
    "    preds[2] = m_id_second\n",
    "    \n",
    "    preds[4] = list(set(image_names).difference(set([m_lit,m_id,m_lit_second,m_id_second])))[0]\n",
    "    if not(set(preds) == set(image_names)):\n",
    "           print(\"there is some serious problem\") \n",
    "    if current[\"binary_pred\"] == \"idiomatic\":\n",
    "          preds_new = [preds[i] for i in [3,2,1,0,4]]\n",
    "          preds = preds_new\n",
    "    return preds\n"
   ]
  },
  {
   "cell_type": "code",
   "execution_count": 44,
   "metadata": {},
   "outputs": [
    {
     "name": "stdout",
     "output_type": "stream",
     "text": [
      "Evaluation on training data (rank images dependent on binary classification. For order use similarity to gpt_image only):\n",
      "top1 accuracy 0.6\n",
      "spearman correlation 0.366\n",
      "on extended data\n",
      "top1 accuracy 0.3\n",
      "spearman correlation 0.173\n"
     ]
    }
   ],
   "source": [
    "method = \"sbert\" # \"meanLast\" # \n",
    "dataA[\"pred_order_dependent\"] = dataA.apply(lambda x: dependent_preds_no_pairs(x,\"image\", method), axis=1)\n",
    "\n",
    "dataA_train = only_train(dataA)\n",
    "print(\"Evaluation on training data (rank images dependent on binary classification. For order use similarity to gpt_image only):\")\n",
    "print(\"top1 accuracy\", top1accuracy(dataA_train[\"expected_order\"], dataA_train[\"pred_order_dependent\"]))\n",
    "print(\"spearman correlation\", spearman_correlation(dataA_train[\"expected_order\"], dataA_train[\"pred_order_dependent\"]))\n",
    "#make_submission(dataA,\"pred_order_dependent\", \"Dev\")\n",
    "\n",
    "f = open('results_rankings.txt', 'a')\n",
    "f.write(\"\\n\" \"-------------------------------------------------\")\n",
    "f.write(\"\\n\" + \"Evaluation on training data (rank images dependent on binary classification. For order use similarity to gpt_image only):\")\n",
    "f.write(\"\\n\" + \"top1 accuracy \" +  str(top1accuracy(dataA_train[\"expected_order\"],  dataA_train[\"pred_order_dependent\"])))\n",
    "f.write(\"\\n\" +\"spearman correlation \" + str(spearman_correlation(dataA_train[\"expected_order\"], dataA_train[\"pred_order_dependent\"])))\n",
    "f.close()\n",
    "\n",
    "print(\"on extended data\")\n",
    "print(\"top1 accuracy\", top1accuracy(dataA_trainext[\"expected_order\"], dataA_trainext[\"pred_order_dependent\"]))\n",
    "print(\"spearman correlation\", spearman_correlation(dataA_trainext[\"expected_order\"], dataA_trainext[\"pred_order_dependent\"]))\n",
    "\n"
   ]
  }
 ],
 "metadata": {
  "kernelspec": {
   "display_name": "Python 3",
   "language": "python",
   "name": "python3"
  },
  "language_info": {
   "codemirror_mode": {
    "name": "ipython",
    "version": 3
   },
   "file_extension": ".py",
   "mimetype": "text/x-python",
   "name": "python",
   "nbconvert_exporter": "python",
   "pygments_lexer": "ipython3",
   "version": "3.11.4"
  }
 },
 "nbformat": 4,
 "nbformat_minor": 2
}
