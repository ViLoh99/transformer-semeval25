{
 "cells": [
  {
   "cell_type": "code",
   "execution_count": null,
   "metadata": {},
   "outputs": [],
   "source": [
    "import csv\n",
    "import sys\n",
    "import pandas as pd\n",
    "import ast\n",
    "\n",
    "from sentence_transformers import SentenceTransformer\n",
    "model = SentenceTransformer('sentence-transformers/all-MiniLM-L6-v2')"
   ]
  },
  {
   "cell_type": "code",
   "execution_count": null,
   "metadata": {},
   "outputs": [],
   "source": [
    "fileNameB = \"subtask_b_train.tsv\"\n",
    "fileDirectoryB = \"AdMIRe Subtask B Train/train\"\n",
    "\n",
    "dataB = pd.read_csv(fileDirectoryB + \"/\" + fileNameB, sep='\\t')"
   ]
  },
  {
   "cell_type": "code",
   "execution_count": null,
   "metadata": {},
   "outputs": [],
   "source": [
    "print(len(dataB))\n",
    "print(len(dataB[dataB[\"sentence_type\"]==\"idiomatic\"]))\n",
    "print(len(dataB[dataB[\"sentence_type\"]==\"literal\"]))"
   ]
  },
  {
   "cell_type": "code",
   "execution_count": null,
   "metadata": {},
   "outputs": [],
   "source": [
    "dataB"
   ]
  },
  {
   "cell_type": "code",
   "execution_count": null,
   "metadata": {},
   "outputs": [],
   "source": [
    "def sim_scores(current, sentences):\n",
    "    # input = current line(example) & embeddings for sequence captions + image captions\n",
    "    \n",
    "    scores = {}\n",
    "    # keys = image names\n",
    "    # values = scores\n",
    "\n",
    "    embeddings = model.encode(sentences)\n",
    "    # compare embeddings for sequence1 & sequence 2 captions with all 4 images captions\n",
    "    similarities = model.similarity(embeddings[:2], embeddings[2:])\n",
    "\n",
    "    # average of similarity to sequence pictures\n",
    "    score1 = (similarities[0][0].item() + similarities[1][0].item()) / 2\n",
    "    scores[current[\"image1_name\"]] = score1\n",
    "\n",
    "    score2 = (similarities[0][1].item() + similarities[1][1].item()) / 2\n",
    "    scores[current[\"image2_name\"]] = score2\n",
    "\n",
    "    score3 = (similarities[0][2].item() + similarities[1][2].item()) / 2\n",
    "    scores[current[\"image3_name\"]] = score3\n",
    "\n",
    "    score4 = (similarities[0][3].item() + similarities[1][3].item()) / 2\n",
    "    scores[current[\"image4_name\"]] = score4\n",
    "    \n",
    "    return scores"
   ]
  },
  {
   "cell_type": "code",
   "execution_count": null,
   "metadata": {},
   "outputs": [],
   "source": [
    "# evaluation - completion accuracy\n",
    "# excluding prediction of idiomatic vs literal\n",
    "\n",
    "data = dataB\n",
    "#data = dataB[dataB[\"sentence_type\"]==\"literal\"]\n",
    "#data = dataB[dataB[\"sentence_type\"]==\"idiomatic\"]\n",
    "\n",
    "total_acc = 0\n",
    "\n",
    "for i in range(len(data)):\n",
    "\n",
    "    current = data.iloc[i]\n",
    "    sentences = [current[\"sequence_caption1\"],\n",
    "                 current[\"sequence_caption2\"], \n",
    "                 current[\"image1_caption\"],\n",
    "                 current[\"image2_caption\"],\n",
    "                 current[\"image3_caption\"],\n",
    "                 current[\"image4_caption\"]]\n",
    "\n",
    "    scores = sim_scores(current, sentences)\n",
    "\n",
    "    # choose the image that is most similar to the sequence images\n",
    "    pred = max(scores, key=scores.get)\n",
    "\n",
    "    exp_item = current[\"expected_item\"]\n",
    "\n",
    "    # check if prediction is correct\n",
    "    if exp_item == pred:\n",
    "        total_acc += 1\n",
    "\n",
    "final_acc = total_acc / len(data)\n",
    "print(final_acc)"
   ]
  },
  {
   "cell_type": "code",
   "execution_count": null,
   "metadata": {},
   "outputs": [],
   "source": [
    "# entire subtask B training data (20): 0.6\n",
    "\n",
    "# only literal (7): 0.7142857142857143\n",
    "\n",
    "# only idiomatic (13): 0.5384615384615384"
   ]
  }
 ],
 "metadata": {
  "kernelspec": {
   "display_name": "Python 3",
   "language": "python",
   "name": "python3"
  },
  "language_info": {
   "codemirror_mode": {
    "name": "ipython",
    "version": 3
   },
   "file_extension": ".py",
   "mimetype": "text/x-python",
   "name": "python",
   "nbconvert_exporter": "python",
   "pygments_lexer": "ipython3",
   "version": "3.12.0"
  }
 },
 "nbformat": 4,
 "nbformat_minor": 2
}
