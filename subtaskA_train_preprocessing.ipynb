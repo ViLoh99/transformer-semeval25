{
 "cells": [
  {
   "cell_type": "markdown",
   "metadata": {},
   "source": [
    "training data, SBERT, preprocessing"
   ]
  },
  {
   "cell_type": "code",
   "execution_count": null,
   "metadata": {},
   "outputs": [],
   "source": [
    "import csv\n",
    "import sys\n",
    "import pandas as pd\n",
    "import ast\n",
    "from evaluation_a import evaluation_single\n",
    "\n",
    "\n",
    "from sentence_transformers import SentenceTransformer\n",
    "model = SentenceTransformer('sentence-transformers/all-MiniLM-L6-v2')\n",
    "fileNameA = \"subtask_a_train.tsv\"\n",
    "fileDirectoryA = \"AdMIRe Subtask A Train/train\"\n",
    "dataA = pd.read_csv(fileDirectoryA + \"/\" + fileNameA, sep='\\t')\n",
    "dataA['expected_order'] = dataA['expected_order'].apply(ast.literal_eval)"
   ]
  },
  {
   "cell_type": "code",
   "execution_count": 2,
   "metadata": {},
   "outputs": [],
   "source": [
    "def sim_scores(current, sentences):\n",
    "    # input = current line(example) & embeddings for sentence + captions\n",
    "    \n",
    "    scores = {}\n",
    "    # keys = image names\n",
    "    # values = scores\n",
    "\n",
    "    embeddings = model.encode(sentences)\n",
    "    similarities = model.similarity(embeddings[0], embeddings)\n",
    "    # compares the embedding for the sentence including the compound \n",
    "    # with each of the embeddings, including itself and all the captions\n",
    "\n",
    "    # [0][x] required because similarities tensor has additional layer\n",
    "    score1 = similarities[0][1].item()\n",
    "    scores[current[\"image1_name\"]] = score1\n",
    "\n",
    "    score2 = similarities[0][2].item()\n",
    "    scores[current[\"image2_name\"]] = score2\n",
    "\n",
    "    score3 = similarities[0][3].item()\n",
    "    scores[current[\"image3_name\"]] = score3\n",
    "\n",
    "    score4 = similarities[0][4].item()\n",
    "    scores[current[\"image4_name\"]] = score4\n",
    "\n",
    "    score5 = similarities[0][5].item()\n",
    "    scores[current[\"image5_name\"]] = score5\n",
    "    \n",
    "    return scores\n",
    "\n",
    "def sim_scores_combined(current, sentences):\n",
    "    # input = current line(example) & embeddings for sentence + captions\n",
    "    \n",
    "    scores = {}\n",
    "    # keys = image names\n",
    "    # values = scores\n",
    "\n",
    "    embeddings = model.encode(sentences)\n",
    "\n",
    "    # combining compound & sentence embeddings\n",
    "    sent_comp = (embeddings[0] + embeddings[1]) / 2\n",
    "\n",
    "    similarities = model.similarity(sent_comp, embeddings[2:])\n",
    "    # compares the embedding for the sentence and compound combined\n",
    "    # with each of the embeddings, including itself and all the captions\n",
    "\n",
    "    # [0][x] required because similarities tensor has additional layer\n",
    "    score1 = similarities[0][0].item()\n",
    "    scores[current[\"image1_name\"]] = score1\n",
    "\n",
    "    score2 = similarities[0][1].item()\n",
    "    scores[current[\"image2_name\"]] = score2\n",
    "\n",
    "    score3 = similarities[0][2].item()\n",
    "    scores[current[\"image3_name\"]] = score3\n",
    "\n",
    "    score4 = similarities[0][3].item()\n",
    "    scores[current[\"image4_name\"]] = score4\n",
    "\n",
    "    score5 = similarities[0][4].item()\n",
    "    scores[current[\"image5_name\"]] = score5\n",
    "    \n",
    "    return scores\n",
    "\n",
    "def rank_images(scores):\n",
    "    ranking = []\n",
    "    # scores = dictionary containing the cos similarity scores\n",
    "    # comparing the sentence with the captions of the five images\n",
    "    # keys = image names\n",
    "    # values = scores\n",
    "\n",
    "    for i in range(5):\n",
    "        # find key which corresponds to the highest value\n",
    "        m = max(scores, key=scores.get)\n",
    "        # add the key (image name) to the ranking\n",
    "        ranking.append(m)\n",
    "        # delete the entry in the dictionary\n",
    "        del scores[m]\n",
    "\n",
    "    return ranking"
   ]
  },
  {
   "cell_type": "code",
   "execution_count": 3,
   "metadata": {},
   "outputs": [],
   "source": [
    "import re\n",
    "import nltk\n",
    "from nltk.corpus import stopwords\n",
    "from nltk.tokenize import word_tokenize\n",
    "from nltk.stem import WordNetLemmatizer\n",
    "\n",
    "\n",
    "def prepare_text(raw_text):\n",
    "    \n",
    "    # Convert text to lowercase and remove punctuation\n",
    "    normalized_text = raw_text.lower()\n",
    "    normalized_text = re.sub(r\"[^a-zA-Z\\s]\", \"\", normalized_text)\n",
    "\n",
    "    # Tokenize the normalized text\n",
    "    tokens = word_tokenize(normalized_text)\n",
    "\n",
    "    # Apply POS tagging and retain only nouns, verbs\n",
    "    pos_tags = nltk.pos_tag(tokens, tagset='universal')\n",
    "    pos_tags_to_keep = {\"NOUN\", \"VERB\"}\n",
    "    filtered_tokens = [word for word, pos in pos_tags if pos in pos_tags_to_keep]\n",
    "\n",
    "    # Remove stopwords\n",
    "    stop_words = set(stopwords.words('english'))\n",
    "    filtered_text = [word for word in filtered_tokens if word.lower() not in stop_words]\n",
    "\n",
    "    # Lemmatize the remaining tokens\n",
    "    lemmatizer = WordNetLemmatizer()\n",
    "    lemmatized_text = [lemmatizer.lemmatize(word) for word in filtered_text]\n",
    "    \n",
    "    return \" \".join(lemmatized_text)"
   ]
  },
  {
   "cell_type": "code",
   "execution_count": 4,
   "metadata": {},
   "outputs": [
    {
     "name": "stdout",
     "output_type": "stream",
     "text": [
      "0.35714285714285715\n",
      "0.13857142857142857\n"
     ]
    }
   ],
   "source": [
    "data = dataA\n",
    "\n",
    "total_acc = 0\n",
    "total_spearman = 0\n",
    "\n",
    "for i in range(len(data)):\n",
    "\n",
    "    current = data.iloc[i]\n",
    "    sentences = [prepare_text(current[\"compound\"]), \n",
    "                 prepare_text(current[\"image1_caption\"]),\n",
    "                 prepare_text(current[\"image2_caption\"]),\n",
    "                 prepare_text(current[\"image3_caption\"]),\n",
    "                 prepare_text(current[\"image4_caption\"]),\n",
    "                 prepare_text(current[\"image5_caption\"])]\n",
    "\n",
    "    scores = sim_scores(current, sentences)\n",
    "    ranking = rank_images(scores)\n",
    "\n",
    "    exp_order = current[\"expected_order\"]\n",
    "    evaluation = evaluation_single(ranking,exp_order)\n",
    "    total_acc += evaluation[0]\n",
    "    total_spearman += evaluation[1]\n",
    "\n",
    "final_acc = total_acc / len(data)\n",
    "print(final_acc)\n",
    "final_spearman = total_spearman / len(data)\n",
    "print(final_spearman)"
   ]
  },
  {
   "cell_type": "code",
   "execution_count": null,
   "metadata": {},
   "outputs": [],
   "source": [
    "# 0.35714285714285715\n",
    "# 0.13857142857142857"
   ]
  },
  {
   "cell_type": "code",
   "execution_count": 6,
   "metadata": {},
   "outputs": [
    {
     "name": "stdout",
     "output_type": "stream",
     "text": [
      "0.4142857142857143\n",
      "0.1642857142857142\n"
     ]
    }
   ],
   "source": [
    "data = dataA\n",
    "\n",
    "total_acc = 0\n",
    "total_spearman = 0\n",
    "\n",
    "for i in range(len(data)):\n",
    "\n",
    "    current = data.iloc[i]\n",
    "    sentences = [prepare_text(current[\"sentence\"]), \n",
    "                 prepare_text(current[\"image1_caption\"]),\n",
    "                 prepare_text(current[\"image2_caption\"]),\n",
    "                 prepare_text(current[\"image3_caption\"]),\n",
    "                 prepare_text(current[\"image4_caption\"]),\n",
    "                 prepare_text(current[\"image5_caption\"])]\n",
    "\n",
    "    scores = sim_scores(current, sentences)\n",
    "    ranking = rank_images(scores)\n",
    "\n",
    "    exp_order = current[\"expected_order\"]\n",
    "    evaluation = evaluation_single(ranking,exp_order)\n",
    "    total_acc += evaluation[0]\n",
    "    total_spearman += evaluation[1]\n",
    "\n",
    "final_acc = total_acc / len(data)\n",
    "print(final_acc)\n",
    "final_spearman = total_spearman / len(data)\n",
    "print(final_spearman)"
   ]
  },
  {
   "cell_type": "code",
   "execution_count": null,
   "metadata": {},
   "outputs": [],
   "source": [
    "# 0.4142857142857143\n",
    "# 0.1642857142857142 "
   ]
  },
  {
   "cell_type": "code",
   "execution_count": 8,
   "metadata": {},
   "outputs": [
    {
     "name": "stdout",
     "output_type": "stream",
     "text": [
      "0.37142857142857144\n",
      "0.14999999999999994\n"
     ]
    }
   ],
   "source": [
    "data = dataA\n",
    "#data = dataA[dataA[\"sentence_type\"]==\"literal\"]\n",
    "#data = dataA[dataA[\"sentence_type\"]==\"idiomatic\"]\n",
    "\n",
    "total_acc = 0\n",
    "total_spearman = 0\n",
    "\n",
    "for i in range(len(data)):\n",
    "\n",
    "    current = data.iloc[i]\n",
    "    sentences = [prepare_text(current[\"compound\"]), \n",
    "                 prepare_text(current[\"sentence\"]),\n",
    "                 prepare_text(current[\"image1_caption\"]),\n",
    "                 prepare_text(current[\"image2_caption\"]),\n",
    "                 prepare_text(current[\"image3_caption\"]),\n",
    "                 prepare_text(current[\"image4_caption\"]),\n",
    "                 prepare_text(current[\"image5_caption\"])]\n",
    "\n",
    "    scores = sim_scores_combined(current, sentences)\n",
    "    ranking = rank_images(scores)\n",
    "\n",
    "    exp_order = current[\"expected_order\"]\n",
    "    evaluation = evaluation_single(ranking,exp_order)\n",
    "    total_acc += evaluation[0]\n",
    "    total_spearman += evaluation[1]\n",
    "\n",
    "final_acc = total_acc / len(data)\n",
    "print(final_acc)\n",
    "final_spearman = total_spearman / len(data)\n",
    "print(final_spearman)"
   ]
  },
  {
   "cell_type": "code",
   "execution_count": null,
   "metadata": {},
   "outputs": [],
   "source": [
    "# 0.37142857142857144\n",
    "# 0.14999999999999994"
   ]
  },
  {
   "cell_type": "markdown",
   "metadata": {},
   "source": [
    "for submission"
   ]
  },
  {
   "cell_type": "code",
   "execution_count": 10,
   "metadata": {},
   "outputs": [
    {
     "name": "stdout",
     "output_type": "stream",
     "text": [
      "File saved as submission_EN.tsv\n"
     ]
    }
   ],
   "source": [
    "submission = []\n",
    "\n",
    "for i in range(len(data)):\n",
    "\n",
    "    current = data.iloc[i]\n",
    "    sentences = [prepare_text(current[\"compound\"]), \n",
    "                 prepare_text(current[\"image1_caption\"]),\n",
    "                 prepare_text(current[\"image2_caption\"]),\n",
    "                 prepare_text(current[\"image3_caption\"]),\n",
    "                 prepare_text(current[\"image4_caption\"]),\n",
    "                 prepare_text(current[\"image5_caption\"])]\n",
    "\n",
    "    scores = sim_scores(current, sentences)\n",
    "    ranking = rank_images(scores)\n",
    "\n",
    "    submission.append({\n",
    "        \"compound\": current[\"compound\"],\n",
    "        \"expected_order\":ranking \n",
    "    })\n",
    "\n",
    "submission_df = pd.DataFrame(submission)\n",
    "submission_df.to_csv(\"submission_EN.tsv\", sep=\"\\t\", index=False)\n",
    "print(\"File saved as submission_EN.tsv\")"
   ]
  },
  {
   "cell_type": "code",
   "execution_count": 11,
   "metadata": {},
   "outputs": [
    {
     "name": "stdout",
     "output_type": "stream",
     "text": [
      "File saved as submission_EN.tsv\n"
     ]
    }
   ],
   "source": [
    "submission = []\n",
    "\n",
    "for i in range(len(data)):\n",
    "\n",
    "    current = data.iloc[i]\n",
    "    sentences = [prepare_text(current[\"sentence\"]), \n",
    "                 prepare_text(current[\"image1_caption\"]),\n",
    "                 prepare_text(current[\"image2_caption\"]),\n",
    "                 prepare_text(current[\"image3_caption\"]),\n",
    "                 prepare_text(current[\"image4_caption\"]),\n",
    "                 prepare_text(current[\"image5_caption\"])]\n",
    "\n",
    "    scores = sim_scores(current, sentences)\n",
    "    ranking = rank_images(scores)\n",
    "\n",
    "    submission.append({\n",
    "        \"compound\": current[\"compound\"],\n",
    "        \"expected_order\":ranking \n",
    "    })\n",
    "\n",
    "# Save the submission data to a .tsv file\n",
    "submission_df = pd.DataFrame(submission)\n",
    "submission_df.to_csv(\"submission_EN.tsv\", sep=\"\\t\", index=False)\n",
    "print(\"File saved as submission_EN.tsv\")"
   ]
  },
  {
   "cell_type": "code",
   "execution_count": 12,
   "metadata": {},
   "outputs": [
    {
     "name": "stdout",
     "output_type": "stream",
     "text": [
      "File saved as submission_EN.tsv\n"
     ]
    }
   ],
   "source": [
    "submission = []\n",
    "\n",
    "for i in range(len(data)):\n",
    "\n",
    "    current = data.iloc[i]\n",
    "    sentences = [prepare_text(current[\"compound\"]), \n",
    "                 prepare_text(current[\"sentence\"]),\n",
    "                 prepare_text(current[\"image1_caption\"]),\n",
    "                 prepare_text(current[\"image2_caption\"]),\n",
    "                 prepare_text(current[\"image3_caption\"]),\n",
    "                 prepare_text(current[\"image4_caption\"]),\n",
    "                 prepare_text(current[\"image5_caption\"])]\n",
    "\n",
    "    scores = sim_scores_combined(current, sentences)\n",
    "    ranking = rank_images(scores)\n",
    "\n",
    "    submission.append({\n",
    "        \"compound\": current[\"compound\"],\n",
    "        \"expected_order\":ranking \n",
    "    })\n",
    "\n",
    "submission_df = pd.DataFrame(submission)\n",
    "submission_df.to_csv(\"submission_EN.tsv\", sep=\"\\t\", index=False)\n",
    "print(\"File saved as submission_EN.tsv\")"
   ]
  }
 ],
 "metadata": {
  "kernelspec": {
   "display_name": "Python 3",
   "language": "python",
   "name": "python3"
  },
  "language_info": {
   "codemirror_mode": {
    "name": "ipython",
    "version": 3
   },
   "file_extension": ".py",
   "mimetype": "text/x-python",
   "name": "python",
   "nbconvert_exporter": "python",
   "pygments_lexer": "ipython3",
   "version": "3.12.0"
  }
 },
 "nbformat": 4,
 "nbformat_minor": 2
}
