{
 "cells": [
  {
   "cell_type": "markdown",
   "metadata": {},
   "source": [
    "# Subtask B"
   ]
  },
  {
   "cell_type": "markdown",
   "metadata": {},
   "source": [
    "## Compute Embeddings"
   ]
  },
  {
   "cell_type": "markdown",
   "metadata": {},
   "source": [
    "### Load Data"
   ]
  },
  {
   "cell_type": "code",
   "execution_count": 20,
   "metadata": {},
   "outputs": [],
   "source": [
    "# Parameter setting\n",
    "\n",
    "# model\n",
    "checkpoint = 'bert-base-uncased' \n",
    "\n",
    "# full sentences or preprocessed (filtered to content words of specific POS)\n",
    "#preprocessed = False\n",
    "preprocessed = True\n",
    "\n",
    "remove_CLS_SEP = True \n",
    "#remove_CLS_SEP = False\n",
    "\n",
    "# read tsv file\n",
    "import csv\n",
    "import sys\n",
    "import ast\n",
    "\n",
    "import pandas as pd\n",
    "dataDirectory = \"./data/\"\n",
    "\n",
    "# read in competition data\n",
    "dataB_train = pd.read_csv(dataDirectory + \"subtask_b_train.tsv\", sep='\\t')\n",
    "dataB_dev = pd.read_csv(dataDirectory + \"subtask_b_dev.tsv\", sep='\\t')\n",
    "dataB_test = pd.read_csv(dataDirectory +\"subtask_b_test.tsv\", sep='\\t')\n",
    "dataB_xe = pd.read_csv(dataDirectory + \"subtask_b_xe.tsv\", sep='\\t')\n",
    "\n",
    "dataB = pd.concat([dataB_train,dataB_dev,dataB_test,dataB_xe])\n",
    "# reset index\n",
    "dataB = dataB.reset_index(drop=True)\n",
    "\n",
    "# read in chatGPT data from csv\n",
    "data_chatGPT_image_b = pd.read_csv(dataDirectory + \"gpt_image_descriptions_all_taskB.csv\")\n",
    "data_chatGPT_b = pd.read_csv(dataDirectory + \"chatGPTNew_taskB_all.csv\")\n",
    "\n",
    "# rename each column with \"gpt_\" in front of the column name\n",
    "data_chatGPT_b.rename(columns=lambda x: 'gpt_' + x, inplace=True)\n",
    "data_chatGPT_image_b.rename(columns={\"idiomatic_image\": \"gpt_idiomatic_image\",\"literal_image\": \"gpt_literal_image\"}, inplace=True)\n",
    "\n",
    "\n",
    "# inserting the missing compound column \n",
    "data_chatGPT_b[\"compound\"] = [None for i in range(len(data_chatGPT_b))]\n",
    "for i in range(len(data_chatGPT_b)):\n",
    "    data_chatGPT_b[\"compound\"][i] = data_chatGPT_b[\"gpt_idiomatic_meaning\"][i].split(\" is\")[0].strip().lower()\n",
    "\n",
    "\n",
    "# cleanup data\n",
    "# replace ’ with ' in all columns\n",
    "\n",
    "# merge data into one dataframe\n",
    "dataB = pd.merge(dataB, data_chatGPT_b, on='compound')\n",
    "dataB = pd.merge(dataB, data_chatGPT_image_b, on='compound')\n",
    "\n",
    "for column in dataB.columns:\n",
    "    dataB[column] = dataB[column].str.replace(\"’\",\"'\")\n",
    "\n",
    "sentence_type_columns = ['sequence_caption1', 'sequence_caption2',        \n",
    "                         'image1_caption', 'image2_caption', 'image3_caption', 'image4_caption',\n",
    "                        'gpt_idiomatic_meaning', 'gpt_literal_meaning',\n",
    "                        'gpt_idiomatic_sentence', 'gpt_literal_sentence', \n",
    "                        'gpt_idiomatic_image','gpt_literal_image']"
   ]
  },
  {
   "cell_type": "code",
   "execution_count": 21,
   "metadata": {},
   "outputs": [],
   "source": [
    "# returns the dataframe sample and train (data items that have literal/idiomatic information given)\n",
    "def only_train(dataA): # returns the dataframe sample and train (data items that have literal/idiomatic information given)\n",
    "    dataA = pd.concat([dataA[dataA[\"subset\"] == \"Sample\"],dataA[dataA[\"subset\"]== \"Train\"]])\n",
    "    dataA = dataA.reset_index(drop=True)\n",
    "    return dataA\n",
    "\n",
    "# returns the dataframe of subset\n",
    "def only_subset(dataA, subset): # returns the dataframe sample and train (data items that have literal/idiomatic information given)\n",
    "    return dataA[dataA[\"subset\"] == subset]"
   ]
  },
  {
   "cell_type": "code",
   "execution_count": 22,
   "metadata": {},
   "outputs": [
    {
     "data": {
      "text/plain": [
       "Index(['compound', 'subset', 'sentence_type', 'expected_item',\n",
       "       'sequence_caption1', 'sequence_caption2', 'image1_name',\n",
       "       'image1_caption', 'image2_name', 'image2_caption', 'image3_name',\n",
       "       'image3_caption', 'image4_name', 'image4_caption',\n",
       "       'gpt_idiomatic_meaning', 'gpt_literal_meaning',\n",
       "       'gpt_idiomatic_sentence', 'gpt_literal_sentence', 'gpt_idiomatic_image',\n",
       "       'gpt_literal_image'],\n",
       "      dtype='object')"
      ]
     },
     "execution_count": 22,
     "metadata": {},
     "output_type": "execute_result"
    }
   ],
   "source": [
    "dataB.columns"
   ]
  },
  {
   "cell_type": "code",
   "execution_count": 23,
   "metadata": {},
   "outputs": [],
   "source": [
    "# minor cheating: add opposite sentence_type for each compound in extended data that is also in train/sample\n",
    "\n",
    "dataB_train = only_train(dataB)\n",
    "train_compounds = [(dataB_train[\"compound\"][i], dataB_train[\"sentence_type\"][i]) for i in range(len(dataB_train))]\n",
    "def cheat_items(item):\n",
    "    if item[\"subset\"] == \"Extended Evaluation\":\n",
    "        if (item[\"compound\"], \"literal\") in train_compounds:\n",
    "            item[\"sentence_type\"] = \"idiomatic\"\n",
    "        elif (item[\"compound\"], \"idiomatic\") in train_compounds:\n",
    "            item[\"sentence_type\"] = \"literal\"\n",
    "        else: \n",
    "            item[\"sentence_type\"] = None\n",
    "    return item\n",
    "\n",
    "dataB = dataB.apply(lambda x: cheat_items(x), axis=1)    "
   ]
  },
  {
   "cell_type": "code",
   "execution_count": 24,
   "metadata": {},
   "outputs": [],
   "source": [
    "# preprocessing of text (from Victoria)\n",
    "import re\n",
    "import nltk\n",
    "from nltk.corpus import stopwords\n",
    "from nltk.tokenize import word_tokenize\n",
    "from nltk.stem import WordNetLemmatizer\n",
    "\n",
    "# Download necessary NLTK data\n",
    "#nltk.download('stopwords')\n",
    "#nltk.download('punkt')\n",
    "#nltk.download('wordnet')\n",
    "\n",
    "def prepare_text(raw_text):\n",
    "    \n",
    "    # Convert text to lowercase and remove punctuation\n",
    "    normalized_text = raw_text.lower()\n",
    "    normalized_text = re.sub(r\"[^a-zA-Z\\s]\", \"\", normalized_text)\n",
    "\n",
    "    # Tokenize the normalized text\n",
    "    tokens = word_tokenize(normalized_text)\n",
    "\n",
    "    # Apply POS tagging and retain only nouns, verbs\n",
    "    pos_tags = nltk.pos_tag(tokens, tagset='universal')\n",
    "    pos_tags_to_keep = {\"NOUN\", \"VERB\"}\n",
    "    filtered_tokens = [word for word, pos in pos_tags if pos in pos_tags_to_keep]\n",
    "\n",
    "    # Remove stopwords\n",
    "    stop_words = set(stopwords.words('english'))\n",
    "    filtered_text = [word for word in filtered_tokens if word.lower() not in stop_words]\n",
    "\n",
    "    # Lemmatize the remaining tokens\n",
    "    lemmatizer = WordNetLemmatizer()\n",
    "    lemmatized_text = [lemmatizer.lemmatize(word) for word in filtered_text]\n",
    "    \n",
    "    return \" \".join(lemmatized_text)\n"
   ]
  },
  {
   "cell_type": "code",
   "execution_count": 25,
   "metadata": {},
   "outputs": [],
   "source": [
    "if preprocessed == True:\n",
    "    for column in sentence_type_columns:\n",
    "        dataB[column] = dataB[column]. apply(prepare_text)"
   ]
  },
  {
   "cell_type": "markdown",
   "metadata": {},
   "source": [
    "### Load model \n"
   ]
  },
  {
   "cell_type": "markdown",
   "metadata": {},
   "source": [
    "Idea: we use a pretrained BERT model to generate embeddings of sentences and of the compound in the context of the sentence."
   ]
  },
  {
   "cell_type": "code",
   "execution_count": 27,
   "metadata": {},
   "outputs": [],
   "source": [
    "from transformers import AutoTokenizer\n",
    "import torch\n",
    "from transformers import AutoModel\n",
    "\n",
    "# model is selected from https://huggingface.co/models\n",
    "tokenizer = AutoTokenizer.from_pretrained(checkpoint)\n",
    "device = torch.device(\"cuda\" if torch.cuda.is_available() else \"cpu\")\n",
    "model = AutoModel.from_pretrained(checkpoint, output_hidden_states=True).to(device)\n",
    "model = model.eval()\n",
    "\n",
    "def tokenize(batch):\n",
    "    return tokenizer(batch, padding=True, truncation=True)\n"
   ]
  },
  {
   "cell_type": "markdown",
   "metadata": {},
   "source": [
    "\n",
    "### Computing BERT sentence-based embeddings"
   ]
  },
  {
   "cell_type": "code",
   "execution_count": 28,
   "metadata": {},
   "outputs": [],
   "source": [
    "import numpy as np\n",
    "\n",
    "def get_attention_tokens(attention_mask_item):\n",
    "    attention_mask_new = attention_mask_item.clone()\n",
    "    one_indices = (attention_mask_item == 1).nonzero(as_tuple=True)[0]\n",
    "    if remove_CLS_SEP == True:\n",
    "        # Setze die erste und letzte 1 auf 0: [CLS] und [SEP] Tokens\n",
    "        attention_mask_new[one_indices[0]] = 0  # Erste 1\n",
    "        attention_mask_new[one_indices[-1]] = 0  # Letzte 1\n",
    "    return attention_mask_new\n",
    "\n",
    "\n",
    "# different pooling methods for embeddings are computed\n",
    "# NOTE: padding tokens should be excluded (not done yet)\n",
    "\n",
    "def get_sentence_embedding(hidden_states,method,attention_mask):\n",
    "    sentence_embedding = []\n",
    "    if method == 'meanLast4': # average of all tokens of the last 4 layers\n",
    "        for i in range(len(hidden_states[0])):\n",
    "            # token_vecs is mean of last 4 layers\n",
    "            token_tensor = torch.stack([hidden_states[-1][i], hidden_states[-2][i], hidden_states[-3][i], hidden_states[-4][i]], dim=0)\n",
    "            token_vecs = torch.mean(token_tensor, dim=0)\n",
    "            attention = get_attention_tokens(attention_mask[i]) \n",
    "            token_vecs = token_vecs[attention.bool()]\n",
    "            sentence_embedding.append(torch.mean(token_vecs, dim=0))\n",
    "    elif method == 'meanSecondToLast': # average of second to last layer\n",
    "        for i in range(len(hidden_states[-2])):\n",
    "            token_vecs = hidden_states[-2][i]\n",
    "            attention = get_attention_tokens(attention_mask[i]) \n",
    "            token_vecs = token_vecs[attention.bool()]\n",
    "            sentence_embedding.append(torch.mean(token_vecs, dim=0))\n",
    "    elif method == 'meanLast': # average of last layer\n",
    "        for i in range(len(hidden_states[-1])):\n",
    "            token_vecs = hidden_states[-1][i]\n",
    "            attention = get_attention_tokens(attention_mask[i]) \n",
    "            token_vecs = token_vecs[attention.bool()]\n",
    "            sentence_embedding.append(torch.mean(token_vecs, dim=0))\n",
    "    elif method == 'lastCLS': # CLS token of last layer\n",
    "        sentence_embedding = hidden_states[-1][:, 0, :]\n",
    "    elif method == 'meanFirst': # average of first layer\n",
    "        for i in range(len(hidden_states[0])):\n",
    "            token_vecs = hidden_states[0][i]\n",
    "            attention = get_attention_tokens(attention_mask[i]) \n",
    "            token_vecs = token_vecs[attention.bool()]\n",
    "            sentence_embedding.append(torch.mean(token_vecs, dim=0))\n",
    "    elif method == 'firstCLS': # CLS token of first layer\n",
    "        sentence_embedding = hidden_states[0][:, 0, :]\n",
    "    return sentence_embedding"
   ]
  },
  {
   "cell_type": "code",
   "execution_count": 29,
   "metadata": {},
   "outputs": [
    {
     "name": "stdout",
     "output_type": "stream",
     "text": [
      "sequence_caption1\n",
      "sequence_caption2\n",
      "image1_caption\n",
      "image2_caption\n",
      "image3_caption\n",
      "image4_caption\n",
      "gpt_idiomatic_meaning\n",
      "gpt_literal_meaning\n",
      "gpt_idiomatic_sentence\n",
      "gpt_literal_sentence\n",
      "gpt_idiomatic_image\n",
      "gpt_literal_image\n"
     ]
    }
   ],
   "source": [
    "methods = ['meanSecondToLast','meanLast4','meanLast','lastCLS']\n",
    "\n",
    "for column in sentence_type_columns:\n",
    "    print(column)\n",
    "    dataB_sentence_tokenized = tokenize(dataB[column].tolist())\n",
    "    \n",
    "    # convert input_ids to tensor\n",
    "    input_ids_sentence = torch.tensor(dataB_sentence_tokenized[\"input_ids\"]).to(device)\n",
    "    attention_mask_sentence = torch.tensor(dataB_sentence_tokenized[\"attention_mask\"]).to(device)\n",
    "\n",
    "    # pass input_ids to model\n",
    "    with torch.no_grad():\n",
    "        output = model(input_ids_sentence, attention_mask_sentence)\n",
    "    \n",
    "    hidden_states_sentence = output.hidden_states\n",
    "\n",
    "    # use all methods for getting sentence embeddings and add them to dataB\n",
    "\n",
    "\n",
    "    for method in methods:\n",
    "        X = get_sentence_embedding(hidden_states_sentence,method,attention_mask_sentence)\n",
    "        X = np.array([x.cpu().numpy() for x in X]).tolist()\n",
    "        # add a new column to dataB \n",
    "        dataB[column + '_embedding_'+ method] = X"
   ]
  },
  {
   "cell_type": "markdown",
   "metadata": {},
   "source": [
    "### Computing BERT compound-based embeddings"
   ]
  },
  {
   "cell_type": "markdown",
   "metadata": {},
   "source": [
    "Sometimes the compound occurs in the sentence only in plural form. So both forms are needed."
   ]
  },
  {
   "cell_type": "code",
   "execution_count": 30,
   "metadata": {},
   "outputs": [],
   "source": [
    "##!pip install inflect\n",
    "\n"
   ]
  },
  {
   "cell_type": "code",
   "execution_count": 31,
   "metadata": {},
   "outputs": [],
   "source": [
    "# sometimes the compound occurs in plural form in the sentence\n",
    "\n",
    "# add a new column to dataB with the plural form of the compound \n",
    "\n",
    "\n",
    "from re import *\n",
    "import inflect\n",
    "\n",
    "engine = inflect.engine()\n",
    "\n",
    "dataB[\"compound_plural\"] = [None for i in range(len(dataB))]\n",
    "\n",
    "for i in range(len(dataB[\"compound\"])):\n",
    "    dataB[\"compound_plural\"][i] = engine.plural(dataB[\"compound\"][i])\n",
    "\n",
    "# tokenize all compounds (original and plural)\n",
    "dataB_compound_tokenized = tokenize(dataB[\"compound\"].tolist())\n",
    "dataB_compound_plural_tokenized = tokenize(dataB[\"compound_plural\"].tolist())"
   ]
  },
  {
   "cell_type": "code",
   "execution_count": 32,
   "metadata": {},
   "outputs": [],
   "source": [
    "# returns the index of the compound in the sentence\n",
    "def get_idx(compound_tokens, compound_plural_tokens, sentence_tokens):\n",
    "    # remove 0-tokens from compound_tokens (removes tokens that are due to padding)\n",
    "    compound_tokens = [i for i in compound_tokens if i != 0]\n",
    "    # remove [CLS] and [SEP] from compound_tokens\n",
    "    compound_tokens = compound_tokens[1:-1]\n",
    "    compound_plural_tokens = [i for i in compound_plural_tokens if i != 0]\n",
    "    compound_plural_tokens = compound_plural_tokens[1:-1]\n",
    "    idx = []\n",
    "    # find the first occurence of the sequence of compound_tokens in sentence_tokens (singular and plural forms)\n",
    "    for i in range(len(sentence_tokens)):\n",
    "        if sentence_tokens[i:i+len(compound_tokens)] == compound_tokens:\n",
    "            for j in range(i, i+ len(compound_tokens)):\n",
    "                idx.append(j)\n",
    "    for i in range(len(sentence_tokens)):\n",
    "        if sentence_tokens[i:i+len(compound_plural_tokens)] == compound_plural_tokens:\n",
    "            for j in range(i, i+ len(compound_plural_tokens)):\n",
    "                idx.append(j)\n",
    "    # remove duplicates from idx\n",
    "    idx = list(set(idx))\n",
    "    return idx\n",
    "\n"
   ]
  },
  {
   "cell_type": "code",
   "execution_count": 33,
   "metadata": {},
   "outputs": [],
   "source": [
    "# returns the embeddings of the tokens in idxList. \n",
    "# The embeddings are combined to a single embedding by different averaging methods\n",
    "import numpy as np\n",
    "def get_idxList_embedding(hidden_states,idxLists,method):\n",
    "    embedding = []\n",
    "    if method == 'meanLast4':\n",
    "        for i in range(len(hidden_states[-1])):\n",
    "            # token_vecs is mean of last 4 layers\n",
    "            idxList = idxLists[i]\n",
    "            token_tensor = torch.stack([hidden_states[-1][i][idxList], hidden_states[-2][i][idxList], hidden_states[-3][i][idxList], hidden_states[-4][i][idxList]], dim=0)\n",
    "            token_vecs = torch.mean(token_tensor, dim=0)\n",
    "            embedding.append(torch.mean(token_vecs, dim=0).tolist())\n",
    "    elif method == 'meanSecondToLast':\n",
    "        for i in range(len(hidden_states[-2])):\n",
    "            idxList = idxLists[i]\n",
    "            token_vecs = hidden_states[-2][i][idxList]\n",
    "            embedding.append(torch.mean(token_vecs, dim=0).tolist())\n",
    "    elif method == 'meanLast':\n",
    "        for i in range(len(hidden_states[-1])):\n",
    "            idxList = idxLists[i]\n",
    "            token_vecs = hidden_states[-1][i][idxList]\n",
    "            embedding.append(torch.mean(token_vecs, dim=0).tolist())\n",
    "    elif method == 'meanFirst':\n",
    "        for i in range(len(hidden_states[0])):\n",
    "            idxList = idxLists[i]\n",
    "            token_vecs = hidden_states[0][i][idxList]\n",
    "            embedding.append(torch.mean(token_vecs, dim=0).tolist())\n",
    "    return embedding"
   ]
  },
  {
   "cell_type": "code",
   "execution_count": 34,
   "metadata": {},
   "outputs": [],
   "source": [
    "sentence_type_columns = [#'sequence_caption1', 'sequence_caption2',        \n",
    "#                         'image1_caption', 'image2_caption', 'image3_caption', 'image4_caption',\n",
    "                        'gpt_idiomatic_meaning', 'gpt_literal_meaning',\n",
    "                        'gpt_idiomatic_sentence', 'gpt_literal_sentence', \n",
    "#                       'gpt_idiomatic_image','gpt_literal_image'\n",
    "                        ]\n",
    "\n",
    "compound_methods = ['meanSecondToLast','meanLast4','meanLast']\n",
    "\n",
    "compound_tokenized = tokenize(dataB[\"compound\"].tolist())\n",
    "compound_plural_tokenized = tokenize(dataB[\"compound_plural\"].tolist())    \n",
    "\n",
    "for column in sentence_type_columns:\n",
    "    # tokenize the column\n",
    "    tokenized = tokenize(dataB[column].tolist())\n",
    "\n",
    "    # hidden states for gpt_Meaning\n",
    "    input_ids = torch.tensor(tokenized[\"input_ids\"]).to(device)\n",
    "    attention_mask = torch.tensor(tokenized[\"attention_mask\"]).to(device)\n",
    "\n",
    "    with torch.no_grad():\n",
    "        output = model(input_ids, attention_mask)\n",
    "\n",
    "    hidden_states = output.hidden_states\n",
    " \n",
    "    # add gpt_compound_embeddings\n",
    " \n",
    "    # add column to dataB with the indices of the compound in the sentence\n",
    "    dataB[column + \"_compound_idx\"] = [get_idx(compound_tokenized[\"input_ids\"][i], \n",
    "                                               compound_plural_tokenized[\"input_ids\"][i], \n",
    "                                               tokenized[\"input_ids\"][i]) for i in range(len(dataB))]\n",
    "    \n",
    "    # apply the methods in compound_methods to get the embeddings of the compound\n",
    "    for method in compound_methods:\n",
    "        dataB[ column + \"_embedding_\"+ method + \"_compound\"] = get_idxList_embedding(hidden_states,\n",
    "                                                                                  dataB[column + \"_compound_idx\"],\n",
    "                                                                                  method) \n",
    "    dataB = dataB.copy()\n",
    "\n"
   ]
  },
  {
   "cell_type": "code",
   "execution_count": 35,
   "metadata": {},
   "outputs": [
    {
     "name": "stdout",
     "output_type": "stream",
     "text": [
      "gpt_idiomatic_meaning\n",
      "cold turkey\n",
      "turkey metaphor stopping habit addiction reduction\n",
      "0\n",
      "gpt_idiomatic_meaning\n",
      "cold turkey\n",
      "turkey metaphor stopping habit addiction reduction\n",
      "1\n",
      "gpt_idiomatic_meaning\n",
      "seal of approval\n",
      "seal approval metaphor endorsement confirmation quality acceptability\n",
      "2\n",
      "gpt_idiomatic_meaning\n",
      "seal of approval\n",
      "seal approval metaphor endorsement confirmation quality acceptability\n",
      "3\n",
      "gpt_idiomatic_meaning\n",
      "best man\n",
      "man metaphor male assistant groom wedding\n",
      "4\n",
      "gpt_idiomatic_meaning\n",
      "best man\n",
      "man metaphor male assistant groom wedding\n",
      "5\n",
      "gpt_idiomatic_meaning\n",
      "new blood\n",
      "blood metaphor energy idea people brought group organization\n",
      "6\n",
      "gpt_idiomatic_meaning\n",
      "new blood\n",
      "blood metaphor energy idea people brought group organization\n",
      "7\n",
      "gpt_idiomatic_meaning\n",
      "ancient history\n",
      "history metaphor something outdated\n",
      "8\n",
      "gpt_idiomatic_meaning\n",
      "ancient history\n",
      "history metaphor something outdated\n",
      "9\n",
      "gpt_idiomatic_meaning\n",
      "open goal\n",
      "goal metaphor opportunity seize achieve sport business\n",
      "12\n",
      "gpt_idiomatic_meaning\n",
      "open goal\n",
      "goal metaphor opportunity seize achieve sport business\n",
      "13\n",
      "gpt_idiomatic_meaning\n",
      "white whale\n",
      "whale metaphor goal obsession\n",
      "14\n",
      "gpt_idiomatic_meaning\n",
      "white whale\n",
      "whale metaphor goal obsession\n",
      "15\n",
      "gpt_idiomatic_meaning\n",
      "bad apple\n",
      "apple metaphor person influence group situation\n",
      "16\n",
      "gpt_idiomatic_meaning\n",
      "bad apple\n",
      "apple metaphor person influence group situation\n",
      "17\n",
      "gpt_idiomatic_meaning\n",
      "dead wood\n",
      "wood metaphor people thing\n",
      "20\n",
      "gpt_idiomatic_meaning\n",
      "dead wood\n",
      "wood metaphor people thing\n",
      "21\n",
      "gpt_idiomatic_meaning\n",
      "bells and whistles\n",
      "bell whistle metaphor feature accessory added make something\n",
      "24\n",
      "gpt_idiomatic_meaning\n",
      "bells and whistles\n",
      "bell whistle metaphor feature accessory added make something\n",
      "25\n",
      "gpt_idiomatic_meaning\n",
      "silver bullet\n",
      "bullet metaphor solution problem\n",
      "28\n",
      "gpt_idiomatic_meaning\n",
      "silver bullet\n",
      "bullet metaphor solution problem\n",
      "29\n",
      "gpt_idiomatic_meaning\n",
      "acid test\n",
      "test metaphor test trial prof validity something\n",
      "30\n",
      "gpt_idiomatic_meaning\n",
      "acid test\n",
      "test metaphor test trial prof validity something\n",
      "31\n",
      "gpt_idiomatic_meaning\n",
      "second nature\n",
      "nature metaphor something become feel\n",
      "34\n",
      "gpt_idiomatic_meaning\n",
      "second nature\n",
      "nature metaphor something become feel\n",
      "35\n",
      "gpt_idiomatic_meaning\n",
      "dutch courage\n",
      "courage metaphor bravery gained consumption alcohol\n",
      "36\n",
      "gpt_idiomatic_meaning\n",
      "dutch courage\n",
      "courage metaphor bravery gained consumption alcohol\n",
      "37\n",
      "gpt_idiomatic_meaning\n",
      "sour grapes\n",
      "grape metaphor pretending care something achieve\n",
      "38\n",
      "gpt_idiomatic_meaning\n",
      "sour grapes\n",
      "grape metaphor pretending care something achieve\n",
      "39\n",
      "gpt_idiomatic_meaning\n",
      "one-horse race\n",
      "race metaphor situation contender option competition\n",
      "40\n",
      "gpt_idiomatic_meaning\n",
      "one-horse race\n",
      "race metaphor situation contender option competition\n",
      "41\n",
      "gpt_idiomatic_meaning\n",
      "can of worms\n",
      "worm metaphor situation could become explored\n",
      "42\n",
      "gpt_idiomatic_meaning\n",
      "can of worms\n",
      "worm metaphor situation could become explored\n",
      "43\n",
      "gpt_idiomatic_meaning\n",
      "storm in a teacup\n",
      "storm teacup metaphor issue exaggerated blown proportion\n",
      "44\n",
      "gpt_idiomatic_meaning\n",
      "storm in a teacup\n",
      "storm teacup metaphor issue exaggerated blown proportion\n",
      "45\n",
      "gpt_idiomatic_meaning\n",
      "trojan horse\n",
      "horse metaphor trick threat used context computer strategy\n",
      "46\n",
      "gpt_idiomatic_meaning\n",
      "trojan horse\n",
      "horse metaphor trick threat used context computer strategy\n",
      "47\n",
      "gpt_idiomatic_meaning\n",
      "busman's holiday\n",
      "busman holiday metaphor taking break vacation something related one work occupation\n",
      "48\n",
      "gpt_idiomatic_meaning\n",
      "busman's holiday\n",
      "busman holiday metaphor taking break vacation something related one work occupation\n",
      "49\n",
      "gpt_idiomatic_meaning\n",
      "fish story\n",
      "story metaphor tale story involving fishing expedition\n",
      "52\n",
      "gpt_idiomatic_meaning\n",
      "fish story\n",
      "story metaphor tale story involving fishing expedition\n",
      "53\n",
      "gpt_literal_meaning\n",
      "cold turkey\n",
      "turkey term turkey served dish\n",
      "0\n",
      "gpt_literal_meaning\n",
      "cold turkey\n",
      "turkey term turkey served dish\n",
      "1\n",
      "gpt_literal_meaning\n",
      "seal of approval\n",
      "seal approval term seal used mark document item approved\n",
      "2\n",
      "gpt_literal_meaning\n",
      "seal of approval\n",
      "seal approval term seal used mark document item approved\n",
      "3\n",
      "gpt_literal_meaning\n",
      "best man\n",
      "man term man considered context competition\n",
      "4\n",
      "gpt_literal_meaning\n",
      "best man\n",
      "man term man considered context competition\n",
      "5\n",
      "gpt_literal_meaning\n",
      "new blood\n",
      "blood term donated blood used transfusion\n",
      "6\n",
      "gpt_literal_meaning\n",
      "new blood\n",
      "blood term donated blood used transfusion\n",
      "7\n",
      "gpt_literal_meaning\n",
      "ancient history\n",
      "history term referring period history event\n",
      "8\n",
      "gpt_literal_meaning\n",
      "ancient history\n",
      "history term referring period history event\n",
      "9\n",
      "gpt_literal_meaning\n",
      "open goal\n",
      "goal term soccer football net score\n",
      "12\n",
      "gpt_literal_meaning\n",
      "open goal\n",
      "goal term soccer football net score\n",
      "13\n",
      "gpt_literal_meaning\n",
      "white whale\n",
      "whale term whale type sought sailor moby dick\n",
      "14\n",
      "gpt_literal_meaning\n",
      "white whale\n",
      "whale term whale type sought sailor moby dick\n",
      "15\n",
      "gpt_literal_meaning\n",
      "bad apple\n",
      "apple term apple spoiled rotten\n",
      "16\n",
      "gpt_literal_meaning\n",
      "bad apple\n",
      "apple term apple spoiled rotten\n",
      "17\n",
      "gpt_literal_meaning\n",
      "dead wood\n",
      "wood term wood living\n",
      "20\n",
      "gpt_literal_meaning\n",
      "dead wood\n",
      "wood term wood living\n",
      "21\n",
      "gpt_literal_meaning\n",
      "bells and whistles\n",
      "bell whistle term bell addition object event\n",
      "24\n",
      "gpt_literal_meaning\n",
      "bells and whistles\n",
      "bell whistle term bell addition object event\n",
      "25\n",
      "gpt_literal_meaning\n",
      "silver bullet\n",
      "bullet term bullet made silver associated folklore\n",
      "28\n",
      "gpt_literal_meaning\n",
      "silver bullet\n",
      "bullet term bullet made silver associated folklore\n",
      "29\n",
      "gpt_literal_meaning\n",
      "second nature\n",
      "nature term instinct reflex\n",
      "34\n",
      "gpt_literal_meaning\n",
      "second nature\n",
      "nature term instinct reflex\n",
      "35\n",
      "gpt_literal_meaning\n",
      "dutch courage\n",
      "courage term effect alcohol making someone brave\n",
      "36\n",
      "gpt_literal_meaning\n",
      "dutch courage\n",
      "courage term effect alcohol making someone brave\n",
      "37\n",
      "gpt_literal_meaning\n",
      "sour grapes\n",
      "grape term grape taste\n",
      "38\n",
      "gpt_literal_meaning\n",
      "sour grapes\n",
      "grape term grape taste\n",
      "39\n",
      "gpt_literal_meaning\n",
      "one-horse race\n",
      "race term horse race participant\n",
      "40\n",
      "gpt_literal_meaning\n",
      "one-horse race\n",
      "race term horse race participant\n",
      "41\n",
      "gpt_literal_meaning\n",
      "can of worms\n",
      "worm term container filled worm used bait\n",
      "42\n",
      "gpt_literal_meaning\n",
      "can of worms\n",
      "worm term container filled worm used bait\n",
      "43\n",
      "gpt_literal_meaning\n",
      "storm in a teacup\n",
      "storm teacup term storm occurring teacup\n",
      "44\n",
      "gpt_literal_meaning\n",
      "storm in a teacup\n",
      "storm teacup term storm occurring teacup\n",
      "45\n",
      "gpt_literal_meaning\n",
      "trojan horse\n",
      "horse term horse used greek infiltrate troy according myth\n",
      "46\n",
      "gpt_literal_meaning\n",
      "trojan horse\n",
      "horse term horse used greek infiltrate troy according myth\n",
      "47\n",
      "gpt_literal_meaning\n",
      "busman's holiday\n",
      "busman holiday term bus driver taking time riding bus driving\n",
      "48\n",
      "gpt_literal_meaning\n",
      "busman's holiday\n",
      "busman holiday term bus driver taking time riding bus driving\n",
      "49\n",
      "gpt_literal_meaning\n",
      "fish story\n",
      "story term story catching\n",
      "52\n",
      "gpt_literal_meaning\n",
      "fish story\n",
      "story term story catching\n",
      "53\n",
      "gpt_idiomatic_sentence\n",
      "cold turkey\n",
      "quit smoking turkey hasnt touched cigarette\n",
      "0\n",
      "gpt_idiomatic_sentence\n",
      "cold turkey\n",
      "quit smoking turkey hasnt touched cigarette\n",
      "1\n",
      "gpt_idiomatic_sentence\n",
      "seal of approval\n",
      "product received seal approval safety commission\n",
      "2\n",
      "gpt_idiomatic_sentence\n",
      "seal of approval\n",
      "product received seal approval safety commission\n",
      "3\n",
      "gpt_idiomatic_sentence\n",
      "best man\n",
      "man gave heartfelt speech wedding reception\n",
      "4\n",
      "gpt_idiomatic_sentence\n",
      "best man\n",
      "man gave heartfelt speech wedding reception\n",
      "5\n",
      "gpt_idiomatic_sentence\n",
      "new blood\n",
      "company needed blood inject creativity stale team\n",
      "6\n",
      "gpt_idiomatic_sentence\n",
      "new blood\n",
      "company needed blood inject creativity stale team\n",
      "7\n",
      "gpt_idiomatic_sentence\n",
      "ancient history\n",
      "debate year project history\n",
      "8\n",
      "gpt_idiomatic_sentence\n",
      "ancient history\n",
      "debate year project history\n",
      "9\n",
      "gpt_idiomatic_sentence\n",
      "open goal\n",
      "missed goal match crowd dismay\n",
      "12\n",
      "gpt_idiomatic_sentence\n",
      "open goal\n",
      "missed goal match crowd dismay\n",
      "13\n",
      "gpt_idiomatic_sentence\n",
      "white whale\n",
      "project became whale something pursued completed\n",
      "14\n",
      "gpt_idiomatic_sentence\n",
      "white whale\n",
      "project became whale something pursued completed\n",
      "15\n",
      "gpt_idiomatic_sentence\n",
      "bad apple\n",
      "shes apple cause trouble wherever go\n",
      "16\n",
      "gpt_idiomatic_sentence\n",
      "bad apple\n",
      "shes apple cause trouble wherever go\n",
      "17\n",
      "gpt_idiomatic_sentence\n",
      "dead wood\n",
      "manager decided remove wood team improve efficiency\n",
      "20\n",
      "gpt_idiomatic_sentence\n",
      "dead wood\n",
      "manager decided remove wood team improve efficiency\n",
      "21\n",
      "gpt_idiomatic_sentence\n",
      "bells and whistles\n",
      "phone bell whistle including recognition wireless charging\n",
      "24\n",
      "gpt_idiomatic_sentence\n",
      "bells and whistles\n",
      "phone bell whistle including recognition wireless charging\n",
      "25\n",
      "gpt_idiomatic_sentence\n",
      "silver bullet\n",
      "there bullet fixing economy requires approach\n",
      "28\n",
      "gpt_idiomatic_sentence\n",
      "silver bullet\n",
      "there bullet fixing economy requires approach\n",
      "29\n",
      "gpt_idiomatic_sentence\n",
      "acid test\n",
      "test product come hit market year\n",
      "30\n",
      "gpt_idiomatic_sentence\n",
      "acid test\n",
      "test product come hit market year\n",
      "31\n",
      "gpt_idiomatic_sentence\n",
      "second nature\n",
      "year practice playing piano became nature\n",
      "34\n",
      "gpt_idiomatic_sentence\n",
      "second nature\n",
      "year practice playing piano became nature\n",
      "35\n",
      "gpt_idiomatic_sentence\n",
      "dutch courage\n",
      "got courage asking promotion drink\n",
      "36\n",
      "gpt_idiomatic_sentence\n",
      "dutch courage\n",
      "got courage asking promotion drink\n",
      "37\n",
      "gpt_idiomatic_sentence\n",
      "sour grapes\n",
      "claimed didnt want promotion think grape\n",
      "38\n",
      "gpt_idiomatic_sentence\n",
      "sour grapes\n",
      "claimed didnt want promotion think grape\n",
      "39\n",
      "gpt_idiomatic_sentence\n",
      "one-horse race\n",
      "election turned race candidate running\n",
      "40\n",
      "gpt_idiomatic_sentence\n",
      "one-horse race\n",
      "election turned race candidate running\n",
      "41\n",
      "gpt_idiomatic_sentence\n",
      "can of worms\n",
      "opening file opening worm might want know\n",
      "42\n",
      "gpt_idiomatic_sentence\n",
      "can of worms\n",
      "opening file opening worm might want know\n",
      "43\n",
      "gpt_idiomatic_sentence\n",
      "storm in a teacup\n",
      "made storm teacup misunderstanding work\n",
      "44\n",
      "gpt_idiomatic_sentence\n",
      "storm in a teacup\n",
      "made storm teacup misunderstanding work\n",
      "45\n",
      "gpt_idiomatic_sentence\n",
      "busman's holiday\n",
      "took busman holiday going theme park time working project\n",
      "48\n",
      "gpt_idiomatic_sentence\n",
      "busman's holiday\n",
      "took busman holiday going theme park time working project\n",
      "49\n",
      "gpt_idiomatic_sentence\n",
      "fish story\n",
      "story catching pound bass met skepticism\n",
      "52\n",
      "gpt_idiomatic_sentence\n",
      "fish story\n",
      "story catching pound bass met skepticism\n",
      "53\n",
      "gpt_literal_sentence\n",
      "cold turkey\n",
      "leftover included turkey sandwich holiday feast\n",
      "0\n",
      "gpt_literal_sentence\n",
      "cold turkey\n",
      "leftover included turkey sandwich holiday feast\n",
      "1\n",
      "gpt_literal_sentence\n",
      "seal of approval\n",
      "seal approval stamped certificate\n",
      "2\n",
      "gpt_literal_sentence\n",
      "seal of approval\n",
      "seal approval stamped certificate\n",
      "3\n",
      "gpt_literal_sentence\n",
      "best man\n",
      "man race securing gold medal team\n",
      "4\n",
      "gpt_literal_sentence\n",
      "best man\n",
      "man race securing gold medal team\n",
      "5\n",
      "gpt_literal_sentence\n",
      "new blood\n",
      "hospital blood bank received donation blood\n",
      "6\n",
      "gpt_literal_sentence\n",
      "new blood\n",
      "hospital blood bank received donation blood\n",
      "7\n",
      "gpt_literal_sentence\n",
      "ancient history\n",
      "museum exhibited history artifact civilization\n",
      "8\n",
      "gpt_literal_sentence\n",
      "ancient history\n",
      "museum exhibited history artifact civilization\n",
      "9\n",
      "gpt_literal_sentence\n",
      "open goal\n",
      "soccer player took advantage goal score winning point\n",
      "12\n",
      "gpt_literal_sentence\n",
      "open goal\n",
      "soccer player took advantage goal score winning point\n",
      "13\n",
      "gpt_literal_sentence\n",
      "white whale\n",
      "fisherman set find whale sea\n",
      "14\n",
      "gpt_literal_sentence\n",
      "white whale\n",
      "fisherman set find whale sea\n",
      "15\n",
      "gpt_literal_sentence\n",
      "bad apple\n",
      "group found apple midst spread rumor team\n",
      "16\n",
      "gpt_literal_sentence\n",
      "bad apple\n",
      "group found apple midst spread rumor team\n",
      "17\n",
      "gpt_literal_sentence\n",
      "dead wood\n",
      "ranger cleared wood trail prevent fire hazard\n",
      "20\n",
      "gpt_literal_sentence\n",
      "dead wood\n",
      "ranger cleared wood trail prevent fire hazard\n",
      "21\n",
      "gpt_literal_sentence\n",
      "bells and whistles\n",
      "holiday display bell whistle light music\n",
      "24\n",
      "gpt_literal_sentence\n",
      "bells and whistles\n",
      "holiday display bell whistle light music\n",
      "25\n",
      "gpt_literal_sentence\n",
      "swan song\n",
      "swan swam lake heard shore\n",
      "26\n",
      "gpt_literal_sentence\n",
      "swan song\n",
      "swan swam lake heard shore\n",
      "27\n",
      "gpt_literal_sentence\n",
      "silver bullet\n",
      "hunter carried bullet believing could defeat creature\n",
      "28\n",
      "gpt_literal_sentence\n",
      "silver bullet\n",
      "hunter carried bullet believing could defeat creature\n",
      "29\n",
      "gpt_literal_sentence\n",
      "acid test\n",
      "scientist conducted test determine purity metal\n",
      "30\n",
      "gpt_literal_sentence\n",
      "acid test\n",
      "scientist conducted test determine purity metal\n",
      "31\n",
      "gpt_literal_sentence\n",
      "second nature\n",
      "athlete movement sport become nature\n",
      "34\n",
      "gpt_literal_sentence\n",
      "second nature\n",
      "athlete movement sport become nature\n",
      "35\n",
      "gpt_literal_sentence\n",
      "sour grapes\n",
      "ate grape straight vine find one\n",
      "38\n",
      "gpt_literal_sentence\n",
      "sour grapes\n",
      "ate grape straight vine find one\n",
      "39\n",
      "gpt_literal_sentence\n",
      "one-horse race\n",
      "horse galloped track race competitor sight\n",
      "40\n",
      "gpt_literal_sentence\n",
      "one-horse race\n",
      "horse galloped track race competitor sight\n",
      "41\n",
      "gpt_literal_sentence\n",
      "can of worms\n",
      "fisherman opened worm use bait lake\n",
      "42\n",
      "gpt_literal_sentence\n",
      "can of worms\n",
      "fisherman opened worm use bait lake\n",
      "43\n",
      "gpt_literal_sentence\n",
      "storm in a teacup\n",
      "storm teacup minute misunderstanding cleared\n",
      "44\n",
      "gpt_literal_sentence\n",
      "storm in a teacup\n",
      "storm teacup minute misunderstanding cleared\n",
      "45\n",
      "gpt_literal_sentence\n",
      "trojan horse\n",
      "soldier hid horse waiting invade city\n",
      "46\n",
      "gpt_literal_sentence\n",
      "trojan horse\n",
      "soldier hid horse waiting invade city\n",
      "47\n",
      "gpt_literal_sentence\n",
      "busman's holiday\n",
      "busman holiday consisted trip museum visited work\n",
      "48\n",
      "gpt_literal_sentence\n",
      "busman's holiday\n",
      "busman holiday consisted trip museum visited work\n",
      "49\n",
      "gpt_literal_sentence\n",
      "fish story\n",
      "fisherman spun story whale encountered sea\n",
      "52\n",
      "gpt_literal_sentence\n",
      "fish story\n",
      "fisherman spun story whale encountered sea\n",
      "53\n"
     ]
    }
   ],
   "source": [
    "# print  if compound_idx is empty (ideally there should be no empty compound_idx)\n",
    "for column in sentence_type_columns:\n",
    "    for i in range(len(dataB)):\n",
    "        if len(dataB[column + \"_compound_idx\"][i]) == 0:\n",
    "            print(column)\n",
    "            print(dataB[\"compound\"][i])\n",
    "            print(dataB[column][i])\n",
    "            print(i)\n",
    "            \n"
   ]
  },
  {
   "cell_type": "code",
   "execution_count": 36,
   "metadata": {},
   "outputs": [],
   "source": [
    "# replace nan-embeddings (due to missing compound) by corresponding sentence embedding:\n",
    "for column in sentence_type_columns:\n",
    "    for method in compound_methods:\n",
    "        for i in range(len(dataB)):\n",
    "            if len(dataB[column + \"_compound_idx\"][i]) == 0:\n",
    "                dataB[column + \"_embedding_\"+ method + \"_compound\"][i] = dataB[column + \"_embedding_\"+ method][i]\n"
   ]
  },
  {
   "cell_type": "code",
   "execution_count": 37,
   "metadata": {},
   "outputs": [],
   "source": [
    "# writes all column names in a file for later reference\n",
    "with open('column.txt', 'w') as f:\n",
    "    for c in dataB.columns:\n",
    "        print(c,  file=f)"
   ]
  },
  {
   "cell_type": "markdown",
   "metadata": {},
   "source": [
    "### SBert embeddings"
   ]
  },
  {
   "cell_type": "code",
   "execution_count": 38,
   "metadata": {},
   "outputs": [],
   "source": [
    "# pip install -U sentence-transformers\n",
    "from sentence_transformers import SentenceTransformer\n",
    "model = SentenceTransformer('sentence-transformers/all-MiniLM-L6-v2')\n",
    "\n",
    "\n",
    "\n",
    "sentence_type_columns = ['sequence_caption1', 'sequence_caption2',        \n",
    "                         'image1_caption', 'image2_caption', 'image3_caption', 'image4_caption',\n",
    "                        'gpt_idiomatic_meaning', 'gpt_literal_meaning',\n",
    "                        'gpt_idiomatic_sentence', 'gpt_literal_sentence', \n",
    "                        'gpt_idiomatic_image','gpt_literal_image']\n",
    "\n",
    "#  SBert embeddings are generated  for all sentence like columns\n",
    "for type in sentence_type_columns:\n",
    "    dataB[type + \"_embedding_sbert\"] = dataB[type].apply(lambda x: model.encode(x))"
   ]
  },
  {
   "cell_type": "code",
   "execution_count": 39,
   "metadata": {},
   "outputs": [],
   "source": [
    "#save dataB pickle\n",
    "import pickle\n",
    "if preprocessed == True:\n",
    "    prep = \"_preprocessed_\"\n",
    "else:\n",
    "    prep = \"_\"\n",
    "\n",
    "if remove_CLS_SEP == True:\n",
    "    cls_sep = \"_without_CLS_SEP\"\n",
    "else:\n",
    "    cls_sep = \"\"\n",
    "\n",
    "\n",
    "dataB.to_pickle(\"dataB\"+ prep + \".pkl\")\n"
   ]
  },
  {
   "cell_type": "markdown",
   "metadata": {},
   "source": [
    "## Predictions"
   ]
  },
  {
   "cell_type": "code",
   "execution_count": 288,
   "metadata": {},
   "outputs": [],
   "source": [
    "prep = \"_\" # not preprocessed\n",
    "#prep = \"_preprocessed_\"\n",
    "\n",
    "dataB = pd.read_pickle(\"dataB\" + prep + \".pkl\")\n",
    "\n",
    "f = open('results_subtaskB.txt', 'a')\n",
    "f.write(\"\\n\"+ \"=====================================================================\")\n",
    "f.write(\"\\n\" + prep)\n",
    "f.close()\n",
    "\n"
   ]
  },
  {
   "cell_type": "code",
   "execution_count": 289,
   "metadata": {},
   "outputs": [],
   "source": [
    "# functions to display images\n",
    "\n",
    "from PIL import Image\n",
    "from IPython.display import display\n",
    "\n",
    "\n",
    "fileDirectory = 'D:\\\\Wiebke Petersen\\\\Downloads\\\\AdMIRe Subtask B Train\\\\train'\n",
    "\n",
    "# Open the image file\n",
    "def display_image(compound, fn):\n",
    "    img = Image.open(fileDirectory + \"\\\\\" + compound + \"\\\\\" + fn)\n",
    "    new_size = (150, 150)  # Width, Height\n",
    "    img_resized = img.resize(new_size)  \n",
    "    # Display the image\n",
    "    display(img_resized)\n",
    "\n",
    "# returns list of image names sorted from image1 to image5\n",
    "def get_image_names(n,mydata):\n",
    "    names = []\n",
    "    for i in [1,2,3,4]:\n",
    "         names.append(mydata['image' + str(i) + '_name'][n])\n",
    "    return names\n",
    "\n",
    "\n",
    "def print_item(n, mydata):\n",
    "    # print  'sentence_type', 'sentence'\n",
    "    compound = mydata['compound'].iloc[n]\n",
    "    print(compound)\n",
    "    print(mydata['sentence_type'].iloc[n])\n",
    "    print(mydata['sequence_caption1'].iloc[n])\n",
    "    display_image(compound,'s1.png')\n",
    "    print(mydata['sequence_caption2'].iloc[n])\n",
    "    display_image(compound,'s2.png')\n",
    "    print(\"=====================================================================\")\n",
    "\n",
    "\n",
    "    # for image_names in 'expected_order' print image_captions\n",
    "    names  =  get_image_names(n,mydata)\n",
    "\n",
    "    for image_name in names:\n",
    "        display_image(compound, image_name)\n",
    "        # get index of image_name in names\n",
    "        index = names.index(image_name) + 1\n",
    "        print(mydata['image'+str(index)+'_caption'][n])\n",
    "    print(\"=====================================================================\")\n",
    "    print(\"expected image: \")\n",
    "    display_image(compound, dataB_train[\"expected_item\"][n])\n",
    "    "
   ]
  },
  {
   "cell_type": "code",
   "execution_count": 290,
   "metadata": {},
   "outputs": [
    {
     "name": "stdout",
     "output_type": "stream",
     "text": [
      "sour grapes\n",
      "literal\n",
      "The image shows a cartoon of a young boy with blonde hair, wearing an orange sweater and black pants with orange stripes. He is holding a bunch of grapes in his left hand and appears to be reaching for more grapes on a vine. The background is plain white, which highlights the subject. The boy is smiling and seems to be enjoying the activity. \n"
     ]
    },
    {
     "data": {
      "image/png": "[encoded data removed]",
      "text/plain": [
       "<PIL.Image.Image image mode=RGB size=150x150>"
      ]
     },
     "metadata": {},
     "output_type": "display_data"
    },
    {
     "name": "stdout",
     "output_type": "stream",
     "text": [
      "The image shows an animated character, a young boy with blonde hair, holding a bunch of grapes in his hands. He appears to be looking at the grapes with a surprised or curious expression. The boy is wearing a red shirt, and the background is plain white, which puts the focus on the character and the grapes. \n"
     ]
    },
    {
     "data": {
      "image/png": "[encoded data removed]",
      "text/plain": [
       "<PIL.Image.Image image mode=RGB size=150x150>"
      ]
     },
     "metadata": {},
     "output_type": "display_data"
    },
    {
     "name": "stdout",
     "output_type": "stream",
     "text": [
      "=====================================================================\n"
     ]
    },
    {
     "data": {
      "image/png": "[encoded data removed]",
      "text/plain": [
       "<PIL.Image.Image image mode=RGB size=150x150>"
      ]
     },
     "metadata": {},
     "output_type": "display_data"
    },
    {
     "name": "stdout",
     "output_type": "stream",
     "text": [
      "The image shows a stylized, cartoon-like illustration of a young boy with a surprised or shocked expression. He has blonde hair and is wearing an orange shirt. The artwork is detailed and colorful, with a focus on the boy's facial expression and the texture of his hair. \n"
     ]
    },
    {
     "data": {
      "image/png": "[encoded data removed]",
      "text/plain": [
       "<PIL.Image.Image image mode=RGB size=150x150>"
      ]
     },
     "metadata": {},
     "output_type": "display_data"
    },
    {
     "name": "stdout",
     "output_type": "stream",
     "text": [
      "The image shows two animated characters, a boy and a girl, standing next to each other. The boy has a frown on his face and is holding his arms crossed, while the girl is holding a trophy and appears to be upset or disappointed. They seem to be in a competition or contest, as suggested by the trophy. The style of the animation is cartoonish and colorful. \n"
     ]
    },
    {
     "data": {
      "image/png": "[encoded data removed]",
      "text/plain": [
       "<PIL.Image.Image image mode=RGB size=150x150>"
      ]
     },
     "metadata": {},
     "output_type": "display_data"
    },
    {
     "name": "stdout",
     "output_type": "stream",
     "text": [
      "The image shows a bottle of wine with a label that reads \"Château\" followed by a name that is not fully visible. The label also features a graphic of a bunch of grapes and a green plant, which are common elements on wine labels to indicate the type of wine and its origin. The bottle is placed on a grassy surface, suggesting a natural or rural setting. The overall design is simple and elegant, typical of wine packaging. \n"
     ]
    },
    {
     "data": {
      "image/png": "[encoded data removed]",
      "text/plain": [
       "<PIL.Image.Image image mode=RGB size=150x150>"
      ]
     },
     "metadata": {},
     "output_type": "display_data"
    },
    {
     "name": "stdout",
     "output_type": "stream",
     "text": [
      "The image shows a cartoon illustration of a young boy with a surprised or excited expression. He has short, spiky hair and is wearing a short-sleeved orange shirt and brown shorts. The boy is standing on grass and appears to be reaching out to a soccer ball that is on the ground in front of him. The style of the illustration is playful and colorful, typical of children's book illustrations. \n",
      "=====================================================================\n",
      "expected image: \n"
     ]
    },
    {
     "data": {
      "image/png": "[encoded data removed]",
      "text/plain": [
       "<PIL.Image.Image image mode=RGB size=150x150>"
      ]
     },
     "metadata": {},
     "output_type": "display_data"
    }
   ],
   "source": [
    "dataB_train = only_train(dataB)\n",
    "print_item(9,dataB_train)\n"
   ]
  },
  {
   "cell_type": "markdown",
   "metadata": {},
   "source": [
    "Ansatz: \n",
    "a) sequence caption vergleichen mit gpt data (BERT + SBERT)\n",
    "b) image captions similarity to sequence captions\n"
   ]
  },
  {
   "cell_type": "code",
   "execution_count": 291,
   "metadata": {},
   "outputs": [],
   "source": [
    "def cosine_similarity(u, v):\n",
    "    return np.dot(u, v) / (np.linalg.norm(u) * np.linalg.norm(v))\n",
    "\n",
    "\n",
    "def compare(emb,emb0,emb1):\n",
    "    sim0 = cosine_similarity(emb,emb0)\n",
    "    sim1 = cosine_similarity(emb,emb1)\n",
    "    if sim0 > sim1:\n",
    "        return 0\n",
    "    else:\n",
    "        return 1\n",
    "\n",
    "def binary2values(list,val0,val1):\n",
    "    final = []\n",
    "    for element in list:\n",
    "        if element == 1:\n",
    "            final.append(val1)\n",
    "        else:\n",
    "            final.append(val0)\n",
    "    return final\n"
   ]
  },
  {
   "cell_type": "markdown",
   "metadata": {},
   "source": [
    "## Predict image"
   ]
  },
  {
   "cell_type": "markdown",
   "metadata": {},
   "source": [
    "### compare sequence captions with image captions"
   ]
  },
  {
   "cell_type": "markdown",
   "metadata": {},
   "source": [
    "#### choose by maximal similarity sum "
   ]
  },
  {
   "cell_type": "code",
   "execution_count": 292,
   "metadata": {},
   "outputs": [],
   "source": [
    "images = [\"image1\", \"image2\", \"image3\", \"image4\"]\n",
    "sequence_captions = ['sequence_caption1', 'sequence_caption2']\n",
    "\n",
    "# compare image captions to sequence captions\n",
    "def compare_image_to_sequence(current,embedding):\n",
    "    sims = []\n",
    "    for image in images:\n",
    "        seq_sim = []\n",
    "        for seq in sequence_captions:\n",
    "            seq_sim.append(cosine_similarity(current[seq+ \"_embedding_\" + embedding], current[image+ \"_caption_embedding_\" + embedding]))\n",
    "        sims.append(seq_sim)\n",
    "    return sims"
   ]
  },
  {
   "cell_type": "code",
   "execution_count": 293,
   "metadata": {},
   "outputs": [],
   "source": [
    "\n",
    "# decide by maximal sum of similarities\n",
    "\n",
    "dataB[\"pred_image_sbert\"] = dataB.apply(lambda x:  \n",
    "                                        np.argmax([sum(i) for i in compare_image_to_sequence(x,\"sbert\")]) + 1, \n",
    "                                        axis = 1)\n",
    "dataB[\"pred_image_sbert\"] = dataB.apply(lambda x: x[\"image\" + str(x[\"pred_image_sbert\"]) + \"_name\"], axis= 1)"
   ]
  },
  {
   "cell_type": "code",
   "execution_count": 294,
   "metadata": {},
   "outputs": [
    {
     "name": "stdout",
     "output_type": "stream",
     "text": [
      "accuracy score (comparison sequence captions and image caption, embedding: sbert, method: max sum) 0.6\n"
     ]
    }
   ],
   "source": [
    "from sklearn.metrics import accuracy_score\n",
    "\n",
    "dataB_train = only_train(dataB)\n",
    "print(\"accuracy score (comparison sequence captions and image caption, embedding: sbert, method: max sum)\", str(accuracy_score(dataB_train[\"expected_item\"], dataB_train[\"pred_image_sbert\"])\n",
    "))\n",
    "\n",
    "f = open('results_subtaskB.txt', 'a')\n",
    "f.write(\"\\n\" + \"accuracy score (comparison sequence captions and image caption, embedding: sbert, method: max sum) \")\n",
    "f.write(\"\\n\" + str(accuracy_score(dataB_train[\"expected_item\"], dataB_train[\"pred_image_sbert\"])))\n",
    "f.close()\n"
   ]
  },
  {
   "cell_type": "code",
   "execution_count": 295,
   "metadata": {},
   "outputs": [],
   "source": [
    "dataB[\"pred_image_meanLast4\"] = dataB.apply(lambda x:  \n",
    "                                        np.argmax([sum(i) for i in compare_image_to_sequence(x,\"meanLast4\")]) + 1, \n",
    "                                        axis = 1)\n",
    "dataB[\"pred_image_meanLast4\"] = dataB.apply(lambda x: x[\"image\" + str(x[\"pred_image_meanLast4\"]) + \"_name\"], axis= 1)"
   ]
  },
  {
   "cell_type": "code",
   "execution_count": 296,
   "metadata": {},
   "outputs": [
    {
     "name": "stdout",
     "output_type": "stream",
     "text": [
      "accuracy score (comparison sequence captions and image caption, embedding: BERT_meanLast4, method: max sum) 0.55\n"
     ]
    }
   ],
   "source": [
    "dataB_train = only_train(dataB)\n",
    "print(\"accuracy score (comparison sequence captions and image caption, embedding: BERT_meanLast4, method: max sum)\", \n",
    "      str(accuracy_score(dataB_train[\"expected_item\"], dataB_train[\"pred_image_meanLast4\"])\n",
    "))\n",
    "\n",
    "f = open('results_subtaskB.txt', 'a')\n",
    "f.write(\"\\naccuracy score (comparison sequence captions and image caption, embedding: BERT_meanLast4, method: max sum) \\n\" + \n",
    "        str(accuracy_score(dataB_train[\"expected_item\"], dataB_train[\"pred_image_meanLast4\"])))\n",
    "f.close()\n"
   ]
  },
  {
   "cell_type": "code",
   "execution_count": 297,
   "metadata": {},
   "outputs": [],
   "source": [
    "dataB[\"pred_image_lastCLS\"] = dataB.apply(lambda x:  \n",
    "                                        np.argmax([sum(i) for i in compare_image_to_sequence(x,\"lastCLS\")]) + 1, \n",
    "                                        axis = 1)\n",
    "dataB[\"pred_image_lastCLS\"] = dataB.apply(lambda x: x[\"image\" + str(x[\"pred_image_lastCLS\"]) + \"_name\"], axis= 1)"
   ]
  },
  {
   "cell_type": "code",
   "execution_count": 298,
   "metadata": {},
   "outputs": [
    {
     "name": "stdout",
     "output_type": "stream",
     "text": [
      "accuracy score (comparison sequence captions and image caption, embedding: BERT_lastCLS, method: max sum) 0.5\n"
     ]
    }
   ],
   "source": [
    "dataB_train = only_train(dataB)\n",
    "print(\"accuracy score (comparison sequence captions and image caption, embedding: BERT_lastCLS, method: max sum)\", \n",
    "      str(accuracy_score(dataB_train[\"expected_item\"], dataB_train[\"pred_image_lastCLS\"])\n",
    "))\n",
    "\n",
    "f = open('results_subtaskB.txt', 'a')\n",
    "f.write(\"\\naccuracy score (comparison sequence captions and image caption, embedding: BERT_lastCLS, method: max sum) \\n\" +\n",
    "      str(accuracy_score(dataB_train[\"expected_item\"], dataB_train[\"pred_image_lastCLS\"])\n",
    "))\n",
    "f.close()"
   ]
  },
  {
   "cell_type": "markdown",
   "metadata": {},
   "source": [
    "#### choose by maximum similarity "
   ]
  },
  {
   "cell_type": "code",
   "execution_count": 299,
   "metadata": {},
   "outputs": [],
   "source": [
    "# decide by maximum of similarity\n",
    "dataB[\"pred_image_sbert\"] = dataB.apply(lambda x:  \n",
    "                                        np.argmax([max(i) for i in compare_image_to_sequence(x,\"sbert\")]) + 1, \n",
    "                                        axis = 1)\n",
    "dataB[\"pred_image_sbert\"] = dataB.apply(lambda x: x[\"image\" + str(x[\"pred_image_sbert\"]) + \"_name\"], axis= 1)"
   ]
  },
  {
   "cell_type": "code",
   "execution_count": 300,
   "metadata": {},
   "outputs": [
    {
     "name": "stdout",
     "output_type": "stream",
     "text": [
      "\n",
      "accuracy score (comparison sequence captions and image caption, embedding: sbert, method: max sum) 0.65\n"
     ]
    }
   ],
   "source": [
    "from sklearn.metrics import accuracy_score\n",
    "\n",
    "dataB_train = only_train(dataB)\n",
    "print(\"\\naccuracy score (comparison sequence captions and image caption, embedding: sbert, method: max sum)\", str(accuracy_score(dataB_train[\"expected_item\"], dataB_train[\"pred_image_sbert\"])\n",
    "))\n",
    "\n",
    "f = open('results_subtaskB.txt', 'a')\n",
    "f.write(\"\\naccuracy score (comparison sequence captions and image caption, embedding: sbert, method: max sum) \\n\" + \n",
    "        str(accuracy_score(dataB_train[\"expected_item\"], dataB_train[\"pred_image_sbert\"])\n",
    "))\n",
    "f.close()"
   ]
  },
  {
   "cell_type": "markdown",
   "metadata": {},
   "source": [
    "## Predict idiomatic/literal"
   ]
  },
  {
   "cell_type": "markdown",
   "metadata": {},
   "source": [
    "### predict by comparison of sequence caption with gpt sentence/meaning/image"
   ]
  },
  {
   "cell_type": "code",
   "execution_count": 301,
   "metadata": {},
   "outputs": [],
   "source": [
    "sequence_captions = ['sequence_caption1', 'sequence_caption2']\n",
    "bin_types = [\"literal\", \"idiomatic\"]\n",
    "sent_types = [\"meaning\", \"sentence\", \"image\"]                        \n",
    "\n",
    "def compare_sequence_to_gpt(current, embedding):\n",
    "    sim = {}\n",
    "    for sent in sent_types:\n",
    "        sim_sent = []\n",
    "        for bin in bin_types:\n",
    "            sim_bin = []\n",
    "            for seq in sequence_captions:\n",
    "                sim_bin.append(\n",
    "                    cosine_similarity(current[\"gpt_\" + bin + \"_\" + sent +  \"_embedding_\" + embedding], \n",
    "                                      current[seq+ \"_embedding_\" + embedding]))\n",
    "            sim_sent.append(sim_bin)\n",
    "        sim[sent] = sim_sent\n",
    "    return sim\n",
    "\n"
   ]
  },
  {
   "cell_type": "code",
   "execution_count": 302,
   "metadata": {},
   "outputs": [],
   "source": [
    "for sent in sent_types:\n",
    "    dataB[\"pred_binary_from_gpt_\" + sent] = dataB.apply(\n",
    "        lambda x:  np.argmax([sum(i) for i in compare_sequence_to_gpt(x,\"sbert\")[sent]]), axis=1)\n",
    "    dataB[\"pred_binary_from_gpt_\" + sent] = dataB[\"pred_binary_from_gpt_\" + sent].replace([0,1],[ \"literal\",  \"idiomatic\"])\n",
    "    "
   ]
  },
  {
   "cell_type": "code",
   "execution_count": 303,
   "metadata": {},
   "outputs": [
    {
     "name": "stdout",
     "output_type": "stream",
     "text": [
      "accuracy score (predict idiomaticity, compare sequence to gpt_meaning, embedding: sbert, method: max sum) 0.7\n",
      "accuracy score (predict idiomaticity, compare sequence to gpt_sentence, embedding: sbert, method: max sum) 0.6\n",
      "accuracy score (predict idiomaticity, compare sequence to gpt_image, embedding: sbert, method: max sum) 1.0\n"
     ]
    }
   ],
   "source": [
    "dataB_train = only_train(dataB)\n",
    "\n",
    "f = open('results_subtaskB.txt', 'a')\n",
    "for sent in sent_types:\n",
    "    print(\"accuracy score (predict idiomaticity, compare sequence to gpt_\" + sent + \", embedding: sbert, method: max sum)\", \n",
    "          str(accuracy_score(dataB_train[\"pred_binary_from_gpt_\" + sent], dataB_train[\"sentence_type\"])\n",
    "    ))\n",
    "    f.write(\"\\naccuracy score (predict idiomaticity, compare sequence to gpt_\" + sent + \", embedding: sbert, method: max sum) \\n\" + \n",
    "          str(accuracy_score(dataB_train[\"pred_binary_from_gpt_\" + sent], dataB_train[\"sentence_type\"])\n",
    "    ))\n",
    "f.close()"
   ]
  },
  {
   "cell_type": "code",
   "execution_count": 304,
   "metadata": {},
   "outputs": [
    {
     "name": "stdout",
     "output_type": "stream",
     "text": [
      "[including extended data]\n",
      "accuracy score (predict idiomaticity, compare sequence to gpt_meaning, embedding: sbert, method: max sum) 0.65\n",
      "accuracy score (predict idiomaticity, compare sequence to gpt_sentence, embedding: sbert, method: max sum) 0.75\n",
      "accuracy score (predict idiomaticity, compare sequence to gpt_image, embedding: sbert, method: max sum) 0.9\n"
     ]
    }
   ],
   "source": [
    "# evaluate also for cheated data\n",
    "dataB_filtered = dataB[dataB['sentence_type'].notnull()]\n",
    "print(\"[including extended data]\")\n",
    "f = open('results_subtaskB.txt', 'a')\n",
    "f.write(\"\\n[including extended data]\")\n",
    "for sent in sent_types:\n",
    "    print(\"accuracy score (predict idiomaticity, compare sequence to gpt_\" + sent + \", embedding: sbert, method: max sum)\", \n",
    "          str(accuracy_score(dataB_filtered[\"pred_binary_from_gpt_\" + sent], dataB_filtered[\"sentence_type\"])\n",
    "    ))\n",
    "    f.write(\"\\naccuracy score (predict idiomaticity, compare sequence to gpt_\" + sent + \", embedding: sbert, method: max sum) \\n\" + \n",
    "          str(accuracy_score(dataB_filtered[\"pred_binary_from_gpt_\" + sent], dataB_filtered[\"sentence_type\"])\n",
    "    ))\n",
    "f.close()"
   ]
  },
  {
   "cell_type": "code",
   "execution_count": 305,
   "metadata": {},
   "outputs": [],
   "source": [
    "for sent in sent_types:\n",
    "    dataB[\"pred_binary_from_gpt_all\"] = dataB.apply(\n",
    "        lambda x:  np.argmax([sum([sum(i[0]) for i in compare_sequence_to_gpt(x,\"sbert\").values()]), \n",
    "                              sum([sum(i[1]) for i in compare_sequence_to_gpt(x,\"sbert\").values()])]), axis=1)\n",
    "    dataB[\"pred_binary_from_gpt_all\"] = dataB[\"pred_binary_from_gpt_all\"].replace([0,1],[ \"literal\",  \"idiomatic\"])\n",
    "    "
   ]
  },
  {
   "cell_type": "code",
   "execution_count": 306,
   "metadata": {},
   "outputs": [
    {
     "name": "stdout",
     "output_type": "stream",
     "text": [
      "accuracy score (predict idiomaticity, compare sequence to all gpt data, embedding: sbert, method: max sum) 0.95\n",
      "[including extended data] 0.875\n"
     ]
    }
   ],
   "source": [
    "dataB_train = only_train(dataB)\n",
    "dataB_filtered = dataB[dataB['sentence_type'].notnull()]\n",
    "\n",
    "print(\"accuracy score (predict idiomaticity, compare sequence to all gpt data, embedding: sbert, method: max sum)\", \n",
    "      str(accuracy_score(dataB_train[\"pred_binary_from_gpt_all\"], dataB_train[\"sentence_type\"])))\n",
    "print(\"[including extended data]\", \n",
    "      str(accuracy_score(dataB_filtered[\"pred_binary_from_gpt_all\"], dataB_filtered[\"sentence_type\"])))\n",
    "\n",
    "f = open('results_subtaskB.txt', 'a')\n",
    "f.write(\"\\naccuracy score (predict idiomaticity, compare sequence to all gpt data, embedding: sbert, method: max sum) \\n\" + \n",
    "      str(accuracy_score(dataB_train[\"pred_binary_from_gpt_all\"], dataB_train[\"sentence_type\"])))\n",
    "f.write(\"\\n[including extended data] \\n\" +\n",
    "      str(accuracy_score(dataB_filtered[\"pred_binary_from_gpt_all\"], dataB_filtered[\"sentence_type\"])))\n",
    "f.write(\"\\n=====================================================================\\n\")\n",
    "f.close()\n",
    "\n"
   ]
  },
  {
   "cell_type": "code",
   "execution_count": 307,
   "metadata": {},
   "outputs": [],
   "source": [
    "# max statt sum\n",
    "for sent in sent_types:\n",
    "    dataB[\"pred_binary_from_gpt_all\"] = dataB.apply(\n",
    "        lambda x:  np.argmax([max([sum(i[0]) for i in compare_sequence_to_gpt(x,\"sbert\").values()]), \n",
    "                              max([sum(i[1]) for i in compare_sequence_to_gpt(x,\"sbert\").values()])]), axis=1)\n",
    "    dataB[\"pred_binary_from_gpt_all\"] = dataB[\"pred_binary_from_gpt_all\"].replace([0,1],[ \"literal\",  \"idiomatic\"])\n",
    "    "
   ]
  },
  {
   "cell_type": "code",
   "execution_count": 308,
   "metadata": {},
   "outputs": [
    {
     "data": {
      "text/plain": [
       "{'meaning': [[0.10308089, 0.101322025], [0.11582688, 0.1676422]],\n",
       " 'sentence': [[0.13983656, 0.09417425], [0.09799909, 0.11707244]],\n",
       " 'image': [[0.414702, 0.32476348], [0.41457435, 0.45902064]]}"
      ]
     },
     "execution_count": 308,
     "metadata": {},
     "output_type": "execute_result"
    }
   ],
   "source": [
    "x = dataB.iloc[0]\n",
    "compare_sequence_to_gpt(x,\"sbert\")"
   ]
  },
  {
   "cell_type": "code",
   "execution_count": 309,
   "metadata": {},
   "outputs": [
    {
     "name": "stdout",
     "output_type": "stream",
     "text": [
      "accuracy score (predict idiomaticity, compare sequence to all gpt data, embedding: sbert, method: max max) 1.0\n",
      "[including extended data] 0.9\n"
     ]
    }
   ],
   "source": [
    "dataB_train = only_train(dataB)\n",
    "dataB_filtered = dataB[dataB['sentence_type'].notnull()]\n",
    "\n",
    "print(\"accuracy score (predict idiomaticity, compare sequence to all gpt data, embedding: sbert, method: max max)\", \n",
    "      str(accuracy_score(dataB_train[\"pred_binary_from_gpt_all\"], dataB_train[\"sentence_type\"])))\n",
    "print(\"[including extended data]\", \n",
    "      str(accuracy_score(dataB_filtered[\"pred_binary_from_gpt_all\"], dataB_filtered[\"sentence_type\"])))\n",
    "\n",
    "f = open('results_subtaskB.txt', 'a')\n",
    "f.write(\"\\naccuracy score (predict idiomaticity, compare sequence to all gpt data, embedding: sbert, method: max max) \\n\" + \n",
    "      str(accuracy_score(dataB_train[\"pred_binary_from_gpt_all\"], dataB_train[\"sentence_type\"])))\n",
    "f.write(\"\\n[including extended data] \\n\" +\n",
    "      str(accuracy_score(dataB_filtered[\"pred_binary_from_gpt_all\"], dataB_filtered[\"sentence_type\"])))\n",
    "f.write(\"\\n=====================================================================\\n\")\n",
    "f.close()\n",
    "\n"
   ]
  },
  {
   "cell_type": "code",
   "execution_count": 310,
   "metadata": {},
   "outputs": [
    {
     "name": "stdout",
     "output_type": "stream",
     "text": [
      "              precision    recall  f1-score   support\n",
      "\n",
      "   idiomatic       1.00      1.00      1.00        13\n",
      "     literal       1.00      1.00      1.00         7\n",
      "\n",
      "    accuracy                           1.00        20\n",
      "   macro avg       1.00      1.00      1.00        20\n",
      "weighted avg       1.00      1.00      1.00        20\n",
      "\n",
      "              precision    recall  f1-score   support\n",
      "\n",
      "   idiomatic       0.85      0.94      0.89        18\n",
      "     literal       0.95      0.86      0.90        22\n",
      "\n",
      "    accuracy                           0.90        40\n",
      "   macro avg       0.90      0.90      0.90        40\n",
      "weighted avg       0.90      0.90      0.90        40\n",
      "\n"
     ]
    }
   ],
   "source": [
    "from sklearn.metrics import classification_report\n",
    "\n",
    "print(classification_report(dataB_train[\"pred_binary_from_gpt_all\"], dataB_train[\"sentence_type\"]))\n",
    "print(classification_report(dataB_filtered[\"pred_binary_from_gpt_all\"], dataB_filtered[\"sentence_type\"]))"
   ]
  },
  {
   "cell_type": "code",
   "execution_count": 323,
   "metadata": {},
   "outputs": [
    {
     "data": {
      "text/plain": [
       "{'meaning': [[0.10308089, 0.101322025], [0.11582688, 0.1676422]],\n",
       " 'sentence': [[0.13983656, 0.09417425], [0.09799909, 0.11707244]],\n",
       " 'image': [[0.414702, 0.32476348], [0.41457435, 0.45902064]]}"
      ]
     },
     "execution_count": 323,
     "metadata": {},
     "output_type": "execute_result"
    }
   ],
   "source": [
    "x = dataB.iloc[0]\n",
    "compare_sequence_to_gpt(x,\"sbert\")\n",
    "# [literal [seq caption 1, seq caption 2], idiomatic [seq caption 1, seq caption 2]]"
   ]
  },
  {
   "cell_type": "code",
   "execution_count": 333,
   "metadata": {},
   "outputs": [
    {
     "data": {
      "text/plain": [
       "[-0.07906617224216461, 0.018939286470413208, -0.13412952423095703]"
      ]
     },
     "execution_count": 333,
     "metadata": {},
     "output_type": "execute_result"
    }
   ],
   "source": [
    "# with difference (compute differences between literal and idiomatic similarity values and add the differences. If sum>0 => literal)\n",
    "dataB[\"pred_difference_from_gpt_all\"] = dataB.apply(\n",
    "        lambda x:  [sum(i[0]) - sum(i[1]) for i in compare_sequence_to_gpt(x,\"sbert\").values()], axis=1)\n",
    "dataB[\"pred_difference_from_gpt_all\"][0]"
   ]
  },
  {
   "cell_type": "code",
   "execution_count": 334,
   "metadata": {},
   "outputs": [],
   "source": [
    "for i in range(len(dataB)):\n",
    "    old = dataB[\"pred_difference_from_gpt_all\"][i]\n",
    "    new = sum(old)\n",
    "    if new > 0:\n",
    "        new = \"literal\"\n",
    "    else:\n",
    "        new = \"idiomatic\"\n",
    "    dataB[\"pred_difference_from_gpt_all\"][i] = new\n"
   ]
  },
  {
   "cell_type": "code",
   "execution_count": 337,
   "metadata": {},
   "outputs": [
    {
     "name": "stdout",
     "output_type": "stream",
     "text": [
      "              precision    recall  f1-score   support\n",
      "\n",
      "   idiomatic       0.92      1.00      0.96        12\n",
      "     literal       1.00      0.88      0.93         8\n",
      "\n",
      "    accuracy                           0.95        20\n",
      "   macro avg       0.96      0.94      0.95        20\n",
      "weighted avg       0.95      0.95      0.95        20\n",
      "\n",
      "              precision    recall  f1-score   support\n",
      "\n",
      "   idiomatic       0.80      0.94      0.86        17\n",
      "     literal       0.95      0.83      0.88        23\n",
      "\n",
      "    accuracy                           0.88        40\n",
      "   macro avg       0.88      0.88      0.87        40\n",
      "weighted avg       0.89      0.88      0.88        40\n",
      "\n"
     ]
    }
   ],
   "source": [
    "dataB_train = only_train(dataB)\n",
    "print(classification_report(dataB_train[\"pred_difference_from_gpt_all\"], dataB_train[\"sentence_type\"]))\n",
    "dataB_filtered = dataB[dataB['sentence_type'].notnull()]\n",
    "print(classification_report(dataB_filtered[\"pred_difference_from_gpt_all\"], dataB_filtered[\"sentence_type\"]))\n"
   ]
  },
  {
   "cell_type": "markdown",
   "metadata": {},
   "source": [
    "### output file"
   ]
  },
  {
   "cell_type": "code",
   "execution_count": 320,
   "metadata": {},
   "outputs": [],
   "source": [
    "from zipfile import ZipFile\n",
    "def make_submission(data, binary_column, image_column, subset):\n",
    "    subset_data = only_subset(data,subset)\n",
    "    submission_df = pd.DataFrame()\n",
    "    submission_df[\"compound\"] = subset_data[\"compound\"]\n",
    "    submission_df[\"subset\"] = subset_data[\"subset\"]\n",
    "    submission_df[\"sentence_type\"] = subset_data[binary_column]\n",
    "    submission_df[\"expected_item\"] = subset_data[image_column]\n",
    "    submission_df.to_csv(\"submission_EN.tsv\", sep=\"\\t\", index=False)\n",
    "    ZipFile('submission_EN.zip', 'w').write('submission_EN.tsv')\n",
    "    print(\"File zipped and saved as submission_EN.zip\")\n",
    "    return submission_df\n"
   ]
  },
  {
   "cell_type": "code",
   "execution_count": 338,
   "metadata": {},
   "outputs": [
    {
     "name": "stdout",
     "output_type": "stream",
     "text": [
      "File zipped and saved as submission_EN.zip\n"
     ]
    }
   ],
   "source": [
    "#test = make_submission(dataB, \"pred_binary_from_gpt_all\",\"pred_image_sbert\", \"Dev\")\n",
    "test = make_submission(dataB, \"pred_difference_from_gpt_all\",\"pred_image_sbert\", \"Test\")"
   ]
  },
  {
   "cell_type": "code",
   "execution_count": 322,
   "metadata": {},
   "outputs": [
    {
     "data": {
      "text/plain": [
       "Extended Evaluation    30\n",
       "Sample                 10\n",
       "Train                  10\n",
       "Dev                     5\n",
       "Test                    5\n",
       "Name: subset, dtype: int64"
      ]
     },
     "execution_count": 322,
     "metadata": {},
     "output_type": "execute_result"
    }
   ],
   "source": [
    "dataB[\"subset\"].value_counts()"
   ]
  },
  {
   "cell_type": "markdown",
   "metadata": {},
   "source": [
    "Output rsults_subtaskB einmal mit und einmal ohne Preprocessing:\n",
    "\n",
    "\n",
    "~~~ \n",
    "=====================================================================\n",
    "_preprocessed_\n",
    "accuracy score (comparison sequence captions and image caption, embedding: sbert, method: max sum) \n",
    "0.65\n",
    "accuracy score (comparison sequence captions and image caption, embedding: BERT_meanLast4, method: max sum) \n",
    "0.45\n",
    "accuracy score (comparison sequence captions and image caption, embedding: BERT_lastCLS, method: max sum) \n",
    "0.25\n",
    "accuracy score (comparison sequence captions and image caption, embedding: sbert, method: max sum) \n",
    "0.6\n",
    "accuracy score (predict idiomaticity, compare sequence to gpt_meaning, embedding: sbert, method: max sum) \n",
    "0.75\n",
    "accuracy score (predict idiomaticity, compare sequence to gpt_sentence, embedding: sbert, method: max sum) \n",
    "0.75\n",
    "accuracy score (predict idiomaticity, compare sequence to gpt_image, embedding: sbert, method: max sum) \n",
    "0.8\n",
    "[including extended data]\n",
    "accuracy score (predict idiomaticity, compare sequence to gpt_meaning, embedding: sbert, method: max sum) \n",
    "0.675\n",
    "accuracy score (predict idiomaticity, compare sequence to gpt_sentence, embedding: sbert, method: max sum) \n",
    "0.8\n",
    "accuracy score (predict idiomaticity, compare sequence to gpt_image, embedding: sbert, method: max sum) \n",
    "0.8\n",
    "accuracy score (predict idiomaticity, compare sequence to all gpt data, embedding: sbert, method: max sum) \n",
    "0.95\n",
    "[including extended data] \n",
    "0.925\n",
    "=====================================================================\n",
    "\n",
    "=====================================================================\n",
    "_\n",
    "accuracy score (comparison sequence captions and image caption, embedding: sbert, method: max sum) \n",
    "0.6\n",
    "accuracy score (comparison sequence captions and image caption, embedding: BERT_meanLast4, method: max sum) \n",
    "0.55\n",
    "accuracy score (comparison sequence captions and image caption, embedding: BERT_lastCLS, method: max sum) \n",
    "0.5\n",
    "accuracy score (comparison sequence captions and image caption, embedding: sbert, method: max sum) \n",
    "0.65\n",
    "accuracy score (predict idiomaticity, compare sequence to gpt_meaning, embedding: sbert, method: max sum) \n",
    "0.7\n",
    "accuracy score (predict idiomaticity, compare sequence to gpt_sentence, embedding: sbert, method: max sum) \n",
    "0.6\n",
    "accuracy score (predict idiomaticity, compare sequence to gpt_image, embedding: sbert, method: max sum) \n",
    "1.0\n",
    "[including extended data]\n",
    "accuracy score (predict idiomaticity, compare sequence to gpt_meaning, embedding: sbert, method: max sum) \n",
    "0.65\n",
    "accuracy score (predict idiomaticity, compare sequence to gpt_sentence, embedding: sbert, method: max sum) \n",
    "0.75\n",
    "accuracy score (predict idiomaticity, compare sequence to gpt_image, embedding: sbert, method: max sum) \n",
    "0.9\n",
    "accuracy score (predict idiomaticity, compare sequence to all gpt data, embedding: sbert, method: max sum) \n",
    "0.95\n",
    "[including extended data] \n",
    "0.875\n",
    "=====================================================================\n",
    "~~~\n"
   ]
  }
 ],
 "metadata": {
  "kernelspec": {
   "display_name": "Python 3",
   "language": "python",
   "name": "python3"
  },
  "language_info": {
   "codemirror_mode": {
    "name": "ipython",
    "version": 3
   },
   "file_extension": ".py",
   "mimetype": "text/x-python",
   "name": "python",
   "nbconvert_exporter": "python",
   "pygments_lexer": "ipython3",
   "version": "3.11.4"
  }
 },
 "nbformat": 4,
 "nbformat_minor": 2
}
