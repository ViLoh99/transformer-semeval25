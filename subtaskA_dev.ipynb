{
 "cells": [
  {
   "cell_type": "markdown",
   "metadata": {},
   "source": [
    "approach as in subtaskA_1, adapted for dev data\n",
    "& added Ann's code to save results in the correct format for submission"
   ]
  },
  {
   "cell_type": "code",
   "execution_count": 1,
   "metadata": {},
   "outputs": [
    {
     "name": "stderr",
     "output_type": "stream",
     "text": [
      "c:\\Users\\LaraE\\AppData\\Local\\Programs\\Python\\Python312\\Lib\\site-packages\\sentence_transformers\\cross_encoder\\CrossEncoder.py:13: TqdmExperimentalWarning: Using `tqdm.autonotebook.tqdm` in notebook mode. Use `tqdm.tqdm` instead to force console mode (e.g. in jupyter console)\n",
      "  from tqdm.autonotebook import tqdm, trange\n",
      "c:\\Users\\LaraE\\AppData\\Local\\Programs\\Python\\Python312\\Lib\\site-packages\\huggingface_hub\\file_download.py:1132: FutureWarning: `resume_download` is deprecated and will be removed in version 1.0.0. Downloads always resume when possible. If you want to force a new download, use `force_download=True`.\n",
      "  warnings.warn(\n"
     ]
    }
   ],
   "source": [
    "import csv\n",
    "import sys\n",
    "import pandas as pd\n",
    "import ast\n",
    "import numpy as np\n",
    "import pickle\n",
    "\n",
    "from sentence_transformers import SentenceTransformer\n",
    "model = SentenceTransformer('sentence-transformers/all-MiniLM-L6-v2')\n",
    "\n",
    "from evaluation_a import evaluation_single"
   ]
  },
  {
   "cell_type": "code",
   "execution_count": 2,
   "metadata": {},
   "outputs": [],
   "source": [
    "# Code von Wiebke\n",
    "\n",
    "fileName = \"subtask_a_dev.tsv\"\n",
    "fileDirectory = \"AdMIRe Subtask A Dev/dev\"\n",
    "\n",
    "data = pd.read_csv(fileDirectory + \"/\" + fileName, sep='\\t')"
   ]
  },
  {
   "cell_type": "code",
   "execution_count": 3,
   "metadata": {},
   "outputs": [],
   "source": [
    "# preprocessing function von Victoria\n",
    "\n",
    "import re\n",
    "import nltk\n",
    "from nltk.corpus import stopwords\n",
    "from nltk.tokenize import word_tokenize\n",
    "from nltk.stem import WordNetLemmatizer\n",
    "\n",
    "\n",
    "def prepare_text(raw_text):\n",
    "    \n",
    "    # Convert text to lowercase and remove punctuation\n",
    "    normalized_text = raw_text.lower()\n",
    "    normalized_text = re.sub(r\"[^a-zA-Z\\s]\", \"\", normalized_text)\n",
    "\n",
    "    # Tokenize the normalized text\n",
    "    tokens = word_tokenize(normalized_text)\n",
    "\n",
    "    # Apply POS tagging and retain only nouns, verbs\n",
    "    pos_tags = nltk.pos_tag(tokens, tagset='universal')\n",
    "    pos_tags_to_keep = {\"NOUN\", \"VERB\"}\n",
    "    filtered_tokens = [word for word, pos in pos_tags if pos in pos_tags_to_keep]\n",
    "\n",
    "    # Remove stopwords\n",
    "    stop_words = set(stopwords.words('english'))\n",
    "    filtered_text = [word for word in filtered_tokens if word.lower() not in stop_words]\n",
    "\n",
    "    # Lemmatize the remaining tokens\n",
    "    lemmatizer = WordNetLemmatizer()\n",
    "    lemmatized_text = [lemmatizer.lemmatize(word) for word in filtered_text]\n",
    "    \n",
    "    return \" \".join(lemmatized_text)"
   ]
  },
  {
   "cell_type": "code",
   "execution_count": 4,
   "metadata": {},
   "outputs": [],
   "source": [
    "def sim_scores(current, sentences):\n",
    "    # input = current line(example) & embeddings for sentence + captions\n",
    "    \n",
    "    scores = {}\n",
    "    # keys = image names\n",
    "    # values = scores\n",
    "\n",
    "    embeddings = model.encode(sentences)\n",
    "    similarities = model.similarity(embeddings[0], embeddings)\n",
    "    # compares the embedding for the sentence including the compound \n",
    "    # with each of the embeddings, including itself and all the captions\n",
    "\n",
    "    # [0][x] required because similarities tensor has additional layer\n",
    "    score1 = similarities[0][1].item()\n",
    "    scores[current[\"image1_name\"]] = score1\n",
    "\n",
    "    score2 = similarities[0][2].item()\n",
    "    scores[current[\"image2_name\"]] = score2\n",
    "\n",
    "    score3 = similarities[0][3].item()\n",
    "    scores[current[\"image3_name\"]] = score3\n",
    "\n",
    "    score4 = similarities[0][4].item()\n",
    "    scores[current[\"image4_name\"]] = score4\n",
    "\n",
    "    score5 = similarities[0][5].item()\n",
    "    scores[current[\"image5_name\"]] = score5\n",
    "    \n",
    "    return scores"
   ]
  },
  {
   "cell_type": "code",
   "execution_count": 5,
   "metadata": {},
   "outputs": [],
   "source": [
    "def rank_images(scores):\n",
    "    ranking = []\n",
    "    # scores = dictionary containing the cos similarity scores\n",
    "    # comparing the sentence with the captions of the five images\n",
    "    # keys = image names\n",
    "    # values = scores\n",
    "\n",
    "    for i in range(5):\n",
    "        # find key which corresponds to the highest value\n",
    "        m = max(scores, key=scores.get)\n",
    "        # add the key (image name) to the ranking\n",
    "        ranking.append(m)\n",
    "        # delete the entry in the dictionary\n",
    "        del scores[m]\n",
    "\n",
    "    return ranking"
   ]
  },
  {
   "cell_type": "code",
   "execution_count": 6,
   "metadata": {},
   "outputs": [
    {
     "name": "stdout",
     "output_type": "stream",
     "text": [
      "File saved as submission_EN.tsv\n"
     ]
    }
   ],
   "source": [
    "# compare embeddings for context sentence (including compound) with image captions, no preprocessing\n",
    "\n",
    "submission = []\n",
    "\n",
    "for i in range(len(data)):\n",
    "\n",
    "    current = data.iloc[i]\n",
    "    sentences = [current[\"sentence\"], \n",
    "                 current[\"image1_caption\"],\n",
    "                 current[\"image2_caption\"],\n",
    "                 current[\"image3_caption\"],\n",
    "                 current[\"image4_caption\"],\n",
    "                 current[\"image5_caption\"]]\n",
    "\n",
    "    scores = sim_scores(current, sentences)\n",
    "    ranking = rank_images(scores)\n",
    "\n",
    "    submission.append({\n",
    "        \"compound\": current[\"compound\"],\n",
    "        \"expected_order\":ranking \n",
    "    })\n",
    "\n",
    "# Save the submission data to a .tsv file\n",
    "submission_df = pd.DataFrame(submission)\n",
    "submission_df.to_csv(\"submission_EN.tsv\", sep=\"\\t\", index=False)\n",
    "print(\"File saved as submission_EN.tsv\")"
   ]
  },
  {
   "cell_type": "code",
   "execution_count": 7,
   "metadata": {},
   "outputs": [
    {
     "name": "stdout",
     "output_type": "stream",
     "text": [
      "File saved as submission_EN.tsv\n"
     ]
    }
   ],
   "source": [
    "# compare embeddings for context sentence (including compound) with image captions, with preprocessing\n",
    "\n",
    "submission = []\n",
    "\n",
    "for i in range(len(data)):\n",
    "\n",
    "    current = data.iloc[i]\n",
    "    sentences = [prepare_text(current[\"sentence\"]), \n",
    "                 prepare_text(current[\"image1_caption\"]),\n",
    "                 prepare_text(current[\"image2_caption\"]),\n",
    "                 prepare_text(current[\"image3_caption\"]),\n",
    "                 prepare_text(current[\"image4_caption\"]),\n",
    "                 prepare_text(current[\"image5_caption\"])]\n",
    "\n",
    "    scores = sim_scores(current, sentences)\n",
    "    ranking = rank_images(scores)\n",
    "\n",
    "    submission.append({\n",
    "        \"compound\": current[\"compound\"],\n",
    "        \"expected_order\":ranking \n",
    "    })\n",
    "\n",
    "# Save the submission data to a .tsv file\n",
    "submission_df = pd.DataFrame(submission)\n",
    "submission_df.to_csv(\"submission_EN.tsv\", sep=\"\\t\", index=False)\n",
    "print(\"File saved as submission_EN.tsv\")"
   ]
  },
  {
   "cell_type": "code",
   "execution_count": 8,
   "metadata": {},
   "outputs": [
    {
     "name": "stdout",
     "output_type": "stream",
     "text": [
      "File saved as submission_EN.tsv\n"
     ]
    }
   ],
   "source": [
    "# comparing embeddings for captions with that of compound (not whole sentence), no preprocessing\n",
    "\n",
    "submission = []\n",
    "\n",
    "for i in range(len(data)):\n",
    "\n",
    "    current = data.iloc[i]\n",
    "    sentences = [current[\"compound\"], \n",
    "                 current[\"image1_caption\"],\n",
    "                 current[\"image2_caption\"],\n",
    "                 current[\"image3_caption\"],\n",
    "                 current[\"image4_caption\"],\n",
    "                 current[\"image5_caption\"]]\n",
    "\n",
    "    scores = sim_scores(current, sentences)\n",
    "    ranking = rank_images(scores)\n",
    "\n",
    "    submission.append({\n",
    "        \"compound\": current[\"compound\"],\n",
    "        \"expected_order\":ranking \n",
    "    })\n",
    "\n",
    "submission_df = pd.DataFrame(submission)\n",
    "submission_df.to_csv(\"submission_EN.tsv\", sep=\"\\t\", index=False)\n",
    "print(\"File saved as submission_EN.tsv\")"
   ]
  },
  {
   "cell_type": "code",
   "execution_count": 9,
   "metadata": {},
   "outputs": [
    {
     "name": "stdout",
     "output_type": "stream",
     "text": [
      "File saved as submission_EN.tsv\n"
     ]
    }
   ],
   "source": [
    "# comparing embeddings for captions with that of compound (not whole sentence), with preprocessing\n",
    "\n",
    "submission = []\n",
    "\n",
    "for i in range(len(data)):\n",
    "\n",
    "    current = data.iloc[i]\n",
    "    sentences = [prepare_text(current[\"compound\"]), \n",
    "                 prepare_text(current[\"image1_caption\"]),\n",
    "                 prepare_text(current[\"image2_caption\"]),\n",
    "                 prepare_text(current[\"image3_caption\"]),\n",
    "                 prepare_text(current[\"image4_caption\"]),\n",
    "                 prepare_text(current[\"image5_caption\"])]\n",
    "\n",
    "    scores = sim_scores(current, sentences)\n",
    "    ranking = rank_images(scores)\n",
    "\n",
    "    submission.append({\n",
    "        \"compound\": current[\"compound\"],\n",
    "        \"expected_order\":ranking \n",
    "    })\n",
    "\n",
    "submission_df = pd.DataFrame(submission)\n",
    "submission_df.to_csv(\"submission_EN.tsv\", sep=\"\\t\", index=False)\n",
    "print(\"File saved as submission_EN.tsv\")"
   ]
  },
  {
   "cell_type": "code",
   "execution_count": 10,
   "metadata": {},
   "outputs": [],
   "source": [
    "# combining \"sentence\" and \"compound\" embeddings (average)\n",
    "\n",
    "def sim_scores_combined(current, sentences):\n",
    "    # input = current line(example) & embeddings for sentence + captions\n",
    "    \n",
    "    scores = {}\n",
    "    # keys = image names\n",
    "    # values = scores\n",
    "\n",
    "    embeddings = model.encode(sentences)\n",
    "\n",
    "    # combining compound & sentence embeddings\n",
    "    sent_comp = (embeddings[0] + embeddings[1]) / 2\n",
    "\n",
    "    similarities = model.similarity(sent_comp, embeddings[2:])\n",
    "    # compares the embedding for the sentence and compound combined\n",
    "    # with each of the embeddings, including itself and all the captions\n",
    "\n",
    "    # [0][x] required because similarities tensor has additional layer\n",
    "    score1 = similarities[0][0].item()\n",
    "    scores[current[\"image1_name\"]] = score1\n",
    "\n",
    "    score2 = similarities[0][1].item()\n",
    "    scores[current[\"image2_name\"]] = score2\n",
    "\n",
    "    score3 = similarities[0][2].item()\n",
    "    scores[current[\"image3_name\"]] = score3\n",
    "\n",
    "    score4 = similarities[0][3].item()\n",
    "    scores[current[\"image4_name\"]] = score4\n",
    "\n",
    "    score5 = similarities[0][4].item()\n",
    "    scores[current[\"image5_name\"]] = score5\n",
    "    \n",
    "    return scores"
   ]
  },
  {
   "cell_type": "code",
   "execution_count": null,
   "metadata": {},
   "outputs": [
    {
     "name": "stdout",
     "output_type": "stream",
     "text": [
      "File saved as submission_EN.tsv\n"
     ]
    }
   ],
   "source": [
    "# comparing embeddings for captions with that of compound and sentence, no preprocessing\n",
    "\n",
    "submission = []\n",
    "\n",
    "for i in range(len(data)):\n",
    "\n",
    "    current = data.iloc[i]\n",
    "    sentences = [current[\"compound\"], \n",
    "                 current[\"sentence\"], \n",
    "                 current[\"image1_caption\"],\n",
    "                 current[\"image2_caption\"],\n",
    "                 current[\"image3_caption\"],\n",
    "                 current[\"image4_caption\"],\n",
    "                 current[\"image5_caption\"]]\n",
    "\n",
    "    scores = sim_scores_combined(current, sentences)\n",
    "    ranking = rank_images(scores)\n",
    "\n",
    "    submission.append({\n",
    "        \"compound\": current[\"compound\"],\n",
    "        \"expected_order\":ranking \n",
    "    })\n",
    "\n",
    "submission_df = pd.DataFrame(submission)\n",
    "submission_df.to_csv(\"submission_EN.tsv\", sep=\"\\t\", index=False)\n",
    "print(\"File saved as submission_EN.tsv\")"
   ]
  },
  {
   "cell_type": "code",
   "execution_count": 12,
   "metadata": {},
   "outputs": [
    {
     "name": "stdout",
     "output_type": "stream",
     "text": [
      "File saved as submission_EN.tsv\n"
     ]
    }
   ],
   "source": [
    "# comparing embeddings for captions with that of compound and sentence, with preprocessing\n",
    "\n",
    "submission = []\n",
    "\n",
    "for i in range(len(data)):\n",
    "\n",
    "    current = data.iloc[i]\n",
    "    sentences = [prepare_text(current[\"compound\"]), \n",
    "                 prepare_text(current[\"sentence\"]),\n",
    "                 prepare_text(current[\"image1_caption\"]),\n",
    "                 prepare_text(current[\"image2_caption\"]),\n",
    "                 prepare_text(current[\"image3_caption\"]),\n",
    "                 prepare_text(current[\"image4_caption\"]),\n",
    "                 prepare_text(current[\"image5_caption\"])]\n",
    "\n",
    "    scores = sim_scores_combined(current, sentences)\n",
    "    ranking = rank_images(scores)\n",
    "\n",
    "    submission.append({\n",
    "        \"compound\": current[\"compound\"],\n",
    "        \"expected_order\":ranking \n",
    "    })\n",
    "\n",
    "submission_df = pd.DataFrame(submission)\n",
    "submission_df.to_csv(\"submission_EN.tsv\", sep=\"\\t\", index=False)\n",
    "print(\"File saved as submission_EN.tsv\")"
   ]
  }
 ],
 "metadata": {
  "kernelspec": {
   "display_name": "Python 3",
   "language": "python",
   "name": "python3"
  },
  "language_info": {
   "codemirror_mode": {
    "name": "ipython",
    "version": 3
   },
   "file_extension": ".py",
   "mimetype": "text/x-python",
   "name": "python",
   "nbconvert_exporter": "python",
   "pygments_lexer": "ipython3",
   "version": "3.12.0"
  }
 },
 "nbformat": 4,
 "nbformat_minor": 2
}
