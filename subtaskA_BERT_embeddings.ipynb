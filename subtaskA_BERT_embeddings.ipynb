{
 "cells": [
  {
   "cell_type": "markdown",
   "metadata": {},
   "source": [
    "## Load data"
   ]
  },
  {
   "cell_type": "code",
   "execution_count": 1,
   "metadata": {},
   "outputs": [],
   "source": [
    "# read tsv file\n",
    "import csv\n",
    "import sys\n",
    "import ast\n",
    "\n",
    "# file name: subtask_a_sample.tsv\n",
    "\n",
    "import pandas as pd\n",
    "\n",
    "dataDirectory = \"./data/\"\n",
    "dataA_train = pd.read_csv(dataDirectory + \"subtask_a_train.tsv\", sep='\\t')\n",
    "dataA_train['expected_order'] = dataA_train['expected_order'].apply(ast.literal_eval)\n",
    "dataA_dev = pd.read_csv(dataDirectory + \"subtask_a_dev.tsv\", sep='\\t')\n",
    "dataA_test = pd.read_csv(dataDirectory +\"subtask_a_test.tsv\", sep='\\t')\n",
    "\n",
    "dataA = pd.concat([dataA_train,dataA_dev,dataA_test])\n",
    "# reset index\n",
    "dataA = dataA.reset_index(drop=True)\n",
    "\n",
    "\n"
   ]
  },
  {
   "cell_type": "code",
   "execution_count": 2,
   "metadata": {},
   "outputs": [],
   "source": [
    "def only_train(dataA): # returns the dataframe sample and train (data items that have literal/idiomatic information given)\n",
    "    return pd.concat([dataA[dataA[\"subset\"] == \"Sample\"],dataA[dataA[\"subset\"]== \"Train\"]])"
   ]
  },
  {
   "cell_type": "code",
   "execution_count": 39,
   "metadata": {},
   "outputs": [
    {
     "data": {
      "text/plain": [
       "[('the', 'DET'),\n",
       " ('pig', 'NOUN'),\n",
       " ('ear', 'NOUN'),\n",
       " ('has', 'VERB'),\n",
       " ('a', 'DET'),\n",
       " ('white', 'ADJ'),\n",
       " ('hat', 'NOUN'),\n",
       " ('and', 'CONJ'),\n",
       " ('runs', 'VERB'),\n",
       " ('fast', 'ADV')]"
      ]
     },
     "execution_count": 39,
     "metadata": {},
     "output_type": "execute_result"
    }
   ],
   "source": [
    "tokens = word_tokenize(\"the pig ear has a white hat and runs fast\")\n",
    "pos_tags = nltk.pos_tag(tokens, tagset='universal')\n",
    "pos_tags"
   ]
  },
  {
   "cell_type": "code",
   "execution_count": 3,
   "metadata": {},
   "outputs": [],
   "source": [
    "# preprocessing of text of Victoria\n",
    "import re\n",
    "import nltk\n",
    "from nltk.corpus import stopwords\n",
    "from nltk.tokenize import word_tokenize\n",
    "from nltk.stem import WordNetLemmatizer\n",
    "\n",
    "\n",
    "def prepare_text(raw_text):\n",
    "    \n",
    "    # Convert text to lowercase and remove punctuation\n",
    "    normalized_text = raw_text.lower()\n",
    "    normalized_text = re.sub(r\"[^a-zA-Z\\s]\", \"\", normalized_text)\n",
    "\n",
    "    # Tokenize the normalized text\n",
    "    tokens = word_tokenize(normalized_text)\n",
    "\n",
    "    # Apply POS tagging and retain only nouns, verbs\n",
    "    pos_tags = nltk.pos_tag(tokens, tagset='universal')\n",
    "    pos_tags_to_keep = {\"NOUN\", \"VERB\"}\n",
    "    filtered_tokens = [word for word, pos in pos_tags if pos in pos_tags_to_keep]\n",
    "\n",
    "    # Remove stopwords\n",
    "    stop_words = set(stopwords.words('english'))\n",
    "    filtered_text = [word for word in filtered_tokens if word.lower() not in stop_words]\n",
    "\n",
    "    # Lemmatize the remaining tokens\n",
    "    lemmatizer = WordNetLemmatizer()\n",
    "    lemmatized_text = [lemmatizer.lemmatize(word) for word in filtered_text]\n",
    "    \n",
    "    return \" \".join(lemmatized_text)\n"
   ]
  },
  {
   "cell_type": "code",
   "execution_count": 4,
   "metadata": {},
   "outputs": [],
   "source": [
    "#preprocessed = False\n",
    "preprocessed = True\n",
    "\n",
    "if preprocessed == True:\n",
    "    dataA[\"sentence\"] = dataA[\"sentence\"].apply(prepare_text) \n",
    "    dataA[\"compound\"] = dataA[\"compound\"].apply(prepare_text)\n",
    " "
   ]
  },
  {
   "cell_type": "markdown",
   "metadata": {},
   "source": [
    "## BERT model \n",
    "\n",
    "### without fine-tuning, classification of idiomatic/literal"
   ]
  },
  {
   "cell_type": "markdown",
   "metadata": {},
   "source": [
    "Idea: we use a pretrained BERT model to generate embeddings of sentences and of the compound in the context of the sentence."
   ]
  },
  {
   "cell_type": "code",
   "execution_count": 7,
   "metadata": {},
   "outputs": [
    {
     "data": {
      "text/plain": [
       "512"
      ]
     },
     "execution_count": 7,
     "metadata": {},
     "output_type": "execute_result"
    }
   ],
   "source": [
    "from transformers import AutoTokenizer\n",
    "\n",
    "# model is selected from https://huggingface.co/models\n",
    "checkpoint = 'bert-base-uncased' #\"distilbert-base-uncased\"\n",
    "tokenizer = AutoTokenizer.from_pretrained(checkpoint)\n",
    "\n",
    "tokenizer.model_max_length"
   ]
  },
  {
   "cell_type": "code",
   "execution_count": 8,
   "metadata": {},
   "outputs": [],
   "source": [
    "def tokenize(batch):\n",
    "    return tokenizer(batch, padding=True, truncation=True)"
   ]
  },
  {
   "cell_type": "code",
   "execution_count": 10,
   "metadata": {},
   "outputs": [
    {
     "name": "stdout",
     "output_type": "stream",
     "text": [
      "[101, 2165, 2843, 8999, 21956, 2131, 2214, 3194, 2770, 102, 0, 0, 0, 0]\n",
      "[1, 1, 1, 1, 1, 1, 1, 1, 1, 1, 0, 0, 0, 0]\n",
      "took lot elbow grease get old engine running\n",
      "\n",
      "[101, 5377, 2645, 2851, 2711, 2305, 13547, 2424, 2183, 3637, 3013, 2190, 3178, 102]\n",
      "[1, 1, 1, 1, 1, 1, 1, 1, 1, 1, 1, 1, 1, 1]\n",
      "constant battle morning person night owl find going sleep cut best hour\n",
      "\n",
      "[101, 6534, 2100, 3478, 2797, 3239, 2540, 2751, 2919, 13606, 27983, 102, 0, 0]\n",
      "[1, 1, 1, 1, 1, 1, 1, 1, 1, 1, 1, 1, 0, 0]\n",
      "seedy failed private eye heart gold bad hairstyle\n",
      "\n"
     ]
    }
   ],
   "source": [
    "demonstrate = tokenize(dataA[\"sentence\"][:3].tolist())\n",
    "for i in range(3):\n",
    "    print(demonstrate[\"input_ids\"][i])  \n",
    "    print(demonstrate[\"attention_mask\"][i])\n",
    "    print(dataA[\"sentence\"][i])\n",
    "    print()\n"
   ]
  },
  {
   "cell_type": "markdown",
   "metadata": {},
   "source": [
    "\"sentence\"-column is tokenized and passed to the model."
   ]
  },
  {
   "cell_type": "code",
   "execution_count": 11,
   "metadata": {},
   "outputs": [
    {
     "name": "stdout",
     "output_type": "stream",
     "text": [
      "6 25\n"
     ]
    },
    {
     "data": {
      "text/plain": [
       "[[101, 8999, 21956, 102, 0, 0],\n",
       " [101, 2305, 13547, 102, 0, 0],\n",
       " [101, 2540, 2751, 102, 0, 0]]"
      ]
     },
     "execution_count": 11,
     "metadata": {},
     "output_type": "execute_result"
    }
   ],
   "source": [
    "# tokenize all sentences\n",
    "dataA_sentence_tokenized = tokenize(dataA[\"sentence\"].tolist())\n",
    "dataA_compound_tokenized = tokenize(dataA[\"compound\"].tolist())\n",
    "\n",
    "print(len(dataA_compound_tokenized[\"input_ids\"][0]), len(dataA_sentence_tokenized[\"input_ids\"][0]))\n",
    "dataA_compound_tokenized[\"input_ids\"][:3]"
   ]
  },
  {
   "cell_type": "code",
   "execution_count": 12,
   "metadata": {},
   "outputs": [],
   "source": [
    "import torch\n",
    "from transformers import AutoModel\n",
    "\n",
    "device = torch.device(\"cuda\" if torch.cuda.is_available() else \"cpu\")\n",
    "model = AutoModel.from_pretrained(checkpoint, output_hidden_states=True).to(device)\n",
    "model = model.eval()\n"
   ]
  },
  {
   "cell_type": "code",
   "execution_count": 13,
   "metadata": {},
   "outputs": [],
   "source": [
    "# convert input_ids to tensor\n",
    "input_ids_sentence = torch.tensor(dataA_sentence_tokenized[\"input_ids\"]).to(device)\n",
    "attention_mask_sentence = torch.tensor(dataA_sentence_tokenized[\"attention_mask\"]).to(device)\n",
    "\n",
    "# pass input_ids to model\n",
    "with torch.no_grad():\n",
    "    output = model(input_ids_sentence, attention_mask_sentence)\n",
    "\n"
   ]
  },
  {
   "cell_type": "code",
   "execution_count": 14,
   "metadata": {},
   "outputs": [
    {
     "data": {
      "text/plain": [
       "torch.Size([100, 25, 768])"
      ]
     },
     "execution_count": 14,
     "metadata": {},
     "output_type": "execute_result"
    }
   ],
   "source": [
    "# number of items, number of \n",
    "output.last_hidden_state.shape\n",
    "# number of items, length of input_ids ,number of hidden units"
   ]
  },
  {
   "cell_type": "code",
   "execution_count": 15,
   "metadata": {},
   "outputs": [],
   "source": [
    "hidden_states_sentence = output.hidden_states"
   ]
  },
  {
   "cell_type": "code",
   "execution_count": 16,
   "metadata": {},
   "outputs": [
    {
     "name": "stdout",
     "output_type": "stream",
     "text": [
      "Number of layers: 13   (including initial embeddings)\n",
      "Number of batches: 100\n",
      "Number of tokens: 25\n",
      "Number of hidden units: 768\n"
     ]
    }
   ],
   "source": [
    "print (\"Number of layers:\", len(hidden_states_sentence), \"  (including initial embeddings)\")\n",
    "layer_i = 0\n",
    "\n",
    "print (\"Number of batches:\", len(hidden_states_sentence[layer_i]))\n",
    "batch_i = 0\n",
    "\n",
    "print (\"Number of tokens:\", len(hidden_states_sentence[layer_i][batch_i]))\n",
    "token_i = 0\n",
    "\n",
    "print (\"Number of hidden units:\", len(hidden_states_sentence[layer_i][batch_i][token_i]))\n"
   ]
  },
  {
   "cell_type": "code",
   "execution_count": 17,
   "metadata": {},
   "outputs": [],
   "source": [
    "import numpy as np\n",
    "\n",
    "# different pooling methods for embeddings are computed\n",
    "# NOTE: padding tokens should be excluded (not done yet)\n",
    "\n",
    "def get_sentence_embedding(hidden_states,method):\n",
    "    sentence_embedding = []\n",
    "    if method == 'meanLast4': # average of all tokens of the last 4 layers\n",
    "        for i in range(len(hidden_states[0])):\n",
    "            # token_vecs is mean of last 4 layers\n",
    "            token_tensor = torch.stack([hidden_states[-1][i], hidden_states[-2][i], hidden_states[-3][i], hidden_states[-4][i]], dim=0)\n",
    "            token_vecs = torch.mean(token_tensor, dim=0)\n",
    "            sentence_embedding.append(torch.mean(token_vecs, dim=0))\n",
    "    elif method == 'meanSecondToLast': # average of second to last layer\n",
    "        for i in range(len(hidden_states[-2])):\n",
    "            token_vecs = hidden_states[-2][i]\n",
    "            sentence_embedding.append(torch.mean(token_vecs, dim=0))\n",
    "    elif method == 'meanLast': # average of last layer\n",
    "        for i in range(len(hidden_states[-1])):\n",
    "            token_vecs = hidden_states[-1][i]\n",
    "            sentence_embedding.append(torch.mean(token_vecs, dim=0))\n",
    "    elif method == 'lastCLS': # CLS token of last layer\n",
    "        sentence_embedding = hidden_states[-1][:, 0, :]\n",
    "    elif method == 'meanFirst': # average of first layer\n",
    "        for i in range(len(hidden_states[0])):\n",
    "            token_vecs = hidden_states[0][i]\n",
    "            sentence_embedding.append(torch.mean(token_vecs, dim=0))\n",
    "    elif method == 'firstCLS': # CLS token of first layer\n",
    "        sentence_embedding = hidden_states[0][:, 0, :]\n",
    "    return sentence_embedding"
   ]
  },
  {
   "cell_type": "code",
   "execution_count": 18,
   "metadata": {},
   "outputs": [],
   "source": [
    "# use all methods for getting sentence embeddings and add them to dataA\n",
    "\n",
    "methods = ['meanSecondToLast','meanLast4','meanLast','meanFirst','firstCLS','lastCLS']\n",
    "\n",
    "for method in methods:\n",
    "    X = get_sentence_embedding(hidden_states_sentence,method)\n",
    "    X = np.array([x.cpu().numpy() for x in X]).tolist()\n",
    "    # add a new column to dataA \n",
    "    dataA['sentence_embedding_'+ method] = X\n",
    "    \n",
    "\n"
   ]
  },
  {
   "cell_type": "markdown",
   "metadata": {},
   "source": [
    "Die Ergebnisse sind erstaunlich gut. Allerdings sind sie auch sehr abhängig von random_state (teste 0,10,13,42)"
   ]
  },
  {
   "cell_type": "code",
   "execution_count": 19,
   "metadata": {},
   "outputs": [
    {
     "name": "stdout",
     "output_type": "stream",
     "text": [
      "=========================================================\n",
      "meanSecondToLast\n",
      "0.8571428571428571\n",
      "              precision    recall  f1-score   support\n",
      "\n",
      "   idiomatic       0.75      1.00      0.86         6\n",
      "     literal       1.00      0.75      0.86         8\n",
      "\n",
      "    accuracy                           0.86        14\n",
      "   macro avg       0.88      0.88      0.86        14\n",
      "weighted avg       0.89      0.86      0.86        14\n",
      "\n",
      "=========================================================\n",
      "meanLast4\n",
      "0.9285714285714286\n",
      "              precision    recall  f1-score   support\n",
      "\n",
      "   idiomatic       0.86      1.00      0.92         6\n",
      "     literal       1.00      0.88      0.93         8\n",
      "\n",
      "    accuracy                           0.93        14\n",
      "   macro avg       0.93      0.94      0.93        14\n",
      "weighted avg       0.94      0.93      0.93        14\n",
      "\n",
      "=========================================================\n",
      "meanLast\n",
      "0.8571428571428571\n",
      "              precision    recall  f1-score   support\n",
      "\n",
      "   idiomatic       0.75      1.00      0.86         6\n",
      "     literal       1.00      0.75      0.86         8\n",
      "\n",
      "    accuracy                           0.86        14\n",
      "   macro avg       0.88      0.88      0.86        14\n",
      "weighted avg       0.89      0.86      0.86        14\n",
      "\n",
      "=========================================================\n",
      "meanFirst\n",
      "0.5714285714285714\n",
      "              precision    recall  f1-score   support\n",
      "\n",
      "   idiomatic       0.50      0.67      0.57         6\n",
      "     literal       0.67      0.50      0.57         8\n",
      "\n",
      "    accuracy                           0.57        14\n",
      "   macro avg       0.58      0.58      0.57        14\n",
      "weighted avg       0.60      0.57      0.57        14\n",
      "\n",
      "=========================================================\n",
      "firstCLS\n",
      "0.42857142857142855\n",
      "              precision    recall  f1-score   support\n",
      "\n",
      "   idiomatic       0.43      1.00      0.60         6\n",
      "     literal       0.00      0.00      0.00         8\n",
      "\n",
      "    accuracy                           0.43        14\n",
      "   macro avg       0.21      0.50      0.30        14\n",
      "weighted avg       0.18      0.43      0.26        14\n",
      "\n",
      "=========================================================\n",
      "lastCLS\n",
      "0.6428571428571429\n",
      "              precision    recall  f1-score   support\n",
      "\n",
      "   idiomatic       0.56      0.83      0.67         6\n",
      "     literal       0.80      0.50      0.62         8\n",
      "\n",
      "    accuracy                           0.64        14\n",
      "   macro avg       0.68      0.67      0.64        14\n",
      "weighted avg       0.70      0.64      0.64        14\n",
      "\n"
     ]
    }
   ],
   "source": [
    "from sklearn.model_selection import train_test_split\n",
    "from sklearn.linear_model import LogisticRegression\n",
    "from sklearn.ensemble import RandomForestClassifier\n",
    "from sklearn.svm import SVC\n",
    "# mlp\n",
    "from sklearn.neural_network import MLPClassifier\n",
    "\n",
    "\n",
    "# evaluation\n",
    "from sklearn.metrics import accuracy_score\n",
    "from sklearn.metrics import classification_report\n",
    "\n",
    "\n",
    "for method in methods: \n",
    "    # get data for training (subset column has value train or sample)\n",
    "    dataA_train = only_train(dataA)\n",
    "\n",
    "    X = dataA_train['sentence_embedding_'+ method].tolist()\n",
    "    y = dataA_train[\"sentence_type\"]\n",
    "\n",
    "    # split in train and test set\n",
    "    X_train, X_test, y_train, y_test = train_test_split(X, y, test_size=0.2, random_state=0)\n",
    "\n",
    "    print('=========================================================')\n",
    "    print(method)\n",
    "    # logistic regression\n",
    "#    clf = LogisticRegression(random_state=0).fit(X_train, y_train)\n",
    "#    clf = RandomForestClassifier(max_depth=2, random_state=0).fit(X_train, y_train)\n",
    "    clf = SVC(kernel='linear').fit(X_train, y_train)\n",
    "#    clf = MLPClassifier(random_state=0, max_iter=300).fit(X_train, y_train)\n",
    "    y_pred = clf.predict(X_test)\n",
    "    print(accuracy_score(y_test, y_pred))\n",
    "\n",
    "    #classification report\n",
    "    print(classification_report(y_test, y_pred,zero_division=0))\n",
    "\n"
   ]
  },
  {
   "cell_type": "code",
   "execution_count": 20,
   "metadata": {},
   "outputs": [
    {
     "name": "stdout",
     "output_type": "stream",
     "text": [
      "dummy classifier most frequent\n",
      "0.42857142857142855\n",
      "              precision    recall  f1-score   support\n",
      "\n",
      "   idiomatic       0.43      1.00      0.60         6\n",
      "     literal       0.00      0.00      0.00         8\n",
      "\n",
      "    accuracy                           0.43        14\n",
      "   macro avg       0.21      0.50      0.30        14\n",
      "weighted avg       0.18      0.43      0.26        14\n",
      "\n"
     ]
    }
   ],
   "source": [
    "# dummy classifier most frequent\n",
    "from sklearn.dummy import DummyClassifier\n",
    "\n",
    "\n",
    "# dummy classifier most frequent\n",
    "clf = DummyClassifier(strategy=\"most_frequent\")\n",
    "clf.fit(X_train, y_train)\n",
    "y_pred = clf.predict(X_test)\n",
    "\n",
    "print(\"dummy classifier most frequent\")\n",
    "print(accuracy_score(y_test, y_pred))\n",
    "\n",
    "#classification report\n",
    "print(classification_report(y_test, y_pred,zero_division=0))\n"
   ]
  },
  {
   "cell_type": "code",
   "execution_count": 21,
   "metadata": {},
   "outputs": [
    {
     "data": {
      "text/plain": [
       "Index(['compound', 'subset', 'sentence_type', 'sentence', 'expected_order',\n",
       "       'image1_name', 'image1_caption', 'image2_name', 'image2_caption',\n",
       "       'image3_name', 'image3_caption', 'image4_name', 'image4_caption',\n",
       "       'image5_name', 'image5_caption', 'sentence_embedding_meanSecondToLast',\n",
       "       'sentence_embedding_meanLast4', 'sentence_embedding_meanLast',\n",
       "       'sentence_embedding_meanFirst', 'sentence_embedding_firstCLS',\n",
       "       'sentence_embedding_lastCLS'],\n",
       "      dtype='object')"
      ]
     },
     "execution_count": 21,
     "metadata": {},
     "output_type": "execute_result"
    }
   ],
   "source": [
    "dataA.columns"
   ]
  },
  {
   "cell_type": "markdown",
   "metadata": {},
   "source": []
  },
  {
   "cell_type": "markdown",
   "metadata": {},
   "source": [
    "### Compare compound embeddings in sentence and in chatGPT definitions.\n",
    "#### 1) get contextualized compound embeddings for compounds in sentences"
   ]
  },
  {
   "cell_type": "code",
   "execution_count": 22,
   "metadata": {},
   "outputs": [],
   "source": [
    "##!pip install inflect\n"
   ]
  },
  {
   "cell_type": "code",
   "execution_count": 23,
   "metadata": {},
   "outputs": [],
   "source": [
    "# sometimes the compound occurs in plural form in the sentence\n",
    "\n",
    "# add a new column to dataA with the plural form of the compound \n",
    "\n",
    "\n",
    "from re import *\n",
    "import inflect\n",
    "\n",
    "engine = inflect.engine()\n",
    "\n",
    "dataA[\"compound_plural\"] = [None for i in range(len(dataA))]\n",
    "\n",
    "for i in range(len(dataA[\"compound\"])):\n",
    "    dataA[\"compound_plural\"][i] = engine.plural(dataA[\"compound\"][i])\n",
    "\n",
    "dataA_compound_plural_tokenized = tokenize(dataA[\"compound_plural\"].tolist())"
   ]
  },
  {
   "cell_type": "code",
   "execution_count": 24,
   "metadata": {},
   "outputs": [
    {
     "data": {
      "text/plain": [
       "('colors in the grass', 'colorss in the grass')"
      ]
     },
     "execution_count": 24,
     "metadata": {},
     "output_type": "execute_result"
    }
   ],
   "source": [
    "engine = inflect.engine()\n",
    "t = engine.plural(\"color in the grass\")\n",
    "tt = engine.plural(t)\n",
    "t, tt\n"
   ]
  },
  {
   "cell_type": "code",
   "execution_count": 25,
   "metadata": {},
   "outputs": [
    {
     "data": {
      "text/plain": [
       "<bound method IndexOpsMixin.value_counts of 70    monkey businesses\n",
       "71          grass roots\n",
       "72      marching orders\n",
       "73           panda cars\n",
       "74         bread butter\n",
       "75    chocolate teapots\n",
       "76             pig ears\n",
       "77                  men\n",
       "78          big cheeses\n",
       "79        eager beavers\n",
       "80            hair dogs\n",
       "81            thin ices\n",
       "82        snake grasses\n",
       "83         flea markets\n",
       "84             big fish\n",
       "85        fancy dresses\n",
       "86          snail mails\n",
       "87         heart stones\n",
       "88        party animals\n",
       "89            cold feet\n",
       "90       couch potatoes\n",
       "91             pea pods\n",
       "92          sour grapes\n",
       "93             hot airs\n",
       "94         green lights\n",
       "95       watering holes\n",
       "96       flying saucers\n",
       "97             act gods\n",
       "98          field works\n",
       "99             big wigs\n",
       "Name: compound_plural, dtype: object>"
      ]
     },
     "execution_count": 25,
     "metadata": {},
     "output_type": "execute_result"
    }
   ],
   "source": [
    "dataA[\"compound_plural\"][70:].value_counts"
   ]
  },
  {
   "cell_type": "markdown",
   "metadata": {},
   "source": [
    "Sometimes the compound occurs in the sentence only in plural form. So both forms are needed."
   ]
  },
  {
   "cell_type": "code",
   "execution_count": 26,
   "metadata": {},
   "outputs": [
    {
     "data": {
      "text/plain": [
       "['rotten',\n",
       " 'apples',\n",
       " 'and',\n",
       " 'orange',\n",
       " '##s',\n",
       " 'are',\n",
       " 'in',\n",
       " 'the',\n",
       " 'wood',\n",
       " '##basket']"
      ]
     },
     "execution_count": 26,
     "metadata": {},
     "output_type": "execute_result"
    }
   ],
   "source": [
    "tokenizer.tokenize(\"rotten apples and oranges are in the woodbasket\")"
   ]
  },
  {
   "cell_type": "code",
   "execution_count": 27,
   "metadata": {},
   "outputs": [],
   "source": [
    "# returns the index of the compound in the sentence\n",
    "def get_idx(compound_tokens, compound_plural_tokens, sentence_tokens):\n",
    "    # remove 0-tokens from compound_tokens (removes tokens that are due to padding)\n",
    "    compound_tokens = [i for i in compound_tokens if i != 0]\n",
    "    # remove [CLS] and [SEP] from compound_tokens\n",
    "    compound_tokens = compound_tokens[1:-1]\n",
    "    compound_plural_tokens = [i for i in compound_plural_tokens if i != 0]\n",
    "    compound_plural_tokens = compound_plural_tokens[1:-1]\n",
    "    idx = []\n",
    "    # find the first occurence of the sequence of compound_tokens in sentence_tokens (singular and plural forms)\n",
    "    for i in range(len(sentence_tokens)):\n",
    "        if sentence_tokens[i:i+len(compound_tokens)] == compound_tokens:\n",
    "            for j in range(i, i+ len(compound_tokens)):\n",
    "                idx.append(j)\n",
    "    for i in range(len(sentence_tokens)):\n",
    "        if sentence_tokens[i:i+len(compound_plural_tokens)] == compound_plural_tokens:\n",
    "            for j in range(i, i+ len(compound_plural_tokens)):\n",
    "                idx.append(j)\n",
    "    # remove duplicates from idx\n",
    "    idx = list(set(idx))\n",
    "    return idx\n",
    "\n"
   ]
  },
  {
   "cell_type": "code",
   "execution_count": 28,
   "metadata": {},
   "outputs": [
    {
     "data": {
      "text/plain": [
       "[0, 1, 5, 6, 7]"
      ]
     },
     "execution_count": 28,
     "metadata": {},
     "output_type": "execute_result"
    }
   ],
   "source": [
    "#testen\n",
    "get_idx([99,1,5,100,0,0],[99,1,5,2,100,0,0],[1,5,3,7,4,1,5,2,1,9,0,0,0])"
   ]
  },
  {
   "cell_type": "code",
   "execution_count": 29,
   "metadata": {},
   "outputs": [
    {
     "data": {
      "text/plain": [
       "torch.Size([100, 25, 768])"
      ]
     },
     "execution_count": 29,
     "metadata": {},
     "output_type": "execute_result"
    }
   ],
   "source": [
    "hidden_states_sentence[-1].shape"
   ]
  },
  {
   "cell_type": "code",
   "execution_count": 30,
   "metadata": {},
   "outputs": [],
   "source": [
    "# returns the embeddings of the tokens in idxList. \n",
    "# The embeddings are combined to a single embedding by different averaging methods\n",
    "import numpy as np\n",
    "def get_idxList_embedding(hidden_states,idxLists,method):\n",
    "    embedding = []\n",
    "    if method == 'meanLast4':\n",
    "        for i in range(len(hidden_states[-1])):\n",
    "            # token_vecs is mean of last 4 layers\n",
    "            idxList = idxLists[i]\n",
    "            token_tensor = torch.stack([hidden_states[-1][i][idxList], hidden_states[-2][i][idxList], hidden_states[-3][i][idxList], hidden_states[-4][i][idxList]], dim=0)\n",
    "            token_vecs = torch.mean(token_tensor, dim=0)\n",
    "            embedding.append(torch.mean(token_vecs, dim=0).tolist())\n",
    "    elif method == 'meanSecondToLast':\n",
    "        for i in range(len(hidden_states[-2])):\n",
    "            idxList = idxLists[i]\n",
    "            token_vecs = hidden_states[-2][i][idxList]\n",
    "            embedding.append(torch.mean(token_vecs, dim=0).tolist())\n",
    "    elif method == 'meanLast':\n",
    "        for i in range(len(hidden_states[-1])):\n",
    "            idxList = idxLists[i]\n",
    "            token_vecs = hidden_states[-1][i][idxList]\n",
    "            embedding.append(torch.mean(token_vecs, dim=0).tolist())\n",
    "    elif method == 'meanFirst':\n",
    "        for i in range(len(hidden_states[0])):\n",
    "            idxList = idxLists[i]\n",
    "            token_vecs = hidden_states[0][i][idxList]\n",
    "            embedding.append(torch.mean(token_vecs, dim=0).tolist())\n",
    "    return embedding"
   ]
  },
  {
   "cell_type": "code",
   "execution_count": 31,
   "metadata": {},
   "outputs": [],
   "source": [
    "# add column to dataA with the indices of the compound in the sentence\n",
    "dataA[\"compound_idx\"] = [get_idx(dataA_compound_tokenized[\"input_ids\"][i], dataA_compound_plural_tokenized[\"input_ids\"][i], dataA_sentence_tokenized[\"input_ids\"][i]) for i in range(len(dataA))]\n",
    "\n"
   ]
  },
  {
   "cell_type": "code",
   "execution_count": 40,
   "metadata": {},
   "outputs": [
    {
     "name": "stdout",
     "output_type": "stream",
     "text": [
      "white hat\n",
      "use white ethical search engine optimization technique lead long term success many seo firm use tactic risk harming site\n",
      "29\n",
      "pig ear\n",
      "wrote new partition table made right pig\n",
      "76\n"
     ]
    }
   ],
   "source": [
    "# print dataA[\"sentence\"] if compound_idx is empty (ideally there should be no empty compound_idx)\n",
    "for i in range(len(dataA)):\n",
    "    if len(dataA[\"compound_idx\"][i]) == 0:\n",
    "        print(dataA[\"compound\"][i])\n",
    "        print(dataA[\"sentence\"][i])\n",
    "        print(i)"
   ]
  },
  {
   "cell_type": "code",
   "execution_count": 41,
   "metadata": {},
   "outputs": [],
   "source": [
    "\n",
    "# add column compound_embedding to dataA use method 'meanLast'\n",
    "compound_methods = ['meanSecondToLast','meanLast4','meanLast','meanFirst']\n",
    "for method in compound_methods:\n",
    "    dataA['compound_embedding_'+ method] = get_idxList_embedding(hidden_states_sentence,dataA[\"compound_idx\"],method) "
   ]
  },
  {
   "cell_type": "code",
   "execution_count": 44,
   "metadata": {},
   "outputs": [
    {
     "data": {
      "text/plain": [
       "compound                                                                       white hat\n",
       "subset                                                                             Train\n",
       "sentence_type                                                                  idiomatic\n",
       "sentence                               use white ethical search engine optimization t...\n",
       "expected_order                         [50305046415.png, 39481587509.png, 11696820520...\n",
       "image1_name                                                              11696820520.png\n",
       "image1_caption                         The image depicts a light blue baseball cap wi...\n",
       "image2_name                                                              12124292214.png\n",
       "image2_caption                         The image depicts a modern multifunction print...\n",
       "image3_name                                                              13755461305.png\n",
       "image3_caption                         The image depicts a classic top hat, which is ...\n",
       "image4_name                                                              39481587509.png\n",
       "image4_caption                         The image depicts a cartoon character standing...\n",
       "image5_name                                                              50305046415.png\n",
       "image5_caption                         The image depicts three individuals working at...\n",
       "sentence_embedding_meanSecondToLast    [-0.26894697546958923, -0.09335550665855408, 0...\n",
       "sentence_embedding_meanLast4           [-0.08184175193309784, 0.05643899738788605, 0....\n",
       "sentence_embedding_meanLast            [-0.15886810421943665, 0.053322963416576385, 0...\n",
       "sentence_embedding_meanFirst           [0.07053789496421814, 0.08311579376459122, -0....\n",
       "sentence_embedding_firstCLS            [0.16855061054229736, -0.2857673764228821, -0....\n",
       "sentence_embedding_lastCLS             [-0.23552723228931427, 0.13420358300209045, -0...\n",
       "compound_plural                                                               white hats\n",
       "compound_idx                                                                          []\n",
       "compound_embedding_meanSecondToLast    [nan, nan, nan, nan, nan, nan, nan, nan, nan, ...\n",
       "compound_embedding_meanLast4           [nan, nan, nan, nan, nan, nan, nan, nan, nan, ...\n",
       "compound_embedding_meanLast            [nan, nan, nan, nan, nan, nan, nan, nan, nan, ...\n",
       "compound_embedding_meanFirst           [nan, nan, nan, nan, nan, nan, nan, nan, nan, ...\n",
       "Name: 29, dtype: object"
      ]
     },
     "execution_count": 44,
     "metadata": {},
     "output_type": "execute_result"
    }
   ],
   "source": [
    "dataA.iloc[29]"
   ]
  },
  {
   "cell_type": "markdown",
   "metadata": {},
   "source": [
    "compound_embedding_ enthält die Embedding des Compounds im Sentence"
   ]
  },
  {
   "cell_type": "code",
   "execution_count": null,
   "metadata": {},
   "outputs": [],
   "source": []
  },
  {
   "cell_type": "code",
   "execution_count": 208,
   "metadata": {},
   "outputs": [
    {
     "name": "stdout",
     "output_type": "stream",
     "text": [
      "=========================================================\n",
      "meanSecondToLast\n"
     ]
    },
    {
     "ename": "ValueError",
     "evalue": "Input X contains NaN.\nLogisticRegression does not accept missing values encoded as NaN natively. For supervised learning, you might want to consider sklearn.ensemble.HistGradientBoostingClassifier and Regressor which accept missing values encoded as NaNs natively. Alternatively, it is possible to preprocess the data, for instance by using an imputer transformer in a pipeline or drop samples with missing values. See https://scikit-learn.org/stable/modules/impute.html You can find a list of all estimators that handle NaN values at the following page: https://scikit-learn.org/stable/modules/impute.html#estimators-that-handle-nan-values",
     "output_type": "error",
     "traceback": [
      "\u001b[1;31m---------------------------------------------------------------------------\u001b[0m",
      "\u001b[1;31mValueError\u001b[0m                                Traceback (most recent call last)",
      "Cell \u001b[1;32mIn[208], line 14\u001b[0m\n\u001b[0;32m     12\u001b[0m \u001b[38;5;28mprint\u001b[39m(method)\n\u001b[0;32m     13\u001b[0m \u001b[38;5;66;03m# logistic regression\u001b[39;00m\n\u001b[1;32m---> 14\u001b[0m clf \u001b[38;5;241m=\u001b[39m LogisticRegression(random_state\u001b[38;5;241m=\u001b[39m\u001b[38;5;241m0\u001b[39m)\u001b[38;5;241m.\u001b[39mfit(X_train, y_train)\n\u001b[0;32m     16\u001b[0m y_pred \u001b[38;5;241m=\u001b[39m clf\u001b[38;5;241m.\u001b[39mpredict(X_test)\n\u001b[0;32m     17\u001b[0m \u001b[38;5;28mprint\u001b[39m(accuracy_score(y_test, y_pred))\n",
      "File \u001b[1;32mc:\\Users\\Wiebke Petersen\\anaconda3\\Lib\\site-packages\\sklearn\\base.py:1151\u001b[0m, in \u001b[0;36m_fit_context.<locals>.decorator.<locals>.wrapper\u001b[1;34m(estimator, *args, **kwargs)\u001b[0m\n\u001b[0;32m   1144\u001b[0m     estimator\u001b[38;5;241m.\u001b[39m_validate_params()\n\u001b[0;32m   1146\u001b[0m \u001b[38;5;28;01mwith\u001b[39;00m config_context(\n\u001b[0;32m   1147\u001b[0m     skip_parameter_validation\u001b[38;5;241m=\u001b[39m(\n\u001b[0;32m   1148\u001b[0m         prefer_skip_nested_validation \u001b[38;5;129;01mor\u001b[39;00m global_skip_validation\n\u001b[0;32m   1149\u001b[0m     )\n\u001b[0;32m   1150\u001b[0m ):\n\u001b[1;32m-> 1151\u001b[0m     \u001b[38;5;28;01mreturn\u001b[39;00m fit_method(estimator, \u001b[38;5;241m*\u001b[39margs, \u001b[38;5;241m*\u001b[39m\u001b[38;5;241m*\u001b[39mkwargs)\n",
      "File \u001b[1;32mc:\\Users\\Wiebke Petersen\\anaconda3\\Lib\\site-packages\\sklearn\\linear_model\\_logistic.py:1207\u001b[0m, in \u001b[0;36mLogisticRegression.fit\u001b[1;34m(self, X, y, sample_weight)\u001b[0m\n\u001b[0;32m   1204\u001b[0m \u001b[38;5;28;01melse\u001b[39;00m:\n\u001b[0;32m   1205\u001b[0m     _dtype \u001b[38;5;241m=\u001b[39m [np\u001b[38;5;241m.\u001b[39mfloat64, np\u001b[38;5;241m.\u001b[39mfloat32]\n\u001b[1;32m-> 1207\u001b[0m X, y \u001b[38;5;241m=\u001b[39m \u001b[38;5;28mself\u001b[39m\u001b[38;5;241m.\u001b[39m_validate_data(\n\u001b[0;32m   1208\u001b[0m     X,\n\u001b[0;32m   1209\u001b[0m     y,\n\u001b[0;32m   1210\u001b[0m     accept_sparse\u001b[38;5;241m=\u001b[39m\u001b[38;5;124m\"\u001b[39m\u001b[38;5;124mcsr\u001b[39m\u001b[38;5;124m\"\u001b[39m,\n\u001b[0;32m   1211\u001b[0m     dtype\u001b[38;5;241m=\u001b[39m_dtype,\n\u001b[0;32m   1212\u001b[0m     order\u001b[38;5;241m=\u001b[39m\u001b[38;5;124m\"\u001b[39m\u001b[38;5;124mC\u001b[39m\u001b[38;5;124m\"\u001b[39m,\n\u001b[0;32m   1213\u001b[0m     accept_large_sparse\u001b[38;5;241m=\u001b[39msolver \u001b[38;5;129;01mnot\u001b[39;00m \u001b[38;5;129;01min\u001b[39;00m [\u001b[38;5;124m\"\u001b[39m\u001b[38;5;124mliblinear\u001b[39m\u001b[38;5;124m\"\u001b[39m, \u001b[38;5;124m\"\u001b[39m\u001b[38;5;124msag\u001b[39m\u001b[38;5;124m\"\u001b[39m, \u001b[38;5;124m\"\u001b[39m\u001b[38;5;124msaga\u001b[39m\u001b[38;5;124m\"\u001b[39m],\n\u001b[0;32m   1214\u001b[0m )\n\u001b[0;32m   1215\u001b[0m check_classification_targets(y)\n\u001b[0;32m   1216\u001b[0m \u001b[38;5;28mself\u001b[39m\u001b[38;5;241m.\u001b[39mclasses_ \u001b[38;5;241m=\u001b[39m np\u001b[38;5;241m.\u001b[39munique(y)\n",
      "File \u001b[1;32mc:\\Users\\Wiebke Petersen\\anaconda3\\Lib\\site-packages\\sklearn\\base.py:621\u001b[0m, in \u001b[0;36mBaseEstimator._validate_data\u001b[1;34m(self, X, y, reset, validate_separately, cast_to_ndarray, **check_params)\u001b[0m\n\u001b[0;32m    619\u001b[0m         y \u001b[38;5;241m=\u001b[39m check_array(y, input_name\u001b[38;5;241m=\u001b[39m\u001b[38;5;124m\"\u001b[39m\u001b[38;5;124my\u001b[39m\u001b[38;5;124m\"\u001b[39m, \u001b[38;5;241m*\u001b[39m\u001b[38;5;241m*\u001b[39mcheck_y_params)\n\u001b[0;32m    620\u001b[0m     \u001b[38;5;28;01melse\u001b[39;00m:\n\u001b[1;32m--> 621\u001b[0m         X, y \u001b[38;5;241m=\u001b[39m check_X_y(X, y, \u001b[38;5;241m*\u001b[39m\u001b[38;5;241m*\u001b[39mcheck_params)\n\u001b[0;32m    622\u001b[0m     out \u001b[38;5;241m=\u001b[39m X, y\n\u001b[0;32m    624\u001b[0m \u001b[38;5;28;01mif\u001b[39;00m \u001b[38;5;129;01mnot\u001b[39;00m no_val_X \u001b[38;5;129;01mand\u001b[39;00m check_params\u001b[38;5;241m.\u001b[39mget(\u001b[38;5;124m\"\u001b[39m\u001b[38;5;124mensure_2d\u001b[39m\u001b[38;5;124m\"\u001b[39m, \u001b[38;5;28;01mTrue\u001b[39;00m):\n",
      "File \u001b[1;32mc:\\Users\\Wiebke Petersen\\anaconda3\\Lib\\site-packages\\sklearn\\utils\\validation.py:1147\u001b[0m, in \u001b[0;36mcheck_X_y\u001b[1;34m(X, y, accept_sparse, accept_large_sparse, dtype, order, copy, force_all_finite, ensure_2d, allow_nd, multi_output, ensure_min_samples, ensure_min_features, y_numeric, estimator)\u001b[0m\n\u001b[0;32m   1142\u001b[0m         estimator_name \u001b[38;5;241m=\u001b[39m _check_estimator_name(estimator)\n\u001b[0;32m   1143\u001b[0m     \u001b[38;5;28;01mraise\u001b[39;00m \u001b[38;5;167;01mValueError\u001b[39;00m(\n\u001b[0;32m   1144\u001b[0m         \u001b[38;5;124mf\u001b[39m\u001b[38;5;124m\"\u001b[39m\u001b[38;5;132;01m{\u001b[39;00mestimator_name\u001b[38;5;132;01m}\u001b[39;00m\u001b[38;5;124m requires y to be passed, but the target y is None\u001b[39m\u001b[38;5;124m\"\u001b[39m\n\u001b[0;32m   1145\u001b[0m     )\n\u001b[1;32m-> 1147\u001b[0m X \u001b[38;5;241m=\u001b[39m check_array(\n\u001b[0;32m   1148\u001b[0m     X,\n\u001b[0;32m   1149\u001b[0m     accept_sparse\u001b[38;5;241m=\u001b[39maccept_sparse,\n\u001b[0;32m   1150\u001b[0m     accept_large_sparse\u001b[38;5;241m=\u001b[39maccept_large_sparse,\n\u001b[0;32m   1151\u001b[0m     dtype\u001b[38;5;241m=\u001b[39mdtype,\n\u001b[0;32m   1152\u001b[0m     order\u001b[38;5;241m=\u001b[39morder,\n\u001b[0;32m   1153\u001b[0m     copy\u001b[38;5;241m=\u001b[39mcopy,\n\u001b[0;32m   1154\u001b[0m     force_all_finite\u001b[38;5;241m=\u001b[39mforce_all_finite,\n\u001b[0;32m   1155\u001b[0m     ensure_2d\u001b[38;5;241m=\u001b[39mensure_2d,\n\u001b[0;32m   1156\u001b[0m     allow_nd\u001b[38;5;241m=\u001b[39mallow_nd,\n\u001b[0;32m   1157\u001b[0m     ensure_min_samples\u001b[38;5;241m=\u001b[39mensure_min_samples,\n\u001b[0;32m   1158\u001b[0m     ensure_min_features\u001b[38;5;241m=\u001b[39mensure_min_features,\n\u001b[0;32m   1159\u001b[0m     estimator\u001b[38;5;241m=\u001b[39mestimator,\n\u001b[0;32m   1160\u001b[0m     input_name\u001b[38;5;241m=\u001b[39m\u001b[38;5;124m\"\u001b[39m\u001b[38;5;124mX\u001b[39m\u001b[38;5;124m\"\u001b[39m,\n\u001b[0;32m   1161\u001b[0m )\n\u001b[0;32m   1163\u001b[0m y \u001b[38;5;241m=\u001b[39m _check_y(y, multi_output\u001b[38;5;241m=\u001b[39mmulti_output, y_numeric\u001b[38;5;241m=\u001b[39my_numeric, estimator\u001b[38;5;241m=\u001b[39mestimator)\n\u001b[0;32m   1165\u001b[0m check_consistent_length(X, y)\n",
      "File \u001b[1;32mc:\\Users\\Wiebke Petersen\\anaconda3\\Lib\\site-packages\\sklearn\\utils\\validation.py:959\u001b[0m, in \u001b[0;36mcheck_array\u001b[1;34m(array, accept_sparse, accept_large_sparse, dtype, order, copy, force_all_finite, ensure_2d, allow_nd, ensure_min_samples, ensure_min_features, estimator, input_name)\u001b[0m\n\u001b[0;32m    953\u001b[0m         \u001b[38;5;28;01mraise\u001b[39;00m \u001b[38;5;167;01mValueError\u001b[39;00m(\n\u001b[0;32m    954\u001b[0m             \u001b[38;5;124m\"\u001b[39m\u001b[38;5;124mFound array with dim \u001b[39m\u001b[38;5;132;01m%d\u001b[39;00m\u001b[38;5;124m. \u001b[39m\u001b[38;5;132;01m%s\u001b[39;00m\u001b[38;5;124m expected <= 2.\u001b[39m\u001b[38;5;124m\"\u001b[39m\n\u001b[0;32m    955\u001b[0m             \u001b[38;5;241m%\u001b[39m (array\u001b[38;5;241m.\u001b[39mndim, estimator_name)\n\u001b[0;32m    956\u001b[0m         )\n\u001b[0;32m    958\u001b[0m     \u001b[38;5;28;01mif\u001b[39;00m force_all_finite:\n\u001b[1;32m--> 959\u001b[0m         _assert_all_finite(\n\u001b[0;32m    960\u001b[0m             array,\n\u001b[0;32m    961\u001b[0m             input_name\u001b[38;5;241m=\u001b[39minput_name,\n\u001b[0;32m    962\u001b[0m             estimator_name\u001b[38;5;241m=\u001b[39mestimator_name,\n\u001b[0;32m    963\u001b[0m             allow_nan\u001b[38;5;241m=\u001b[39mforce_all_finite \u001b[38;5;241m==\u001b[39m \u001b[38;5;124m\"\u001b[39m\u001b[38;5;124mallow-nan\u001b[39m\u001b[38;5;124m\"\u001b[39m,\n\u001b[0;32m    964\u001b[0m         )\n\u001b[0;32m    966\u001b[0m \u001b[38;5;28;01mif\u001b[39;00m ensure_min_samples \u001b[38;5;241m>\u001b[39m \u001b[38;5;241m0\u001b[39m:\n\u001b[0;32m    967\u001b[0m     n_samples \u001b[38;5;241m=\u001b[39m _num_samples(array)\n",
      "File \u001b[1;32mc:\\Users\\Wiebke Petersen\\anaconda3\\Lib\\site-packages\\sklearn\\utils\\validation.py:124\u001b[0m, in \u001b[0;36m_assert_all_finite\u001b[1;34m(X, allow_nan, msg_dtype, estimator_name, input_name)\u001b[0m\n\u001b[0;32m    121\u001b[0m \u001b[38;5;28;01mif\u001b[39;00m first_pass_isfinite:\n\u001b[0;32m    122\u001b[0m     \u001b[38;5;28;01mreturn\u001b[39;00m\n\u001b[1;32m--> 124\u001b[0m _assert_all_finite_element_wise(\n\u001b[0;32m    125\u001b[0m     X,\n\u001b[0;32m    126\u001b[0m     xp\u001b[38;5;241m=\u001b[39mxp,\n\u001b[0;32m    127\u001b[0m     allow_nan\u001b[38;5;241m=\u001b[39mallow_nan,\n\u001b[0;32m    128\u001b[0m     msg_dtype\u001b[38;5;241m=\u001b[39mmsg_dtype,\n\u001b[0;32m    129\u001b[0m     estimator_name\u001b[38;5;241m=\u001b[39mestimator_name,\n\u001b[0;32m    130\u001b[0m     input_name\u001b[38;5;241m=\u001b[39minput_name,\n\u001b[0;32m    131\u001b[0m )\n",
      "File \u001b[1;32mc:\\Users\\Wiebke Petersen\\anaconda3\\Lib\\site-packages\\sklearn\\utils\\validation.py:173\u001b[0m, in \u001b[0;36m_assert_all_finite_element_wise\u001b[1;34m(X, xp, allow_nan, msg_dtype, estimator_name, input_name)\u001b[0m\n\u001b[0;32m    156\u001b[0m \u001b[38;5;28;01mif\u001b[39;00m estimator_name \u001b[38;5;129;01mand\u001b[39;00m input_name \u001b[38;5;241m==\u001b[39m \u001b[38;5;124m\"\u001b[39m\u001b[38;5;124mX\u001b[39m\u001b[38;5;124m\"\u001b[39m \u001b[38;5;129;01mand\u001b[39;00m has_nan_error:\n\u001b[0;32m    157\u001b[0m     \u001b[38;5;66;03m# Improve the error message on how to handle missing values in\u001b[39;00m\n\u001b[0;32m    158\u001b[0m     \u001b[38;5;66;03m# scikit-learn.\u001b[39;00m\n\u001b[0;32m    159\u001b[0m     msg_err \u001b[38;5;241m+\u001b[39m\u001b[38;5;241m=\u001b[39m (\n\u001b[0;32m    160\u001b[0m         \u001b[38;5;124mf\u001b[39m\u001b[38;5;124m\"\u001b[39m\u001b[38;5;130;01m\\n\u001b[39;00m\u001b[38;5;132;01m{\u001b[39;00mestimator_name\u001b[38;5;132;01m}\u001b[39;00m\u001b[38;5;124m does not accept missing values\u001b[39m\u001b[38;5;124m\"\u001b[39m\n\u001b[0;32m    161\u001b[0m         \u001b[38;5;124m\"\u001b[39m\u001b[38;5;124m encoded as NaN natively. For supervised learning, you might want\u001b[39m\u001b[38;5;124m\"\u001b[39m\n\u001b[1;32m   (...)\u001b[0m\n\u001b[0;32m    171\u001b[0m         \u001b[38;5;124m\"\u001b[39m\u001b[38;5;124m#estimators-that-handle-nan-values\u001b[39m\u001b[38;5;124m\"\u001b[39m\n\u001b[0;32m    172\u001b[0m     )\n\u001b[1;32m--> 173\u001b[0m \u001b[38;5;28;01mraise\u001b[39;00m \u001b[38;5;167;01mValueError\u001b[39;00m(msg_err)\n",
      "\u001b[1;31mValueError\u001b[0m: Input X contains NaN.\nLogisticRegression does not accept missing values encoded as NaN natively. For supervised learning, you might want to consider sklearn.ensemble.HistGradientBoostingClassifier and Regressor which accept missing values encoded as NaNs natively. Alternatively, it is possible to preprocess the data, for instance by using an imputer transformer in a pipeline or drop samples with missing values. See https://scikit-learn.org/stable/modules/impute.html You can find a list of all estimators that handle NaN values at the following page: https://scikit-learn.org/stable/modules/impute.html#estimators-that-handle-nan-values"
     ]
    }
   ],
   "source": [
    "\n",
    "dataA_train = only_train(dataA)\n",
    "\n",
    "\n",
    "for method in compound_methods:\n",
    "    X = dataA_train['compound_embedding_'+ method].tolist()\n",
    "    y = dataA_train[\"sentence_type\"]\n",
    "\n",
    "    # split in train and test set\n",
    "    X_train, X_test, y_train, y_test = train_test_split(X, y, test_size=0.2, random_state=0)\n",
    "\n",
    "    print('=========================================================')\n",
    "    print(method)\n",
    "    # logistic regression\n",
    "    clf = LogisticRegression(random_state=0).fit(X_train, y_train)\n",
    "\n",
    "    y_pred = clf.predict(X_test)\n",
    "    print(accuracy_score(y_test, y_pred))\n",
    "\n",
    "    #classification report\n",
    "    print(classification_report(y_test, y_pred,zero_division=0))"
   ]
  },
  {
   "cell_type": "markdown",
   "metadata": {},
   "source": [
    "#### 2) Get contextualized compound embeddings in gpt_sentences and gpt_meaning and gpt_pic embeddings\n"
   ]
  },
  {
   "cell_type": "code",
   "execution_count": 45,
   "metadata": {},
   "outputs": [
    {
     "data": {
      "text/html": [
       "<div>\n",
       "<style scoped>\n",
       "    .dataframe tbody tr th:only-of-type {\n",
       "        vertical-align: middle;\n",
       "    }\n",
       "\n",
       "    .dataframe tbody tr th {\n",
       "        vertical-align: top;\n",
       "    }\n",
       "\n",
       "    .dataframe thead th {\n",
       "        text-align: right;\n",
       "    }\n",
       "</style>\n",
       "<table border=\"1\" class=\"dataframe\">\n",
       "  <thead>\n",
       "    <tr style=\"text-align: right;\">\n",
       "      <th></th>\n",
       "      <th>gpt_idiomatic_meaning</th>\n",
       "      <th>gpt_literal_meaning</th>\n",
       "      <th>gpt_idiomatic_sentence</th>\n",
       "      <th>gpt_literal_sentence</th>\n",
       "    </tr>\n",
       "  </thead>\n",
       "  <tbody>\n",
       "    <tr>\n",
       "      <th>0</th>\n",
       "      <td>Elbow grease is a metaphor for hard physical e...</td>\n",
       "      <td>Elbow grease is the literal effort of using on...</td>\n",
       "      <td>It took a lot of elbow grease to get the old c...</td>\n",
       "      <td>I used some elbow grease to scrub the stain of...</td>\n",
       "    </tr>\n",
       "    <tr>\n",
       "      <th>1</th>\n",
       "      <td>Night owl is a metaphor for a person who tends...</td>\n",
       "      <td>Night owl is a literal term referring to an ow...</td>\n",
       "      <td>As a night owl, she finds it easier to work on...</td>\n",
       "      <td>The night owl swooped silently through the tre...</td>\n",
       "    </tr>\n",
       "    <tr>\n",
       "      <th>2</th>\n",
       "      <td>Heart of gold is a metaphor for someone who is...</td>\n",
       "      <td>Heart of gold is a literal phrase referring to...</td>\n",
       "      <td>He may seem gruff, but he has a heart of gold ...</td>\n",
       "      <td>The artist crafted a pendant in the shape of a...</td>\n",
       "    </tr>\n",
       "    <tr>\n",
       "      <th>3</th>\n",
       "      <td>Agony aunt is a metaphor for a person, often i...</td>\n",
       "      <td>Agony aunt is a literal term referring to an a...</td>\n",
       "      <td>She decided to write to the magazine's agony a...</td>\n",
       "      <td>My poor agony aunt seemed distressed after hea...</td>\n",
       "    </tr>\n",
       "    <tr>\n",
       "      <th>4</th>\n",
       "      <td>Shrinking violet is a metaphor for a shy or in...</td>\n",
       "      <td>Shrinking violet is a literal term for a viole...</td>\n",
       "      <td>She's a shrinking violet in meetings, preferri...</td>\n",
       "      <td>The shrinking violet in the garden looked deli...</td>\n",
       "    </tr>\n",
       "    <tr>\n",
       "      <th>...</th>\n",
       "      <td>...</td>\n",
       "      <td>...</td>\n",
       "      <td>...</td>\n",
       "      <td>...</td>\n",
       "    </tr>\n",
       "    <tr>\n",
       "      <th>95</th>\n",
       "      <td>Watering hole is a metaphor for a place where ...</td>\n",
       "      <td>Watering hole is a literal term for a place wh...</td>\n",
       "      <td>The pub has become their regular watering hole...</td>\n",
       "      <td>The lion approached the watering hole, where o...</td>\n",
       "    </tr>\n",
       "    <tr>\n",
       "      <th>96</th>\n",
       "      <td>Flying saucer is a metaphor for an unidentifie...</td>\n",
       "      <td>Flying saucer is a literal term for a saucer-s...</td>\n",
       "      <td>Many people claimed to have seen a flying sauc...</td>\n",
       "      <td>The flying saucer hovered above the field, its...</td>\n",
       "    </tr>\n",
       "    <tr>\n",
       "      <th>97</th>\n",
       "      <td>Act of God is a metaphor for an event caused b...</td>\n",
       "      <td>Act of God is a literal term referring to even...</td>\n",
       "      <td>The insurance policy covered damage caused by ...</td>\n",
       "      <td>The town was devastated by an act of God when ...</td>\n",
       "    </tr>\n",
       "    <tr>\n",
       "      <th>98</th>\n",
       "      <td>Field work is a metaphor for research or work ...</td>\n",
       "      <td>Field work is a literal term for work done out...</td>\n",
       "      <td>He spent the summer doing field work to study ...</td>\n",
       "      <td>The biologist conducted field work in the rain...</td>\n",
       "    </tr>\n",
       "    <tr>\n",
       "      <th>99</th>\n",
       "      <td>Big wig is a metaphor for an important or infl...</td>\n",
       "      <td>Big wig is a literal term for a person who wea...</td>\n",
       "      <td>She’s the big wig in charge of the entire depa...</td>\n",
       "      <td>The big wig arrived at the meeting, making a g...</td>\n",
       "    </tr>\n",
       "  </tbody>\n",
       "</table>\n",
       "<p>100 rows × 4 columns</p>\n",
       "</div>"
      ],
      "text/plain": [
       "                                gpt_idiomatic_meaning  \\\n",
       "0   Elbow grease is a metaphor for hard physical e...   \n",
       "1   Night owl is a metaphor for a person who tends...   \n",
       "2   Heart of gold is a metaphor for someone who is...   \n",
       "3   Agony aunt is a metaphor for a person, often i...   \n",
       "4   Shrinking violet is a metaphor for a shy or in...   \n",
       "..                                                ...   \n",
       "95  Watering hole is a metaphor for a place where ...   \n",
       "96  Flying saucer is a metaphor for an unidentifie...   \n",
       "97  Act of God is a metaphor for an event caused b...   \n",
       "98  Field work is a metaphor for research or work ...   \n",
       "99  Big wig is a metaphor for an important or infl...   \n",
       "\n",
       "                                  gpt_literal_meaning  \\\n",
       "0   Elbow grease is the literal effort of using on...   \n",
       "1   Night owl is a literal term referring to an ow...   \n",
       "2   Heart of gold is a literal phrase referring to...   \n",
       "3   Agony aunt is a literal term referring to an a...   \n",
       "4   Shrinking violet is a literal term for a viole...   \n",
       "..                                                ...   \n",
       "95  Watering hole is a literal term for a place wh...   \n",
       "96  Flying saucer is a literal term for a saucer-s...   \n",
       "97  Act of God is a literal term referring to even...   \n",
       "98  Field work is a literal term for work done out...   \n",
       "99  Big wig is a literal term for a person who wea...   \n",
       "\n",
       "                               gpt_idiomatic_sentence  \\\n",
       "0   It took a lot of elbow grease to get the old c...   \n",
       "1   As a night owl, she finds it easier to work on...   \n",
       "2   He may seem gruff, but he has a heart of gold ...   \n",
       "3   She decided to write to the magazine's agony a...   \n",
       "4   She's a shrinking violet in meetings, preferri...   \n",
       "..                                                ...   \n",
       "95  The pub has become their regular watering hole...   \n",
       "96  Many people claimed to have seen a flying sauc...   \n",
       "97  The insurance policy covered damage caused by ...   \n",
       "98  He spent the summer doing field work to study ...   \n",
       "99  She’s the big wig in charge of the entire depa...   \n",
       "\n",
       "                                 gpt_literal_sentence  \n",
       "0   I used some elbow grease to scrub the stain of...  \n",
       "1   The night owl swooped silently through the tre...  \n",
       "2   The artist crafted a pendant in the shape of a...  \n",
       "3   My poor agony aunt seemed distressed after hea...  \n",
       "4   The shrinking violet in the garden looked deli...  \n",
       "..                                                ...  \n",
       "95  The lion approached the watering hole, where o...  \n",
       "96  The flying saucer hovered above the field, its...  \n",
       "97  The town was devastated by an act of God when ...  \n",
       "98  The biologist conducted field work in the rain...  \n",
       "99  The big wig arrived at the meeting, making a g...  \n",
       "\n",
       "[100 rows x 4 columns]"
      ]
     },
     "execution_count": 45,
     "metadata": {},
     "output_type": "execute_result"
    }
   ],
   "source": [
    "# read chatGPT data from csv\n",
    "\n",
    "data_chatGPT_train = pd.read_csv(dataDirectory + \"chatGPTNew_train.csv\")\n",
    "data_chatGPT_dev = pd.read_csv(dataDirectory + \"chatGPTNew_dev.csv\")\n",
    "data_chatGPT_test = pd.read_csv(dataDirectory + \"chatGPTNew_test.csv\")\n",
    "data_chatGPT = pd.concat([data_chatGPT_train,data_chatGPT_dev,data_chatGPT_test])\n",
    "\n",
    "data_chatGPT = data_chatGPT.reset_index(drop=True)\n",
    "\n",
    "\n",
    "# rename each column with \"gpt_\" in front of the column name\n",
    "data_chatGPT.rename(columns=lambda x: 'gpt_' + x, inplace=True)\n",
    "data_chatGPT\n"
   ]
  },
  {
   "cell_type": "code",
   "execution_count": 46,
   "metadata": {},
   "outputs": [
    {
     "data": {
      "text/plain": [
       "Index(['gpt_idiomatic_meaning', 'gpt_literal_meaning',\n",
       "       'gpt_idiomatic_sentence', 'gpt_literal_sentence'],\n",
       "      dtype='object')"
      ]
     },
     "execution_count": 46,
     "metadata": {},
     "output_type": "execute_result"
    }
   ],
   "source": [
    "data_chatGPT.columns"
   ]
  },
  {
   "cell_type": "code",
   "execution_count": 47,
   "metadata": {},
   "outputs": [
    {
     "data": {
      "text/plain": [
       "'Agony aunt is a metaphor for a person, often in a column or publication, who provides advice to people facing personal problems.'"
      ]
     },
     "execution_count": 47,
     "metadata": {},
     "output_type": "execute_result"
    }
   ],
   "source": [
    "data_chatGPT[\"gpt_idiomatic_meaning\"][3]"
   ]
  },
  {
   "cell_type": "code",
   "execution_count": 48,
   "metadata": {},
   "outputs": [],
   "source": [
    "data_chatGPT[\"compound\"] = [None for i in range(len(data_chatGPT))]\n",
    "for i in range(len(data_chatGPT)):\n",
    "    data_chatGPT[\"compound\"][i] = data_chatGPT[\"gpt_idiomatic_meaning\"][i].split(\" is\")[0].strip().lower()"
   ]
  },
  {
   "cell_type": "code",
   "execution_count": 124,
   "metadata": {},
   "outputs": [],
   "source": [
    "# gpt data needs some cleanup:\n",
    "\n",
    "# replace ’ with ' in all columns\n",
    "for column in data_chatGPT.columns:\n",
    "    data_chatGPT[column] = data_chatGPT[column].str.replace(\"’\",\"'\")\n",
    "\n"
   ]
  },
  {
   "cell_type": "code",
   "execution_count": 125,
   "metadata": {},
   "outputs": [],
   "source": [
    "# combine dataA and data_chatGPT\n",
    "# \n",
    "merged_df = pd.merge(dataA, data_chatGPT, on='compound')"
   ]
  },
  {
   "cell_type": "code",
   "execution_count": 126,
   "metadata": {},
   "outputs": [
    {
     "data": {
      "text/plain": [
       "((100, 31), (100, 5), (100, 27))"
      ]
     },
     "execution_count": 126,
     "metadata": {},
     "output_type": "execute_result"
    }
   ],
   "source": [
    "merged_df.shape, data_chatGPT.shape, dataA.shape"
   ]
  },
  {
   "cell_type": "code",
   "execution_count": 127,
   "metadata": {},
   "outputs": [
    {
     "data": {
      "text/plain": [
       "Index(['compound', 'subset', 'sentence_type', 'sentence', 'expected_order',\n",
       "       'image1_name', 'image1_caption', 'image2_name', 'image2_caption',\n",
       "       'image3_name', 'image3_caption', 'image4_name', 'image4_caption',\n",
       "       'image5_name', 'image5_caption', 'sentence_embedding_meanSecondToLast',\n",
       "       'sentence_embedding_meanLast4', 'sentence_embedding_meanLast',\n",
       "       'sentence_embedding_meanFirst', 'sentence_embedding_firstCLS',\n",
       "       'sentence_embedding_lastCLS', 'compound_plural', 'compound_idx',\n",
       "       'compound_embedding_meanSecondToLast', 'compound_embedding_meanLast4',\n",
       "       'compound_embedding_meanLast', 'compound_embedding_meanFirst',\n",
       "       'gpt_idiomatic_meaning', 'gpt_literal_meaning',\n",
       "       'gpt_idiomatic_sentence', 'gpt_literal_sentence'],\n",
       "      dtype='object')"
      ]
     },
     "execution_count": 127,
     "metadata": {},
     "output_type": "execute_result"
    }
   ],
   "source": [
    "dataA = merged_df\n",
    "dataA.columns"
   ]
  },
  {
   "cell_type": "markdown",
   "metadata": {},
   "source": []
  },
  {
   "cell_type": "code",
   "execution_count": 128,
   "metadata": {},
   "outputs": [],
   "source": [
    "# Sentence embeddings \n",
    "\n",
    "types = [\"literal_sentence\",\"idiomatic_sentence\",\"literal_meaning\",\"idiomatic_meaning\"]\n",
    "\n",
    "compound_tokenized = tokenize(dataA[\"compound\"].tolist())\n",
    "compound_plural_tokenized = tokenize(dataA[\"compound_plural\"].tolist())    \n",
    "\n",
    "for t in types:\n",
    "    # tokenize the column\n",
    "    tokenized = tokenize(dataA[\"gpt_\"+t].tolist())\n",
    "\n",
    "    # hidden states for gpt_Meaning\n",
    "    input_ids = torch.tensor(tokenized[\"input_ids\"]).to(device)\n",
    "    attention_mask = torch.tensor(tokenized[\"attention_mask\"]).to(device)\n",
    "\n",
    "    with torch.no_grad():\n",
    "        output = model(input_ids, attention_mask)\n",
    "\n",
    "    hidden_states = output.hidden_states\n",
    "\n",
    "    # add a columns to data_chatGPT with the embeddings of the gpt_sentence for each method in methods\n",
    "    for method in methods:\n",
    "        X = get_sentence_embedding(hidden_states,method)\n",
    "        X = np.array([x.cpu().numpy() for x in X]).tolist()\n",
    "        dataA[\"gpt_\"+ t + \"_embedding_\"+ method] = X\n",
    "    # add gpt_compound_embeddings\n",
    "\n",
    "    # identify the indices of the compound in the sentence and use it to get the embeddings of the compound\n",
    "    dataA[\"gpt_compound_idx_\"+t] = [get_idx(compound_tokenized[\"input_ids\"][i], compound_plural_tokenized[\"input_ids\"][i], tokenized[\"input_ids\"][i]) for i in range(len(dataA))]\n",
    "    # apply the methods in compound_methods to get the embeddings of the compound\n",
    "    for method in compound_methods:\n",
    "        dataA['gpt_compound_embedding_'+ t + \"_\"+ method] = get_idxList_embedding(hidden_states,dataA[\"gpt_compound_idx_\" + t],method) \n"
   ]
  },
  {
   "cell_type": "code",
   "execution_count": 129,
   "metadata": {},
   "outputs": [
    {
     "data": {
      "text/plain": [
       "[1.3850862979888916,\n",
       " 0.3751792907714844,\n",
       " -0.0036504045128822327,\n",
       " -0.005035266280174255,\n",
       " 1.0545681715011597,\n",
       " 0.3893338143825531,\n",
       " -0.5685021281242371,\n",
       " 0.16046400368213654,\n",
       " 0.0668158158659935,\n",
       " -0.6202495694160461,\n",
       " 0.527549684047699,\n",
       " -0.048127222806215286,\n",
       " 0.45855432748794556,\n",
       " 0.5623893737792969,\n",
       " -0.7052873373031616,\n",
       " 0.6542649269104004,\n",
       " 0.2678602933883667,\n",
       " 0.29659369587898254,\n",
       " 0.04114852845668793,\n",
       " 0.13115344941616058,\n",
       " 0.596720814704895,\n",
       " 0.019684240221977234,\n",
       " -0.33895641565322876,\n",
       " 0.4839703440666199,\n",
       " 0.7045383453369141,\n",
       " 0.3526879549026489,\n",
       " -0.02480529621243477,\n",
       " -0.09986043721437454,\n",
       " -0.6474232077598572,\n",
       " -0.08497404307126999,\n",
       " 1.1354819536209106,\n",
       " -0.011316269636154175,\n",
       " 0.053069669753313065,\n",
       " -0.10691148042678833,\n",
       " 0.22389322519302368,\n",
       " -0.5342385768890381,\n",
       " -0.24892759323120117,\n",
       " -0.2284896820783615,\n",
       " -0.2407369613647461,\n",
       " 0.14184945821762085,\n",
       " -0.5673600435256958,\n",
       " -0.1071888655424118,\n",
       " -0.07742395251989365,\n",
       " 0.4590650498867035,\n",
       " 0.02236570417881012,\n",
       " -0.09831377863883972,\n",
       " 0.2634449005126953,\n",
       " -0.12366189062595367,\n",
       " -0.6095117330551147,\n",
       " -0.04006974771618843,\n",
       " -0.18672898411750793,\n",
       " -0.1210949644446373,\n",
       " -0.10131450742483139,\n",
       " -0.5501168370246887,\n",
       " 0.11662457138299942,\n",
       " 0.6103399395942688,\n",
       " 0.39505693316459656,\n",
       " -0.875632643699646,\n",
       " -0.5549635291099548,\n",
       " -0.3596188426017761,\n",
       " 0.11110351979732513,\n",
       " 0.3753665089607239,\n",
       " 0.0322246253490448,\n",
       " -0.42904895544052124,\n",
       " 0.026396334171295166,\n",
       " 0.44268083572387695,\n",
       " -0.10465556383132935,\n",
       " -0.2279212921857834,\n",
       " -0.3355783224105835,\n",
       " 0.47017598152160645,\n",
       " 0.4512498080730438,\n",
       " 0.47050678730010986,\n",
       " -1.2146222591400146,\n",
       " -0.26971155405044556,\n",
       " -0.028021588921546936,\n",
       " 0.16118457913398743,\n",
       " 0.2679726183414459,\n",
       " 0.3318661153316498,\n",
       " -0.45625951886177063,\n",
       " 0.06710541248321533,\n",
       " -1.0731990337371826,\n",
       " -0.08957779407501221,\n",
       " 0.3685278296470642,\n",
       " -0.187774658203125,\n",
       " 0.6296111345291138,\n",
       " 0.3312455713748932,\n",
       " 0.23782208561897278,\n",
       " 0.13205237686634064,\n",
       " -0.4474204182624817,\n",
       " -0.05102810263633728,\n",
       " -0.245059072971344,\n",
       " 0.6548476219177246,\n",
       " 0.46637454628944397,\n",
       " 0.41179683804512024,\n",
       " 0.22806265950202942,\n",
       " -1.0766915082931519,\n",
       " 0.14721444249153137,\n",
       " -0.3249339163303375,\n",
       " -0.6285492181777954,\n",
       " -0.4262141287326813,\n",
       " 0.6802712678909302,\n",
       " -0.08417457342147827,\n",
       " 0.3040439784526825,\n",
       " -0.16248515248298645,\n",
       " -0.08127343654632568,\n",
       " -0.7252566814422607,\n",
       " -0.11594416201114655,\n",
       " 0.6115373969078064,\n",
       " -0.23721416294574738,\n",
       " -0.021541468799114227,\n",
       " 0.3900374472141266,\n",
       " 0.4844328761100769,\n",
       " -0.013958841562271118,\n",
       " -0.1694660186767578,\n",
       " -0.12966910004615784,\n",
       " 0.10978269577026367,\n",
       " 0.28039488196372986,\n",
       " 0.1753898411989212,\n",
       " 0.06557393074035645,\n",
       " 0.1722957342863083,\n",
       " -0.5837167501449585,\n",
       " 0.43225395679473877,\n",
       " 0.3448387682437897,\n",
       " 0.8799363374710083,\n",
       " -0.5710846185684204,\n",
       " -0.06284762918949127,\n",
       " 0.3471548557281494,\n",
       " 0.48967617750167847,\n",
       " 0.10451515018939972,\n",
       " -0.33697253465652466,\n",
       " 0.27256375551223755,\n",
       " 0.6168928146362305,\n",
       " 0.1774858832359314,\n",
       " -0.42046430706977844,\n",
       " -0.3537847399711609,\n",
       " 0.21044187247753143,\n",
       " 0.03992693871259689,\n",
       " 0.013721264898777008,\n",
       " -0.07814593613147736,\n",
       " 0.11669053882360458,\n",
       " -0.17077016830444336,\n",
       " -0.5848336815834045,\n",
       " 0.5488467216491699,\n",
       " 0.054305270314216614,\n",
       " 0.1471644788980484,\n",
       " -0.2942841649055481,\n",
       " -0.0147179514169693,\n",
       " 0.3990195691585541,\n",
       " 0.5486966371536255,\n",
       " 0.6873289346694946,\n",
       " 0.3255520462989807,\n",
       " 0.022055357694625854,\n",
       " -0.6150141954421997,\n",
       " -0.43528831005096436,\n",
       " 0.5862479209899902,\n",
       " 0.18192517757415771,\n",
       " 0.12838084995746613,\n",
       " 0.28934192657470703,\n",
       " -0.18061694502830505,\n",
       " -0.2159707248210907,\n",
       " 0.7708364725112915,\n",
       " 0.1154555007815361,\n",
       " -0.5313571095466614,\n",
       " 0.6307318210601807,\n",
       " 0.43369001150131226,\n",
       " 0.2714442014694214,\n",
       " -0.45453891158103943,\n",
       " 0.6070451736450195,\n",
       " -0.10396967083215714,\n",
       " 0.3690139651298523,\n",
       " -0.5845239162445068,\n",
       " 0.5377373695373535,\n",
       " 0.6495047807693481,\n",
       " -0.749057412147522,\n",
       " 0.36790764331817627,\n",
       " 0.7569057941436768,\n",
       " 0.24843786656856537,\n",
       " -0.08724123239517212,\n",
       " 0.6413717269897461,\n",
       " 0.43902191519737244,\n",
       " -0.3498667776584625,\n",
       " 0.32993680238723755,\n",
       " 0.6871860027313232,\n",
       " 0.27869051694869995,\n",
       " -0.24823851883411407,\n",
       " 0.1093418300151825,\n",
       " -0.5556433200836182,\n",
       " -0.28351378440856934,\n",
       " -0.5671923160552979,\n",
       " 0.12084556370973587,\n",
       " -0.44232434034347534,\n",
       " -1.4357974529266357,\n",
       " -0.043157145380973816,\n",
       " -0.18768279254436493,\n",
       " -0.26163145899772644,\n",
       " -0.24982360005378723,\n",
       " -0.8571377992630005,\n",
       " 0.1442074179649353,\n",
       " -0.4626269042491913,\n",
       " -0.0740453451871872,\n",
       " -0.5200819969177246,\n",
       " 0.31646728515625,\n",
       " 0.26129990816116333,\n",
       " 0.20099128782749176,\n",
       " -0.5452991127967834,\n",
       " 0.0393516942858696,\n",
       " 0.8741798996925354,\n",
       " -0.07811325043439865,\n",
       " -0.17051754891872406,\n",
       " 0.2564193606376648,\n",
       " -0.5447191596031189,\n",
       " -0.13251540064811707,\n",
       " -0.2447264939546585,\n",
       " 0.07547537982463837,\n",
       " -0.09358741343021393,\n",
       " 1.0113475322723389,\n",
       " 0.12172624468803406,\n",
       " -0.03648160398006439,\n",
       " -0.3650156259536743,\n",
       " -0.4728545546531677,\n",
       " 0.10255435109138489,\n",
       " 0.1487606167793274,\n",
       " -1.147472858428955,\n",
       " 0.5574294328689575,\n",
       " -0.46601295471191406,\n",
       " 0.7406408786773682,\n",
       " -0.3286745548248291,\n",
       " 0.08315201848745346,\n",
       " 0.7522810101509094,\n",
       " 0.5547816753387451,\n",
       " 0.499955952167511,\n",
       " 0.07025729864835739,\n",
       " -0.350754052400589,\n",
       " -0.08733171224594116,\n",
       " -0.09376509487628937,\n",
       " -0.5559887886047363,\n",
       " 0.4836397171020508,\n",
       " -0.02711000293493271,\n",
       " -0.015936587005853653,\n",
       " -0.30186328291893005,\n",
       " -0.07870372384786606,\n",
       " 0.6660783886909485,\n",
       " 0.3305414021015167,\n",
       " 0.422768235206604,\n",
       " 0.5210505127906799,\n",
       " 0.492183655500412,\n",
       " -0.07017375528812408,\n",
       " -0.11743621528148651,\n",
       " -0.47990962862968445,\n",
       " -0.6865493059158325,\n",
       " -0.4691729247570038,\n",
       " -0.34109625220298767,\n",
       " 0.4450643062591553,\n",
       " -0.5868139266967773,\n",
       " 0.421236127614975,\n",
       " 0.25396400690078735,\n",
       " -0.05924999713897705,\n",
       " 0.29685619473457336,\n",
       " -0.12414641678333282,\n",
       " -0.04447266459465027,\n",
       " 0.8857337236404419,\n",
       " -0.3856053948402405,\n",
       " 0.7382050156593323,\n",
       " 0.5269291400909424,\n",
       " -0.04459456354379654,\n",
       " -0.12222637236118317,\n",
       " -0.03419323265552521,\n",
       " -0.24276842176914215,\n",
       " 1.1982228755950928,\n",
       " -0.14406141638755798,\n",
       " -0.5661023855209351,\n",
       " -0.06398668885231018,\n",
       " 0.3266441822052002,\n",
       " 0.45010629296302795,\n",
       " -0.49723145365715027,\n",
       " -0.48737308382987976,\n",
       " 0.37175843119621277,\n",
       " 0.4059045612812042,\n",
       " -0.6071041822433472,\n",
       " -0.3279516100883484,\n",
       " -0.0357329286634922,\n",
       " 0.8465996980667114,\n",
       " -1.0103293657302856,\n",
       " -0.036516834050416946,\n",
       " 0.1228117048740387,\n",
       " -0.5090614557266235,\n",
       " -0.11476747691631317,\n",
       " 0.22747106850147247,\n",
       " -0.5983625650405884,\n",
       " -0.37890568375587463,\n",
       " -0.6203121542930603,\n",
       " 0.8587990999221802,\n",
       " -0.7226436138153076,\n",
       " -0.03211231529712677,\n",
       " -0.03409435600042343,\n",
       " -0.12742941081523895,\n",
       " 0.4692469537258148,\n",
       " -0.2955223619937897,\n",
       " -0.09033236652612686,\n",
       " -0.5926973819732666,\n",
       " -0.08899646997451782,\n",
       " -0.46574804186820984,\n",
       " 0.04256395250558853,\n",
       " 0.01868826150894165,\n",
       " -0.26732951402664185,\n",
       " 0.10708659887313843,\n",
       " -0.16035136580467224,\n",
       " -1.1238844394683838,\n",
       " -3.9374570846557617,\n",
       " -0.20266026258468628,\n",
       " 0.017551526427268982,\n",
       " 0.011433953419327736,\n",
       " 0.3923872411251068,\n",
       " -0.1969650387763977,\n",
       " -0.16162072122097015,\n",
       " -0.496162474155426,\n",
       " -0.5720593929290771,\n",
       " 0.07829940319061279,\n",
       " -0.7402238845825195,\n",
       " 0.3447021245956421,\n",
       " 0.6811604499816895,\n",
       " 0.2780711054801941,\n",
       " 0.35544413328170776,\n",
       " 0.3614804744720459,\n",
       " 0.22390037775039673,\n",
       " -0.4657760560512543,\n",
       " 0.5781898498535156,\n",
       " 0.7565112113952637,\n",
       " -0.028643950819969177,\n",
       " 0.20838913321495056,\n",
       " 0.08903270214796066,\n",
       " 0.6539517641067505,\n",
       " 0.47201889753341675,\n",
       " 0.11238303780555725,\n",
       " -1.0335159301757812,\n",
       " 0.6048375368118286,\n",
       " -0.03614932298660278,\n",
       " -0.4141136407852173,\n",
       " 0.08094482123851776,\n",
       " -0.18162164092063904,\n",
       " -0.1418227255344391,\n",
       " -0.4557971954345703,\n",
       " 0.35229161381721497,\n",
       " -0.07723520696163177,\n",
       " 0.1690356433391571,\n",
       " -0.6031139492988586,\n",
       " -0.8373100161552429,\n",
       " -0.3295973241329193,\n",
       " -0.813093364238739,\n",
       " 0.580963671207428,\n",
       " -0.16225899755954742,\n",
       " -0.4373513460159302,\n",
       " 1.038278579711914,\n",
       " -0.1928284913301468,\n",
       " 0.31988850235939026,\n",
       " -0.8918415307998657,\n",
       " 0.24651484191417694,\n",
       " 0.20428287982940674,\n",
       " -0.48241424560546875,\n",
       " 0.20476235449314117,\n",
       " -0.40991026163101196,\n",
       " -0.2528116703033447,\n",
       " -0.24770814180374146,\n",
       " 0.19956447184085846,\n",
       " 0.042884357273578644,\n",
       " 0.08540281653404236,\n",
       " -0.2172657549381256,\n",
       " -0.5236426591873169,\n",
       " -0.4449722468852997,\n",
       " -0.6339766979217529,\n",
       " 0.7591093182563782,\n",
       " -0.44746434688568115,\n",
       " 0.907591700553894,\n",
       " -0.15148691833019257,\n",
       " -1.2281489372253418,\n",
       " -0.4953668415546417,\n",
       " 0.20243483781814575,\n",
       " -0.5351715683937073,\n",
       " 0.5179614424705505,\n",
       " 0.545397162437439,\n",
       " -0.40234676003456116,\n",
       " -1.4129074811935425,\n",
       " -0.12612812221050262,\n",
       " -0.4275866746902466,\n",
       " 0.01724812388420105,\n",
       " -0.2657727897167206,\n",
       " -0.2537103295326233,\n",
       " 0.10886146873235703,\n",
       " -0.062451064586639404,\n",
       " -0.4310264587402344,\n",
       " -0.011376768350601196,\n",
       " -0.2727802097797394,\n",
       " -0.3702232241630554,\n",
       " 0.12147094309329987,\n",
       " 0.03311283141374588,\n",
       " -0.6422610878944397,\n",
       " -0.2141452133655548,\n",
       " -0.7922064065933228,\n",
       " 0.25234997272491455,\n",
       " 0.3539341390132904,\n",
       " 0.11441957950592041,\n",
       " -0.267616331577301,\n",
       " 0.10407748818397522,\n",
       " 0.4437008202075958,\n",
       " -0.0691101923584938,\n",
       " -0.690168559551239,\n",
       " -0.08888959139585495,\n",
       " -0.2293810248374939,\n",
       " 0.5071337223052979,\n",
       " 0.09815455973148346,\n",
       " 0.5571336150169373,\n",
       " -0.11565934121608734,\n",
       " -0.17052462697029114,\n",
       " -0.025734663009643555,\n",
       " -0.4464395046234131,\n",
       " 0.6735247373580933,\n",
       " -0.0228149201720953,\n",
       " 0.18364021182060242,\n",
       " 0.454695463180542,\n",
       " -0.44798994064331055,\n",
       " 0.40517914295196533,\n",
       " -0.2692822813987732,\n",
       " -0.4670898914337158,\n",
       " 0.014309406280517578,\n",
       " 0.6636971831321716,\n",
       " 0.3650684356689453,\n",
       " -0.29803070425987244,\n",
       " 0.06516606360673904,\n",
       " 0.25605592131614685,\n",
       " -0.15415874123573303,\n",
       " -0.34219983220100403,\n",
       " -0.5398669242858887,\n",
       " -0.09694793075323105,\n",
       " -0.33823925256729126,\n",
       " -0.07889789342880249,\n",
       " 0.645496129989624,\n",
       " -0.07511132210493088,\n",
       " 0.368594229221344,\n",
       " -0.13496683537960052,\n",
       " -0.8060986399650574,\n",
       " -1.1114912033081055,\n",
       " 0.08493649959564209,\n",
       " 0.06513777375221252,\n",
       " 0.12496161460876465,\n",
       " -0.7018557786941528,\n",
       " -0.8093286752700806,\n",
       " -0.27994826436042786,\n",
       " 0.7366315126419067,\n",
       " 0.2821226716041565,\n",
       " 0.18416818976402283,\n",
       " 0.2284044623374939,\n",
       " -0.41003793478012085,\n",
       " 0.6929624676704407,\n",
       " 0.20014391839504242,\n",
       " 0.4890560507774353,\n",
       " -0.5794739127159119,\n",
       " -0.5545681715011597,\n",
       " 0.6045727729797363,\n",
       " -0.40726611018180847,\n",
       " -0.10935014486312866,\n",
       " 0.16431504487991333,\n",
       " 0.010758355259895325,\n",
       " 0.8219854831695557,\n",
       " 0.7491599917411804,\n",
       " 0.685918927192688,\n",
       " -0.2389601618051529,\n",
       " -0.24423500895500183,\n",
       " -0.3537197411060333,\n",
       " 0.8118236660957336,\n",
       " 0.106816366314888,\n",
       " 1.1156251430511475,\n",
       " 0.09791608154773712,\n",
       " -0.6452303528785706,\n",
       " -0.28153711557388306,\n",
       " -0.5161032676696777,\n",
       " -0.3802757263183594,\n",
       " 0.23434221744537354,\n",
       " -0.1455731987953186,\n",
       " -0.04467533528804779,\n",
       " -0.03793616220355034,\n",
       " -0.30747997760772705,\n",
       " 0.019565969705581665,\n",
       " -0.05066588148474693,\n",
       " 0.054329097270965576,\n",
       " -0.18687781691551208,\n",
       " -0.3057827353477478,\n",
       " -0.5981535911560059,\n",
       " -0.20519264042377472,\n",
       " -0.18975043296813965,\n",
       " -0.6204031109809875,\n",
       " -0.2368825227022171,\n",
       " -0.11805157363414764,\n",
       " -0.03941231966018677,\n",
       " -0.7436416745185852,\n",
       " 0.046267248690128326,\n",
       " -0.7312233448028564,\n",
       " 0.42220354080200195,\n",
       " -0.28494495153427124,\n",
       " 0.7454556226730347,\n",
       " 0.1956396996974945,\n",
       " -0.07830539345741272,\n",
       " -0.05825437605381012,\n",
       " -0.33077478408813477,\n",
       " -0.9736579656600952,\n",
       " 0.48906606435775757,\n",
       " 0.06623926013708115,\n",
       " 0.2987123131752014,\n",
       " 0.13618461787700653,\n",
       " 0.5055245161056519,\n",
       " 0.2890397906303406,\n",
       " -0.6803255677223206,\n",
       " -0.14622540771961212,\n",
       " -0.7728475332260132,\n",
       " -0.30080240964889526,\n",
       " 0.16113965213298798,\n",
       " -0.20696604251861572,\n",
       " -0.5296806693077087,\n",
       " 0.39233797788619995,\n",
       " 0.2989487648010254,\n",
       " -0.16135777533054352,\n",
       " -0.0907817929983139,\n",
       " 0.010885901749134064,\n",
       " -0.02808595821261406,\n",
       " 0.4902316927909851,\n",
       " 0.009130120277404785,\n",
       " -0.11490795016288757,\n",
       " -0.3025527000427246,\n",
       " 0.06166496127843857,\n",
       " -0.26946601271629333,\n",
       " 0.2334761917591095,\n",
       " -0.29034531116485596,\n",
       " 0.15466085076332092,\n",
       " -0.4067450165748596,\n",
       " 0.023332953453063965,\n",
       " 0.6023115515708923,\n",
       " 0.449763685464859,\n",
       " -0.6547636985778809,\n",
       " 0.39186882972717285,\n",
       " 0.0011733472347259521,\n",
       " -1.521209478378296,\n",
       " 0.9268451929092407,\n",
       " 0.3374510109424591,\n",
       " 0.05468391627073288,\n",
       " 0.8823318481445312,\n",
       " -0.6304994821548462,\n",
       " -0.4249815344810486,\n",
       " 0.6171847581863403,\n",
       " -0.3731665015220642,\n",
       " 0.5129734873771667,\n",
       " -0.019815824925899506,\n",
       " 0.12205838412046432,\n",
       " 0.3760721981525421,\n",
       " 0.1572977751493454,\n",
       " 0.19182243943214417,\n",
       " 0.4596315026283264,\n",
       " 0.6174508333206177,\n",
       " -0.5047628879547119,\n",
       " -0.5148128867149353,\n",
       " 0.4593631625175476,\n",
       " -0.32022717595100403,\n",
       " 0.058766309171915054,\n",
       " -0.9710854291915894,\n",
       " 0.1842670738697052,\n",
       " -0.7396740913391113,\n",
       " -0.6074599623680115,\n",
       " 0.12267128378152847,\n",
       " -0.6796423196792603,\n",
       " -0.012789810076355934,\n",
       " -0.42221713066101074,\n",
       " -0.597460925579071,\n",
       " -0.39192017912864685,\n",
       " 0.20584598183631897,\n",
       " -0.07888056337833405,\n",
       " -0.12353384494781494,\n",
       " -0.07896961271762848,\n",
       " -0.6494644284248352,\n",
       " 0.7080739736557007,\n",
       " -0.46893349289894104,\n",
       " -0.027042925357818604,\n",
       " -0.10137743502855301,\n",
       " -0.14962315559387207,\n",
       " -0.6852560043334961,\n",
       " -0.1867881864309311,\n",
       " -0.17274200916290283,\n",
       " 0.1709432601928711,\n",
       " -0.8049209713935852,\n",
       " 0.9086511135101318,\n",
       " -0.9132479429244995,\n",
       " -0.4283321499824524,\n",
       " 0.40746593475341797,\n",
       " -0.19727736711502075,\n",
       " -0.15135693550109863,\n",
       " -0.3776181638240814,\n",
       " -0.44157862663269043,\n",
       " 0.0003419462591409683,\n",
       " 0.053924381732940674,\n",
       " -0.3886924386024475,\n",
       " 0.6093292236328125,\n",
       " 0.3816325068473816,\n",
       " 0.4038287103176117,\n",
       " 0.1272139549255371,\n",
       " -0.1155923455953598,\n",
       " -0.33115750551223755,\n",
       " 0.7340149879455566,\n",
       " 1.297842264175415,\n",
       " 0.7179690599441528,\n",
       " -0.5535557270050049,\n",
       " 0.1449441760778427,\n",
       " 0.1611752212047577,\n",
       " 0.11901537328958511,\n",
       " 0.26707547903060913,\n",
       " 0.4071170389652252,\n",
       " -0.18180698156356812,\n",
       " -0.10832107067108154,\n",
       " 0.3180779218673706,\n",
       " -0.034602075815200806,\n",
       " -0.5308698415756226,\n",
       " -0.4231884777545929,\n",
       " 0.32504555583000183,\n",
       " -0.6043450236320496,\n",
       " 0.3812297284603119,\n",
       " 0.5306909084320068,\n",
       " -0.7817031145095825,\n",
       " -0.3065725564956665,\n",
       " -0.9714648723602295,\n",
       " 0.021613210439682007,\n",
       " -0.5852694511413574,\n",
       " 0.38740479946136475,\n",
       " -0.07859422266483307,\n",
       " 0.040067464113235474,\n",
       " 0.43297821283340454,\n",
       " 0.08996231853961945,\n",
       " 0.2379293143749237,\n",
       " 0.9049662947654724,\n",
       " -0.23530617356300354,\n",
       " -0.1839013695716858,\n",
       " -0.5787240266799927,\n",
       " -0.5451372861862183,\n",
       " -0.6498436331748962,\n",
       " 0.1924307644367218,\n",
       " 0.149696946144104,\n",
       " 0.26688095927238464,\n",
       " 0.3095757067203522,\n",
       " -0.3087592124938965,\n",
       " 0.5726654529571533,\n",
       " 0.6259986162185669,\n",
       " 0.5115048289299011,\n",
       " -0.17886994779109955,\n",
       " 0.22308282554149628,\n",
       " 0.4582967758178711,\n",
       " -0.2724283039569855,\n",
       " 0.5414722561836243,\n",
       " 0.5972822904586792,\n",
       " -0.42736583948135376,\n",
       " -0.15864765644073486,\n",
       " -0.6262342929840088,\n",
       " 1.0423448085784912,\n",
       " -0.18991273641586304,\n",
       " -0.552660346031189,\n",
       " -0.1732359528541565,\n",
       " 0.2256946861743927,\n",
       " -0.47813841700553894,\n",
       " 0.923084557056427,\n",
       " -0.033104538917541504,\n",
       " -0.09263315796852112,\n",
       " -0.46777284145355225,\n",
       " -0.19822536408901215,\n",
       " 1.9726872444152832,\n",
       " 0.7828518748283386,\n",
       " -0.08854682743549347,\n",
       " -0.4715840816497803,\n",
       " -0.6304364204406738,\n",
       " 0.07790450751781464,\n",
       " 0.05597059428691864,\n",
       " -0.002390265464782715,\n",
       " 0.5081530213356018,\n",
       " 0.2864832580089569,\n",
       " 0.14118152856826782,\n",
       " 0.42201584577560425,\n",
       " 0.02840321511030197,\n",
       " 0.5699034929275513,\n",
       " 0.43198010325431824,\n",
       " -0.4628812372684479,\n",
       " -0.033573001623153687,\n",
       " 0.21033531427383423,\n",
       " 0.15510500967502594,\n",
       " 0.1976127326488495,\n",
       " 0.06503888964653015,\n",
       " -0.565773606300354,\n",
       " 0.04708346724510193,\n",
       " -0.2947121858596802,\n",
       " -0.049312084913253784,\n",
       " -0.6400436162948608,\n",
       " 0.28008073568344116,\n",
       " -0.24514946341514587,\n",
       " 0.4464814364910126,\n",
       " 0.04906222224235535,\n",
       " -0.46554166078567505,\n",
       " -0.0844440907239914,\n",
       " -0.3752676844596863,\n",
       " 0.43925273418426514,\n",
       " -0.2640962302684784,\n",
       " 0.02100253663957119,\n",
       " -0.09144845604896545,\n",
       " 0.0861138254404068,\n",
       " 0.7728276252746582,\n",
       " 0.7573758363723755,\n",
       " -0.16025549173355103,\n",
       " -0.5699127912521362,\n",
       " 0.1474451720714569,\n",
       " -0.2780190706253052,\n",
       " 0.7557767629623413,\n",
       " 0.3647163510322571,\n",
       " 0.5718103647232056,\n",
       " -0.41190558671951294,\n",
       " 0.14631138741970062,\n",
       " 0.22454777359962463,\n",
       " 0.14031626284122467,\n",
       " -0.2335420846939087,\n",
       " 0.5822632312774658,\n",
       " -0.08600650727748871,\n",
       " 0.2726542353630066,\n",
       " -0.600562334060669,\n",
       " -0.38126084208488464,\n",
       " 0.7021462917327881,\n",
       " -0.5766090154647827,\n",
       " -0.5468711256980896,\n",
       " -0.11823749542236328,\n",
       " -0.24662861227989197,\n",
       " -0.39933520555496216,\n",
       " 0.014781201258301735,\n",
       " 0.7282760739326477,\n",
       " -0.4904184639453888,\n",
       " -0.08558863401412964,\n",
       " -0.0776640921831131,\n",
       " 0.5719742774963379,\n",
       " 0.6513822078704834,\n",
       " 0.2528686821460724,\n",
       " -0.33859381079673767,\n",
       " 0.8580714464187622,\n",
       " -0.06727083772420883,\n",
       " -0.03064723312854767,\n",
       " -0.2793964743614197,\n",
       " -0.2067648470401764,\n",
       " -0.0967276468873024,\n",
       " 0.21433767676353455,\n",
       " 0.12326307594776154,\n",
       " -0.45352208614349365,\n",
       " 0.5683687925338745,\n",
       " -0.251229465007782,\n",
       " -0.5616995096206665,\n",
       " 0.7474859952926636,\n",
       " 0.2654336094856262,\n",
       " 0.009599670767784119,\n",
       " 0.003331422805786133,\n",
       " -0.20789889991283417,\n",
       " 0.13911832869052887,\n",
       " -0.18518197536468506,\n",
       " -0.767177939414978,\n",
       " 0.31967753171920776,\n",
       " 0.5476975440979004,\n",
       " 0.0792231559753418,\n",
       " 0.6671351790428162,\n",
       " -0.5325205326080322,\n",
       " -0.3795866370201111,\n",
       " -0.2602130174636841,\n",
       " -0.4704733192920685,\n",
       " -0.07860051840543747]"
      ]
     },
     "execution_count": 129,
     "metadata": {},
     "output_type": "execute_result"
    }
   ],
   "source": [
    "dataA['gpt_compound_embedding_literal_sentence_meanLast'][0]"
   ]
  },
  {
   "cell_type": "markdown",
   "metadata": {},
   "source": [
    "3) ### Use cosine similarity between compound_embedding in sentence and in gpt sentence/meaning to decide idiomatic/literal"
   ]
  },
  {
   "cell_type": "code",
   "execution_count": 130,
   "metadata": {},
   "outputs": [],
   "source": [
    "def cosine_similarity(u, v):\n",
    "    return np.dot(u, v) / (np.linalg.norm(u) * np.linalg.norm(v))\n",
    "\n",
    "\n",
    "def compare(emb,emb0,emb1):\n",
    "    sim0 = cosine_similarity(emb,emb0)\n",
    "    sim1 = cosine_similarity(emb,emb1)\n",
    "    if sim0 > sim1:\n",
    "        return 0\n",
    "    else:\n",
    "        return 1"
   ]
  },
  {
   "cell_type": "code",
   "execution_count": 131,
   "metadata": {},
   "outputs": [
    {
     "name": "stdout",
     "output_type": "stream",
     "text": [
      "Index(['compound', 'subset', 'sentence_type', 'sentence', 'expected_order',\n",
      "       'image1_name', 'image1_caption', 'image2_name', 'image2_caption',\n",
      "       'image3_name', 'image3_caption', 'image4_name', 'image4_caption',\n",
      "       'image5_name', 'image5_caption', 'sentence_embedding_meanSecondToLast',\n",
      "       'sentence_embedding_meanLast4', 'sentence_embedding_meanLast',\n",
      "       'sentence_embedding_meanFirst', 'sentence_embedding_firstCLS',\n",
      "       'sentence_embedding_lastCLS', 'compound_plural', 'compound_idx',\n",
      "       'compound_embedding_meanSecondToLast', 'compound_embedding_meanLast4',\n",
      "       'compound_embedding_meanLast', 'compound_embedding_meanFirst',\n",
      "       'gpt_idiomatic_meaning', 'gpt_literal_meaning',\n",
      "       'gpt_idiomatic_sentence', 'gpt_literal_sentence',\n",
      "       'gpt_literal_sentence_embedding_meanSecondToLast',\n",
      "       'gpt_literal_sentence_embedding_meanLast4',\n",
      "       'gpt_literal_sentence_embedding_meanLast',\n",
      "       'gpt_literal_sentence_embedding_meanFirst',\n",
      "       'gpt_literal_sentence_embedding_firstCLS',\n",
      "       'gpt_literal_sentence_embedding_lastCLS',\n",
      "       'gpt_compound_idx_literal_sentence',\n",
      "       'gpt_compound_embedding_literal_sentence_meanSecondToLast',\n",
      "       'gpt_compound_embedding_literal_sentence_meanLast4',\n",
      "       'gpt_compound_embedding_literal_sentence_meanLast',\n",
      "       'gpt_compound_embedding_literal_sentence_meanFirst',\n",
      "       'gpt_idiomatic_sentence_embedding_meanSecondToLast',\n",
      "       'gpt_idiomatic_sentence_embedding_meanLast4',\n",
      "       'gpt_idiomatic_sentence_embedding_meanLast',\n",
      "       'gpt_idiomatic_sentence_embedding_meanFirst',\n",
      "       'gpt_idiomatic_sentence_embedding_firstCLS',\n",
      "       'gpt_idiomatic_sentence_embedding_lastCLS',\n",
      "       'gpt_compound_idx_idiomatic_sentence',\n",
      "       'gpt_compound_embedding_idiomatic_sentence_meanSecondToLast',\n",
      "       'gpt_compound_embedding_idiomatic_sentence_meanLast4',\n",
      "       'gpt_compound_embedding_idiomatic_sentence_meanLast',\n",
      "       'gpt_compound_embedding_idiomatic_sentence_meanFirst',\n",
      "       'gpt_literal_meaning_embedding_meanSecondToLast',\n",
      "       'gpt_literal_meaning_embedding_meanLast4',\n",
      "       'gpt_literal_meaning_embedding_meanLast',\n",
      "       'gpt_literal_meaning_embedding_meanFirst',\n",
      "       'gpt_literal_meaning_embedding_firstCLS',\n",
      "       'gpt_literal_meaning_embedding_lastCLS',\n",
      "       'gpt_compound_idx_literal_meaning',\n",
      "       'gpt_compound_embedding_literal_meaning_meanSecondToLast',\n",
      "       'gpt_compound_embedding_literal_meaning_meanLast4',\n",
      "       'gpt_compound_embedding_literal_meaning_meanLast',\n",
      "       'gpt_compound_embedding_literal_meaning_meanFirst',\n",
      "       'gpt_idiomatic_meaning_embedding_meanSecondToLast',\n",
      "       'gpt_idiomatic_meaning_embedding_meanLast4',\n",
      "       'gpt_idiomatic_meaning_embedding_meanLast',\n",
      "       'gpt_idiomatic_meaning_embedding_meanFirst',\n",
      "       'gpt_idiomatic_meaning_embedding_firstCLS',\n",
      "       'gpt_idiomatic_meaning_embedding_lastCLS',\n",
      "       'gpt_compound_idx_idiomatic_meaning',\n",
      "       'gpt_compound_embedding_idiomatic_meaning_meanSecondToLast',\n",
      "       'gpt_compound_embedding_idiomatic_meaning_meanLast4',\n",
      "       'gpt_compound_embedding_idiomatic_meaning_meanLast',\n",
      "       'gpt_compound_embedding_idiomatic_meaning_meanFirst'],\n",
      "      dtype='object')\n"
     ]
    }
   ],
   "source": [
    "print(dataA.columns)"
   ]
  },
  {
   "cell_type": "code",
   "execution_count": 132,
   "metadata": {},
   "outputs": [],
   "source": [
    "for t in [\"sentence\", \"meaning\"]:\n",
    "    m = \"meanLast4\"\n",
    "\n",
    "    gpt_compound_embedding_idiomatic = dataA[\"gpt_compound_embedding_\" + \"idiomatic_\" + t + \"_\" + m]\n",
    "    gpt_compound_embedding_literal = dataA[\"gpt_compound_embedding_\" + \"literal_\" + t + \"_\" + m]\n",
    "\n",
    "    preds = []\n",
    "    for i in range(len(dataA)):\n",
    "        idx = compare(dataA[\"compound_embedding_\" + m][i],gpt_compound_embedding_literal[i],gpt_compound_embedding_idiomatic[i])\n",
    "        preds.append([\"literal\",\"idiomatic\"][idx])\n",
    "\n",
    "    dataA[\"pred_compound_sentence_and_compound_\" + t] = preds\n"
   ]
  },
  {
   "cell_type": "code",
   "execution_count": 133,
   "metadata": {},
   "outputs": [
    {
     "data": {
      "text/plain": [
       "(idiomatic    59\n",
       " literal      41\n",
       " Name: pred_compound_sentence_and_compound_sentence, dtype: int64,\n",
       " idiomatic    71\n",
       " literal      29\n",
       " Name: pred_compound_sentence_and_compound_meaning, dtype: int64)"
      ]
     },
     "execution_count": 133,
     "metadata": {},
     "output_type": "execute_result"
    }
   ],
   "source": [
    "dataA[\"pred_compound_sentence_and_compound_sentence\"].value_counts(), dataA[\"pred_compound_sentence_and_compound_meaning\"].value_counts()"
   ]
  },
  {
   "cell_type": "code",
   "execution_count": 134,
   "metadata": {},
   "outputs": [
    {
     "name": "stdout",
     "output_type": "stream",
     "text": [
      "compound sentence\n",
      "0.8857142857142857\n",
      "              precision    recall  f1-score   support\n",
      "\n",
      "   idiomatic       0.90      0.90      0.90        39\n",
      "     literal       0.87      0.87      0.87        31\n",
      "\n",
      "    accuracy                           0.89        70\n",
      "   macro avg       0.88      0.88      0.88        70\n",
      "weighted avg       0.89      0.89      0.89        70\n",
      "\n",
      "compound meaning\n",
      "0.7428571428571429\n",
      "              precision    recall  f1-score   support\n",
      "\n",
      "   idiomatic       0.71      0.92      0.80        39\n",
      "     literal       0.84      0.52      0.64        31\n",
      "\n",
      "    accuracy                           0.74        70\n",
      "   macro avg       0.77      0.72      0.72        70\n",
      "weighted avg       0.77      0.74      0.73        70\n",
      "\n"
     ]
    }
   ],
   "source": [
    "dataA_train = only_train(dataA)\n",
    "\n",
    "# check accuracy of the predictions: idiomaticity predicted by compound embedding in sentence compared to \n",
    "# compound embedding in gpt_sentence \n",
    "y = dataA_train[\"sentence_type\"]\n",
    "y_pred = dataA_train[\"pred_compound_sentence_and_compound_sentence\"]\n",
    "print(\"compound sentence\")\n",
    "print(accuracy_score(y, y_pred))\n",
    "print(classification_report(y, y_pred,zero_division=0))\n",
    "\n",
    "y_pred = dataA_train[\"pred_compound_sentence_and_compound_meaning\"]\n",
    "print(\"compound meaning\")\n",
    "print(accuracy_score(y, y_pred))\n",
    "print(classification_report(y, y_pred,zero_division=0))\n"
   ]
  },
  {
   "cell_type": "markdown",
   "metadata": {},
   "source": [
    "## Cosine similarity between sentences and gpt sentences/meanings"
   ]
  },
  {
   "cell_type": "code",
   "execution_count": 135,
   "metadata": {},
   "outputs": [],
   "source": [
    "for t in [\"sentence\", \"meaning\"]:\n",
    "    for m in [\"lastCLS\", \"meanLast4\"]: \n",
    "\n",
    "        gpt_embedding_idiomatic = dataA[\"gpt_idiomatic_\" + t + \"_embedding_\" + m]\n",
    "        gpt_embedding_literal = dataA[\"gpt_literal_\" + t + \"_embedding_\" + m]\n",
    "\n",
    "        preds = []\n",
    "        for i in range(len(dataA)):\n",
    "            idx = compare(dataA[\"sentence_embedding_\" + m][i],gpt_embedding_literal[i],gpt_embedding_idiomatic[i])\n",
    "            preds.append([\"literal\",\"idiomatic\"][idx])\n",
    "\n",
    "        dataA[\"pred_sentence_and_\" + t + \"_\" + m] = preds\n"
   ]
  },
  {
   "cell_type": "code",
   "execution_count": 136,
   "metadata": {},
   "outputs": [
    {
     "name": "stdout",
     "output_type": "stream",
     "text": [
      "lastCLS\n",
      "sentence\n",
      "0.8285714285714286\n",
      "              precision    recall  f1-score   support\n",
      "\n",
      "   idiomatic       0.83      0.87      0.85        39\n",
      "     literal       0.83      0.77      0.80        31\n",
      "\n",
      "    accuracy                           0.83        70\n",
      "   macro avg       0.83      0.82      0.82        70\n",
      "weighted avg       0.83      0.83      0.83        70\n",
      "\n",
      "-----------------\n",
      "meaning\n",
      "0.6571428571428571\n",
      "              precision    recall  f1-score   support\n",
      "\n",
      "   idiomatic       0.64      0.87      0.74        39\n",
      "     literal       0.71      0.39      0.50        31\n",
      "\n",
      "    accuracy                           0.66        70\n",
      "   macro avg       0.67      0.63      0.62        70\n",
      "weighted avg       0.67      0.66      0.63        70\n",
      "\n",
      "==========================================\n",
      "meanLast4\n",
      "sentence\n",
      "0.7571428571428571\n",
      "              precision    recall  f1-score   support\n",
      "\n",
      "   idiomatic       0.74      0.87      0.80        39\n",
      "     literal       0.79      0.61      0.69        31\n",
      "\n",
      "    accuracy                           0.76        70\n",
      "   macro avg       0.77      0.74      0.75        70\n",
      "weighted avg       0.76      0.76      0.75        70\n",
      "\n",
      "-----------------\n",
      "meaning\n",
      "0.7285714285714285\n",
      "              precision    recall  f1-score   support\n",
      "\n",
      "   idiomatic       0.74      0.79      0.77        39\n",
      "     literal       0.71      0.65      0.68        31\n",
      "\n",
      "    accuracy                           0.73        70\n",
      "   macro avg       0.73      0.72      0.72        70\n",
      "weighted avg       0.73      0.73      0.73        70\n",
      "\n",
      "==========================================\n"
     ]
    }
   ],
   "source": [
    "dataA_train = only_train(dataA)\n",
    "\n",
    "for m in  [\"lastCLS\", \"meanLast4\"]:\n",
    "    # check accuracy of the predictions: idiomaticity predicted by sentence embedding compared to \n",
    "    # gpt embedding \n",
    "    y = dataA_train[\"sentence_type\"]\n",
    "    y_pred = dataA_train[\"pred_sentence_and_sentence_\" + m]\n",
    "    print(m)\n",
    "    print(\"sentence\")\n",
    "    print(accuracy_score(y, y_pred))\n",
    "    print(classification_report(y, y_pred,zero_division=0))\n",
    "    print(\"-----------------\")\n",
    "\n",
    "    y_pred = dataA_train[\"pred_sentence_and_meaning_\" + m]\n",
    "    print(\"meaning\")\n",
    "    print(accuracy_score(y, y_pred))\n",
    "    print(classification_report(y, y_pred,zero_division=0))\n",
    "    print(\"==========================================\")"
   ]
  },
  {
   "cell_type": "markdown",
   "metadata": {},
   "source": [
    "## Sorting images by cosine similarity of embeddings"
   ]
  },
  {
   "cell_type": "code",
   "execution_count": 137,
   "metadata": {},
   "outputs": [],
   "source": [
    "# tokenize captions\n",
    "dataA_image1_caption_tokenized = tokenize(dataA[\"image1_caption\"].tolist())\n",
    "dataA_image2_caption_tokenized = tokenize(dataA[\"image2_caption\"].tolist())\n",
    "dataA_image3_caption_tokenized = tokenize(dataA[\"image3_caption\"].tolist())\n",
    "dataA_image4_caption_tokenized = tokenize(dataA[\"image4_caption\"].tolist())\n",
    "dataA_image5_caption_tokenized = tokenize(dataA[\"image5_caption\"].tolist())\n"
   ]
  },
  {
   "cell_type": "code",
   "execution_count": 138,
   "metadata": {},
   "outputs": [
    {
     "data": {
      "text/plain": [
       "'The image depicts a hand holding a sponge and cleaning a glass cooktop stove. The cooktop is black with three circular burners, and there are some food residue stains on it. The sponge appears to be scrubbing off the stains, indicating that the person is cleaning the cooktop. The background is plain white, focusing attention on the cleaning activity.'"
      ]
     },
     "execution_count": 138,
     "metadata": {},
     "output_type": "execute_result"
    }
   ],
   "source": [
    "dataA[\"image1_caption\"][0]"
   ]
  },
  {
   "cell_type": "code",
   "execution_count": 139,
   "metadata": {},
   "outputs": [
    {
     "ename": "KeyboardInterrupt",
     "evalue": "",
     "output_type": "error",
     "traceback": [
      "\u001b[1;31m---------------------------------------------------------------------------\u001b[0m",
      "\u001b[1;31mKeyboardInterrupt\u001b[0m                         Traceback (most recent call last)",
      "Cell \u001b[1;32mIn[139], line 24\u001b[0m\n\u001b[0;32m     21\u001b[0m attention_mask \u001b[38;5;241m=\u001b[39m torch\u001b[38;5;241m.\u001b[39mtensor(dataA_image2_caption_tokenized[\u001b[38;5;124m\"\u001b[39m\u001b[38;5;124mattention_mask\u001b[39m\u001b[38;5;124m\"\u001b[39m])\u001b[38;5;241m.\u001b[39mto(device)\n\u001b[0;32m     23\u001b[0m \u001b[38;5;28;01mwith\u001b[39;00m torch\u001b[38;5;241m.\u001b[39mno_grad():\n\u001b[1;32m---> 24\u001b[0m     output \u001b[38;5;241m=\u001b[39m model(input_ids, attention_mask)\n\u001b[0;32m     26\u001b[0m hidden_states_gpt_image2 \u001b[38;5;241m=\u001b[39m output\u001b[38;5;241m.\u001b[39mhidden_states\n\u001b[0;32m     28\u001b[0m \u001b[38;5;66;03m# add a columns to dataA with the embeddings of the image2_caption for each method in methods\u001b[39;00m\n",
      "File \u001b[1;32mc:\\Users\\Wiebke Petersen\\anaconda3\\Lib\\site-packages\\torch\\nn\\modules\\module.py:1518\u001b[0m, in \u001b[0;36mModule._wrapped_call_impl\u001b[1;34m(self, *args, **kwargs)\u001b[0m\n\u001b[0;32m   1516\u001b[0m     \u001b[38;5;28;01mreturn\u001b[39;00m \u001b[38;5;28mself\u001b[39m\u001b[38;5;241m.\u001b[39m_compiled_call_impl(\u001b[38;5;241m*\u001b[39margs, \u001b[38;5;241m*\u001b[39m\u001b[38;5;241m*\u001b[39mkwargs)  \u001b[38;5;66;03m# type: ignore[misc]\u001b[39;00m\n\u001b[0;32m   1517\u001b[0m \u001b[38;5;28;01melse\u001b[39;00m:\n\u001b[1;32m-> 1518\u001b[0m     \u001b[38;5;28;01mreturn\u001b[39;00m \u001b[38;5;28mself\u001b[39m\u001b[38;5;241m.\u001b[39m_call_impl(\u001b[38;5;241m*\u001b[39margs, \u001b[38;5;241m*\u001b[39m\u001b[38;5;241m*\u001b[39mkwargs)\n",
      "File \u001b[1;32mc:\\Users\\Wiebke Petersen\\anaconda3\\Lib\\site-packages\\torch\\nn\\modules\\module.py:1527\u001b[0m, in \u001b[0;36mModule._call_impl\u001b[1;34m(self, *args, **kwargs)\u001b[0m\n\u001b[0;32m   1522\u001b[0m \u001b[38;5;66;03m# If we don't have any hooks, we want to skip the rest of the logic in\u001b[39;00m\n\u001b[0;32m   1523\u001b[0m \u001b[38;5;66;03m# this function, and just call forward.\u001b[39;00m\n\u001b[0;32m   1524\u001b[0m \u001b[38;5;28;01mif\u001b[39;00m \u001b[38;5;129;01mnot\u001b[39;00m (\u001b[38;5;28mself\u001b[39m\u001b[38;5;241m.\u001b[39m_backward_hooks \u001b[38;5;129;01mor\u001b[39;00m \u001b[38;5;28mself\u001b[39m\u001b[38;5;241m.\u001b[39m_backward_pre_hooks \u001b[38;5;129;01mor\u001b[39;00m \u001b[38;5;28mself\u001b[39m\u001b[38;5;241m.\u001b[39m_forward_hooks \u001b[38;5;129;01mor\u001b[39;00m \u001b[38;5;28mself\u001b[39m\u001b[38;5;241m.\u001b[39m_forward_pre_hooks\n\u001b[0;32m   1525\u001b[0m         \u001b[38;5;129;01mor\u001b[39;00m _global_backward_pre_hooks \u001b[38;5;129;01mor\u001b[39;00m _global_backward_hooks\n\u001b[0;32m   1526\u001b[0m         \u001b[38;5;129;01mor\u001b[39;00m _global_forward_hooks \u001b[38;5;129;01mor\u001b[39;00m _global_forward_pre_hooks):\n\u001b[1;32m-> 1527\u001b[0m     \u001b[38;5;28;01mreturn\u001b[39;00m forward_call(\u001b[38;5;241m*\u001b[39margs, \u001b[38;5;241m*\u001b[39m\u001b[38;5;241m*\u001b[39mkwargs)\n\u001b[0;32m   1529\u001b[0m \u001b[38;5;28;01mtry\u001b[39;00m:\n\u001b[0;32m   1530\u001b[0m     result \u001b[38;5;241m=\u001b[39m \u001b[38;5;28;01mNone\u001b[39;00m\n",
      "File \u001b[1;32mc:\\Users\\Wiebke Petersen\\anaconda3\\Lib\\site-packages\\transformers\\models\\bert\\modeling_bert.py:1013\u001b[0m, in \u001b[0;36mBertModel.forward\u001b[1;34m(self, input_ids, attention_mask, token_type_ids, position_ids, head_mask, inputs_embeds, encoder_hidden_states, encoder_attention_mask, past_key_values, use_cache, output_attentions, output_hidden_states, return_dict)\u001b[0m\n\u001b[0;32m   1004\u001b[0m head_mask \u001b[38;5;241m=\u001b[39m \u001b[38;5;28mself\u001b[39m\u001b[38;5;241m.\u001b[39mget_head_mask(head_mask, \u001b[38;5;28mself\u001b[39m\u001b[38;5;241m.\u001b[39mconfig\u001b[38;5;241m.\u001b[39mnum_hidden_layers)\n\u001b[0;32m   1006\u001b[0m embedding_output \u001b[38;5;241m=\u001b[39m \u001b[38;5;28mself\u001b[39m\u001b[38;5;241m.\u001b[39membeddings(\n\u001b[0;32m   1007\u001b[0m     input_ids\u001b[38;5;241m=\u001b[39minput_ids,\n\u001b[0;32m   1008\u001b[0m     position_ids\u001b[38;5;241m=\u001b[39mposition_ids,\n\u001b[1;32m   (...)\u001b[0m\n\u001b[0;32m   1011\u001b[0m     past_key_values_length\u001b[38;5;241m=\u001b[39mpast_key_values_length,\n\u001b[0;32m   1012\u001b[0m )\n\u001b[1;32m-> 1013\u001b[0m encoder_outputs \u001b[38;5;241m=\u001b[39m \u001b[38;5;28mself\u001b[39m\u001b[38;5;241m.\u001b[39mencoder(\n\u001b[0;32m   1014\u001b[0m     embedding_output,\n\u001b[0;32m   1015\u001b[0m     attention_mask\u001b[38;5;241m=\u001b[39mextended_attention_mask,\n\u001b[0;32m   1016\u001b[0m     head_mask\u001b[38;5;241m=\u001b[39mhead_mask,\n\u001b[0;32m   1017\u001b[0m     encoder_hidden_states\u001b[38;5;241m=\u001b[39mencoder_hidden_states,\n\u001b[0;32m   1018\u001b[0m     encoder_attention_mask\u001b[38;5;241m=\u001b[39mencoder_extended_attention_mask,\n\u001b[0;32m   1019\u001b[0m     past_key_values\u001b[38;5;241m=\u001b[39mpast_key_values,\n\u001b[0;32m   1020\u001b[0m     use_cache\u001b[38;5;241m=\u001b[39muse_cache,\n\u001b[0;32m   1021\u001b[0m     output_attentions\u001b[38;5;241m=\u001b[39moutput_attentions,\n\u001b[0;32m   1022\u001b[0m     output_hidden_states\u001b[38;5;241m=\u001b[39moutput_hidden_states,\n\u001b[0;32m   1023\u001b[0m     return_dict\u001b[38;5;241m=\u001b[39mreturn_dict,\n\u001b[0;32m   1024\u001b[0m )\n\u001b[0;32m   1025\u001b[0m sequence_output \u001b[38;5;241m=\u001b[39m encoder_outputs[\u001b[38;5;241m0\u001b[39m]\n\u001b[0;32m   1026\u001b[0m pooled_output \u001b[38;5;241m=\u001b[39m \u001b[38;5;28mself\u001b[39m\u001b[38;5;241m.\u001b[39mpooler(sequence_output) \u001b[38;5;28;01mif\u001b[39;00m \u001b[38;5;28mself\u001b[39m\u001b[38;5;241m.\u001b[39mpooler \u001b[38;5;129;01mis\u001b[39;00m \u001b[38;5;129;01mnot\u001b[39;00m \u001b[38;5;28;01mNone\u001b[39;00m \u001b[38;5;28;01melse\u001b[39;00m \u001b[38;5;28;01mNone\u001b[39;00m\n",
      "File \u001b[1;32mc:\\Users\\Wiebke Petersen\\anaconda3\\Lib\\site-packages\\torch\\nn\\modules\\module.py:1518\u001b[0m, in \u001b[0;36mModule._wrapped_call_impl\u001b[1;34m(self, *args, **kwargs)\u001b[0m\n\u001b[0;32m   1516\u001b[0m     \u001b[38;5;28;01mreturn\u001b[39;00m \u001b[38;5;28mself\u001b[39m\u001b[38;5;241m.\u001b[39m_compiled_call_impl(\u001b[38;5;241m*\u001b[39margs, \u001b[38;5;241m*\u001b[39m\u001b[38;5;241m*\u001b[39mkwargs)  \u001b[38;5;66;03m# type: ignore[misc]\u001b[39;00m\n\u001b[0;32m   1517\u001b[0m \u001b[38;5;28;01melse\u001b[39;00m:\n\u001b[1;32m-> 1518\u001b[0m     \u001b[38;5;28;01mreturn\u001b[39;00m \u001b[38;5;28mself\u001b[39m\u001b[38;5;241m.\u001b[39m_call_impl(\u001b[38;5;241m*\u001b[39margs, \u001b[38;5;241m*\u001b[39m\u001b[38;5;241m*\u001b[39mkwargs)\n",
      "File \u001b[1;32mc:\\Users\\Wiebke Petersen\\anaconda3\\Lib\\site-packages\\torch\\nn\\modules\\module.py:1527\u001b[0m, in \u001b[0;36mModule._call_impl\u001b[1;34m(self, *args, **kwargs)\u001b[0m\n\u001b[0;32m   1522\u001b[0m \u001b[38;5;66;03m# If we don't have any hooks, we want to skip the rest of the logic in\u001b[39;00m\n\u001b[0;32m   1523\u001b[0m \u001b[38;5;66;03m# this function, and just call forward.\u001b[39;00m\n\u001b[0;32m   1524\u001b[0m \u001b[38;5;28;01mif\u001b[39;00m \u001b[38;5;129;01mnot\u001b[39;00m (\u001b[38;5;28mself\u001b[39m\u001b[38;5;241m.\u001b[39m_backward_hooks \u001b[38;5;129;01mor\u001b[39;00m \u001b[38;5;28mself\u001b[39m\u001b[38;5;241m.\u001b[39m_backward_pre_hooks \u001b[38;5;129;01mor\u001b[39;00m \u001b[38;5;28mself\u001b[39m\u001b[38;5;241m.\u001b[39m_forward_hooks \u001b[38;5;129;01mor\u001b[39;00m \u001b[38;5;28mself\u001b[39m\u001b[38;5;241m.\u001b[39m_forward_pre_hooks\n\u001b[0;32m   1525\u001b[0m         \u001b[38;5;129;01mor\u001b[39;00m _global_backward_pre_hooks \u001b[38;5;129;01mor\u001b[39;00m _global_backward_hooks\n\u001b[0;32m   1526\u001b[0m         \u001b[38;5;129;01mor\u001b[39;00m _global_forward_hooks \u001b[38;5;129;01mor\u001b[39;00m _global_forward_pre_hooks):\n\u001b[1;32m-> 1527\u001b[0m     \u001b[38;5;28;01mreturn\u001b[39;00m forward_call(\u001b[38;5;241m*\u001b[39margs, \u001b[38;5;241m*\u001b[39m\u001b[38;5;241m*\u001b[39mkwargs)\n\u001b[0;32m   1529\u001b[0m \u001b[38;5;28;01mtry\u001b[39;00m:\n\u001b[0;32m   1530\u001b[0m     result \u001b[38;5;241m=\u001b[39m \u001b[38;5;28;01mNone\u001b[39;00m\n",
      "File \u001b[1;32mc:\\Users\\Wiebke Petersen\\anaconda3\\Lib\\site-packages\\transformers\\models\\bert\\modeling_bert.py:607\u001b[0m, in \u001b[0;36mBertEncoder.forward\u001b[1;34m(self, hidden_states, attention_mask, head_mask, encoder_hidden_states, encoder_attention_mask, past_key_values, use_cache, output_attentions, output_hidden_states, return_dict)\u001b[0m\n\u001b[0;32m    596\u001b[0m     layer_outputs \u001b[38;5;241m=\u001b[39m \u001b[38;5;28mself\u001b[39m\u001b[38;5;241m.\u001b[39m_gradient_checkpointing_func(\n\u001b[0;32m    597\u001b[0m         layer_module\u001b[38;5;241m.\u001b[39m\u001b[38;5;21m__call__\u001b[39m,\n\u001b[0;32m    598\u001b[0m         hidden_states,\n\u001b[1;32m   (...)\u001b[0m\n\u001b[0;32m    604\u001b[0m         output_attentions,\n\u001b[0;32m    605\u001b[0m     )\n\u001b[0;32m    606\u001b[0m \u001b[38;5;28;01melse\u001b[39;00m:\n\u001b[1;32m--> 607\u001b[0m     layer_outputs \u001b[38;5;241m=\u001b[39m layer_module(\n\u001b[0;32m    608\u001b[0m         hidden_states,\n\u001b[0;32m    609\u001b[0m         attention_mask,\n\u001b[0;32m    610\u001b[0m         layer_head_mask,\n\u001b[0;32m    611\u001b[0m         encoder_hidden_states,\n\u001b[0;32m    612\u001b[0m         encoder_attention_mask,\n\u001b[0;32m    613\u001b[0m         past_key_value,\n\u001b[0;32m    614\u001b[0m         output_attentions,\n\u001b[0;32m    615\u001b[0m     )\n\u001b[0;32m    617\u001b[0m hidden_states \u001b[38;5;241m=\u001b[39m layer_outputs[\u001b[38;5;241m0\u001b[39m]\n\u001b[0;32m    618\u001b[0m \u001b[38;5;28;01mif\u001b[39;00m use_cache:\n",
      "File \u001b[1;32mc:\\Users\\Wiebke Petersen\\anaconda3\\Lib\\site-packages\\torch\\nn\\modules\\module.py:1518\u001b[0m, in \u001b[0;36mModule._wrapped_call_impl\u001b[1;34m(self, *args, **kwargs)\u001b[0m\n\u001b[0;32m   1516\u001b[0m     \u001b[38;5;28;01mreturn\u001b[39;00m \u001b[38;5;28mself\u001b[39m\u001b[38;5;241m.\u001b[39m_compiled_call_impl(\u001b[38;5;241m*\u001b[39margs, \u001b[38;5;241m*\u001b[39m\u001b[38;5;241m*\u001b[39mkwargs)  \u001b[38;5;66;03m# type: ignore[misc]\u001b[39;00m\n\u001b[0;32m   1517\u001b[0m \u001b[38;5;28;01melse\u001b[39;00m:\n\u001b[1;32m-> 1518\u001b[0m     \u001b[38;5;28;01mreturn\u001b[39;00m \u001b[38;5;28mself\u001b[39m\u001b[38;5;241m.\u001b[39m_call_impl(\u001b[38;5;241m*\u001b[39margs, \u001b[38;5;241m*\u001b[39m\u001b[38;5;241m*\u001b[39mkwargs)\n",
      "File \u001b[1;32mc:\\Users\\Wiebke Petersen\\anaconda3\\Lib\\site-packages\\torch\\nn\\modules\\module.py:1527\u001b[0m, in \u001b[0;36mModule._call_impl\u001b[1;34m(self, *args, **kwargs)\u001b[0m\n\u001b[0;32m   1522\u001b[0m \u001b[38;5;66;03m# If we don't have any hooks, we want to skip the rest of the logic in\u001b[39;00m\n\u001b[0;32m   1523\u001b[0m \u001b[38;5;66;03m# this function, and just call forward.\u001b[39;00m\n\u001b[0;32m   1524\u001b[0m \u001b[38;5;28;01mif\u001b[39;00m \u001b[38;5;129;01mnot\u001b[39;00m (\u001b[38;5;28mself\u001b[39m\u001b[38;5;241m.\u001b[39m_backward_hooks \u001b[38;5;129;01mor\u001b[39;00m \u001b[38;5;28mself\u001b[39m\u001b[38;5;241m.\u001b[39m_backward_pre_hooks \u001b[38;5;129;01mor\u001b[39;00m \u001b[38;5;28mself\u001b[39m\u001b[38;5;241m.\u001b[39m_forward_hooks \u001b[38;5;129;01mor\u001b[39;00m \u001b[38;5;28mself\u001b[39m\u001b[38;5;241m.\u001b[39m_forward_pre_hooks\n\u001b[0;32m   1525\u001b[0m         \u001b[38;5;129;01mor\u001b[39;00m _global_backward_pre_hooks \u001b[38;5;129;01mor\u001b[39;00m _global_backward_hooks\n\u001b[0;32m   1526\u001b[0m         \u001b[38;5;129;01mor\u001b[39;00m _global_forward_hooks \u001b[38;5;129;01mor\u001b[39;00m _global_forward_pre_hooks):\n\u001b[1;32m-> 1527\u001b[0m     \u001b[38;5;28;01mreturn\u001b[39;00m forward_call(\u001b[38;5;241m*\u001b[39margs, \u001b[38;5;241m*\u001b[39m\u001b[38;5;241m*\u001b[39mkwargs)\n\u001b[0;32m   1529\u001b[0m \u001b[38;5;28;01mtry\u001b[39;00m:\n\u001b[0;32m   1530\u001b[0m     result \u001b[38;5;241m=\u001b[39m \u001b[38;5;28;01mNone\u001b[39;00m\n",
      "File \u001b[1;32mc:\\Users\\Wiebke Petersen\\anaconda3\\Lib\\site-packages\\transformers\\models\\bert\\modeling_bert.py:497\u001b[0m, in \u001b[0;36mBertLayer.forward\u001b[1;34m(self, hidden_states, attention_mask, head_mask, encoder_hidden_states, encoder_attention_mask, past_key_value, output_attentions)\u001b[0m\n\u001b[0;32m    485\u001b[0m \u001b[38;5;28;01mdef\u001b[39;00m \u001b[38;5;21mforward\u001b[39m(\n\u001b[0;32m    486\u001b[0m     \u001b[38;5;28mself\u001b[39m,\n\u001b[0;32m    487\u001b[0m     hidden_states: torch\u001b[38;5;241m.\u001b[39mTensor,\n\u001b[1;32m   (...)\u001b[0m\n\u001b[0;32m    494\u001b[0m ) \u001b[38;5;241m-\u001b[39m\u001b[38;5;241m>\u001b[39m Tuple[torch\u001b[38;5;241m.\u001b[39mTensor]:\n\u001b[0;32m    495\u001b[0m     \u001b[38;5;66;03m# decoder uni-directional self-attention cached key/values tuple is at positions 1,2\u001b[39;00m\n\u001b[0;32m    496\u001b[0m     self_attn_past_key_value \u001b[38;5;241m=\u001b[39m past_key_value[:\u001b[38;5;241m2\u001b[39m] \u001b[38;5;28;01mif\u001b[39;00m past_key_value \u001b[38;5;129;01mis\u001b[39;00m \u001b[38;5;129;01mnot\u001b[39;00m \u001b[38;5;28;01mNone\u001b[39;00m \u001b[38;5;28;01melse\u001b[39;00m \u001b[38;5;28;01mNone\u001b[39;00m\n\u001b[1;32m--> 497\u001b[0m     self_attention_outputs \u001b[38;5;241m=\u001b[39m \u001b[38;5;28mself\u001b[39m\u001b[38;5;241m.\u001b[39mattention(\n\u001b[0;32m    498\u001b[0m         hidden_states,\n\u001b[0;32m    499\u001b[0m         attention_mask,\n\u001b[0;32m    500\u001b[0m         head_mask,\n\u001b[0;32m    501\u001b[0m         output_attentions\u001b[38;5;241m=\u001b[39moutput_attentions,\n\u001b[0;32m    502\u001b[0m         past_key_value\u001b[38;5;241m=\u001b[39mself_attn_past_key_value,\n\u001b[0;32m    503\u001b[0m     )\n\u001b[0;32m    504\u001b[0m     attention_output \u001b[38;5;241m=\u001b[39m self_attention_outputs[\u001b[38;5;241m0\u001b[39m]\n\u001b[0;32m    506\u001b[0m     \u001b[38;5;66;03m# if decoder, the last output is tuple of self-attn cache\u001b[39;00m\n",
      "File \u001b[1;32mc:\\Users\\Wiebke Petersen\\anaconda3\\Lib\\site-packages\\torch\\nn\\modules\\module.py:1518\u001b[0m, in \u001b[0;36mModule._wrapped_call_impl\u001b[1;34m(self, *args, **kwargs)\u001b[0m\n\u001b[0;32m   1516\u001b[0m     \u001b[38;5;28;01mreturn\u001b[39;00m \u001b[38;5;28mself\u001b[39m\u001b[38;5;241m.\u001b[39m_compiled_call_impl(\u001b[38;5;241m*\u001b[39margs, \u001b[38;5;241m*\u001b[39m\u001b[38;5;241m*\u001b[39mkwargs)  \u001b[38;5;66;03m# type: ignore[misc]\u001b[39;00m\n\u001b[0;32m   1517\u001b[0m \u001b[38;5;28;01melse\u001b[39;00m:\n\u001b[1;32m-> 1518\u001b[0m     \u001b[38;5;28;01mreturn\u001b[39;00m \u001b[38;5;28mself\u001b[39m\u001b[38;5;241m.\u001b[39m_call_impl(\u001b[38;5;241m*\u001b[39margs, \u001b[38;5;241m*\u001b[39m\u001b[38;5;241m*\u001b[39mkwargs)\n",
      "File \u001b[1;32mc:\\Users\\Wiebke Petersen\\anaconda3\\Lib\\site-packages\\torch\\nn\\modules\\module.py:1527\u001b[0m, in \u001b[0;36mModule._call_impl\u001b[1;34m(self, *args, **kwargs)\u001b[0m\n\u001b[0;32m   1522\u001b[0m \u001b[38;5;66;03m# If we don't have any hooks, we want to skip the rest of the logic in\u001b[39;00m\n\u001b[0;32m   1523\u001b[0m \u001b[38;5;66;03m# this function, and just call forward.\u001b[39;00m\n\u001b[0;32m   1524\u001b[0m \u001b[38;5;28;01mif\u001b[39;00m \u001b[38;5;129;01mnot\u001b[39;00m (\u001b[38;5;28mself\u001b[39m\u001b[38;5;241m.\u001b[39m_backward_hooks \u001b[38;5;129;01mor\u001b[39;00m \u001b[38;5;28mself\u001b[39m\u001b[38;5;241m.\u001b[39m_backward_pre_hooks \u001b[38;5;129;01mor\u001b[39;00m \u001b[38;5;28mself\u001b[39m\u001b[38;5;241m.\u001b[39m_forward_hooks \u001b[38;5;129;01mor\u001b[39;00m \u001b[38;5;28mself\u001b[39m\u001b[38;5;241m.\u001b[39m_forward_pre_hooks\n\u001b[0;32m   1525\u001b[0m         \u001b[38;5;129;01mor\u001b[39;00m _global_backward_pre_hooks \u001b[38;5;129;01mor\u001b[39;00m _global_backward_hooks\n\u001b[0;32m   1526\u001b[0m         \u001b[38;5;129;01mor\u001b[39;00m _global_forward_hooks \u001b[38;5;129;01mor\u001b[39;00m _global_forward_pre_hooks):\n\u001b[1;32m-> 1527\u001b[0m     \u001b[38;5;28;01mreturn\u001b[39;00m forward_call(\u001b[38;5;241m*\u001b[39margs, \u001b[38;5;241m*\u001b[39m\u001b[38;5;241m*\u001b[39mkwargs)\n\u001b[0;32m   1529\u001b[0m \u001b[38;5;28;01mtry\u001b[39;00m:\n\u001b[0;32m   1530\u001b[0m     result \u001b[38;5;241m=\u001b[39m \u001b[38;5;28;01mNone\u001b[39;00m\n",
      "File \u001b[1;32mc:\\Users\\Wiebke Petersen\\anaconda3\\Lib\\site-packages\\transformers\\models\\bert\\modeling_bert.py:427\u001b[0m, in \u001b[0;36mBertAttention.forward\u001b[1;34m(self, hidden_states, attention_mask, head_mask, encoder_hidden_states, encoder_attention_mask, past_key_value, output_attentions)\u001b[0m\n\u001b[0;32m    417\u001b[0m \u001b[38;5;28;01mdef\u001b[39;00m \u001b[38;5;21mforward\u001b[39m(\n\u001b[0;32m    418\u001b[0m     \u001b[38;5;28mself\u001b[39m,\n\u001b[0;32m    419\u001b[0m     hidden_states: torch\u001b[38;5;241m.\u001b[39mTensor,\n\u001b[1;32m   (...)\u001b[0m\n\u001b[0;32m    425\u001b[0m     output_attentions: Optional[\u001b[38;5;28mbool\u001b[39m] \u001b[38;5;241m=\u001b[39m \u001b[38;5;28;01mFalse\u001b[39;00m,\n\u001b[0;32m    426\u001b[0m ) \u001b[38;5;241m-\u001b[39m\u001b[38;5;241m>\u001b[39m Tuple[torch\u001b[38;5;241m.\u001b[39mTensor]:\n\u001b[1;32m--> 427\u001b[0m     self_outputs \u001b[38;5;241m=\u001b[39m \u001b[38;5;28mself\u001b[39m\u001b[38;5;241m.\u001b[39mself(\n\u001b[0;32m    428\u001b[0m         hidden_states,\n\u001b[0;32m    429\u001b[0m         attention_mask,\n\u001b[0;32m    430\u001b[0m         head_mask,\n\u001b[0;32m    431\u001b[0m         encoder_hidden_states,\n\u001b[0;32m    432\u001b[0m         encoder_attention_mask,\n\u001b[0;32m    433\u001b[0m         past_key_value,\n\u001b[0;32m    434\u001b[0m         output_attentions,\n\u001b[0;32m    435\u001b[0m     )\n\u001b[0;32m    436\u001b[0m     attention_output \u001b[38;5;241m=\u001b[39m \u001b[38;5;28mself\u001b[39m\u001b[38;5;241m.\u001b[39moutput(self_outputs[\u001b[38;5;241m0\u001b[39m], hidden_states)\n\u001b[0;32m    437\u001b[0m     outputs \u001b[38;5;241m=\u001b[39m (attention_output,) \u001b[38;5;241m+\u001b[39m self_outputs[\u001b[38;5;241m1\u001b[39m:]  \u001b[38;5;66;03m# add attentions if we output them\u001b[39;00m\n",
      "File \u001b[1;32mc:\\Users\\Wiebke Petersen\\anaconda3\\Lib\\site-packages\\torch\\nn\\modules\\module.py:1518\u001b[0m, in \u001b[0;36mModule._wrapped_call_impl\u001b[1;34m(self, *args, **kwargs)\u001b[0m\n\u001b[0;32m   1516\u001b[0m     \u001b[38;5;28;01mreturn\u001b[39;00m \u001b[38;5;28mself\u001b[39m\u001b[38;5;241m.\u001b[39m_compiled_call_impl(\u001b[38;5;241m*\u001b[39margs, \u001b[38;5;241m*\u001b[39m\u001b[38;5;241m*\u001b[39mkwargs)  \u001b[38;5;66;03m# type: ignore[misc]\u001b[39;00m\n\u001b[0;32m   1517\u001b[0m \u001b[38;5;28;01melse\u001b[39;00m:\n\u001b[1;32m-> 1518\u001b[0m     \u001b[38;5;28;01mreturn\u001b[39;00m \u001b[38;5;28mself\u001b[39m\u001b[38;5;241m.\u001b[39m_call_impl(\u001b[38;5;241m*\u001b[39margs, \u001b[38;5;241m*\u001b[39m\u001b[38;5;241m*\u001b[39mkwargs)\n",
      "File \u001b[1;32mc:\\Users\\Wiebke Petersen\\anaconda3\\Lib\\site-packages\\torch\\nn\\modules\\module.py:1527\u001b[0m, in \u001b[0;36mModule._call_impl\u001b[1;34m(self, *args, **kwargs)\u001b[0m\n\u001b[0;32m   1522\u001b[0m \u001b[38;5;66;03m# If we don't have any hooks, we want to skip the rest of the logic in\u001b[39;00m\n\u001b[0;32m   1523\u001b[0m \u001b[38;5;66;03m# this function, and just call forward.\u001b[39;00m\n\u001b[0;32m   1524\u001b[0m \u001b[38;5;28;01mif\u001b[39;00m \u001b[38;5;129;01mnot\u001b[39;00m (\u001b[38;5;28mself\u001b[39m\u001b[38;5;241m.\u001b[39m_backward_hooks \u001b[38;5;129;01mor\u001b[39;00m \u001b[38;5;28mself\u001b[39m\u001b[38;5;241m.\u001b[39m_backward_pre_hooks \u001b[38;5;129;01mor\u001b[39;00m \u001b[38;5;28mself\u001b[39m\u001b[38;5;241m.\u001b[39m_forward_hooks \u001b[38;5;129;01mor\u001b[39;00m \u001b[38;5;28mself\u001b[39m\u001b[38;5;241m.\u001b[39m_forward_pre_hooks\n\u001b[0;32m   1525\u001b[0m         \u001b[38;5;129;01mor\u001b[39;00m _global_backward_pre_hooks \u001b[38;5;129;01mor\u001b[39;00m _global_backward_hooks\n\u001b[0;32m   1526\u001b[0m         \u001b[38;5;129;01mor\u001b[39;00m _global_forward_hooks \u001b[38;5;129;01mor\u001b[39;00m _global_forward_pre_hooks):\n\u001b[1;32m-> 1527\u001b[0m     \u001b[38;5;28;01mreturn\u001b[39;00m forward_call(\u001b[38;5;241m*\u001b[39margs, \u001b[38;5;241m*\u001b[39m\u001b[38;5;241m*\u001b[39mkwargs)\n\u001b[0;32m   1529\u001b[0m \u001b[38;5;28;01mtry\u001b[39;00m:\n\u001b[0;32m   1530\u001b[0m     result \u001b[38;5;241m=\u001b[39m \u001b[38;5;28;01mNone\u001b[39;00m\n",
      "File \u001b[1;32mc:\\Users\\Wiebke Petersen\\anaconda3\\Lib\\site-packages\\transformers\\models\\bert\\modeling_bert.py:325\u001b[0m, in \u001b[0;36mBertSelfAttention.forward\u001b[1;34m(self, hidden_states, attention_mask, head_mask, encoder_hidden_states, encoder_attention_mask, past_key_value, output_attentions)\u001b[0m\n\u001b[0;32m    322\u001b[0m     past_key_value \u001b[38;5;241m=\u001b[39m (key_layer, value_layer)\n\u001b[0;32m    324\u001b[0m \u001b[38;5;66;03m# Take the dot product between \"query\" and \"key\" to get the raw attention scores.\u001b[39;00m\n\u001b[1;32m--> 325\u001b[0m attention_scores \u001b[38;5;241m=\u001b[39m torch\u001b[38;5;241m.\u001b[39mmatmul(query_layer, key_layer\u001b[38;5;241m.\u001b[39mtranspose(\u001b[38;5;241m-\u001b[39m\u001b[38;5;241m1\u001b[39m, \u001b[38;5;241m-\u001b[39m\u001b[38;5;241m2\u001b[39m))\n\u001b[0;32m    327\u001b[0m \u001b[38;5;28;01mif\u001b[39;00m \u001b[38;5;28mself\u001b[39m\u001b[38;5;241m.\u001b[39mposition_embedding_type \u001b[38;5;241m==\u001b[39m \u001b[38;5;124m\"\u001b[39m\u001b[38;5;124mrelative_key\u001b[39m\u001b[38;5;124m\"\u001b[39m \u001b[38;5;129;01mor\u001b[39;00m \u001b[38;5;28mself\u001b[39m\u001b[38;5;241m.\u001b[39mposition_embedding_type \u001b[38;5;241m==\u001b[39m \u001b[38;5;124m\"\u001b[39m\u001b[38;5;124mrelative_key_query\u001b[39m\u001b[38;5;124m\"\u001b[39m:\n\u001b[0;32m    328\u001b[0m     query_length, key_length \u001b[38;5;241m=\u001b[39m query_layer\u001b[38;5;241m.\u001b[39mshape[\u001b[38;5;241m2\u001b[39m], key_layer\u001b[38;5;241m.\u001b[39mshape[\u001b[38;5;241m2\u001b[39m]\n",
      "\u001b[1;31mKeyboardInterrupt\u001b[0m: "
     ]
    }
   ],
   "source": [
    "# get embeddings of images\n",
    "methods = ['meanLast4','lastCLS']\n",
    "\n",
    "# hidden states for image1_caption\n",
    "input_ids = torch.tensor(dataA_image1_caption_tokenized[\"input_ids\"]).to(device)\n",
    "attention_mask = torch.tensor(dataA_image1_caption_tokenized[\"attention_mask\"]).to(device)\n",
    "\n",
    "with torch.no_grad():\n",
    "    output = model(input_ids, attention_mask)\n",
    "\n",
    "hidden_states_gpt_image1 = output.hidden_states\n",
    "\n",
    "# add a columns to dataA with the embeddings of the image1_caption for each method in methods\n",
    "for method in methods:\n",
    "    X = get_sentence_embedding(hidden_states_gpt_image1,method)\n",
    "    X = np.array([x.cpu().numpy() for x in X]).tolist()\n",
    "    dataA['image1_caption_embedding_'+ method] = X\n",
    "\n",
    "# hidden states for image2_caption\n",
    "input_ids = torch.tensor(dataA_image2_caption_tokenized[\"input_ids\"]).to(device)\n",
    "attention_mask = torch.tensor(dataA_image2_caption_tokenized[\"attention_mask\"]).to(device)\n",
    "\n",
    "with torch.no_grad():\n",
    "    output = model(input_ids, attention_mask)\n",
    "\n",
    "hidden_states_gpt_image2 = output.hidden_states\n",
    "\n",
    "# add a columns to dataA with the embeddings of the image2_caption for each method in methods\n",
    "for method in methods:\n",
    "    X = get_sentence_embedding(hidden_states_gpt_image2,method)\n",
    "    X = np.array([x.cpu().numpy() for x in X]).tolist()\n",
    "    dataA['image2_caption_embedding_'+ method] = X\n",
    "\n",
    "# hidden states for image3_caption\n",
    "input_ids = torch.tensor(dataA_image3_caption_tokenized[\"input_ids\"]).to(device)\n",
    "attention_mask = torch.tensor(dataA_image3_caption_tokenized[\"attention_mask\"]).to(device)\n",
    "\n",
    "with torch.no_grad():\n",
    "    output = model(input_ids, attention_mask)\n",
    "\n",
    "hidden_states_gpt_image3 = output.hidden_states\n",
    "\n",
    "# add a columns to dataA with the embeddings of the image3_caption for each method in methods\n",
    "\n",
    "for method in methods:\n",
    "    X = get_sentence_embedding(hidden_states_gpt_image3,method)\n",
    "    X = np.array([x.cpu().numpy() for x in X]).tolist()\n",
    "    dataA['image3_caption_embedding_'+ method] = X\n",
    "\n",
    "# hidden states for image4_caption\n",
    "input_ids = torch.tensor(dataA_image4_caption_tokenized[\"input_ids\"]).to(device)\n",
    "attention_mask = torch.tensor(dataA_image4_caption_tokenized[\"attention_mask\"]).to(device)\n",
    "\n",
    "with torch.no_grad():\n",
    "    output = model(input_ids, attention_mask)\n",
    "\n",
    "hidden_states_gpt_image4 = output.hidden_states\n",
    "\n",
    "# add a columns to dataA with the embeddings of the image4_caption for each method in methods\n",
    "for method in methods:\n",
    "    X = get_sentence_embedding(hidden_states_gpt_image4,method)\n",
    "    X = np.array([x.cpu().numpy() for x in X]).tolist()\n",
    "    dataA['image4_caption_embedding_'+ method] = X\n",
    "\n",
    "# hidden states for image5_caption\n",
    "input_ids = torch.tensor(dataA_image5_caption_tokenized[\"input_ids\"]).to(device)\n",
    "attention_mask = torch.tensor(dataA_image5_caption_tokenized[\"attention_mask\"]).to(device)\n",
    "\n",
    "with torch.no_grad():\n",
    "    output = model(input_ids, attention_mask)\n",
    "\n",
    "hidden_states_gpt_image5 = output.hidden_states\n",
    "\n",
    "# add a columns to dataA with the embeddings of the image5_caption for each method in methods\n",
    "for method in methods:\n",
    "    X = get_sentence_embedding(hidden_states_gpt_image5,method)\n",
    "    X = np.array([x.cpu().numpy() for x in X]).tolist()\n",
    "    dataA['image5_caption_embedding_'+ method] = X\n",
    "    "
   ]
  },
  {
   "cell_type": "code",
   "execution_count": 51,
   "metadata": {},
   "outputs": [
    {
     "data": {
      "text/plain": [
       "Index(['compound', 'subset', 'sentence_type', 'sentence', 'expected_order',\n",
       "       'image1_name', 'image1_caption', 'image2_name', 'image2_caption',\n",
       "       'image3_name', 'image3_caption', 'image4_name', 'image4_caption',\n",
       "       'image5_name', 'image5_caption', 'sentence_embedding_meanSecondToLast',\n",
       "       'sentence_embedding_meanLast4', 'sentence_embedding_meanLast',\n",
       "       'sentence_embedding_meanFirst', 'sentence_embedding_firstCLS',\n",
       "       'sentence_embedding_lastCLS', 'compound_plural', 'compound_idx',\n",
       "       'compound_embedding_meanSecondToLast', 'compound_embedding_meanLast4',\n",
       "       'compound_embedding_meanLast', 'compound_embedding_meanFirst',\n",
       "       'gpt_idiomatic_meaning', 'gpt_literal_meaning',\n",
       "       'gpt_idiomatic_sentence', 'gpt_literal_sentence',\n",
       "       'gpt_literal_sentence_embedding_meanSecondToLast',\n",
       "       'gpt_literal_sentence_embedding_meanLast4',\n",
       "       'gpt_literal_sentence_embedding_meanLast',\n",
       "       'gpt_literal_sentence_embedding_meanFirst',\n",
       "       'gpt_literal_sentence_embedding_firstCLS',\n",
       "       'gpt_literal_sentence_embedding_lastCLS',\n",
       "       'gpt_compound_idx_literal_sentence',\n",
       "       'gpt_compound_embedding_literal_sentence_meanSecondToLast',\n",
       "       'gpt_compound_embedding_literal_sentence_meanLast4',\n",
       "       'gpt_compound_embedding_literal_sentence_meanLast',\n",
       "       'gpt_compound_embedding_literal_sentence_meanFirst',\n",
       "       'gpt_idiomatic_sentence_embedding_meanSecondToLast',\n",
       "       'gpt_idiomatic_sentence_embedding_meanLast4',\n",
       "       'gpt_idiomatic_sentence_embedding_meanLast',\n",
       "       'gpt_idiomatic_sentence_embedding_meanFirst',\n",
       "       'gpt_idiomatic_sentence_embedding_firstCLS',\n",
       "       'gpt_idiomatic_sentence_embedding_lastCLS',\n",
       "       'gpt_compound_idx_idiomatic_sentence',\n",
       "       'gpt_compound_embedding_idiomatic_sentence_meanSecondToLast',\n",
       "       'gpt_compound_embedding_idiomatic_sentence_meanLast4',\n",
       "       'gpt_compound_embedding_idiomatic_sentence_meanLast',\n",
       "       'gpt_compound_embedding_idiomatic_sentence_meanFirst',\n",
       "       'gpt_literal_meaning_embedding_meanSecondToLast',\n",
       "       'gpt_literal_meaning_embedding_meanLast4',\n",
       "       'gpt_literal_meaning_embedding_meanLast',\n",
       "       'gpt_literal_meaning_embedding_meanFirst',\n",
       "       'gpt_literal_meaning_embedding_firstCLS',\n",
       "       'gpt_literal_meaning_embedding_lastCLS',\n",
       "       'gpt_compound_idx_literal_meaning',\n",
       "       'gpt_compound_embedding_literal_meaning_meanSecondToLast',\n",
       "       'gpt_compound_embedding_literal_meaning_meanLast4',\n",
       "       'gpt_compound_embedding_literal_meaning_meanLast',\n",
       "       'gpt_compound_embedding_literal_meaning_meanFirst',\n",
       "       'gpt_idiomatic_meaning_embedding_meanSecondToLast',\n",
       "       'gpt_idiomatic_meaning_embedding_meanLast4',\n",
       "       'gpt_idiomatic_meaning_embedding_meanLast',\n",
       "       'gpt_idiomatic_meaning_embedding_meanFirst',\n",
       "       'gpt_idiomatic_meaning_embedding_firstCLS',\n",
       "       'gpt_idiomatic_meaning_embedding_lastCLS',\n",
       "       'gpt_compound_idx_idiomatic_meaning',\n",
       "       'gpt_compound_embedding_idiomatic_meaning_meanSecondToLast',\n",
       "       'gpt_compound_embedding_idiomatic_meaning_meanLast4',\n",
       "       'gpt_compound_embedding_idiomatic_meaning_meanLast',\n",
       "       'gpt_compound_embedding_idiomatic_meaning_meanFirst',\n",
       "       'pred_compound_sentence_and_compound_sentence',\n",
       "       'pred_compound_sentence_and_compound_meaning',\n",
       "       'pred_sentence_and_sentence_lastCLS',\n",
       "       'pred_sentence_and_sentence_meanLast4',\n",
       "       'pred_sentence_and_meaning_lastCLS',\n",
       "       'pred_sentence_and_meaning_meanLast4',\n",
       "       'image1_caption_embedding_meanLast4',\n",
       "       'image1_caption_embedding_lastCLS',\n",
       "       'image2_caption_embedding_meanLast4',\n",
       "       'image2_caption_embedding_lastCLS',\n",
       "       'image3_caption_embedding_meanLast4',\n",
       "       'image3_caption_embedding_lastCLS',\n",
       "       'image4_caption_embedding_meanLast4',\n",
       "       'image4_caption_embedding_lastCLS',\n",
       "       'image5_caption_embedding_meanLast4',\n",
       "       'image5_caption_embedding_lastCLS'],\n",
       "      dtype='object')"
      ]
     },
     "execution_count": 51,
     "metadata": {},
     "output_type": "execute_result"
    }
   ],
   "source": [
    "dataA.columns"
   ]
  },
  {
   "cell_type": "code",
   "execution_count": 52,
   "metadata": {},
   "outputs": [],
   "source": [
    "pred_rankings = []\n",
    "for i in range(len(dataA)):\n",
    "    # compare cosine similarity of each picture_caption_embedding_meanLast4 and compound_embedding_meanLast4\n",
    "    compound_embedding = dataA['compound_embedding_meanLast4'][i]\n",
    "    image1_caption_embedding = dataA['image1_caption_embedding_meanLast4'][i]\n",
    "    image2_caption_embedding = dataA['image2_caption_embedding_meanLast4'][i]\n",
    "    image3_caption_embedding = dataA['image3_caption_embedding_meanLast4'][i]\n",
    "    image4_caption_embedding = dataA['image4_caption_embedding_meanLast4'][i]\n",
    "    image5_caption_embedding = dataA['image5_caption_embedding_meanLast4'][i]\n",
    "    similarity1 = cosine_similarity(compound_embedding,image1_caption_embedding)\n",
    "    similarity2 = cosine_similarity(compound_embedding,image2_caption_embedding)\n",
    "    similarity3 = cosine_similarity(compound_embedding,image3_caption_embedding)\n",
    "    similarity4 = cosine_similarity(compound_embedding,image4_caption_embedding)\n",
    "    similarity5 = cosine_similarity(compound_embedding,image5_caption_embedding)\n",
    "    # sort the similarities\n",
    "    similarities = [similarity1,similarity2,similarity3,similarity4,similarity5]\n",
    "    # sort and give indices\n",
    "    idx = np.argsort(similarities)\n",
    "    # reverse the indices\n",
    "    idx = idx[::-1]\n",
    "    pred_rankings.append(idx)\n",
    "dataA['pred_rankings'] = pred_rankings\n",
    "\n"
   ]
  },
  {
   "cell_type": "code",
   "execution_count": 53,
   "metadata": {},
   "outputs": [
    {
     "data": {
      "text/plain": [
       "([0.518004593754709,\n",
       "  0.5185237546639729,\n",
       "  0.46498319599465376,\n",
       "  0.47907611653834337,\n",
       "  0.4953950573338801],\n",
       " array([1, 0, 4, 3, 2], dtype=int64))"
      ]
     },
     "execution_count": 53,
     "metadata": {},
     "output_type": "execute_result"
    }
   ],
   "source": [
    "similarities, idx"
   ]
  },
  {
   "cell_type": "code",
   "execution_count": 54,
   "metadata": {},
   "outputs": [
    {
     "data": {
      "text/plain": [
       "array([1, 3, 0, 2, 4], dtype=int64)"
      ]
     },
     "execution_count": 54,
     "metadata": {},
     "output_type": "execute_result"
    }
   ],
   "source": [
    "dataA[\"pred_rankings\"][0]"
   ]
  },
  {
   "cell_type": "code",
   "execution_count": null,
   "metadata": {},
   "outputs": [],
   "source": []
  },
  {
   "cell_type": "code",
   "execution_count": 57,
   "metadata": {},
   "outputs": [],
   "source": [
    "# functions to display images\n",
    "\n",
    "from PIL import Image\n",
    "from IPython.display import display\n",
    "\n",
    "\n",
    "fileDirectory = 'D:\\\\Wiebke Petersen\\\\Downloads\\\\AdMIRe Subtask A Train\\\\train'\n",
    "\n",
    "# Open the image file\n",
    "def display_image(compound, fn):\n",
    "    img = Image.open(fileDirectory + \"\\\\\" + compound + \"\\\\\" + fn)\n",
    "    new_size = (150, 150)  # Width, Height\n",
    "    img_resized = img.resize(new_size)  \n",
    "    # Display the image\n",
    "    display(img_resized)\n",
    "\n",
    "# returns list of image names sorted from image1 to image5\n",
    "def get_image_names(n,mydata):\n",
    "    names = []\n",
    "    for i in [1,2,3,4,5]:\n",
    "         names.append(mydata['image' + str(i) + '_name'][n])\n",
    "    return names\n"
   ]
  },
  {
   "cell_type": "code",
   "execution_count": 59,
   "metadata": {},
   "outputs": [],
   "source": [
    "# print information of 1 item:\n",
    "\n",
    "def print_item(n, mydata):\n",
    "    # print  'sentence_type', 'sentence'\n",
    "    compound = mydata['compound'][n]\n",
    "    print(compound)\n",
    "    print(mydata['sentence_type'][n])\n",
    "    print(mydata['sentence'][n])\n",
    "    print('---------------------------------------------------------------------')\n",
    "\n",
    "\n",
    "    # for image_names in 'expected_order' print image_captions\n",
    "    names  =  get_image_names(n,mydata)\n",
    "    expected_order = mydata['expected_order'][n]\n",
    "\n",
    "    for image_name in expected_order:\n",
    "        display_image(compound, image_name)\n",
    "        # get index of image_name in names\n",
    "        index = names.index(image_name) + 1\n",
    "        print(mydata['image'+str(index)+'_caption'][n])\n",
    "    "
   ]
  },
  {
   "cell_type": "code",
   "execution_count": null,
   "metadata": {},
   "outputs": [],
   "source": [
    "for i in range(len(dataA)):\n",
    "    idxs = dataA['pred_rankings'][i]\n",
    "    picture_names = get_image_names(i,dataA)\n",
    "    # sort picture_names according to idxs\n",
    "    picture_names = [picture_names[i] for i in idxs]\n",
    "    dataA[\"pred_rankings\"][i] = picture_names    \n"
   ]
  },
  {
   "cell_type": "code",
   "execution_count": 61,
   "metadata": {},
   "outputs": [
    {
     "data": {
      "text/plain": [
       "['21271058237.png',\n",
       " '37795851361.png',\n",
       " '48528496115.png',\n",
       " '57390097066.png',\n",
       " '95410072019.png']"
      ]
     },
     "execution_count": 61,
     "metadata": {},
     "output_type": "execute_result"
    }
   ],
   "source": [
    "get_image_names(69,dataA)"
   ]
  },
  {
   "cell_type": "code",
   "execution_count": 62,
   "metadata": {},
   "outputs": [
    {
     "data": {
      "text/plain": [
       "(['37795851361.png',\n",
       "  '57390097066.png',\n",
       "  '95410072019.png',\n",
       "  '48528496115.png',\n",
       "  '21271058237.png'],\n",
       " ['37795851361.png',\n",
       "  '57390097066.png',\n",
       "  '21271058237.png',\n",
       "  '95410072019.png',\n",
       "  '48528496115.png'])"
      ]
     },
     "execution_count": 62,
     "metadata": {},
     "output_type": "execute_result"
    }
   ],
   "source": [
    "dataA[\"pred_rankings\"][69], dataA[\"expected_order\"][69]"
   ]
  },
  {
   "cell_type": "code",
   "execution_count": 63,
   "metadata": {},
   "outputs": [
    {
     "data": {
      "text/plain": [
       "(['35234427395.png',\n",
       "  '53378381715.png',\n",
       "  '39938261459.png',\n",
       "  '74852536462.png',\n",
       "  '54879908369.png'],\n",
       " ['39938261459.png',\n",
       "  '54879908369.png',\n",
       "  '35234427395.png',\n",
       "  '53378381715.png',\n",
       "  '74852536462.png'])"
      ]
     },
     "execution_count": 63,
     "metadata": {},
     "output_type": "execute_result"
    }
   ],
   "source": [
    "dataA['expected_order'][0],dataA['pred_rankings'][0]"
   ]
  },
  {
   "cell_type": "code",
   "execution_count": 64,
   "metadata": {},
   "outputs": [],
   "source": [
    "def top1accuracy(pred_rankings,expected_order):\n",
    "    correct = 0\n",
    "    for i in range(len(pred_rankings)):\n",
    "        if pred_rankings[i][0] == expected_order[i][0]:\n",
    "            correct += 1\n",
    "    return correct/len(pred_rankings)\n",
    "\n",
    "from scipy.stats import spearmanr\n",
    "\n",
    "def spearman_correlation(pred_rankings,expected_order):\n",
    "    corr = []\n",
    "    for i in range(len(pred_rankings)):\n",
    "        corr.append(spearmanr(pred_rankings[i],expected_order[i]).correlation)\n",
    "    return np.mean(corr)\n"
   ]
  },
  {
   "cell_type": "code",
   "execution_count": 65,
   "metadata": {},
   "outputs": [
    {
     "name": "stdout",
     "output_type": "stream",
     "text": [
      "compare image captions with sentence\n",
      "top1 accuracy\n",
      "0.21428571428571427\n",
      "spearman rank correlation\n",
      "0.03999999999999999\n"
     ]
    }
   ],
   "source": [
    "dataA_train = only_train(dataA)\n",
    "print(\"compare image captions with sentence\")\n",
    "print(\"top1 accuracy\")\n",
    "print(top1accuracy(dataA_train['pred_rankings'],dataA_train['expected_order']))\n",
    "\n",
    "print(\"spearman rank correlation\")\n",
    "print(spearman_correlation(dataA_train['pred_rankings'],dataA_train['expected_order']))\n",
    "\n"
   ]
  },
  {
   "cell_type": "markdown",
   "metadata": {},
   "source": [
    "## use gpt sentence/meaning (compound) embeddings to classify image captions "
   ]
  },
  {
   "cell_type": "markdown",
   "metadata": {},
   "source": [
    "Ziel: sortiere die 5 Bilder wie folgt\n",
    "1: literal, 2: ähnlich wie literal, 3: ähnlich wie idiomatic, 4: idiomatic, 5: unrelated "
   ]
  },
  {
   "cell_type": "code",
   "execution_count": 66,
   "metadata": {},
   "outputs": [
    {
     "data": {
      "text/plain": [
       "Index(['compound', 'subset', 'sentence_type', 'sentence', 'expected_order',\n",
       "       'image1_name', 'image1_caption', 'image2_name', 'image2_caption',\n",
       "       'image3_name', 'image3_caption', 'image4_name', 'image4_caption',\n",
       "       'image5_name', 'image5_caption', 'sentence_embedding_meanSecondToLast',\n",
       "       'sentence_embedding_meanLast4', 'sentence_embedding_meanLast',\n",
       "       'sentence_embedding_meanFirst', 'sentence_embedding_firstCLS',\n",
       "       'sentence_embedding_lastCLS', 'compound_plural', 'compound_idx',\n",
       "       'compound_embedding_meanSecondToLast', 'compound_embedding_meanLast4',\n",
       "       'compound_embedding_meanLast', 'compound_embedding_meanFirst',\n",
       "       'gpt_idiomatic_meaning', 'gpt_literal_meaning',\n",
       "       'gpt_idiomatic_sentence', 'gpt_literal_sentence',\n",
       "       'gpt_literal_sentence_embedding_meanSecondToLast',\n",
       "       'gpt_literal_sentence_embedding_meanLast4',\n",
       "       'gpt_literal_sentence_embedding_meanLast',\n",
       "       'gpt_literal_sentence_embedding_meanFirst',\n",
       "       'gpt_literal_sentence_embedding_firstCLS',\n",
       "       'gpt_literal_sentence_embedding_lastCLS',\n",
       "       'gpt_compound_idx_literal_sentence',\n",
       "       'gpt_compound_embedding_literal_sentence_meanSecondToLast',\n",
       "       'gpt_compound_embedding_literal_sentence_meanLast4',\n",
       "       'gpt_compound_embedding_literal_sentence_meanLast',\n",
       "       'gpt_compound_embedding_literal_sentence_meanFirst',\n",
       "       'gpt_idiomatic_sentence_embedding_meanSecondToLast',\n",
       "       'gpt_idiomatic_sentence_embedding_meanLast4',\n",
       "       'gpt_idiomatic_sentence_embedding_meanLast',\n",
       "       'gpt_idiomatic_sentence_embedding_meanFirst',\n",
       "       'gpt_idiomatic_sentence_embedding_firstCLS',\n",
       "       'gpt_idiomatic_sentence_embedding_lastCLS',\n",
       "       'gpt_compound_idx_idiomatic_sentence',\n",
       "       'gpt_compound_embedding_idiomatic_sentence_meanSecondToLast',\n",
       "       'gpt_compound_embedding_idiomatic_sentence_meanLast4',\n",
       "       'gpt_compound_embedding_idiomatic_sentence_meanLast',\n",
       "       'gpt_compound_embedding_idiomatic_sentence_meanFirst',\n",
       "       'gpt_literal_meaning_embedding_meanSecondToLast',\n",
       "       'gpt_literal_meaning_embedding_meanLast4',\n",
       "       'gpt_literal_meaning_embedding_meanLast',\n",
       "       'gpt_literal_meaning_embedding_meanFirst',\n",
       "       'gpt_literal_meaning_embedding_firstCLS',\n",
       "       'gpt_literal_meaning_embedding_lastCLS',\n",
       "       'gpt_compound_idx_literal_meaning',\n",
       "       'gpt_compound_embedding_literal_meaning_meanSecondToLast',\n",
       "       'gpt_compound_embedding_literal_meaning_meanLast4',\n",
       "       'gpt_compound_embedding_literal_meaning_meanLast',\n",
       "       'gpt_compound_embedding_literal_meaning_meanFirst',\n",
       "       'gpt_idiomatic_meaning_embedding_meanSecondToLast',\n",
       "       'gpt_idiomatic_meaning_embedding_meanLast4',\n",
       "       'gpt_idiomatic_meaning_embedding_meanLast',\n",
       "       'gpt_idiomatic_meaning_embedding_meanFirst',\n",
       "       'gpt_idiomatic_meaning_embedding_firstCLS',\n",
       "       'gpt_idiomatic_meaning_embedding_lastCLS',\n",
       "       'gpt_compound_idx_idiomatic_meaning',\n",
       "       'gpt_compound_embedding_idiomatic_meaning_meanSecondToLast',\n",
       "       'gpt_compound_embedding_idiomatic_meaning_meanLast4',\n",
       "       'gpt_compound_embedding_idiomatic_meaning_meanLast',\n",
       "       'gpt_compound_embedding_idiomatic_meaning_meanFirst',\n",
       "       'pred_compound_sentence_and_compound_sentence',\n",
       "       'pred_compound_sentence_and_compound_meaning',\n",
       "       'pred_sentence_and_sentence_lastCLS',\n",
       "       'pred_sentence_and_sentence_meanLast4',\n",
       "       'pred_sentence_and_meaning_lastCLS',\n",
       "       'pred_sentence_and_meaning_meanLast4',\n",
       "       'image1_caption_embedding_meanLast4',\n",
       "       'image1_caption_embedding_lastCLS',\n",
       "       'image2_caption_embedding_meanLast4',\n",
       "       'image2_caption_embedding_lastCLS',\n",
       "       'image3_caption_embedding_meanLast4',\n",
       "       'image3_caption_embedding_lastCLS',\n",
       "       'image4_caption_embedding_meanLast4',\n",
       "       'image4_caption_embedding_lastCLS',\n",
       "       'image5_caption_embedding_meanLast4',\n",
       "       'image5_caption_embedding_lastCLS', 'pred_rankings'],\n",
       "      dtype='object')"
      ]
     },
     "execution_count": 66,
     "metadata": {},
     "output_type": "execute_result"
    }
   ],
   "source": [
    "dataA.columns"
   ]
  },
  {
   "cell_type": "code",
   "execution_count": 67,
   "metadata": {},
   "outputs": [],
   "source": [
    "sim_to_literal = []\n",
    "sim_to_idiomatic = []\n",
    "m = \"meanLast4\"\n",
    "\n",
    "n = 40\n",
    "\n",
    "#emb_lit = dataA[\"gpt_compound_embedding_literal_meaning_\" +m][n]\n",
    "#emb_id = dataA[\"gpt_compound_embedding_idiomatic_meaning_\" +m][n]\n",
    "\n",
    "\n",
    "emb_lit = dataA[\"gpt_literal_sentence_embedding_\" +m][n]\n",
    "emb_id = dataA[\"gpt_idiomatic_sentence_embedding_\" +m][n]\n",
    "\n",
    "\n",
    "#emb_lit = dataA[\"gpt_literal_meaning_embedding_\" +m][n]\n",
    "#emb_id = dataA[\"gpt_idiomatic_meaning_embedding_\" +m][n]\n",
    "\n",
    "for i in [1,2,3,4,5]:\n",
    "    emb_image = dataA[\"image\" + str(i) + \"_caption_embedding_\" + m][n]\n",
    "    sim_to_literal.append(cosine_similarity(emb_lit,emb_image))\n",
    "    sim_to_idiomatic.append(cosine_similarity(emb_id,emb_image))\n",
    "\n",
    "idx_lit = np.argsort(sim_to_literal )\n",
    "idx_id = np.argsort(sim_to_idiomatic )\n",
    "# reverse the indices\n",
    "idx_lit = idx_lit[::-1].tolist()\n",
    "idx_id = idx_id[::-1].tolist()\n",
    "\n",
    "\n",
    "name_list = get_image_names(n,dataA)\n",
    "\n",
    "name_list_lit = [name_list[j] for j in idx_lit]\n",
    "name_list_id = [name_list[j] for j in idx_id]\n",
    "\n"
   ]
  },
  {
   "cell_type": "code",
   "execution_count": 68,
   "metadata": {},
   "outputs": [
    {
     "name": "stdout",
     "output_type": "stream",
     "text": [
      "spring chicken\n",
      "literal\n",
      "Spring chicken is a literal term for a chicken born in the spring season.\n"
     ]
    },
    {
     "data": {
      "image/png": "[encoded data removed]",
      "text/plain": [
       "<PIL.Image.Image image mode=RGB size=150x150>"
      ]
     },
     "metadata": {},
     "output_type": "display_data"
    },
    {
     "data": {
      "image/png": "[encoded data removed]",
      "text/plain": [
       "<PIL.Image.Image image mode=RGB size=150x150>"
      ]
     },
     "metadata": {},
     "output_type": "display_data"
    },
    {
     "data": {
      "image/png": "[encoded data removed]",
      "text/plain": [
       "<PIL.Image.Image image mode=RGB size=150x150>"
      ]
     },
     "metadata": {},
     "output_type": "display_data"
    },
    {
     "data": {
      "image/png": "[encoded data removed]",
      "text/plain": [
       "<PIL.Image.Image image mode=RGB size=150x150>"
      ]
     },
     "metadata": {},
     "output_type": "display_data"
    },
    {
     "data": {
      "image/png": "[encoded data removed]",
      "text/plain": [
       "<PIL.Image.Image image mode=RGB size=150x150>"
      ]
     },
     "metadata": {},
     "output_type": "display_data"
    },
    {
     "name": "stdout",
     "output_type": "stream",
     "text": [
      "idiomatic\n",
      "Spring chicken is a metaphor for someone who is young or youthful.\n"
     ]
    },
    {
     "data": {
      "image/png": "[encoded data removed]",
      "text/plain": [
       "<PIL.Image.Image image mode=RGB size=150x150>"
      ]
     },
     "metadata": {},
     "output_type": "display_data"
    },
    {
     "data": {
      "image/png": "[encoded data removed]",
      "text/plain": [
       "<PIL.Image.Image image mode=RGB size=150x150>"
      ]
     },
     "metadata": {},
     "output_type": "display_data"
    },
    {
     "data": {
      "image/png": "[encoded data removed]",
      "text/plain": [
       "<PIL.Image.Image image mode=RGB size=150x150>"
      ]
     },
     "metadata": {},
     "output_type": "display_data"
    },
    {
     "data": {
      "image/png": "[encoded data removed]",
      "text/plain": [
       "<PIL.Image.Image image mode=RGB size=150x150>"
      ]
     },
     "metadata": {},
     "output_type": "display_data"
    },
    {
     "data": {
      "image/png": "[encoded data removed]",
      "text/plain": [
       "<PIL.Image.Image image mode=RGB size=150x150>"
      ]
     },
     "metadata": {},
     "output_type": "display_data"
    }
   ],
   "source": [
    "fileDirectory = 'D:\\\\Wiebke Petersen\\\\Downloads\\\\AdMIRe Subtask A Train\\\\train'\n",
    "\n",
    "compound = dataA[\"compound\"][n]\n",
    "print(compound)\n",
    "print(\"literal\")\n",
    "print(dataA[\"gpt_literal_meaning\"][n])\n",
    "for fn in name_list_lit:\n",
    "    display_image(compound,fn)\n",
    "\n",
    "print(\"idiomatic\")\n",
    "print(dataA[\"gpt_idiomatic_meaning\"][n])\n",
    "for fn in name_list_id:\n",
    "    display_image(compound,fn)\n",
    "\n"
   ]
  },
  {
   "cell_type": "code",
   "execution_count": null,
   "metadata": {},
   "outputs": [],
   "source": []
  },
  {
   "cell_type": "code",
   "execution_count": 69,
   "metadata": {},
   "outputs": [
    {
     "data": {
      "text/plain": [
       "0     [35234427395.png, 53378381715.png, 39938261459...\n",
       "1     [61697797701.png, 93189810779.png, 89375227504...\n",
       "2     [86137977215.png, 78062290185.png, 54240592941...\n",
       "3     [83600499282.png, 57658144685.png, 02512838127...\n",
       "4     [77861539717.png, 68016869942.png, 11844321898...\n",
       "                            ...                        \n",
       "95                                                  NaN\n",
       "96                                                  NaN\n",
       "97                                                  NaN\n",
       "98                                                  NaN\n",
       "99                                                  NaN\n",
       "Name: expected_order, Length: 100, dtype: object"
      ]
     },
     "execution_count": 69,
     "metadata": {},
     "output_type": "execute_result"
    }
   ],
   "source": [
    "dataA[\"expected_order\"]"
   ]
  },
  {
   "cell_type": "code",
   "execution_count": 70,
   "metadata": {},
   "outputs": [],
   "source": [
    "# compare all pictures to each other and get 2 pairs of most similar ones.\n",
    "\n",
    "#m=\"meanLast4\"\n",
    "m= \"lastCLS\"\n",
    "n= 45\n",
    "\n",
    "dataA[\"pairs\"] = [None for p in range(len(dataA))]\n",
    "\n",
    "for n in range(len(dataA)):\n",
    "    sim = np.zeros((5,5))\n",
    "\n",
    "    for i in range(5):\n",
    "        emb_image_i = dataA[\"image\" + str(i+1) + \"_caption_embedding_\" + m][n]\n",
    "        for j in range(i+1,5):\n",
    "            emb_image_j = dataA[\"image\" + str(j+1) + \"_caption_embedding_\" + m][n]\n",
    "            sim[i,j] = cosine_similarity(emb_image_i,emb_image_j)\n",
    "        \n",
    "       \n",
    "    name_list = get_image_names(n,dataA)\n",
    "    compound = dataA[\"compound\"][n]\n",
    "    \n",
    "    u,v = np.unravel_index(np.argmax(sim),sim.shape) # indices of pair with highest similarity \n",
    "    simN = np.delete(sim,[u,v],0)\n",
    "    simN = np.delete(simN,[u,v],1)\n",
    "    max = np.max(simN)\n",
    "    b = np.where(sim == max)\n",
    "    u1 = b[0][0] # u1,v1 indices of pair with second highest similarity \n",
    "    v1 = b[1][0]\n",
    "\n",
    "    unrel = list(set([0,1,2,3,4])-set([u,v,u1,v1]))[0]\n",
    "    dataA[\"pairs\"][n] = [[(v+1,u+1),(v1+1,u1+1),unrel+1],[(name_list[v],name_list[u]),(name_list[v1],name_list[u1]),name_list[unrel]]]\n",
    "\n",
    "\n",
    "     \n"
   ]
  },
  {
   "cell_type": "code",
   "execution_count": 71,
   "metadata": {},
   "outputs": [
    {
     "data": {
      "text/plain": [
       "[(3, 1), (5, 4), 2]"
      ]
     },
     "execution_count": 71,
     "metadata": {},
     "output_type": "execute_result"
    }
   ],
   "source": [
    "dataA[\"pairs\"][0][0]"
   ]
  },
  {
   "cell_type": "code",
   "execution_count": 72,
   "metadata": {},
   "outputs": [],
   "source": [
    "dataA[\"literal_image\"] = [None for p in range(len(dataA))]\n",
    "dataA[\"idiomatic_image\"] = [None for p in range(len(dataA))]\n",
    "dataA[\"unrelated_image\"] = [None for p in range(len(dataA))]\n",
    "\n",
    "m = \"meanLast4\"\n",
    "for n in range(len(dataA)):\n",
    "    [(u1,v1),(u2,v2),un] = dataA[\"pairs\"][n][0]\n",
    "    # compare to gpt_sentence_embedding\n",
    "    comp_lit = dataA[\"gpt_literal_meaning_embedding_\" + m][n]\n",
    "    comp_id = dataA[\"gpt_idiomatic_meaning_embedding_\" + m][n]\n",
    "    lit_sim11 = cosine_similarity(dataA[\"image\"+str(u1)+\"_caption_embedding_\"+ m][n], comp_lit)\n",
    "    lit_sim12 = cosine_similarity(dataA[\"image\"+str(v1)+\"_caption_embedding_\"+ m][n], comp_lit)\n",
    "    lit_sim21 = cosine_similarity(dataA[\"image\"+str(u2)+\"_caption_embedding_\"+ m][n], comp_lit)\n",
    "    lit_sim22 = cosine_similarity(dataA[\"image\"+str(v2)+\"_caption_embedding_\"+ m][n], comp_lit)\n",
    "    id_sim11 = cosine_similarity(dataA[\"image\"+str(u1)+\"_caption_embedding_\"+ m][n], comp_id)\n",
    "    id_sim12 = cosine_similarity(dataA[\"image\"+str(v1)+\"_caption_embedding_\"+ m][n], comp_id)\n",
    "    id_sim21 = cosine_similarity(dataA[\"image\"+str(u2)+\"_caption_embedding_\"+ m][n], comp_id)\n",
    "    id_sim22 = cosine_similarity(dataA[\"image\"+str(v2)+\"_caption_embedding_\"+ m][n], comp_id)\n",
    "    if np.max([lit_sim11,  lit_sim12]) > np.max([lit_sim21 , lit_sim22]):\n",
    "        if lit_sim11 > lit_sim12:\n",
    "            dataA[\"literal_image\"][n] = (u1,v1)\n",
    "        else:\n",
    "            dataA[\"literal_image\"][n] = (v1,u1)\n",
    "        if id_sim21 > id_sim22:\n",
    "            dataA[\"idiomatic_image\"][n] = (u2,v2)\n",
    "        else: \n",
    "            dataA[\"idiomatic_image\"][n] = (v2,u2)\n",
    "    else:\n",
    "        if lit_sim21 > lit_sim22:\n",
    "            dataA[\"literal_image\"][n] = (u2,v2)\n",
    "        else:\n",
    "            dataA[\"literal_image\"][n] = (v2,u2)\n",
    "        if id_sim11 > id_sim12:\n",
    "            dataA[\"idiomatic_image\"][n] = (u1,v1)\n",
    "        else:\n",
    "            dataA[\"idiomatic_image\"][n] = (v1,u1)\n",
    "    dataA[\"unrelated_image\"][n] = un  \n",
    "\n",
    "\n",
    "            \n",
    "    \n",
    "    \n",
    "    \n",
    "     \n",
    "                                 \n",
    "                               "
   ]
  },
  {
   "cell_type": "code",
   "execution_count": 73,
   "metadata": {},
   "outputs": [
    {
     "name": "stderr",
     "output_type": "stream",
     "text": [
      "C:\\Users\\Wiebke Petersen\\AppData\\Local\\Temp\\ipykernel_10196\\4259230374.py:18: SettingWithCopyWarning: \n",
      "A value is trying to be set on a copy of a slice from a DataFrame\n",
      "\n",
      "See the caveats in the documentation: https://pandas.pydata.org/pandas-docs/stable/user_guide/indexing.html#returning-a-view-versus-a-copy\n",
      "  dataA[\"pred_rankings_combined\"][n] = preds\n"
     ]
    }
   ],
   "source": [
    "dataA[\"pred_rankings_combined\"] = [0 for p in range(len(dataA))]\n",
    "\n",
    "for n in range(len(dataA)):\n",
    "    if dataA[\"pred_sentence_and_sentence_meanLast4\"][n] == \"literal\":\n",
    "        pred_idx = [dataA[\"literal_image\"][n][0],\n",
    "                    dataA[\"literal_image\"][n][1],\n",
    "                    dataA[\"idiomatic_image\"][n][1],\n",
    "                    dataA[\"idiomatic_image\"][n][0],\n",
    "                    dataA[\"unrelated_image\"][n]]\n",
    "    else:\n",
    "        pred_idx = [dataA[\"idiomatic_image\"][n][0],\n",
    "                    dataA[\"idiomatic_image\"][n][1],\n",
    "                    dataA[\"literal_image\"][n][1],\n",
    "                    dataA[\"literal_image\"][n][0],\n",
    "                    dataA[\"unrelated_image\"][n]]\n",
    "    names = get_image_names(n,dataA)\n",
    "    preds = [names[i-1] for i in pred_idx]\n",
    "    dataA[\"pred_rankings_combined\"][n] = preds\n",
    "    \n",
    "\n",
    "\n"
   ]
  },
  {
   "cell_type": "code",
   "execution_count": 74,
   "metadata": {},
   "outputs": [
    {
     "data": {
      "text/plain": [
       "0     [54879908369.png, 74852536462.png, 35234427395...\n",
       "1     [00982495584.png, 61697797701.png, 93189810779...\n",
       "2     [78062290185.png, 86137977215.png, 92088849364...\n",
       "3     [57658144685.png, 02512838127.png, 83600499282...\n",
       "4     [77861539717.png, 68016869942.png, 11844321898...\n",
       "                            ...                        \n",
       "95    [75931438067.png, 10734342674.png, 88336355173...\n",
       "96    [27939388808.png, 92467678238.png, 28810159615...\n",
       "97    [73444821016.png, 81503831939.png, 96149522237...\n",
       "98    [73818470572.png, 39911572381.png, 38700355591...\n",
       "99    [66170384579.png, 66003146576.png, 94265143928...\n",
       "Name: pred_rankings_combined, Length: 100, dtype: object"
      ]
     },
     "execution_count": 74,
     "metadata": {},
     "output_type": "execute_result"
    }
   ],
   "source": [
    "dataA[\"pred_rankings_combined\"]"
   ]
  },
  {
   "cell_type": "code",
   "execution_count": 75,
   "metadata": {},
   "outputs": [
    {
     "name": "stdout",
     "output_type": "stream",
     "text": [
      "combined approach idiomaticity + image caption analysis\n",
      "top1 accuracy\n",
      "0.3142857142857143\n",
      "spearman rank correlation\n",
      "0.10285714285714284\n"
     ]
    }
   ],
   "source": [
    "dataA_train = only_train(dataA)\n",
    "\n",
    "print(\"combined approach idiomaticity + image caption analysis\")\n",
    "print(\"top1 accuracy\")\n",
    "print(top1accuracy(dataA_train['pred_rankings_combined'],dataA_train['expected_order']))\n",
    "\n",
    "print(\"spearman rank correlation\")\n",
    "print(spearman_correlation(dataA_train['pred_rankings_combined'],dataA_train['expected_order']))\n"
   ]
  },
  {
   "cell_type": "code",
   "execution_count": 76,
   "metadata": {},
   "outputs": [],
   "source": [
    "\n",
    "\n",
    "\n",
    "def find_permutation(L1, L2):\n",
    "    oneline = []\n",
    "    for n in L1:\n",
    "        # Look for n in L2.\n",
    "        # Sage's one-line permutation format expects indices to start at 1, not 0,\n",
    "        # so add 1 to all indices here.\n",
    "        j = L2.index(n) + 1\n",
    "        # If we've already found this instance, look in the rest of the list for another one.\n",
    "        while j in oneline:\n",
    "            j += L2[j:].index(n) + 1\n",
    "        oneline.append(j)\n",
    "    return oneline\n",
    "\n"
   ]
  },
  {
   "cell_type": "code",
   "execution_count": 77,
   "metadata": {},
   "outputs": [
    {
     "name": "stdout",
     "output_type": "stream",
     "text": [
      "accuracy on unrelated:  0.24285714285714285\n",
      "accuracy on literal:  0.38571428571428573\n",
      "accuracy on idiomatic:  0.4\n"
     ]
    }
   ],
   "source": [
    "dataA_train = only_train(dataA)\n",
    "\n",
    "lit_acc = 0\n",
    "id_acc = 0\n",
    "un_acc = 0\n",
    "for n in range(len(dataA_train)):\n",
    "    [lit,id,un] = dataA_train[\"pairs\"][n][0]\n",
    "    order = dataA_train[\"expected_order\"][n]\n",
    "    names = get_image_names(n,dataA_train)\n",
    "    order = find_permutation(names,order)\n",
    "#    print(order)\n",
    "    if order[4] == un:\n",
    "        un_acc = un_acc + 1\n",
    "    if dataA_train[\"sentence_type\"][n] == \"literal\":\n",
    "        order = [(order[0],order[1]),(order[3],order[2]),order[4]]\n",
    "    else:\n",
    "        order = [(order[3],order[2]),(order[1],order[0]),order[4]]\n",
    "    lit_acc = lit_acc + 1 - len(list(set(lit)-set(order[0])))/2 \n",
    "    id_acc = id_acc + 1 - len(list(set(id)-set(order[1])))/2 \n",
    "print(\"accuracy on unrelated: \", un_acc/len(dataA_train))\n",
    "print(\"accuracy on literal: \", lit_acc/len(dataA_train))\n",
    "print(\"accuracy on idiomatic: \", id_acc/len(dataA_train))\n",
    "\n",
    "\n"
   ]
  },
  {
   "cell_type": "code",
   "execution_count": 78,
   "metadata": {},
   "outputs": [],
   "source": [
    "#save dataA pickle\n",
    "import pickle\n",
    "dataA.to_pickle(\"dataA.pkl\")\n"
   ]
  },
  {
   "cell_type": "code",
   "execution_count": 79,
   "metadata": {},
   "outputs": [],
   "source": [
    "# read in pickle file dataA.pkl\n",
    "\n",
    "dataA = pd.read_pickle('dataA.pkl')"
   ]
  },
  {
   "cell_type": "code",
   "execution_count": 50,
   "metadata": {},
   "outputs": [
    {
     "data": {
      "text/plain": [
       "Index(['compound', 'subset', 'sentence_type', 'sentence', 'expected_order',\n",
       "       'image1_name', 'image1_caption', 'image2_name', 'image2_caption',\n",
       "       'image3_name', 'image3_caption', 'image4_name', 'image4_caption',\n",
       "       'image5_name', 'image5_caption', 'sentence_embedding_meanSecondToLast',\n",
       "       'sentence_embedding_meanLast4', 'sentence_embedding_meanLast',\n",
       "       'sentence_embedding_meanFirst', 'sentence_embedding_firstCLS',\n",
       "       'sentence_embedding_lastCLS', 'compound_plural', 'compound_idx',\n",
       "       'compound_embedding_meanSecondToLast', 'compound_embedding_meanLast4',\n",
       "       'compound_embedding_meanLast', 'compound_embedding_meanFirst'],\n",
       "      dtype='object')"
      ]
     },
     "execution_count": 50,
     "metadata": {},
     "output_type": "execute_result"
    }
   ],
   "source": [
    "dataA.columns"
   ]
  },
  {
   "cell_type": "markdown",
   "metadata": {},
   "source": [
    "Mehr in Funktionen packen. \n",
    "Bei Captions nur 2 Sätze betrachten.\n",
    "Weg über idiomatic/literal und dann erst Bilder auswählen. "
   ]
  },
  {
   "cell_type": "markdown",
   "metadata": {},
   "source": [
    "## chatgpt image descriptions"
   ]
  },
  {
   "cell_type": "code",
   "execution_count": null,
   "metadata": {},
   "outputs": [],
   "source": [
    "data_gpt_image = pd.read_csv(dataDirectory  + \"gpt_image_descriptions_all.csv\", sep=',')\n",
    "# gpt data needs some cleanup:\n",
    "# replace ’ with ' in all columns\n",
    "for column in data_gpt_image.columns:\n",
    "    data_gpt_image[column] = data_gpt_image[column].str.replace(\"’\",\"'\")\n",
    "\n",
    "\n",
    "\n",
    "merged_df = pd.merge(dataA, data_gpt_image, on='compound')\n",
    "dataA = merged_df \n"
   ]
  },
  {
   "cell_type": "code",
   "execution_count": null,
   "metadata": {},
   "outputs": [],
   "source": [
    "# Sentence embeddings \n",
    "\n",
    "types = [\"literal_image\",\"idiomatic_image\"]\n",
    "\n",
    "\n",
    "for t in types:\n",
    "    # tokenize the column\n",
    "    tokenized = tokenize(dataA[\"gpt_\" + t].tolist())\n",
    "\n",
    "    # hidden states for gpt_Meaning\n",
    "    input_ids = torch.tensor(tokenized[\"input_ids\"]).to(device)\n",
    "    attention_mask = torch.tensor(tokenized[\"attention_mask\"]).to(device)\n",
    "\n",
    "    with torch.no_grad():\n",
    "        output = model(input_ids, attention_mask)\n",
    "\n",
    "    hidden_states = output.hidden_states\n",
    "\n",
    "    # add a columns to data_chatGPT with the embeddings of the gpt_sentence for each method in methods\n",
    "    for method in methods:\n",
    "        X = get_sentence_embedding(hidden_states,method)\n",
    "        X = np.array([x.cpu().numpy() for x in X]).tolist()\n",
    "        dataA[\"gpt_\"+ t + \"_embedding_\"+ method] = X\n",
    "    # add gpt_compound_embeddings\n",
    "\n"
   ]
  },
  {
   "cell_type": "code",
   "execution_count": 88,
   "metadata": {},
   "outputs": [
    {
     "data": {
      "text/plain": [
       "Index(['compound', 'subset', 'sentence_type', 'sentence', 'expected_order',\n",
       "       'image1_name', 'image1_caption', 'image2_name', 'image2_caption',\n",
       "       'image3_name', 'image3_caption', 'image4_name', 'image4_caption',\n",
       "       'image5_name', 'image5_caption', 'gpt_idiomatic_image',\n",
       "       'gpt_literal_image', 'gpt_literal_image_embedding_meanLast4',\n",
       "       'gpt_literal_image_embedding_lastCLS',\n",
       "       'gpt_idiomatic_image_embedding_meanLast4',\n",
       "       'gpt_idiomatic_image_embedding_lastCLS'],\n",
       "      dtype='object')"
      ]
     },
     "execution_count": 88,
     "metadata": {},
     "output_type": "execute_result"
    }
   ],
   "source": [
    "dataA.columns"
   ]
  },
  {
   "cell_type": "markdown",
   "metadata": {},
   "source": [
    "## Zweistufig: (a) +/- idiomatic, (b) compare picture captions"
   ]
  },
  {
   "cell_type": "markdown",
   "metadata": {},
   "source": []
  },
  {
   "cell_type": "markdown",
   "metadata": {},
   "source": []
  },
  {
   "cell_type": "markdown",
   "metadata": {},
   "source": []
  },
  {
   "cell_type": "markdown",
   "metadata": {},
   "source": []
  }
 ],
 "metadata": {
  "kernelspec": {
   "display_name": "Python 3",
   "language": "python",
   "name": "python3"
  },
  "language_info": {
   "codemirror_mode": {
    "name": "ipython",
    "version": 3
   },
   "file_extension": ".py",
   "mimetype": "text/x-python",
   "name": "python",
   "nbconvert_exporter": "python",
   "pygments_lexer": "ipython3",
   "version": "3.11.4"
  }
 },
 "nbformat": 4,
 "nbformat_minor": 2
}
