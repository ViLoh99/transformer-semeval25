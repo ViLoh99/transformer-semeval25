{
 "cells": [
  {
   "cell_type": "markdown",
   "metadata": {},
   "source": [
    "## Load data and investigate"
   ]
  },
  {
   "cell_type": "code",
   "execution_count": 1,
   "metadata": {},
   "outputs": [],
   "source": [
    "# read tsv file\n",
    "import csv\n",
    "import sys\n",
    "\n",
    "# file name: subtask_a_sample.tsv\n",
    "\n",
    "import pandas as pd\n",
    "\n",
    "fileName = \"subtask_a_train.tsv\"\n",
    "fileDirectory = \"D:\\\\Wiebke Petersen\\\\Downloads\\\\AdMIRe Subtask A Train\\\\train\"\n",
    "\n",
    "dataA = pd.read_csv(fileDirectory + \"\\\\\" + fileName, sep='\\t')\n",
    "\n",
    "import ast\n",
    "dataA['expected_order'] = dataA['expected_order'].apply(ast.literal_eval)\n",
    "\n",
    "\n"
   ]
  },
  {
   "cell_type": "code",
   "execution_count": 2,
   "metadata": {},
   "outputs": [
    {
     "data": {
      "text/html": [
       "<div>\n",
       "<style scoped>\n",
       "    .dataframe tbody tr th:only-of-type {\n",
       "        vertical-align: middle;\n",
       "    }\n",
       "\n",
       "    .dataframe tbody tr th {\n",
       "        vertical-align: top;\n",
       "    }\n",
       "\n",
       "    .dataframe thead th {\n",
       "        text-align: right;\n",
       "    }\n",
       "</style>\n",
       "<table border=\"1\" class=\"dataframe\">\n",
       "  <thead>\n",
       "    <tr style=\"text-align: right;\">\n",
       "      <th></th>\n",
       "      <th>compound</th>\n",
       "      <th>subset</th>\n",
       "      <th>sentence_type</th>\n",
       "      <th>sentence</th>\n",
       "      <th>expected_order</th>\n",
       "      <th>image1_name</th>\n",
       "      <th>image1_caption</th>\n",
       "      <th>image2_name</th>\n",
       "      <th>image2_caption</th>\n",
       "      <th>image3_name</th>\n",
       "      <th>image3_caption</th>\n",
       "      <th>image4_name</th>\n",
       "      <th>image4_caption</th>\n",
       "      <th>image5_name</th>\n",
       "      <th>image5_caption</th>\n",
       "    </tr>\n",
       "  </thead>\n",
       "  <tbody>\n",
       "    <tr>\n",
       "      <th>0</th>\n",
       "      <td>elbow grease</td>\n",
       "      <td>Train</td>\n",
       "      <td>idiomatic</td>\n",
       "      <td>It took a lot of elbow grease to get the old e...</td>\n",
       "      <td>[35234427395.png, 53378381715.png, 39938261459...</td>\n",
       "      <td>35234427395.png</td>\n",
       "      <td>The image depicts a hand holding a sponge and ...</td>\n",
       "      <td>39938261459.png</td>\n",
       "      <td>The image depicts a hand wearing a yellow work...</td>\n",
       "      <td>53378381715.png</td>\n",
       "      <td>The image depicts a hand holding a duster with...</td>\n",
       "      <td>54879908369.png</td>\n",
       "      <td>The image depicts a person wearing knee pads a...</td>\n",
       "      <td>74852536462.png</td>\n",
       "      <td>The image depicts a person wearing a black out...</td>\n",
       "    </tr>\n",
       "    <tr>\n",
       "      <th>1</th>\n",
       "      <td>night owl</td>\n",
       "      <td>Train</td>\n",
       "      <td>idiomatic</td>\n",
       "      <td>It's a constant battle for us, as he is a morn...</td>\n",
       "      <td>[61697797701.png, 93189810779.png, 89375227504...</td>\n",
       "      <td>00982495584.png</td>\n",
       "      <td>The image depicts a nighttime scene with a lar...</td>\n",
       "      <td>61697797701.png</td>\n",
       "      <td>The image depicts a cartoon-style illustration...</td>\n",
       "      <td>89375227504.png</td>\n",
       "      <td>The image depicts a cartoon-style owl perched ...</td>\n",
       "      <td>93189810779.png</td>\n",
       "      <td>The image depicts a cartoon-style illustration...</td>\n",
       "      <td>93541983868.png</td>\n",
       "      <td>The image depicts a dumbbell, which is a commo...</td>\n",
       "    </tr>\n",
       "    <tr>\n",
       "      <th>2</th>\n",
       "      <td>heart of gold</td>\n",
       "      <td>Train</td>\n",
       "      <td>idiomatic</td>\n",
       "      <td>Even the somewhat seedy failed private eye has...</td>\n",
       "      <td>[86137977215.png, 78062290185.png, 54240592941...</td>\n",
       "      <td>54240592941.png</td>\n",
       "      <td>The image depicts a large, metallic safe with ...</td>\n",
       "      <td>78062290185.png</td>\n",
       "      <td>The image depicts a joyful scene featuring a y...</td>\n",
       "      <td>86137977215.png</td>\n",
       "      <td>The image depicts a cartoon scene where a youn...</td>\n",
       "      <td>90660547751.png</td>\n",
       "      <td>The image depicts a futuristic, stylized space...</td>\n",
       "      <td>92088849364.png</td>\n",
       "      <td>The image depicts a stylized, artistic represe...</td>\n",
       "    </tr>\n",
       "    <tr>\n",
       "      <th>3</th>\n",
       "      <td>agony aunt</td>\n",
       "      <td>Sample</td>\n",
       "      <td>idiomatic</td>\n",
       "      <td>ESA's Space Weather Office is like Europe's st...</td>\n",
       "      <td>[83600499282.png, 57658144685.png, 02512838127...</td>\n",
       "      <td>02512838127.png</td>\n",
       "      <td>The image depicts a serene outdoor scene featu...</td>\n",
       "      <td>32964421720.png</td>\n",
       "      <td>The image depicts a cartoon-style illustration...</td>\n",
       "      <td>57658144685.png</td>\n",
       "      <td>The image depicts a scene of a person sitting ...</td>\n",
       "      <td>83600499282.png</td>\n",
       "      <td>The image depicts a person sitting at a desk, ...</td>\n",
       "      <td>92533456778.png</td>\n",
       "      <td>The image depicts a cartoon character of a wom...</td>\n",
       "    </tr>\n",
       "    <tr>\n",
       "      <th>4</th>\n",
       "      <td>shrinking violet</td>\n",
       "      <td>Train</td>\n",
       "      <td>idiomatic</td>\n",
       "      <td>This aged, rich wine is no shrinking violet wi...</td>\n",
       "      <td>[77861539717.png, 68016869942.png, 11844321898...</td>\n",
       "      <td>11844321898.png</td>\n",
       "      <td>The image depicts a bouquet of purple tulips a...</td>\n",
       "      <td>45394842176.png</td>\n",
       "      <td>The image depicts a magnifying glass, commonly...</td>\n",
       "      <td>68016869942.png</td>\n",
       "      <td>The image depicts a small, cute puppy standing...</td>\n",
       "      <td>77861539717.png</td>\n",
       "      <td>The image depicts an animated character with c...</td>\n",
       "      <td>97482048489.png</td>\n",
       "      <td>The image is a colorful and vibrant illustrati...</td>\n",
       "    </tr>\n",
       "  </tbody>\n",
       "</table>\n",
       "</div>"
      ],
      "text/plain": [
       "           compound  subset sentence_type  \\\n",
       "0      elbow grease   Train     idiomatic   \n",
       "1         night owl   Train     idiomatic   \n",
       "2     heart of gold   Train     idiomatic   \n",
       "3        agony aunt  Sample     idiomatic   \n",
       "4  shrinking violet   Train     idiomatic   \n",
       "\n",
       "                                            sentence  \\\n",
       "0  It took a lot of elbow grease to get the old e...   \n",
       "1  It's a constant battle for us, as he is a morn...   \n",
       "2  Even the somewhat seedy failed private eye has...   \n",
       "3  ESA's Space Weather Office is like Europe's st...   \n",
       "4  This aged, rich wine is no shrinking violet wi...   \n",
       "\n",
       "                                      expected_order      image1_name  \\\n",
       "0  [35234427395.png, 53378381715.png, 39938261459...  35234427395.png   \n",
       "1  [61697797701.png, 93189810779.png, 89375227504...  00982495584.png   \n",
       "2  [86137977215.png, 78062290185.png, 54240592941...  54240592941.png   \n",
       "3  [83600499282.png, 57658144685.png, 02512838127...  02512838127.png   \n",
       "4  [77861539717.png, 68016869942.png, 11844321898...  11844321898.png   \n",
       "\n",
       "                                      image1_caption      image2_name  \\\n",
       "0  The image depicts a hand holding a sponge and ...  39938261459.png   \n",
       "1  The image depicts a nighttime scene with a lar...  61697797701.png   \n",
       "2  The image depicts a large, metallic safe with ...  78062290185.png   \n",
       "3  The image depicts a serene outdoor scene featu...  32964421720.png   \n",
       "4  The image depicts a bouquet of purple tulips a...  45394842176.png   \n",
       "\n",
       "                                      image2_caption      image3_name  \\\n",
       "0  The image depicts a hand wearing a yellow work...  53378381715.png   \n",
       "1  The image depicts a cartoon-style illustration...  89375227504.png   \n",
       "2  The image depicts a joyful scene featuring a y...  86137977215.png   \n",
       "3  The image depicts a cartoon-style illustration...  57658144685.png   \n",
       "4  The image depicts a magnifying glass, commonly...  68016869942.png   \n",
       "\n",
       "                                      image3_caption      image4_name  \\\n",
       "0  The image depicts a hand holding a duster with...  54879908369.png   \n",
       "1  The image depicts a cartoon-style owl perched ...  93189810779.png   \n",
       "2  The image depicts a cartoon scene where a youn...  90660547751.png   \n",
       "3  The image depicts a scene of a person sitting ...  83600499282.png   \n",
       "4  The image depicts a small, cute puppy standing...  77861539717.png   \n",
       "\n",
       "                                      image4_caption      image5_name  \\\n",
       "0  The image depicts a person wearing knee pads a...  74852536462.png   \n",
       "1  The image depicts a cartoon-style illustration...  93541983868.png   \n",
       "2  The image depicts a futuristic, stylized space...  92088849364.png   \n",
       "3  The image depicts a person sitting at a desk, ...  92533456778.png   \n",
       "4  The image depicts an animated character with c...  97482048489.png   \n",
       "\n",
       "                                      image5_caption  \n",
       "0  The image depicts a person wearing a black out...  \n",
       "1  The image depicts a dumbbell, which is a commo...  \n",
       "2  The image depicts a stylized, artistic represe...  \n",
       "3  The image depicts a cartoon character of a wom...  \n",
       "4  The image is a colorful and vibrant illustrati...  "
      ]
     },
     "execution_count": 2,
     "metadata": {},
     "output_type": "execute_result"
    }
   ],
   "source": [
    "dataA.head()"
   ]
  },
  {
   "cell_type": "code",
   "execution_count": 3,
   "metadata": {},
   "outputs": [
    {
     "data": {
      "text/plain": [
       "idiomatic    39\n",
       "literal      31\n",
       "Name: sentence_type, dtype: int64"
      ]
     },
     "execution_count": 3,
     "metadata": {},
     "output_type": "execute_result"
    }
   ],
   "source": [
    "dataA['sentence_type'].value_counts()"
   ]
  },
  {
   "cell_type": "code",
   "execution_count": 4,
   "metadata": {},
   "outputs": [],
   "source": [
    "# functions to display images\n",
    "\n",
    "from PIL import Image\n",
    "from IPython.display import display\n",
    "\n",
    "# Open the image file\n",
    "def display_image(compound, fn):\n",
    "    img = Image.open(fileDirectory + \"\\\\\" + compound + \"\\\\\" + fn)\n",
    "    new_size = (150, 150)  # Width, Height\n",
    "    img_resized = img.resize(new_size)  \n",
    "    # Display the image\n",
    "    display(img_resized)\n",
    "\n",
    "# returns list of image names sorted from image1 to image5\n",
    "def get_image_names(n,mydata):\n",
    "    names = []\n",
    "    for i in [1,2,3,4,5]:\n",
    "         names.append(mydata['image' + str(i) + '_name'][n])\n",
    "    return names\n"
   ]
  },
  {
   "cell_type": "code",
   "execution_count": 5,
   "metadata": {},
   "outputs": [],
   "source": [
    "# print information of 1 item:\n",
    "\n",
    "def print_item(n, mydata):\n",
    "    # print  'sentence_type', 'sentence'\n",
    "    compound = mydata['compound'][n]\n",
    "    print(compound)\n",
    "    print(mydata['sentence_type'][n])\n",
    "    print(mydata['sentence'][n])\n",
    "    print('---------------------------------------------------------------------')\n",
    "\n",
    "\n",
    "    # for image_names in 'expected_order' print image_captions\n",
    "    names  =  get_image_names(n,mydata)\n",
    "    expected_order = mydata['expected_order'][n]\n",
    "\n",
    "    for image_name in expected_order:\n",
    "        display_image(compound, image_name)\n",
    "        # get index of image_name in names\n",
    "        index = names.index(image_name) + 1\n",
    "        print(mydata['image'+str(index)+'_caption'][n])\n",
    "    "
   ]
  },
  {
   "cell_type": "code",
   "execution_count": 6,
   "metadata": {},
   "outputs": [
    {
     "name": "stdout",
     "output_type": "stream",
     "text": [
      "top dog\n",
      "literal\n",
      "The top dog in the neighborhood seemed to be guarding the alley from passing cats all day.\n",
      "---------------------------------------------------------------------\n"
     ]
    },
    {
     "data": {
      "image/png": "[encoded data removed]",
      "text/plain": [
       "<PIL.Image.Image image mode=RGB size=150x150>"
      ]
     },
     "metadata": {},
     "output_type": "display_data"
    },
    {
     "name": "stdout",
     "output_type": "stream",
     "text": [
      "The image depicts three cartoon dogs stacked on top of each other, forming a pyramid-like structure. The dogs are illustrated in a cute and playful style.\\n\\n1. **Top Dog**: \\n   - This dog is wearing an orange crown with a gold emblem at the center.\\n   - It has brown fur with white accents around its eyes and ears.\\n   - Its expression appears to be happy or content.\\n\\n2. **Middle Dog**:\\n   - This dog is wearing a red collar with a gold emblem.\\n   - It also has brown fur with white accents around its eyes and ears.\\n   - Its expression is similar to the top dog, appearing happy or content.\\n\\n3. **Bottom Dog**:\\n   - This dog is sitting on a large orange ball.\\n   - It has black fur with white accents around its eyes and ears.\\n   - Its expression is cheerful, with a slight smile.\\n\\nThe overall scene conveys a sense of balance and harmony, with each dog supporting the one above it. The use of bright colors and simple shapes makes the image visually appealing and engaging.\n"
     ]
    },
    {
     "data": {
      "image/png": "[encoded data removed]",
      "text/plain": [
       "<PIL.Image.Image image mode=RGB size=150x150>"
      ]
     },
     "metadata": {},
     "output_type": "display_data"
    },
    {
     "name": "stdout",
     "output_type": "stream",
     "text": [
      "The image depicts a cartoon dog wearing an orange party hat with a pom-pom on top. The dog has a light brown coat, large brown eyes, and a black nose. It appears to be sitting and smiling, giving off a cheerful and festive vibe.\n"
     ]
    },
    {
     "data": {
      "image/png": "[encoded data removed]",
      "text/plain": [
       "<PIL.Image.Image image mode=RGB size=150x150>"
      ]
     },
     "metadata": {},
     "output_type": "display_data"
    },
    {
     "name": "stdout",
     "output_type": "stream",
     "text": [
      "The image depicts a cartoon-style scene of a traffic officer directing traffic at an intersection. The officer is standing on a raised pedestrian crossing, wearing a black uniform with a star badge on the chest and a cap. The officer's right arm is extended, signaling vehicles to stop or proceed as needed.\\n\\nIn the background, there is a yellow taxi with its lights on, indicating it might be stopped or slowing down. The taxi is positioned on the left side of the image, facing towards the officer. The road is marked with white dashed lines, and there is a traffic cone placed near the officer, possibly to guide or direct traffic.\\n\\nTo the right of the officer, there is a pedestrian crossing sign with a symbol of a person walking, indicating that it is safe for pedestrians to cross. Behind the sign, there is a tree and some bushes, adding a touch of greenery to the scene. In the distance, there is a tall building visible, suggesting an urban setting.\\n\\nThe sky is clear with a few clouds, indicating good weather conditions. The overall scene conveys a sense of order and safety at the intersection, with the traffic officer ensuring smooth traffic flow and pedestrian safety.\n"
     ]
    },
    {
     "data": {
      "image/png": "[encoded data removed]",
      "text/plain": [
       "<PIL.Image.Image image mode=RGB size=150x150>"
      ]
     },
     "metadata": {},
     "output_type": "display_data"
    },
    {
     "name": "stdout",
     "output_type": "stream",
     "text": [
      "The image depicts a business meeting scenario. There are three individuals seated around a rectangular conference table. The person on the right is wearing a dark suit with an orange tie and is gesturing with his left hand, possibly explaining something to the others. The two people on the left are dressed in similar dark suits and appear to be listening attentively. They each have a pen in their hands, suggesting they might be taking notes or preparing to do so. The setting appears to be a professional office environment, indicated by the modern office chairs and the formal attire of the individuals.\n"
     ]
    },
    {
     "data": {
      "image/png": "[encoded data removed]",
      "text/plain": [
       "<PIL.Image.Image image mode=RGB size=150x150>"
      ]
     },
     "metadata": {},
     "output_type": "display_data"
    },
    {
     "name": "stdout",
     "output_type": "stream",
     "text": [
      "The image depicts a cozy scene featuring a brick fireplace with a warm, glowing fire burning inside. The flames are bright and orange, casting a soft light around the hearth. In front of the fireplace, there is a cute, orange tabby cat with white paws and a white face, lying down and sleeping peacefully. The cat's eyes are closed, and it appears to be enjoying the warmth of the fire. To the left of the fireplace, there is a pine cone, adding to the rustic and homely atmosphere. The overall scene conveys a sense of comfort and relaxation, typical of a cold winter day by the fireplace.\n"
     ]
    }
   ],
   "source": [
    "print_item(27,dataA)"
   ]
  },
  {
   "cell_type": "markdown",
   "metadata": {},
   "source": [
    "## BERT model \n",
    "\n",
    "### without fine-tuning, classification of idiomatic/literal"
   ]
  },
  {
   "cell_type": "markdown",
   "metadata": {},
   "source": [
    "Idea: we use a pretrained BERT model to generate embeddings of sentences and of the compound in the context of the sentence."
   ]
  },
  {
   "cell_type": "code",
   "execution_count": 7,
   "metadata": {},
   "outputs": [
    {
     "data": {
      "text/plain": [
       "512"
      ]
     },
     "execution_count": 7,
     "metadata": {},
     "output_type": "execute_result"
    }
   ],
   "source": [
    "from transformers import AutoTokenizer\n",
    "\n",
    "# model is selected from https://huggingface.co/models\n",
    "checkpoint = 'bert-base-uncased' #\"distilbert-base-uncased\"\n",
    "tokenizer = AutoTokenizer.from_pretrained(checkpoint)\n",
    "\n",
    "tokenizer.model_max_length"
   ]
  },
  {
   "cell_type": "code",
   "execution_count": 8,
   "metadata": {},
   "outputs": [],
   "source": [
    "def tokenize(batch):\n",
    "    return tokenizer(batch, padding=True, truncation=True)"
   ]
  },
  {
   "cell_type": "code",
   "execution_count": 9,
   "metadata": {},
   "outputs": [
    {
     "name": "stdout",
     "output_type": "stream",
     "text": [
      "[101, 2009, 2165, 1037, 2843, 1997, 8999, 21956, 2000, 2131, 1996, 2214, 3194, 2770, 2153, 1012, 102, 0, 0, 0, 0, 0, 0, 0, 0, 0, 0, 0, 0, 0, 0, 0, 0, 0, 0, 0, 0, 0, 0, 0, 0, 0]\n",
      "[1, 1, 1, 1, 1, 1, 1, 1, 1, 1, 1, 1, 1, 1, 1, 1, 1, 0, 0, 0, 0, 0, 0, 0, 0, 0, 0, 0, 0, 0, 0, 0, 0, 0, 0, 0, 0, 0, 0, 0, 0, 0]\n",
      "It took a lot of elbow grease to get the old engine running again.\n",
      "\n",
      "[101, 2009, 1005, 1055, 1037, 5377, 2645, 2005, 2149, 1010, 2004, 2002, 2003, 1037, 2851, 2711, 1998, 1045, 2572, 1037, 2305, 13547, 1010, 2061, 1045, 2424, 2008, 2183, 2000, 3637, 2012, 1023, 1012, 2382, 2428, 7659, 2041, 1996, 2190, 2847, 1012, 102]\n",
      "[1, 1, 1, 1, 1, 1, 1, 1, 1, 1, 1, 1, 1, 1, 1, 1, 1, 1, 1, 1, 1, 1, 1, 1, 1, 1, 1, 1, 1, 1, 1, 1, 1, 1, 1, 1, 1, 1, 1, 1, 1, 1]\n",
      "It's a constant battle for us, as he is a morning person and I am a night owl, so I find that going to sleep at 9.30 really cuts out the best hours.\n",
      "\n",
      "[101, 2130, 1996, 5399, 6534, 2100, 3478, 2797, 3239, 2038, 1037, 2540, 1997, 2751, 1006, 1998, 1037, 2919, 13606, 27983, 1007, 1012, 102, 0, 0, 0, 0, 0, 0, 0, 0, 0, 0, 0, 0, 0, 0, 0, 0, 0, 0, 0]\n",
      "[1, 1, 1, 1, 1, 1, 1, 1, 1, 1, 1, 1, 1, 1, 1, 1, 1, 1, 1, 1, 1, 1, 1, 0, 0, 0, 0, 0, 0, 0, 0, 0, 0, 0, 0, 0, 0, 0, 0, 0, 0, 0]\n",
      "Even the somewhat seedy failed private eye has a heart of gold (and a bad hairstyle).\n",
      "\n"
     ]
    }
   ],
   "source": [
    "demonstrate = tokenize(dataA[\"sentence\"][:3].tolist())\n",
    "for i in range(3):\n",
    "    print(demonstrate[\"input_ids\"][i])  \n",
    "    print(demonstrate[\"attention_mask\"][i])\n",
    "    print(dataA[\"sentence\"][i])\n",
    "    print()\n"
   ]
  },
  {
   "cell_type": "markdown",
   "metadata": {},
   "source": [
    "\"sentence\"-column is tokenized and passed to the model."
   ]
  },
  {
   "cell_type": "code",
   "execution_count": 10,
   "metadata": {},
   "outputs": [],
   "source": [
    "# tokenize all sentences\n",
    "dataA_sentence_tokenized = tokenize(dataA[\"sentence\"].tolist())"
   ]
  },
  {
   "cell_type": "code",
   "execution_count": 11,
   "metadata": {},
   "outputs": [],
   "source": [
    "dataA_compound_tokenized = tokenize(dataA[\"compound\"].tolist())"
   ]
  },
  {
   "cell_type": "code",
   "execution_count": 12,
   "metadata": {},
   "outputs": [
    {
     "name": "stdout",
     "output_type": "stream",
     "text": [
      "6 42\n"
     ]
    },
    {
     "data": {
      "text/plain": [
       "[[101, 8999, 21956, 102, 0, 0],\n",
       " [101, 2305, 13547, 102, 0, 0],\n",
       " [101, 2540, 1997, 2751, 102, 0]]"
      ]
     },
     "execution_count": 12,
     "metadata": {},
     "output_type": "execute_result"
    }
   ],
   "source": [
    "print(len(dataA_compound_tokenized[\"input_ids\"][0]), len(dataA_sentence_tokenized[\"input_ids\"][0]))\n",
    "dataA_compound_tokenized[\"input_ids\"][:3]"
   ]
  },
  {
   "cell_type": "code",
   "execution_count": 13,
   "metadata": {},
   "outputs": [],
   "source": [
    "import torch\n",
    "from transformers import AutoModel\n",
    "\n",
    "device = torch.device(\"cuda\" if torch.cuda.is_available() else \"cpu\")\n",
    "model = AutoModel.from_pretrained(checkpoint, output_hidden_states=True).to(device)\n",
    "model = model.eval()\n"
   ]
  },
  {
   "cell_type": "code",
   "execution_count": 14,
   "metadata": {},
   "outputs": [],
   "source": [
    "# convert input_ids to tensor\n",
    "input_ids_sentence = torch.tensor(dataA_sentence_tokenized[\"input_ids\"]).to(device)\n",
    "attention_mask_sentence = torch.tensor(dataA_sentence_tokenized[\"attention_mask\"]).to(device)\n",
    "\n",
    "# pass input_ids to model\n",
    "with torch.no_grad():\n",
    "    output = model(input_ids_sentence, attention_mask_sentence)\n",
    "\n"
   ]
  },
  {
   "cell_type": "code",
   "execution_count": 15,
   "metadata": {},
   "outputs": [
    {
     "data": {
      "text/plain": [
       "torch.Size([70, 42, 768])"
      ]
     },
     "execution_count": 15,
     "metadata": {},
     "output_type": "execute_result"
    }
   ],
   "source": [
    "# number of items, number of \n",
    "output.last_hidden_state.shape\n",
    "# number of items, length of input_ids ,number of hidden units"
   ]
  },
  {
   "cell_type": "code",
   "execution_count": 16,
   "metadata": {},
   "outputs": [],
   "source": [
    "hidden_states_sentence = output.hidden_states"
   ]
  },
  {
   "cell_type": "code",
   "execution_count": 17,
   "metadata": {},
   "outputs": [
    {
     "name": "stdout",
     "output_type": "stream",
     "text": [
      "Number of layers: 13   (including initial embeddings)\n",
      "Number of batches: 70\n",
      "Number of tokens: 42\n",
      "Number of hidden units: 768\n"
     ]
    }
   ],
   "source": [
    "print (\"Number of layers:\", len(hidden_states_sentence), \"  (including initial embeddings)\")\n",
    "layer_i = 0\n",
    "\n",
    "print (\"Number of batches:\", len(hidden_states_sentence[layer_i]))\n",
    "batch_i = 0\n",
    "\n",
    "print (\"Number of tokens:\", len(hidden_states_sentence[layer_i][batch_i]))\n",
    "token_i = 0\n",
    "\n",
    "print (\"Number of hidden units:\", len(hidden_states_sentence[layer_i][batch_i][token_i]))\n"
   ]
  },
  {
   "cell_type": "code",
   "execution_count": 18,
   "metadata": {},
   "outputs": [],
   "source": [
    "import numpy as np\n",
    "def get_sentence_embedding(hidden_states,method):\n",
    "    sentence_embedding = []\n",
    "    if method == 'meanLast4': # average of all tokens of the last 4 layers\n",
    "        for i in range(len(hidden_states[0])):\n",
    "            # token_vecs is mean of last 4 layers\n",
    "            token_tensor = torch.stack([hidden_states[-1][i], hidden_states[-2][i], hidden_states[-3][i], hidden_states[-4][i]], dim=0)\n",
    "            token_vecs = torch.mean(token_tensor, dim=0)\n",
    "            sentence_embedding.append(torch.mean(token_vecs, dim=0))\n",
    "    elif method == 'meanSecondToLast': # average of second to last layer\n",
    "        for i in range(len(hidden_states[-2])):\n",
    "            token_vecs = hidden_states[-2][i]\n",
    "            sentence_embedding.append(torch.mean(token_vecs, dim=0))\n",
    "    elif method == 'meanLast': # average of last layer\n",
    "        for i in range(len(hidden_states[-1])):\n",
    "            token_vecs = hidden_states[-1][i]\n",
    "            sentence_embedding.append(torch.mean(token_vecs, dim=0))\n",
    "    elif method == 'lastCLS': # CLS token of last layer\n",
    "        sentence_embedding = hidden_states[-1][:, 0, :]\n",
    "    elif method == 'meanFirst': # average of first layer\n",
    "        for i in range(len(hidden_states[0])):\n",
    "            token_vecs = hidden_states[0][i]\n",
    "            sentence_embedding.append(torch.mean(token_vecs, dim=0))\n",
    "    elif method == 'firstCLS': # CLS token of first layer\n",
    "        sentence_embedding = hidden_states[0][:, 0, :]\n",
    "    return sentence_embedding"
   ]
  },
  {
   "cell_type": "markdown",
   "metadata": {},
   "source": [
    "Müsste man nicht eigentlich die Embeddings der durchs Padding hinzugefügten 0-Tokens ignorieren?"
   ]
  },
  {
   "cell_type": "code",
   "execution_count": 19,
   "metadata": {},
   "outputs": [],
   "source": [
    "# use all methods for getting sentence embeddings and add them to dataA\n",
    "\n",
    "methods = ['meanSecondToLast','meanLast4','meanLast','meanFirst','firstCLS','lastCLS']\n",
    "\n",
    "for method in methods:\n",
    "    X = get_sentence_embedding(hidden_states_sentence,method)\n",
    "    X = np.array([x.cpu().numpy() for x in X]).tolist()\n",
    "    # add a new column to dataA \n",
    "    dataA['sentence_embedding_'+ method] = X\n",
    "    \n",
    "\n"
   ]
  },
  {
   "cell_type": "code",
   "execution_count": 20,
   "metadata": {},
   "outputs": [
    {
     "name": "stdout",
     "output_type": "stream",
     "text": [
      "=========================================================\n",
      "meanSecondToLast\n",
      "0.9285714285714286\n",
      "              precision    recall  f1-score   support\n",
      "\n",
      "   idiomatic       0.89      1.00      0.94         8\n",
      "     literal       1.00      0.83      0.91         6\n",
      "\n",
      "    accuracy                           0.93        14\n",
      "   macro avg       0.94      0.92      0.93        14\n",
      "weighted avg       0.94      0.93      0.93        14\n",
      "\n",
      "=========================================================\n",
      "meanLast4\n",
      "0.9285714285714286\n",
      "              precision    recall  f1-score   support\n",
      "\n",
      "   idiomatic       0.89      1.00      0.94         8\n",
      "     literal       1.00      0.83      0.91         6\n",
      "\n",
      "    accuracy                           0.93        14\n",
      "   macro avg       0.94      0.92      0.93        14\n",
      "weighted avg       0.94      0.93      0.93        14\n",
      "\n",
      "=========================================================\n",
      "meanLast\n",
      "0.9285714285714286\n",
      "              precision    recall  f1-score   support\n",
      "\n",
      "   idiomatic       0.89      1.00      0.94         8\n",
      "     literal       1.00      0.83      0.91         6\n",
      "\n",
      "    accuracy                           0.93        14\n",
      "   macro avg       0.94      0.92      0.93        14\n",
      "weighted avg       0.94      0.93      0.93        14\n",
      "\n",
      "=========================================================\n",
      "meanFirst\n",
      "0.5\n",
      "              precision    recall  f1-score   support\n",
      "\n",
      "   idiomatic       0.57      0.50      0.53         8\n",
      "     literal       0.43      0.50      0.46         6\n",
      "\n",
      "    accuracy                           0.50        14\n",
      "   macro avg       0.50      0.50      0.50        14\n",
      "weighted avg       0.51      0.50      0.50        14\n",
      "\n",
      "=========================================================\n",
      "firstCLS\n",
      "0.5714285714285714\n",
      "              precision    recall  f1-score   support\n",
      "\n",
      "   idiomatic       0.57      1.00      0.73         8\n",
      "     literal       0.00      0.00      0.00         6\n",
      "\n",
      "    accuracy                           0.57        14\n",
      "   macro avg       0.29      0.50      0.36        14\n",
      "weighted avg       0.33      0.57      0.42        14\n",
      "\n",
      "=========================================================\n",
      "lastCLS\n",
      "0.9285714285714286\n",
      "              precision    recall  f1-score   support\n",
      "\n",
      "   idiomatic       0.89      1.00      0.94         8\n",
      "     literal       1.00      0.83      0.91         6\n",
      "\n",
      "    accuracy                           0.93        14\n",
      "   macro avg       0.94      0.92      0.93        14\n",
      "weighted avg       0.94      0.93      0.93        14\n",
      "\n"
     ]
    }
   ],
   "source": [
    "from sklearn.model_selection import train_test_split\n",
    "from sklearn.linear_model import LogisticRegression\n",
    "from sklearn.ensemble import RandomForestClassifier\n",
    "from sklearn.svm import SVC\n",
    "# mlp\n",
    "from sklearn.neural_network import MLPClassifier\n",
    "\n",
    "\n",
    "# evaluation\n",
    "from sklearn.metrics import accuracy_score\n",
    "from sklearn.metrics import classification_report\n",
    "\n",
    "\n",
    "for method in methods: \n",
    "    X = dataA['sentence_embedding_'+ method].tolist()\n",
    "    y = dataA[\"sentence_type\"]\n",
    "\n",
    "    # split in train and test set\n",
    "    X_train, X_test, y_train, y_test = train_test_split(X, y, test_size=0.2, random_state=0)\n",
    "\n",
    "    print('=========================================================')\n",
    "    print(method)\n",
    "    # logistic regression\n",
    "#    clf = LogisticRegression(random_state=0).fit(X_train, y_train)\n",
    "#    clf = RandomForestClassifier(max_depth=2, random_state=0).fit(X_train, y_train)\n",
    "    clf = SVC(kernel='linear').fit(X_train, y_train)\n",
    "#    clf = MLPClassifier(random_state=0, max_iter=300).fit(X_train, y_train)\n",
    "    y_pred = clf.predict(X_test)\n",
    "    print(accuracy_score(y_test, y_pred))\n",
    "\n",
    "    #classification report\n",
    "    print(classification_report(y_test, y_pred,zero_division=0))\n",
    "\n"
   ]
  },
  {
   "cell_type": "markdown",
   "metadata": {},
   "source": [
    "Die Ergebnisse sind erstaunlich gut. Allerdings sind sie auch sehr abhängig von random_state (teste 0,10,13,42)"
   ]
  },
  {
   "cell_type": "code",
   "execution_count": 21,
   "metadata": {},
   "outputs": [
    {
     "name": "stdout",
     "output_type": "stream",
     "text": [
      "dummy classifier most frequent\n",
      "0.5714285714285714\n",
      "              precision    recall  f1-score   support\n",
      "\n",
      "   idiomatic       0.57      1.00      0.73         8\n",
      "     literal       0.00      0.00      0.00         6\n",
      "\n",
      "    accuracy                           0.57        14\n",
      "   macro avg       0.29      0.50      0.36        14\n",
      "weighted avg       0.33      0.57      0.42        14\n",
      "\n"
     ]
    }
   ],
   "source": [
    "# dummy classifier most frequent\n",
    "from sklearn.dummy import DummyClassifier\n",
    "\n",
    "\n",
    "# dummy classifier most frequent\n",
    "clf = DummyClassifier(strategy=\"most_frequent\")\n",
    "clf.fit(X_train, y_train)\n",
    "y_pred = clf.predict(X_test)\n",
    "\n",
    "print(\"dummy classifier most frequent\")\n",
    "print(accuracy_score(y_test, y_pred))\n",
    "\n",
    "#classification report\n",
    "print(classification_report(y_test, y_pred,zero_division=0))\n"
   ]
  },
  {
   "cell_type": "code",
   "execution_count": 22,
   "metadata": {},
   "outputs": [
    {
     "data": {
      "text/plain": [
       "Index(['compound', 'subset', 'sentence_type', 'sentence', 'expected_order',\n",
       "       'image1_name', 'image1_caption', 'image2_name', 'image2_caption',\n",
       "       'image3_name', 'image3_caption', 'image4_name', 'image4_caption',\n",
       "       'image5_name', 'image5_caption', 'sentence_embedding_meanSecondToLast',\n",
       "       'sentence_embedding_meanLast4', 'sentence_embedding_meanLast',\n",
       "       'sentence_embedding_meanFirst', 'sentence_embedding_firstCLS',\n",
       "       'sentence_embedding_lastCLS'],\n",
       "      dtype='object')"
      ]
     },
     "execution_count": 22,
     "metadata": {},
     "output_type": "execute_result"
    }
   ],
   "source": [
    "dataA.columns"
   ]
  },
  {
   "cell_type": "markdown",
   "metadata": {},
   "source": []
  },
  {
   "cell_type": "markdown",
   "metadata": {},
   "source": [
    "### Compare compound embeddings in sentence and in chatGPT definitions.\n",
    "#### 1) get contextualized compound embeddings for compounds in sentences"
   ]
  },
  {
   "cell_type": "code",
   "execution_count": 23,
   "metadata": {},
   "outputs": [],
   "source": [
    "# sometimes the compound occurs in plural form in the sentence\n",
    "\n",
    "# add a new column to dataA with the plural form of the compound \n",
    "dataA['compound_plural'] = dataA['compound'] + 's'\n",
    "dataA_compound_plural_tokenized = tokenize(dataA[\"compound_plural\"].tolist())"
   ]
  },
  {
   "cell_type": "markdown",
   "metadata": {},
   "source": [
    "Sometimes the compound occurs in the sentence only in plural form. So both forms are needed."
   ]
  },
  {
   "cell_type": "code",
   "execution_count": 24,
   "metadata": {},
   "outputs": [
    {
     "data": {
      "text/plain": [
       "['rotten',\n",
       " 'apples',\n",
       " 'and',\n",
       " 'orange',\n",
       " '##s',\n",
       " 'are',\n",
       " 'in',\n",
       " 'the',\n",
       " 'wood',\n",
       " '##basket']"
      ]
     },
     "execution_count": 24,
     "metadata": {},
     "output_type": "execute_result"
    }
   ],
   "source": [
    "tokenizer.tokenize(\"rotten apples and oranges are in the woodbasket\")"
   ]
  },
  {
   "cell_type": "code",
   "execution_count": 25,
   "metadata": {},
   "outputs": [],
   "source": [
    "# returns the index of the compound in the sentence\n",
    "def get_idx(compound_tokens, compound_plural_tokens, sentence_tokens):\n",
    "    # remove 0-tokens from compound_tokens (removes tokens that are due to padding)\n",
    "    compound_tokens = [i for i in compound_tokens if i != 0]\n",
    "    # remove [CLS] and [SEP] from compound_tokens\n",
    "    compound_tokens = compound_tokens[1:-1]\n",
    "    compound_plural_tokens = [i for i in compound_plural_tokens if i != 0]\n",
    "    compound_plural_tokens = compound_plural_tokens[1:-1]\n",
    "    idx = []\n",
    "    # find the first occurence of the sequence of compound_tokens in sentence_tokens (singular and plural forms)\n",
    "    for i in range(len(sentence_tokens)):\n",
    "        if sentence_tokens[i:i+len(compound_tokens)] == compound_tokens:\n",
    "            for j in range(i, i+ len(compound_tokens)):\n",
    "                idx.append(j)\n",
    "    for i in range(len(sentence_tokens)):\n",
    "        if sentence_tokens[i:i+len(compound_plural_tokens)] == compound_plural_tokens:\n",
    "            for j in range(i, i+ len(compound_plural_tokens)):\n",
    "                idx.append(j)\n",
    "    # remove duplicates from idx\n",
    "    idx = list(set(idx))\n",
    "    return idx\n",
    "\n"
   ]
  },
  {
   "cell_type": "code",
   "execution_count": 26,
   "metadata": {},
   "outputs": [
    {
     "data": {
      "text/plain": [
       "[0, 1, 5, 6, 7]"
      ]
     },
     "execution_count": 26,
     "metadata": {},
     "output_type": "execute_result"
    }
   ],
   "source": [
    "#testen\n",
    "get_idx([99,1,5,100,0,0],[99,1,5,2,100,0,0],[1,5,3,7,4,1,5,2,1,9,0,0,0])"
   ]
  },
  {
   "cell_type": "code",
   "execution_count": 27,
   "metadata": {},
   "outputs": [
    {
     "data": {
      "text/plain": [
       "torch.Size([70, 42, 768])"
      ]
     },
     "execution_count": 27,
     "metadata": {},
     "output_type": "execute_result"
    }
   ],
   "source": [
    "hidden_states_sentence[-1].shape"
   ]
  },
  {
   "cell_type": "code",
   "execution_count": 28,
   "metadata": {},
   "outputs": [],
   "source": [
    "# returns the embeddings of the tokens in idxList. \n",
    "# The embeddings are combined to a single embedding by different averaging methods\n",
    "import numpy as np\n",
    "def get_idxList_embedding(hidden_states,idxLists,method):\n",
    "    embedding = []\n",
    "    if method == 'meanLast4':\n",
    "        for i in range(len(hidden_states[-1])):\n",
    "            # token_vecs is mean of last 4 layers\n",
    "            idxList = idxLists[i]\n",
    "            token_tensor = torch.stack([hidden_states[-1][i][idxList], hidden_states[-2][i][idxList], hidden_states[-3][i][idxList], hidden_states[-4][i][idxList]], dim=0)\n",
    "            token_vecs = torch.mean(token_tensor, dim=0)\n",
    "            embedding.append(torch.mean(token_vecs, dim=0))\n",
    "    elif method == 'meanSecondToLast':\n",
    "        for i in range(len(hidden_states[-2])):\n",
    "            idxList = idxLists[i]\n",
    "            token_vecs = hidden_states[-2][i][idxList]\n",
    "            embedding.append(torch.mean(token_vecs, dim=0))\n",
    "    elif method == 'meanLast':\n",
    "        for i in range(len(hidden_states[-1])):\n",
    "            idxList = idxLists[i]\n",
    "            token_vecs = hidden_states[-1][i][idxList]\n",
    "            embedding.append(torch.mean(token_vecs, dim=0))\n",
    "    elif method == 'meanFirst':\n",
    "        for i in range(len(hidden_states[0])):\n",
    "            idxList = idxLists[i]\n",
    "            token_vecs = hidden_states[0][i][idxList]\n",
    "            embedding.append(torch.mean(token_vecs, dim=0))\n",
    "    return embedding"
   ]
  },
  {
   "cell_type": "code",
   "execution_count": 29,
   "metadata": {},
   "outputs": [],
   "source": [
    "# add column to dataA with the indices of the compound in the sentence\n",
    "dataA[\"compound_idx\"] = [get_idx(dataA_compound_tokenized[\"input_ids\"][i], dataA_compound_plural_tokenized[\"input_ids\"][i], dataA_sentence_tokenized[\"input_ids\"][i]) for i in range(len(dataA))]\n",
    "\n"
   ]
  },
  {
   "cell_type": "code",
   "execution_count": 30,
   "metadata": {},
   "outputs": [],
   "source": [
    "# print dataA[\"sentence\"] if compound_idx is empty (ideally there should be no empty compound_idx)\n",
    "for i in range(len(dataA)):\n",
    "    if dataA[\"compound_idx\"][i] == []:\n",
    "        print(dataA[\"compound\"][i])\n",
    "        print(dataA[\"sentence\"][i])"
   ]
  },
  {
   "cell_type": "code",
   "execution_count": 31,
   "metadata": {},
   "outputs": [],
   "source": [
    "\n",
    "# add column compound_embedding to dataA use method 'meanLast'\n",
    "compound_methods = ['meanSecondToLast','meanLast4','meanLast','meanFirst']\n",
    "for method in compound_methods:\n",
    "    dataA['compound_embedding_'+ method] = get_idxList_embedding(hidden_states_sentence,dataA[\"compound_idx\"],method) "
   ]
  },
  {
   "cell_type": "code",
   "execution_count": 32,
   "metadata": {},
   "outputs": [
    {
     "data": {
      "text/plain": [
       "Index(['compound', 'subset', 'sentence_type', 'sentence', 'expected_order',\n",
       "       'image1_name', 'image1_caption', 'image2_name', 'image2_caption',\n",
       "       'image3_name', 'image3_caption', 'image4_name', 'image4_caption',\n",
       "       'image5_name', 'image5_caption', 'sentence_embedding_meanSecondToLast',\n",
       "       'sentence_embedding_meanLast4', 'sentence_embedding_meanLast',\n",
       "       'sentence_embedding_meanFirst', 'sentence_embedding_firstCLS',\n",
       "       'sentence_embedding_lastCLS', 'compound_plural', 'compound_idx',\n",
       "       'compound_embedding_meanSecondToLast', 'compound_embedding_meanLast4',\n",
       "       'compound_embedding_meanLast', 'compound_embedding_meanFirst'],\n",
       "      dtype='object')"
      ]
     },
     "execution_count": 32,
     "metadata": {},
     "output_type": "execute_result"
    }
   ],
   "source": [
    "dataA.columns"
   ]
  },
  {
   "cell_type": "markdown",
   "metadata": {},
   "source": [
    "compound_embedding_ enthält die Embedding des Compounds im Sentence"
   ]
  },
  {
   "cell_type": "code",
   "execution_count": 33,
   "metadata": {},
   "outputs": [
    {
     "data": {
      "text/plain": [
       "torch.Size([768])"
      ]
     },
     "execution_count": 33,
     "metadata": {},
     "output_type": "execute_result"
    }
   ],
   "source": [
    "dataA['compound_embedding_meanLast'][0].shape"
   ]
  },
  {
   "cell_type": "markdown",
   "metadata": {},
   "source": [
    "#### 2) Get contextualized compound embeddings in gpt_sentences and gpt_meaning and gpt_pic embeddings\n"
   ]
  },
  {
   "cell_type": "code",
   "execution_count": 34,
   "metadata": {},
   "outputs": [],
   "source": [
    "# read chatGPT data from csv\n",
    "directory_chatGPT = \"./\"\n",
    "#file_chatGPT = \"gpt-desc-updated.csv\"\n",
    "file_chatGPT = \"gpt-desc.csv\"\n",
    "\n",
    "data_chatGPT = pd.read_csv(directory_chatGPT + \"\\\\\" + file_chatGPT)\n",
    "\n",
    "# rename each column with \"gpt_\" in front of the column name\n",
    "data_chatGPT.rename(columns=lambda x: 'gpt_' + x, inplace=True)\n"
   ]
  },
  {
   "cell_type": "code",
   "execution_count": 35,
   "metadata": {},
   "outputs": [
    {
     "data": {
      "text/plain": [
       "Index(['gpt_compound', 'gpt_sentence_type', 'gpt_Meaning', 'gpt_sentence',\n",
       "       'gpt_pic_sentence'],\n",
       "      dtype='object')"
      ]
     },
     "execution_count": 35,
     "metadata": {},
     "output_type": "execute_result"
    }
   ],
   "source": [
    "data_chatGPT.columns"
   ]
  },
  {
   "cell_type": "code",
   "execution_count": 36,
   "metadata": {},
   "outputs": [],
   "source": [
    "# gpt data needs some cleanup:\n",
    "\n",
    "# replace ’ with ' in all columns\n",
    "for column in data_chatGPT.columns:\n",
    "    data_chatGPT[column] = data_chatGPT[column].str.replace(\"’\",\"'\")\n",
    "\n"
   ]
  },
  {
   "cell_type": "code",
   "execution_count": 37,
   "metadata": {},
   "outputs": [],
   "source": [
    "# add a new column to dataA with the plural form of the compound\n",
    "data_chatGPT['gpt_compound_plural'] = data_chatGPT['gpt_compound'] + 's'\n"
   ]
  },
  {
   "cell_type": "markdown",
   "metadata": {},
   "source": []
  },
  {
   "cell_type": "code",
   "execution_count": 38,
   "metadata": {},
   "outputs": [],
   "source": [
    "# tokenize the columns gpt_sentence, gpt_Meaning, gpt_pic_sentence\n",
    "gpt_sentence_tokenized = tokenize(data_chatGPT[\"gpt_sentence\"].tolist())\n",
    "gpt_Meaning_tokenized = tokenize(data_chatGPT[\"gpt_Meaning\"].tolist())\n",
    "gpt_pic_sentence_tokenized = tokenize(data_chatGPT[\"gpt_pic_sentence\"].tolist())\n",
    "gpt_compound_tokenized = tokenize(data_chatGPT[\"gpt_compound\"].tolist())\n",
    "gpt_compound_plural_tokenized = tokenize(data_chatGPT[\"gpt_compound_plural\"].tolist())\n"
   ]
  },
  {
   "cell_type": "code",
   "execution_count": 39,
   "metadata": {},
   "outputs": [
    {
     "name": "stdout",
     "output_type": "stream",
     "text": [
      "It took a lot of elbow grease to get the old engine running again.\n",
      "Hard physical work or effort.\n",
      "A hardworking mechanic intensely cleaning an old, rusty engine in a garage, surrounded by tools, with sweat visible on their brow, symbolizing the effort and hard work required.\n",
      "The mechanic applied elbow grease to the joint to ensure it moved smoothly.\n",
      "Actual grease or lubricant applied to an elbow joint.\n",
      "A mechanic in a workshop applying a lubricant to an elbow joint, with a visible grease canister nearby, focused on the precise application process.\n"
     ]
    }
   ],
   "source": [
    "# print the first 2 items of each column \n",
    "print(data_chatGPT[\"gpt_sentence\"][0])\n",
    "print(data_chatGPT[\"gpt_Meaning\"][0])\n",
    "print(data_chatGPT[\"gpt_pic_sentence\"][0])\n",
    "\n",
    "print(data_chatGPT[\"gpt_sentence\"][1])\n",
    "print(data_chatGPT[\"gpt_Meaning\"][1])\n",
    "print(data_chatGPT[\"gpt_pic_sentence\"][1])\n",
    "\n"
   ]
  },
  {
   "cell_type": "markdown",
   "metadata": {},
   "source": [
    "Nur in den Sätzen kommt das Compound vor. "
   ]
  },
  {
   "cell_type": "code",
   "execution_count": 40,
   "metadata": {},
   "outputs": [],
   "source": [
    "# Sentence embeddings for gpt_Meaning\n",
    "\n",
    "# hidden states for gpt_Meaning\n",
    "input_ids = torch.tensor(gpt_Meaning_tokenized[\"input_ids\"]).to(device)\n",
    "attention_mask = torch.tensor(gpt_Meaning_tokenized[\"attention_mask\"]).to(device)\n",
    "\n",
    "with torch.no_grad():\n",
    "    output = model(input_ids, attention_mask)\n",
    "\n",
    "hidden_states_gpt_meaning = output.hidden_states\n",
    "\n",
    "# add a columns to data_chatGPT with the embeddings of the gpt_sentence for each method in methods\n",
    "for method in methods:\n",
    "    X = get_sentence_embedding(hidden_states_gpt_meaning,method)\n",
    "    X = np.array([x.cpu().numpy() for x in X]).tolist()\n",
    "    data_chatGPT['gpt_Meaning_embedding_'+ method] = X"
   ]
  },
  {
   "cell_type": "code",
   "execution_count": 41,
   "metadata": {},
   "outputs": [],
   "source": [
    "# Sentence embeddings for gpt_pic_sentence\n",
    "\n",
    "# hidden states for gpt_pic_sentence\n",
    "input_ids = torch.tensor(gpt_pic_sentence_tokenized[\"input_ids\"]).to(device)\n",
    "attention_mask = torch.tensor(gpt_pic_sentence_tokenized[\"attention_mask\"]).to(device)\n",
    "\n",
    "with torch.no_grad():\n",
    "    output = model(input_ids, attention_mask)\n",
    "\n",
    "hidden_states_gpt_picture = output.hidden_states\n",
    "\n",
    "# add a columns to data_chatGPT with the embeddings of the gpt_sentence for each method in methods\n",
    "for method in methods:\n",
    "    X = get_sentence_embedding(hidden_states_gpt_picture,method)\n",
    "    X = np.array([x.cpu().numpy() for x in X]).tolist()\n",
    "    data_chatGPT['gpt_pic_sentence_embedding_'+ method] = X\n",
    "    "
   ]
  },
  {
   "cell_type": "code",
   "execution_count": 42,
   "metadata": {},
   "outputs": [
    {
     "data": {
      "text/plain": [
       "Index(['gpt_compound', 'gpt_sentence_type', 'gpt_Meaning', 'gpt_sentence',\n",
       "       'gpt_pic_sentence', 'gpt_compound_plural',\n",
       "       'gpt_Meaning_embedding_meanSecondToLast',\n",
       "       'gpt_Meaning_embedding_meanLast4', 'gpt_Meaning_embedding_meanLast',\n",
       "       'gpt_Meaning_embedding_meanFirst', 'gpt_Meaning_embedding_firstCLS',\n",
       "       'gpt_Meaning_embedding_lastCLS',\n",
       "       'gpt_pic_sentence_embedding_meanSecondToLast',\n",
       "       'gpt_pic_sentence_embedding_meanLast4',\n",
       "       'gpt_pic_sentence_embedding_meanLast',\n",
       "       'gpt_pic_sentence_embedding_meanFirst',\n",
       "       'gpt_pic_sentence_embedding_firstCLS',\n",
       "       'gpt_pic_sentence_embedding_lastCLS'],\n",
       "      dtype='object')"
      ]
     },
     "execution_count": 42,
     "metadata": {},
     "output_type": "execute_result"
    }
   ],
   "source": [
    "data_chatGPT.columns"
   ]
  },
  {
   "cell_type": "code",
   "execution_count": 43,
   "metadata": {},
   "outputs": [],
   "source": [
    "# add column compound_embedding to data_chatGPT use methods compound_methods\n",
    "\n",
    "# hidden states for gpt_sentence\n",
    "input_ids = torch.tensor(gpt_sentence_tokenized[\"input_ids\"]).to(device)\n",
    "attention_mask = torch.tensor(gpt_sentence_tokenized[\"attention_mask\"]).to(device)\n",
    "\n",
    "with torch.no_grad():\n",
    "    output = model(input_ids, attention_mask)\n",
    "\n",
    "hidden_states_gpt_sentence = output.hidden_states\n",
    "\n",
    "# identify the indices of the compound in the sentence and use it to get the embeddings of the compound\n",
    "data_chatGPT[\"gpt_compound_idx\"] = [get_idx(gpt_compound_tokenized[\"input_ids\"][i], gpt_compound_plural_tokenized[\"input_ids\"][i], gpt_sentence_tokenized[\"input_ids\"][i]) for i in range(len(data_chatGPT))]"
   ]
  },
  {
   "cell_type": "code",
   "execution_count": 44,
   "metadata": {},
   "outputs": [],
   "source": [
    "# apply the methods in compound_methods to get the embeddings of the compound\n",
    "for method in compound_methods:\n",
    "    data_chatGPT['gpt_compound_embedding_'+ method] = get_idxList_embedding(hidden_states_gpt_sentence,data_chatGPT[\"gpt_compound_idx\"],method) "
   ]
  },
  {
   "cell_type": "code",
   "execution_count": 45,
   "metadata": {},
   "outputs": [
    {
     "data": {
      "text/plain": [
       "torch.Size([768])"
      ]
     },
     "execution_count": 45,
     "metadata": {},
     "output_type": "execute_result"
    }
   ],
   "source": [
    "data_chatGPT[\"gpt_compound_embedding_meanLast4\"][0].shape"
   ]
  },
  {
   "cell_type": "code",
   "execution_count": 46,
   "metadata": {},
   "outputs": [],
   "source": [
    "# print data_chatGPT[\"gpt_sentence\"] if compound_idx is empty\n",
    "# this is important to see what causes the empty compound_idx \n",
    "for i in range(len(data_chatGPT)):\n",
    "    if data_chatGPT[\"gpt_compound_idx\"][i] == []:\n",
    "        print(i)\n",
    "        print(data_chatGPT[\"gpt_compound\"][i])\n",
    "        print(data_chatGPT[\"gpt_sentence\"][i])"
   ]
  },
  {
   "cell_type": "markdown",
   "metadata": {},
   "source": [
    "3) ### Use cosine similarity between compound_embedding in dataA and in data_chatGPT to decide idiomatic/literal"
   ]
  },
  {
   "cell_type": "code",
   "execution_count": 47,
   "metadata": {},
   "outputs": [],
   "source": [
    "# for each item in dataA find the corresponding items in data_chatGPT\n",
    "# the corresponding item is the item with the same compound\n",
    "\n",
    "def find_corresponding_items(dataA,data_chatGPT):\n",
    "    corresponding_items = []\n",
    "    for i in range(len(dataA)):\n",
    "        compound = dataA['compound'][i]\n",
    "        bool = data_chatGPT['gpt_compound'] == compound\n",
    "        # find idx of True in bool\n",
    "        idx = [i for i, x in enumerate(bool) if x]\n",
    "        corresponding_items.append(idx)\n",
    "    return corresponding_items"
   ]
  },
  {
   "cell_type": "code",
   "execution_count": 48,
   "metadata": {},
   "outputs": [
    {
     "data": {
      "text/plain": [
       "'elbow grease'"
      ]
     },
     "execution_count": 48,
     "metadata": {},
     "output_type": "execute_result"
    }
   ],
   "source": [
    "data_chatGPT['gpt_compound'][0]"
   ]
  },
  {
   "cell_type": "code",
   "execution_count": 49,
   "metadata": {},
   "outputs": [],
   "source": [
    "compound = dataA['compound'][3]\n",
    "bool = data_chatGPT['gpt_compound'] == compound\n",
    "\n",
    "# find idx of True in bool\n",
    "idx = [i for i, x in enumerate(bool) if x]"
   ]
  },
  {
   "cell_type": "code",
   "execution_count": 50,
   "metadata": {},
   "outputs": [
    {
     "data": {
      "text/html": [
       "<div>\n",
       "<style scoped>\n",
       "    .dataframe tbody tr th:only-of-type {\n",
       "        vertical-align: middle;\n",
       "    }\n",
       "\n",
       "    .dataframe tbody tr th {\n",
       "        vertical-align: top;\n",
       "    }\n",
       "\n",
       "    .dataframe thead th {\n",
       "        text-align: right;\n",
       "    }\n",
       "</style>\n",
       "<table border=\"1\" class=\"dataframe\">\n",
       "  <thead>\n",
       "    <tr style=\"text-align: right;\">\n",
       "      <th></th>\n",
       "      <th>gpt_compound</th>\n",
       "      <th>gpt_sentence_type</th>\n",
       "      <th>gpt_Meaning</th>\n",
       "      <th>gpt_sentence</th>\n",
       "      <th>gpt_pic_sentence</th>\n",
       "      <th>gpt_compound_plural</th>\n",
       "      <th>gpt_Meaning_embedding_meanSecondToLast</th>\n",
       "      <th>gpt_Meaning_embedding_meanLast4</th>\n",
       "      <th>gpt_Meaning_embedding_meanLast</th>\n",
       "      <th>gpt_Meaning_embedding_meanFirst</th>\n",
       "      <th>...</th>\n",
       "      <th>gpt_pic_sentence_embedding_meanLast4</th>\n",
       "      <th>gpt_pic_sentence_embedding_meanLast</th>\n",
       "      <th>gpt_pic_sentence_embedding_meanFirst</th>\n",
       "      <th>gpt_pic_sentence_embedding_firstCLS</th>\n",
       "      <th>gpt_pic_sentence_embedding_lastCLS</th>\n",
       "      <th>gpt_compound_idx</th>\n",
       "      <th>gpt_compound_embedding_meanSecondToLast</th>\n",
       "      <th>gpt_compound_embedding_meanLast4</th>\n",
       "      <th>gpt_compound_embedding_meanLast</th>\n",
       "      <th>gpt_compound_embedding_meanFirst</th>\n",
       "    </tr>\n",
       "  </thead>\n",
       "  <tbody>\n",
       "    <tr>\n",
       "      <th>6</th>\n",
       "      <td>agony aunt</td>\n",
       "      <td>idiomatic</td>\n",
       "      <td>A person or organization that offers advice an...</td>\n",
       "      <td>ESA's Space Weather Office is like Europe's st...</td>\n",
       "      <td>A cosmic-themed office setup with a person or ...</td>\n",
       "      <td>agony aunts</td>\n",
       "      <td>[-0.14159919321537018, 0.3364521265029907, 0.1...</td>\n",
       "      <td>[-0.1098601222038269, 0.3238167464733124, 0.12...</td>\n",
       "      <td>[-0.12177998572587967, 0.2193506807088852, 0.2...</td>\n",
       "      <td>[-0.16814972460269928, 0.06925195455551147, -0...</td>\n",
       "      <td>...</td>\n",
       "      <td>[0.13678966462612152, 0.3918343186378479, 0.20...</td>\n",
       "      <td>[0.06747637689113617, 0.25657251477241516, 0.1...</td>\n",
       "      <td>[0.017099888995289803, 0.12051121145486832, -0...</td>\n",
       "      <td>[0.16855061054229736, -0.2857673764228821, -0....</td>\n",
       "      <td>[-0.6006588339805603, -0.12249989062547684, -0...</td>\n",
       "      <td>[13, 14]</td>\n",
       "      <td>[tensor(-0.0540), tensor(-0.1183), tensor(0.56...</td>\n",
       "      <td>[tensor(0.0222), tensor(-0.1171), tensor(0.568...</td>\n",
       "      <td>[tensor(-0.0919), tensor(0.0188), tensor(0.585...</td>\n",
       "      <td>[tensor(-0.0751), tensor(-0.1166), tensor(-0.3...</td>\n",
       "    </tr>\n",
       "    <tr>\n",
       "      <th>7</th>\n",
       "      <td>agony aunt</td>\n",
       "      <td>literal</td>\n",
       "      <td>A woman who gives advice or solves problems fo...</td>\n",
       "      <td>The agony aunt sat at her desk, thoughtfully c...</td>\n",
       "      <td>A warm, cozy room with a thoughtful woman seat...</td>\n",
       "      <td>agony aunts</td>\n",
       "      <td>[-0.22741030156612396, -0.045613378286361694, ...</td>\n",
       "      <td>[-0.2194714993238449, -0.10328776389360428, 0....</td>\n",
       "      <td>[-0.23725827038288116, -0.11049438267946243, 0...</td>\n",
       "      <td>[-0.1097341999411583, 0.1830216646194458, -0.0...</td>\n",
       "      <td>...</td>\n",
       "      <td>[0.012248092330992222, 0.3889606297016144, 0.0...</td>\n",
       "      <td>[-0.00827939435839653, 0.23951362073421478, 0....</td>\n",
       "      <td>[0.04780123382806778, 0.32767271995544434, -0....</td>\n",
       "      <td>[0.16855061054229736, -0.2857673764228821, -0....</td>\n",
       "      <td>[-0.17640900611877441, -0.2033209204673767, -0...</td>\n",
       "      <td>[2, 3]</td>\n",
       "      <td>[tensor(0.1208), tensor(0.0220), tensor(0.4903...</td>\n",
       "      <td>[tensor(-0.0149), tensor(-0.0555), tensor(0.58...</td>\n",
       "      <td>[tensor(-0.0088), tensor(-0.0628), tensor(0.68...</td>\n",
       "      <td>[tensor(0.0062), tensor(-0.3551), tensor(-0.48...</td>\n",
       "    </tr>\n",
       "  </tbody>\n",
       "</table>\n",
       "<p>2 rows × 23 columns</p>\n",
       "</div>"
      ],
      "text/plain": [
       "  gpt_compound gpt_sentence_type  \\\n",
       "6   agony aunt         idiomatic   \n",
       "7   agony aunt           literal   \n",
       "\n",
       "                                         gpt_Meaning  \\\n",
       "6  A person or organization that offers advice an...   \n",
       "7  A woman who gives advice or solves problems fo...   \n",
       "\n",
       "                                        gpt_sentence  \\\n",
       "6  ESA's Space Weather Office is like Europe's st...   \n",
       "7  The agony aunt sat at her desk, thoughtfully c...   \n",
       "\n",
       "                                    gpt_pic_sentence gpt_compound_plural  \\\n",
       "6  A cosmic-themed office setup with a person or ...         agony aunts   \n",
       "7  A warm, cozy room with a thoughtful woman seat...         agony aunts   \n",
       "\n",
       "              gpt_Meaning_embedding_meanSecondToLast  \\\n",
       "6  [-0.14159919321537018, 0.3364521265029907, 0.1...   \n",
       "7  [-0.22741030156612396, -0.045613378286361694, ...   \n",
       "\n",
       "                     gpt_Meaning_embedding_meanLast4  \\\n",
       "6  [-0.1098601222038269, 0.3238167464733124, 0.12...   \n",
       "7  [-0.2194714993238449, -0.10328776389360428, 0....   \n",
       "\n",
       "                      gpt_Meaning_embedding_meanLast  \\\n",
       "6  [-0.12177998572587967, 0.2193506807088852, 0.2...   \n",
       "7  [-0.23725827038288116, -0.11049438267946243, 0...   \n",
       "\n",
       "                     gpt_Meaning_embedding_meanFirst  ...  \\\n",
       "6  [-0.16814972460269928, 0.06925195455551147, -0...  ...   \n",
       "7  [-0.1097341999411583, 0.1830216646194458, -0.0...  ...   \n",
       "\n",
       "                gpt_pic_sentence_embedding_meanLast4  \\\n",
       "6  [0.13678966462612152, 0.3918343186378479, 0.20...   \n",
       "7  [0.012248092330992222, 0.3889606297016144, 0.0...   \n",
       "\n",
       "                 gpt_pic_sentence_embedding_meanLast  \\\n",
       "6  [0.06747637689113617, 0.25657251477241516, 0.1...   \n",
       "7  [-0.00827939435839653, 0.23951362073421478, 0....   \n",
       "\n",
       "                gpt_pic_sentence_embedding_meanFirst  \\\n",
       "6  [0.017099888995289803, 0.12051121145486832, -0...   \n",
       "7  [0.04780123382806778, 0.32767271995544434, -0....   \n",
       "\n",
       "                 gpt_pic_sentence_embedding_firstCLS  \\\n",
       "6  [0.16855061054229736, -0.2857673764228821, -0....   \n",
       "7  [0.16855061054229736, -0.2857673764228821, -0....   \n",
       "\n",
       "                  gpt_pic_sentence_embedding_lastCLS gpt_compound_idx  \\\n",
       "6  [-0.6006588339805603, -0.12249989062547684, -0...         [13, 14]   \n",
       "7  [-0.17640900611877441, -0.2033209204673767, -0...           [2, 3]   \n",
       "\n",
       "             gpt_compound_embedding_meanSecondToLast  \\\n",
       "6  [tensor(-0.0540), tensor(-0.1183), tensor(0.56...   \n",
       "7  [tensor(0.1208), tensor(0.0220), tensor(0.4903...   \n",
       "\n",
       "                    gpt_compound_embedding_meanLast4  \\\n",
       "6  [tensor(0.0222), tensor(-0.1171), tensor(0.568...   \n",
       "7  [tensor(-0.0149), tensor(-0.0555), tensor(0.58...   \n",
       "\n",
       "                     gpt_compound_embedding_meanLast  \\\n",
       "6  [tensor(-0.0919), tensor(0.0188), tensor(0.585...   \n",
       "7  [tensor(-0.0088), tensor(-0.0628), tensor(0.68...   \n",
       "\n",
       "                    gpt_compound_embedding_meanFirst  \n",
       "6  [tensor(-0.0751), tensor(-0.1166), tensor(-0.3...  \n",
       "7  [tensor(0.0062), tensor(-0.3551), tensor(-0.48...  \n",
       "\n",
       "[2 rows x 23 columns]"
      ]
     },
     "execution_count": 50,
     "metadata": {},
     "output_type": "execute_result"
    }
   ],
   "source": [
    "# get the corresponding item to idx [Dauert ewig. Gibt es eine bessere Lösung?]\n",
    "\n",
    "data_chatGPT.iloc[idx]"
   ]
  },
  {
   "cell_type": "code",
   "execution_count": 51,
   "metadata": {},
   "outputs": [],
   "source": [
    "# Reduce chatGPT. Remove all embedding columns beside the ones with the method 'meanLast' and 'meanLast4\n",
    "\n",
    "keep_columns = ['gpt_compound', 'gpt_sentence_type', 'gpt_Meaning', 'gpt_sentence',\n",
    "       'gpt_pic_sentence', \n",
    "       'gpt_Meaning_embedding_meanLast4', 'gpt_Meaning_embedding_meanLast',\n",
    "       'gpt_pic_sentence_embedding_meanLast4',\n",
    "       'gpt_pic_sentence_embedding_meanLast',\n",
    "       'gpt_compound_embedding_meanLast4', 'gpt_compound_embedding_meanLast']\n",
    "# remove all columns that are not in keep_columns\n",
    "#data_chatGPT = data_chatGPT[keep_columns]"
   ]
  },
  {
   "cell_type": "code",
   "execution_count": 52,
   "metadata": {},
   "outputs": [
    {
     "name": "stdout",
     "output_type": "stream",
     "text": [
      "ESA's Space Weather Office is like Europe's stellar agony aunt, offering forecasts, advice and information for any organisation, individual or institution vulnerable to space phenomena.\n",
      "A person or organization that offers advice and help to those with personal problems.\n",
      "A cosmic-themed office setup with a person or representative at a desk, surrounded by futuristic monitors displaying space weather data, while concerned individuals and organizations line up or communicate remotely, seeking guidance.\n",
      "---------------------------------------------------------------------\n",
      "The agony aunt sat at her desk, thoughtfully composing replies to the readers' heartfelt letters seeking her advice.\n",
      "A woman who gives advice or solves problems for others, often published in a column or media platform.\n",
      "A warm, cozy room with a thoughtful woman seated at a wooden desk. Piles of letters and an old-fashioned typewriter are in front of her, with framed reader letters and newspaper clippings on the walls, symbolizing her role as a columnist.\n",
      "---------------------------------------------------------------------\n"
     ]
    }
   ],
   "source": [
    "for i in idx:\n",
    "    print(data_chatGPT['gpt_sentence'][i])\n",
    "    print(data_chatGPT['gpt_Meaning'][i])\n",
    "    print(data_chatGPT['gpt_pic_sentence'][i])\n",
    "    print('---------------------------------------------------------------------')"
   ]
  },
  {
   "cell_type": "code",
   "execution_count": 53,
   "metadata": {},
   "outputs": [],
   "source": [
    "dataA[\"corresponding_gpt\"] = find_corresponding_items(dataA,data_chatGPT)"
   ]
  },
  {
   "cell_type": "code",
   "execution_count": 54,
   "metadata": {},
   "outputs": [
    {
     "data": {
      "text/html": [
       "<div>\n",
       "<style scoped>\n",
       "    .dataframe tbody tr th:only-of-type {\n",
       "        vertical-align: middle;\n",
       "    }\n",
       "\n",
       "    .dataframe tbody tr th {\n",
       "        vertical-align: top;\n",
       "    }\n",
       "\n",
       "    .dataframe thead th {\n",
       "        text-align: right;\n",
       "    }\n",
       "</style>\n",
       "<table border=\"1\" class=\"dataframe\">\n",
       "  <thead>\n",
       "    <tr style=\"text-align: right;\">\n",
       "      <th></th>\n",
       "      <th>compound</th>\n",
       "      <th>subset</th>\n",
       "      <th>sentence_type</th>\n",
       "      <th>sentence</th>\n",
       "      <th>expected_order</th>\n",
       "      <th>image1_name</th>\n",
       "      <th>image1_caption</th>\n",
       "      <th>image2_name</th>\n",
       "      <th>image2_caption</th>\n",
       "      <th>image3_name</th>\n",
       "      <th>...</th>\n",
       "      <th>sentence_embedding_meanFirst</th>\n",
       "      <th>sentence_embedding_firstCLS</th>\n",
       "      <th>sentence_embedding_lastCLS</th>\n",
       "      <th>compound_plural</th>\n",
       "      <th>compound_idx</th>\n",
       "      <th>compound_embedding_meanSecondToLast</th>\n",
       "      <th>compound_embedding_meanLast4</th>\n",
       "      <th>compound_embedding_meanLast</th>\n",
       "      <th>compound_embedding_meanFirst</th>\n",
       "      <th>corresponding_gpt</th>\n",
       "    </tr>\n",
       "  </thead>\n",
       "  <tbody>\n",
       "    <tr>\n",
       "      <th>0</th>\n",
       "      <td>elbow grease</td>\n",
       "      <td>Train</td>\n",
       "      <td>idiomatic</td>\n",
       "      <td>It took a lot of elbow grease to get the old e...</td>\n",
       "      <td>[35234427395.png, 53378381715.png, 39938261459...</td>\n",
       "      <td>35234427395.png</td>\n",
       "      <td>The image depicts a hand holding a sponge and ...</td>\n",
       "      <td>39938261459.png</td>\n",
       "      <td>The image depicts a hand wearing a yellow work...</td>\n",
       "      <td>53378381715.png</td>\n",
       "      <td>...</td>\n",
       "      <td>[0.06868533790111542, -0.24831849336624146, -0...</td>\n",
       "      <td>[0.16855061054229736, -0.2857673764228821, -0....</td>\n",
       "      <td>[-0.0031434986740350723, 0.1451866626739502, -...</td>\n",
       "      <td>elbow greases</td>\n",
       "      <td>[6, 7]</td>\n",
       "      <td>[tensor(1.2445), tensor(0.4941), tensor(0.2267...</td>\n",
       "      <td>[tensor(1.0906), tensor(0.3305), tensor(0.3365...</td>\n",
       "      <td>[tensor(1.0284), tensor(0.4412), tensor(0.2602...</td>\n",
       "      <td>[tensor(0.4982), tensor(0.3188), tensor(-0.256...</td>\n",
       "      <td>[0, 1]</td>\n",
       "    </tr>\n",
       "    <tr>\n",
       "      <th>1</th>\n",
       "      <td>night owl</td>\n",
       "      <td>Train</td>\n",
       "      <td>idiomatic</td>\n",
       "      <td>It's a constant battle for us, as he is a morn...</td>\n",
       "      <td>[61697797701.png, 93189810779.png, 89375227504...</td>\n",
       "      <td>00982495584.png</td>\n",
       "      <td>The image depicts a nighttime scene with a lar...</td>\n",
       "      <td>61697797701.png</td>\n",
       "      <td>The image depicts a cartoon-style illustration...</td>\n",
       "      <td>89375227504.png</td>\n",
       "      <td>...</td>\n",
       "      <td>[-0.1467825472354889, 0.2007705569267273, -0.0...</td>\n",
       "      <td>[0.16855061054229736, -0.2857673764228821, -0....</td>\n",
       "      <td>[0.34098803997039795, 0.15176591277122498, -0....</td>\n",
       "      <td>night owls</td>\n",
       "      <td>[20, 21]</td>\n",
       "      <td>[tensor(0.3947), tensor(0.1954), tensor(0.7019...</td>\n",
       "      <td>[tensor(0.3732), tensor(0.2188), tensor(0.5665...</td>\n",
       "      <td>[tensor(0.1653), tensor(-0.0985), tensor(0.579...</td>\n",
       "      <td>[tensor(0.2131), tensor(0.0368), tensor(-0.489...</td>\n",
       "      <td>[2, 3]</td>\n",
       "    </tr>\n",
       "    <tr>\n",
       "      <th>2</th>\n",
       "      <td>heart of gold</td>\n",
       "      <td>Train</td>\n",
       "      <td>idiomatic</td>\n",
       "      <td>Even the somewhat seedy failed private eye has...</td>\n",
       "      <td>[86137977215.png, 78062290185.png, 54240592941...</td>\n",
       "      <td>54240592941.png</td>\n",
       "      <td>The image depicts a large, metallic safe with ...</td>\n",
       "      <td>78062290185.png</td>\n",
       "      <td>The image depicts a joyful scene featuring a y...</td>\n",
       "      <td>86137977215.png</td>\n",
       "      <td>...</td>\n",
       "      <td>[0.025757232680916786, -0.10315004736185074, -...</td>\n",
       "      <td>[0.16855061054229736, -0.2857673764228821, -0....</td>\n",
       "      <td>[-0.3827044367790222, -0.21490302681922913, -0...</td>\n",
       "      <td>heart of golds</td>\n",
       "      <td>[11, 12, 13]</td>\n",
       "      <td>[tensor(-0.3693), tensor(-0.0300), tensor(0.34...</td>\n",
       "      <td>[tensor(-0.3059), tensor(-0.0478), tensor(0.38...</td>\n",
       "      <td>[tensor(-0.2405), tensor(-0.1120), tensor(0.15...</td>\n",
       "      <td>[tensor(-0.1178), tensor(0.2763), tensor(-0.00...</td>\n",
       "      <td>[4, 5]</td>\n",
       "    </tr>\n",
       "    <tr>\n",
       "      <th>3</th>\n",
       "      <td>agony aunt</td>\n",
       "      <td>Sample</td>\n",
       "      <td>idiomatic</td>\n",
       "      <td>ESA's Space Weather Office is like Europe's st...</td>\n",
       "      <td>[83600499282.png, 57658144685.png, 02512838127...</td>\n",
       "      <td>02512838127.png</td>\n",
       "      <td>The image depicts a serene outdoor scene featu...</td>\n",
       "      <td>32964421720.png</td>\n",
       "      <td>The image depicts a cartoon-style illustration...</td>\n",
       "      <td>57658144685.png</td>\n",
       "      <td>...</td>\n",
       "      <td>[-0.12844744324684143, 0.18944993615150452, -0...</td>\n",
       "      <td>[0.16855061054229736, -0.2857673764228821, -0....</td>\n",
       "      <td>[-0.475847065448761, 0.23487362265586853, 0.04...</td>\n",
       "      <td>agony aunts</td>\n",
       "      <td>[13, 14]</td>\n",
       "      <td>[tensor(-0.0540), tensor(-0.1183), tensor(0.56...</td>\n",
       "      <td>[tensor(0.0222), tensor(-0.1171), tensor(0.568...</td>\n",
       "      <td>[tensor(-0.0919), tensor(0.0188), tensor(0.585...</td>\n",
       "      <td>[tensor(-0.0751), tensor(-0.1166), tensor(-0.3...</td>\n",
       "      <td>[6, 7]</td>\n",
       "    </tr>\n",
       "    <tr>\n",
       "      <th>4</th>\n",
       "      <td>shrinking violet</td>\n",
       "      <td>Train</td>\n",
       "      <td>idiomatic</td>\n",
       "      <td>This aged, rich wine is no shrinking violet wi...</td>\n",
       "      <td>[77861539717.png, 68016869942.png, 11844321898...</td>\n",
       "      <td>11844321898.png</td>\n",
       "      <td>The image depicts a bouquet of purple tulips a...</td>\n",
       "      <td>45394842176.png</td>\n",
       "      <td>The image depicts a magnifying glass, commonly...</td>\n",
       "      <td>68016869942.png</td>\n",
       "      <td>...</td>\n",
       "      <td>[-0.14041674137115479, -0.01779022626578808, -...</td>\n",
       "      <td>[0.16855061054229736, -0.2857673764228821, -0....</td>\n",
       "      <td>[-0.49911126494407654, -0.19261348247528076, 0...</td>\n",
       "      <td>shrinking violets</td>\n",
       "      <td>[8, 9]</td>\n",
       "      <td>[tensor(0.1608), tensor(-0.8254), tensor(0.880...</td>\n",
       "      <td>[tensor(0.3068), tensor(-1.1151), tensor(0.755...</td>\n",
       "      <td>[tensor(-0.0211), tensor(-0.7274), tensor(0.82...</td>\n",
       "      <td>[tensor(-0.0349), tensor(-0.2551), tensor(-0.0...</td>\n",
       "      <td>[8, 9]</td>\n",
       "    </tr>\n",
       "  </tbody>\n",
       "</table>\n",
       "<p>5 rows × 28 columns</p>\n",
       "</div>"
      ],
      "text/plain": [
       "           compound  subset sentence_type  \\\n",
       "0      elbow grease   Train     idiomatic   \n",
       "1         night owl   Train     idiomatic   \n",
       "2     heart of gold   Train     idiomatic   \n",
       "3        agony aunt  Sample     idiomatic   \n",
       "4  shrinking violet   Train     idiomatic   \n",
       "\n",
       "                                            sentence  \\\n",
       "0  It took a lot of elbow grease to get the old e...   \n",
       "1  It's a constant battle for us, as he is a morn...   \n",
       "2  Even the somewhat seedy failed private eye has...   \n",
       "3  ESA's Space Weather Office is like Europe's st...   \n",
       "4  This aged, rich wine is no shrinking violet wi...   \n",
       "\n",
       "                                      expected_order      image1_name  \\\n",
       "0  [35234427395.png, 53378381715.png, 39938261459...  35234427395.png   \n",
       "1  [61697797701.png, 93189810779.png, 89375227504...  00982495584.png   \n",
       "2  [86137977215.png, 78062290185.png, 54240592941...  54240592941.png   \n",
       "3  [83600499282.png, 57658144685.png, 02512838127...  02512838127.png   \n",
       "4  [77861539717.png, 68016869942.png, 11844321898...  11844321898.png   \n",
       "\n",
       "                                      image1_caption      image2_name  \\\n",
       "0  The image depicts a hand holding a sponge and ...  39938261459.png   \n",
       "1  The image depicts a nighttime scene with a lar...  61697797701.png   \n",
       "2  The image depicts a large, metallic safe with ...  78062290185.png   \n",
       "3  The image depicts a serene outdoor scene featu...  32964421720.png   \n",
       "4  The image depicts a bouquet of purple tulips a...  45394842176.png   \n",
       "\n",
       "                                      image2_caption      image3_name  ...  \\\n",
       "0  The image depicts a hand wearing a yellow work...  53378381715.png  ...   \n",
       "1  The image depicts a cartoon-style illustration...  89375227504.png  ...   \n",
       "2  The image depicts a joyful scene featuring a y...  86137977215.png  ...   \n",
       "3  The image depicts a cartoon-style illustration...  57658144685.png  ...   \n",
       "4  The image depicts a magnifying glass, commonly...  68016869942.png  ...   \n",
       "\n",
       "                        sentence_embedding_meanFirst  \\\n",
       "0  [0.06868533790111542, -0.24831849336624146, -0...   \n",
       "1  [-0.1467825472354889, 0.2007705569267273, -0.0...   \n",
       "2  [0.025757232680916786, -0.10315004736185074, -...   \n",
       "3  [-0.12844744324684143, 0.18944993615150452, -0...   \n",
       "4  [-0.14041674137115479, -0.01779022626578808, -...   \n",
       "\n",
       "                         sentence_embedding_firstCLS  \\\n",
       "0  [0.16855061054229736, -0.2857673764228821, -0....   \n",
       "1  [0.16855061054229736, -0.2857673764228821, -0....   \n",
       "2  [0.16855061054229736, -0.2857673764228821, -0....   \n",
       "3  [0.16855061054229736, -0.2857673764228821, -0....   \n",
       "4  [0.16855061054229736, -0.2857673764228821, -0....   \n",
       "\n",
       "                          sentence_embedding_lastCLS    compound_plural  \\\n",
       "0  [-0.0031434986740350723, 0.1451866626739502, -...      elbow greases   \n",
       "1  [0.34098803997039795, 0.15176591277122498, -0....         night owls   \n",
       "2  [-0.3827044367790222, -0.21490302681922913, -0...     heart of golds   \n",
       "3  [-0.475847065448761, 0.23487362265586853, 0.04...        agony aunts   \n",
       "4  [-0.49911126494407654, -0.19261348247528076, 0...  shrinking violets   \n",
       "\n",
       "   compound_idx                compound_embedding_meanSecondToLast  \\\n",
       "0        [6, 7]  [tensor(1.2445), tensor(0.4941), tensor(0.2267...   \n",
       "1      [20, 21]  [tensor(0.3947), tensor(0.1954), tensor(0.7019...   \n",
       "2  [11, 12, 13]  [tensor(-0.3693), tensor(-0.0300), tensor(0.34...   \n",
       "3      [13, 14]  [tensor(-0.0540), tensor(-0.1183), tensor(0.56...   \n",
       "4        [8, 9]  [tensor(0.1608), tensor(-0.8254), tensor(0.880...   \n",
       "\n",
       "                        compound_embedding_meanLast4  \\\n",
       "0  [tensor(1.0906), tensor(0.3305), tensor(0.3365...   \n",
       "1  [tensor(0.3732), tensor(0.2188), tensor(0.5665...   \n",
       "2  [tensor(-0.3059), tensor(-0.0478), tensor(0.38...   \n",
       "3  [tensor(0.0222), tensor(-0.1171), tensor(0.568...   \n",
       "4  [tensor(0.3068), tensor(-1.1151), tensor(0.755...   \n",
       "\n",
       "                         compound_embedding_meanLast  \\\n",
       "0  [tensor(1.0284), tensor(0.4412), tensor(0.2602...   \n",
       "1  [tensor(0.1653), tensor(-0.0985), tensor(0.579...   \n",
       "2  [tensor(-0.2405), tensor(-0.1120), tensor(0.15...   \n",
       "3  [tensor(-0.0919), tensor(0.0188), tensor(0.585...   \n",
       "4  [tensor(-0.0211), tensor(-0.7274), tensor(0.82...   \n",
       "\n",
       "                        compound_embedding_meanFirst corresponding_gpt  \n",
       "0  [tensor(0.4982), tensor(0.3188), tensor(-0.256...            [0, 1]  \n",
       "1  [tensor(0.2131), tensor(0.0368), tensor(-0.489...            [2, 3]  \n",
       "2  [tensor(-0.1178), tensor(0.2763), tensor(-0.00...            [4, 5]  \n",
       "3  [tensor(-0.0751), tensor(-0.1166), tensor(-0.3...            [6, 7]  \n",
       "4  [tensor(-0.0349), tensor(-0.2551), tensor(-0.0...            [8, 9]  \n",
       "\n",
       "[5 rows x 28 columns]"
      ]
     },
     "execution_count": 54,
     "metadata": {},
     "output_type": "execute_result"
    }
   ],
   "source": [
    "dataA.head()"
   ]
  },
  {
   "cell_type": "code",
   "execution_count": 55,
   "metadata": {},
   "outputs": [
    {
     "data": {
      "text/plain": [
       "Index(['gpt_compound', 'gpt_sentence_type', 'gpt_Meaning', 'gpt_sentence',\n",
       "       'gpt_pic_sentence', 'gpt_compound_plural',\n",
       "       'gpt_Meaning_embedding_meanSecondToLast',\n",
       "       'gpt_Meaning_embedding_meanLast4', 'gpt_Meaning_embedding_meanLast',\n",
       "       'gpt_Meaning_embedding_meanFirst', 'gpt_Meaning_embedding_firstCLS',\n",
       "       'gpt_Meaning_embedding_lastCLS',\n",
       "       'gpt_pic_sentence_embedding_meanSecondToLast',\n",
       "       'gpt_pic_sentence_embedding_meanLast4',\n",
       "       'gpt_pic_sentence_embedding_meanLast',\n",
       "       'gpt_pic_sentence_embedding_meanFirst',\n",
       "       'gpt_pic_sentence_embedding_firstCLS',\n",
       "       'gpt_pic_sentence_embedding_lastCLS', 'gpt_compound_idx',\n",
       "       'gpt_compound_embedding_meanSecondToLast',\n",
       "       'gpt_compound_embedding_meanLast4', 'gpt_compound_embedding_meanLast',\n",
       "       'gpt_compound_embedding_meanFirst'],\n",
       "      dtype='object')"
      ]
     },
     "execution_count": 55,
     "metadata": {},
     "output_type": "execute_result"
    }
   ],
   "source": [
    "data_chatGPT.columns"
   ]
  },
  {
   "cell_type": "code",
   "execution_count": 56,
   "metadata": {},
   "outputs": [
    {
     "data": {
      "text/plain": [
       "768"
      ]
     },
     "execution_count": 56,
     "metadata": {},
     "output_type": "execute_result"
    }
   ],
   "source": [
    "i=3\n",
    "idx = dataA['corresponding_gpt'][i]\n",
    "compound_embedding = dataA['compound_embedding_meanLast4'][i]\n",
    "gpt_compound_embedding1 = data_chatGPT['gpt_compound_embedding_meanLast4'][idx[0]]\n",
    "gpt_compound_embedding2 = data_chatGPT['gpt_compound_embedding_meanLast4'][idx[1]]\n",
    "#similarity1 = cosine_similarity([compound_embedding],gpt_compound_embedding1)\n",
    "#similarity2 = cosine_similarity([compound_embedding],gpt_compound_embedding2)\n",
    "len(gpt_compound_embedding1)"
   ]
  },
  {
   "cell_type": "code",
   "execution_count": 58,
   "metadata": {},
   "outputs": [],
   "source": [
    "def cosine_similarity(u, v):\n",
    "    return np.dot(u, v) / (np.linalg.norm(u) * np.linalg.norm(v))"
   ]
  },
  {
   "cell_type": "code",
   "execution_count": 59,
   "metadata": {},
   "outputs": [],
   "source": [
    "# for each item in dataA get the corresponding gpt_compound_embedding_meanLast4 \n",
    "\n",
    "        \n",
    "preds = []\n",
    "for i in range(len(dataA)):\n",
    "    idx = dataA['corresponding_gpt'][i]\n",
    "    if idx == []:\n",
    "        print(\"WArning: idx is empty\")\n",
    "        print(i)\n",
    "    else:\n",
    "        # compare cosine similarity of compound_embedding_meanLast4 and gpt_compound_embedding_meanLast4 in idx[0] and idx[1]\n",
    "        # if similarity is higher take idx[0] else idx[1]\n",
    "        compound_embedding = dataA['compound_embedding_meanLast4'][i].tolist()\n",
    "        gpt_compound_embedding1 = data_chatGPT['gpt_compound_embedding_meanLast4'][idx[0]].tolist()\n",
    "        gpt_compound_embedding2 = data_chatGPT['gpt_compound_embedding_meanLast4'][idx[1]].tolist()\n",
    "        similarity1 = cosine_similarity(compound_embedding,gpt_compound_embedding1)\n",
    "        similarity2 = cosine_similarity(compound_embedding,gpt_compound_embedding2)\n",
    "        if similarity1 > similarity2:\n",
    "            preds.append(data_chatGPT[\"gpt_sentence_type\"][idx[0]])\n",
    "        else:\n",
    "            preds.append(data_chatGPT[\"gpt_sentence_type\"][idx[1]])\n",
    "dataA['pred_type_by_compound'] = preds\n",
    "        "
   ]
  },
  {
   "cell_type": "code",
   "execution_count": 60,
   "metadata": {},
   "outputs": [
    {
     "name": "stdout",
     "output_type": "stream",
     "text": [
      "0.9857142857142858\n",
      "              precision    recall  f1-score   support\n",
      "\n",
      "   idiomatic       0.97      1.00      0.99        39\n",
      "     literal       1.00      0.97      0.98        31\n",
      "\n",
      "    accuracy                           0.99        70\n",
      "   macro avg       0.99      0.98      0.99        70\n",
      "weighted avg       0.99      0.99      0.99        70\n",
      "\n"
     ]
    }
   ],
   "source": [
    "# check accuracy of the predictions: idiomaticity predicted by compound embedding in sentence compared to \n",
    "# compound embedding in gpt_sentence \n",
    "y = dataA[\"sentence_type\"]\n",
    "y_pred = dataA['pred_type_by_compound']\n",
    "print(accuracy_score(y, y_pred))\n",
    "print(classification_report(y, y_pred,zero_division=0))"
   ]
  },
  {
   "cell_type": "markdown",
   "metadata": {},
   "source": [
    "#### Jetzt noch compound embedding in Satz zu embeddings der BildCaptions"
   ]
  },
  {
   "cell_type": "code",
   "execution_count": 61,
   "metadata": {},
   "outputs": [
    {
     "data": {
      "text/plain": [
       "Index(['compound', 'subset', 'sentence_type', 'sentence', 'expected_order',\n",
       "       'image1_name', 'image1_caption', 'image2_name', 'image2_caption',\n",
       "       'image3_name', 'image3_caption', 'image4_name', 'image4_caption',\n",
       "       'image5_name', 'image5_caption', 'sentence_embedding_meanSecondToLast',\n",
       "       'sentence_embedding_meanLast4', 'sentence_embedding_meanLast',\n",
       "       'sentence_embedding_meanFirst', 'sentence_embedding_firstCLS',\n",
       "       'sentence_embedding_lastCLS', 'compound_plural', 'compound_idx',\n",
       "       'compound_embedding_meanSecondToLast', 'compound_embedding_meanLast4',\n",
       "       'compound_embedding_meanLast', 'compound_embedding_meanFirst',\n",
       "       'corresponding_gpt', 'pred_type_by_compound'],\n",
       "      dtype='object')"
      ]
     },
     "execution_count": 61,
     "metadata": {},
     "output_type": "execute_result"
    }
   ],
   "source": [
    "dataA.columns"
   ]
  },
  {
   "cell_type": "code",
   "execution_count": null,
   "metadata": {},
   "outputs": [],
   "source": []
  },
  {
   "cell_type": "code",
   "execution_count": 62,
   "metadata": {},
   "outputs": [],
   "source": [
    "dataA_image1_caption_tokenized = tokenize(dataA[\"image1_caption\"].tolist())\n",
    "dataA_image2_caption_tokenized = tokenize(dataA[\"image2_caption\"].tolist())\n",
    "dataA_image3_caption_tokenized = tokenize(dataA[\"image3_caption\"].tolist())\n",
    "dataA_image4_caption_tokenized = tokenize(dataA[\"image4_caption\"].tolist())\n",
    "dataA_image5_caption_tokenized = tokenize(dataA[\"image5_caption\"].tolist())\n"
   ]
  },
  {
   "cell_type": "code",
   "execution_count": null,
   "metadata": {},
   "outputs": [],
   "source": [
    "methods = ['meanLast4','lastCLS']\n",
    "\n",
    "# hidden states for image1_caption\n",
    "input_ids = torch.tensor(dataA_image1_caption_tokenized[\"input_ids\"]).to(device)\n",
    "attention_mask = torch.tensor(dataA_image1_caption_tokenized[\"attention_mask\"]).to(device)\n",
    "\n",
    "with torch.no_grad():\n",
    "    output = model(input_ids, attention_mask)\n",
    "\n",
    "hidden_states_gpt_image1 = output.hidden_states\n",
    "\n",
    "# add a columns to dataA with the embeddings of the image1_caption for each method in methods\n",
    "for method in methods:\n",
    "    X = get_sentence_embedding(hidden_states_gpt_image1,method)\n",
    "    X = np.array([x.cpu().numpy() for x in X]).tolist()\n",
    "    dataA['image1_caption_embedding_'+ method] = X\n",
    "\n",
    "# hidden states for image2_caption\n",
    "input_ids = torch.tensor(dataA_image2_caption_tokenized[\"input_ids\"]).to(device)\n",
    "attention_mask = torch.tensor(dataA_image2_caption_tokenized[\"attention_mask\"]).to(device)\n",
    "\n",
    "with torch.no_grad():\n",
    "    output = model(input_ids, attention_mask)\n",
    "\n",
    "hidden_states_gpt_image2 = output.hidden_states\n",
    "\n",
    "# add a columns to dataA with the embeddings of the image2_caption for each method in methods\n",
    "for method in methods:\n",
    "    X = get_sentence_embedding(hidden_states_gpt_image2,method)\n",
    "    X = np.array([x.cpu().numpy() for x in X]).tolist()\n",
    "    dataA['image2_caption_embedding_'+ method] = X\n",
    "\n",
    "# hidden states for image3_caption\n",
    "input_ids = torch.tensor(dataA_image3_caption_tokenized[\"input_ids\"]).to(device)\n",
    "attention_mask = torch.tensor(dataA_image3_caption_tokenized[\"attention_mask\"]).to(device)\n",
    "\n",
    "with torch.no_grad():\n",
    "    output = model(input_ids, attention_mask)\n",
    "\n",
    "hidden_states_gpt_image3 = output.hidden_states\n",
    "\n",
    "# add a columns to dataA with the embeddings of the image3_caption for each method in methods\n",
    "\n",
    "for method in methods:\n",
    "    X = get_sentence_embedding(hidden_states_gpt_image3,method)\n",
    "    X = np.array([x.cpu().numpy() for x in X]).tolist()\n",
    "    dataA['image3_caption_embedding_'+ method] = X\n",
    "\n",
    "# hidden states for image4_caption\n",
    "input_ids = torch.tensor(dataA_image4_caption_tokenized[\"input_ids\"]).to(device)\n",
    "attention_mask = torch.tensor(dataA_image4_caption_tokenized[\"attention_mask\"]).to(device)\n",
    "\n",
    "with torch.no_grad():\n",
    "    output = model(input_ids, attention_mask)\n",
    "\n",
    "hidden_states_gpt_image4 = output.hidden_states\n",
    "\n",
    "# add a columns to dataA with the embeddings of the image4_caption for each method in methods\n",
    "for method in methods:\n",
    "    X = get_sentence_embedding(hidden_states_gpt_image4,method)\n",
    "    X = np.array([x.cpu().numpy() for x in X]).tolist()\n",
    "    dataA['image4_caption_embedding_'+ method] = X\n",
    "\n",
    "# hidden states for image5_caption\n",
    "input_ids = torch.tensor(dataA_image5_caption_tokenized[\"input_ids\"]).to(device)\n",
    "attention_mask = torch.tensor(dataA_image5_caption_tokenized[\"attention_mask\"]).to(device)\n",
    "\n",
    "with torch.no_grad():\n",
    "    output = model(input_ids, attention_mask)\n",
    "\n",
    "hidden_states_gpt_image5 = output.hidden_states\n",
    "\n",
    "# add a columns to dataA with the embeddings of the image5_caption for each method in methods\n",
    "for method in methods:\n",
    "    X = get_sentence_embedding(hidden_states_gpt_image5,method)\n",
    "    X = np.array([x.cpu().numpy() for x in X]).tolist()\n",
    "    dataA['image5_caption_embedding_'+ method] = X\n",
    "    "
   ]
  },
  {
   "cell_type": "code",
   "execution_count": null,
   "metadata": {},
   "outputs": [],
   "source": [
    "dataA.columns"
   ]
  },
  {
   "cell_type": "code",
   "execution_count": null,
   "metadata": {},
   "outputs": [],
   "source": [
    "pred_rankings = []\n",
    "for i in range(len(dataA)):\n",
    "    # compare cosine similarity of each picture_caption_embedding_meanLast4 and compound_embedding_meanLast4\n",
    "    compound_embedding = dataA['compound_embedding_meanLast4'][i].tolist()\n",
    "    image1_caption_embedding = dataA['image1_caption_embedding_meanLast4'][i]\n",
    "    image2_caption_embedding = dataA['image2_caption_embedding_meanLast4'][i]\n",
    "    image3_caption_embedding = dataA['image3_caption_embedding_meanLast4'][i]\n",
    "    image4_caption_embedding = dataA['image4_caption_embedding_meanLast4'][i]\n",
    "    image5_caption_embedding = dataA['image5_caption_embedding_meanLast4'][i]\n",
    "    similarity1 = cosine_similarity(compound_embedding,image1_caption_embedding)\n",
    "    similarity2 = cosine_similarity(compound_embedding,image2_caption_embedding)\n",
    "    similarity3 = cosine_similarity(compound_embedding,image3_caption_embedding)\n",
    "    similarity4 = cosine_similarity(compound_embedding,image4_caption_embedding)\n",
    "    similarity5 = cosine_similarity(compound_embedding,image5_caption_embedding)\n",
    "    # sort the similarities\n",
    "    similarities = [similarity1,similarity2,similarity3,similarity4,similarity5]\n",
    "    # sort and give indices\n",
    "    idx = np.argsort(similarities)\n",
    "    # reverse the indices\n",
    "    idx = idx[::-1]\n",
    "    pred_rankings.append(idx)\n",
    "dataA['pred_rankings'] = pred_rankings\n",
    "\n"
   ]
  },
  {
   "cell_type": "code",
   "execution_count": null,
   "metadata": {},
   "outputs": [],
   "source": [
    "similarities, idx"
   ]
  },
  {
   "cell_type": "code",
   "execution_count": null,
   "metadata": {},
   "outputs": [],
   "source": [
    "dataA[\"pred_rankings\"][0]"
   ]
  },
  {
   "cell_type": "code",
   "execution_count": null,
   "metadata": {},
   "outputs": [],
   "source": [
    "for i in range(len(dataA)):\n",
    "    idxs = dataA['pred_rankings'][i]\n",
    "    picture_names = get_image_names(i,dataA)\n",
    "    # sort picture_names according to idxs\n",
    "    picture_names = [picture_names[i] for i in idxs]\n",
    "    dataA[\"pred_rankings\"][i] = picture_names    \n"
   ]
  },
  {
   "cell_type": "code",
   "execution_count": null,
   "metadata": {},
   "outputs": [],
   "source": [
    "get_image_names(69,dataA)"
   ]
  },
  {
   "cell_type": "code",
   "execution_count": null,
   "metadata": {},
   "outputs": [],
   "source": [
    "dataA[\"pred_rankings\"][69], dataA[\"expected_order\"][69]"
   ]
  },
  {
   "cell_type": "code",
   "execution_count": null,
   "metadata": {},
   "outputs": [],
   "source": [
    "dataA['expected_order'][0],dataA['pred_rankings'][0]"
   ]
  },
  {
   "cell_type": "code",
   "execution_count": null,
   "metadata": {},
   "outputs": [],
   "source": [
    "def top1accuracy(pred_rankings,expected_order):\n",
    "    correct = 0\n",
    "    for i in range(len(pred_rankings)):\n",
    "        if pred_rankings[i][0] == expected_order[i][0]:\n",
    "            correct += 1\n",
    "    return correct/len(pred_rankings)"
   ]
  },
  {
   "cell_type": "code",
   "execution_count": null,
   "metadata": {},
   "outputs": [],
   "source": [
    "print(top1accuracy(dataA['pred_rankings'],dataA['expected_order']))\n"
   ]
  },
  {
   "cell_type": "code",
   "execution_count": null,
   "metadata": {},
   "outputs": [],
   "source": [
    "# compute spearman correlation between expected_order and pred_rankings\n",
    "from scipy.stats import spearmanr\n",
    "\n",
    "def spearman_correlation(pred_rankings,expected_order):\n",
    "    corr = []\n",
    "    for i in range(len(pred_rankings)):\n",
    "        corr.append(spearmanr(pred_rankings[i],expected_order[i]).correlation)\n",
    "    return np.mean(corr)\n",
    "\n",
    "print(spearman_correlation(dataA['pred_rankings'],dataA['expected_order']))\n",
    "\n"
   ]
  },
  {
   "cell_type": "code",
   "execution_count": null,
   "metadata": {},
   "outputs": [],
   "source": [
    "#save dataA pickle\n",
    "import pickle\n",
    "dataA.to_pickle(\"dataA.pkl\")\n",
    "data_chatGPT.to_pickle(\"data_chatGPT.pkl\")\n"
   ]
  },
  {
   "cell_type": "code",
   "execution_count": null,
   "metadata": {},
   "outputs": [],
   "source": []
  },
  {
   "cell_type": "markdown",
   "metadata": {},
   "source": [
    "Mehr in Funktionen packen. \n",
    "Bei Captions nur 2 Sätze betrachten.\n",
    "Weg über idiomatic/literal und dann erst Bilder auswählen. "
   ]
  },
  {
   "cell_type": "markdown",
   "metadata": {},
   "source": [
    "## Zweistufig: (a) +/- idiomatic, (b) compare picture captions"
   ]
  }
 ],
 "metadata": {
  "kernelspec": {
   "display_name": "Python 3",
   "language": "python",
   "name": "python3"
  },
  "language_info": {
   "codemirror_mode": {
    "name": "ipython",
    "version": 3
   },
   "file_extension": ".py",
   "mimetype": "text/x-python",
   "name": "python",
   "nbconvert_exporter": "python",
   "pygments_lexer": "ipython3",
   "version": "3.11.4"
  }
 },
 "nbformat": 4,
 "nbformat_minor": 2
}
