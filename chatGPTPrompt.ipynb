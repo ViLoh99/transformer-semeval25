{
 "cells": [
  {
   "cell_type": "markdown",
   "metadata": {},
   "source": [
    "# ChatGPT Prompts"
   ]
  },
  {
   "cell_type": "code",
   "execution_count": 2,
   "metadata": {},
   "outputs": [],
   "source": [
    "# read tsv file\n",
    "import csv\n",
    "import sys\n",
    "\n",
    "# file name: subtask_a_sample.tsv\n",
    "\n",
    "import pandas as pd\n",
    "\n",
    "fileName = \"subtask_a_train.tsv\"\n",
    "fileDirectory = \"D:\\\\Wiebke Petersen\\\\Downloads\\\\AdMIRe Subtask A Train\\\\train\"\n",
    "\n",
    "dataA = pd.read_csv(fileDirectory + \"\\\\\" + fileName, sep='\\t')\n",
    "\n"
   ]
  },
  {
   "cell_type": "code",
   "execution_count": 3,
   "metadata": {},
   "outputs": [
    {
     "data": {
      "text/plain": [
       "0          elbow grease\n",
       "1             night owl\n",
       "2         heart of gold\n",
       "3            agony aunt\n",
       "4      shrinking violet\n",
       "            ...        \n",
       "65          cold turkey\n",
       "66    low-hanging fruit\n",
       "67             busy bee\n",
       "68          wet blanket\n",
       "69         chicken feed\n",
       "Name: compound, Length: 70, dtype: object"
      ]
     },
     "execution_count": 3,
     "metadata": {},
     "output_type": "execute_result"
    }
   ],
   "source": [
    "compounds = dataA['compound']\n",
    "compounds = compounds.drop_duplicates()\n",
    "compounds"
   ]
  },
  {
   "cell_type": "code",
   "execution_count": 4,
   "metadata": {},
   "outputs": [
    {
     "data": {
      "text/plain": [
       "0        elbow grease\n",
       "1           night owl\n",
       "2       heart of gold\n",
       "3          agony aunt\n",
       "4    shrinking violet\n",
       "5       green fingers\n",
       "6     ancient history\n",
       "7     banana republic\n",
       "8    devil's advocate\n",
       "9         private eye\n",
       "Name: compound, dtype: object"
      ]
     },
     "execution_count": 4,
     "metadata": {},
     "output_type": "execute_result"
    }
   ],
   "source": [
    "compounds[:10\n",
    "          ]"
   ]
  },
  {
   "cell_type": "code",
   "execution_count": 10,
   "metadata": {},
   "outputs": [
    {
     "data": {
      "text/plain": [
       "10     pipe dream\n",
       "30    smoking gun\n",
       "Name: compound, dtype: object"
      ]
     },
     "execution_count": 10,
     "metadata": {},
     "output_type": "execute_result"
    }
   ],
   "source": [
    "compounds[[10,30]]\n"
   ]
  },
  {
   "cell_type": "markdown",
   "metadata": {},
   "source": [
    "Prompt: I will give you expressions that have a literal and a idiomatic meaning.  Define the literal and the idiomatic meaning starting with \"... is\". Additionally give an example sentence using the expression. Write the output in csv-format with the columns idiomatic_meaning, literal_meaning, idiomatic_sentence, literal_sentence.\n",
    "\n",
    "Input: outer space"
   ]
  },
  {
   "cell_type": "code",
   "execution_count": null,
   "metadata": {},
   "outputs": [],
   "source": []
  }
 ],
 "metadata": {
  "kernelspec": {
   "display_name": "Python 3",
   "language": "python",
   "name": "python3"
  },
  "language_info": {
   "codemirror_mode": {
    "name": "ipython",
    "version": 3
   },
   "file_extension": ".py",
   "mimetype": "text/x-python",
   "name": "python",
   "nbconvert_exporter": "python",
   "pygments_lexer": "ipython3",
   "version": "3.11.4"
  }
 },
 "nbformat": 4,
 "nbformat_minor": 2
}
