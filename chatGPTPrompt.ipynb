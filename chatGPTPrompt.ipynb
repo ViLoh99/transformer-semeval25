{
 "cells": [
  {
   "cell_type": "markdown",
   "metadata": {},
   "source": [
    "# ChatGPT Prompts"
   ]
  },
  {
   "cell_type": "code",
   "execution_count": 6,
   "metadata": {},
   "outputs": [],
   "source": [
    "# read tsv file\n",
    "import csv\n",
    "import sys\n",
    "\n",
    "# file name: subtask_a_sample.tsv\n",
    "\n",
    "import pandas as pd\n",
    "\n",
    "dataDirectory = \"./data/\"\n",
    "dataA_train = pd.read_csv(dataDirectory + \"subtask_a_train.tsv\", sep='\\t')\n",
    "dataA_dev = pd.read_csv(dataDirectory + \"subtask_a_dev.tsv\", sep='\\t')\n",
    "dataA_test = pd.read_csv(dataDirectory + \"subtask_a_test.tsv\", sep='\\t')\n",
    "\n",
    "dataB_train = pd.read_csv(dataDirectory + \"subtask_b_train.tsv\", sep='\\t')\n",
    "dataB_dev = pd.read_csv(dataDirectory + \"subtask_b_dev.tsv\", sep='\\t')\n",
    "dataB_test = pd.read_csv(dataDirectory + \"subtask_b_test.tsv\", sep='\\t')\n",
    "\n"
   ]
  },
  {
   "cell_type": "code",
   "execution_count": 7,
   "metadata": {},
   "outputs": [
    {
     "data": {
      "text/plain": [
       "50           loan shark\n",
       "51            open book\n",
       "52           baby blues\n",
       "53        silver bullet\n",
       "54        brain surgery\n",
       "55             red flag\n",
       "56       white elephant\n",
       "57       two-way street\n",
       "58              rat run\n",
       "59      graveyard shift\n",
       "60          dirty money\n",
       "61            high life\n",
       "62     pain in the neck\n",
       "63           guinea pig\n",
       "64           cat's eyes\n",
       "65          cold turkey\n",
       "66    low-hanging fruit\n",
       "67             busy bee\n",
       "68          wet blanket\n",
       "69         chicken feed\n",
       "Name: compound, dtype: object"
      ]
     },
     "execution_count": 7,
     "metadata": {},
     "output_type": "execute_result"
    }
   ],
   "source": [
    "compounds = dataA_train['compound']\n",
    "compounds = compounds.drop_duplicates()\n",
    "compounds[50:]"
   ]
  },
  {
   "cell_type": "code",
   "execution_count": 8,
   "metadata": {},
   "outputs": [
    {
     "data": {
      "text/plain": [
       "0        fancy dress\n",
       "1         snail mail\n",
       "2     heart of stone\n",
       "3       party animal\n",
       "4          cold feet\n",
       "5       couch potato\n",
       "6      peas in a pod\n",
       "7        sour grapes\n",
       "8            hot air\n",
       "9        green light\n",
       "10     watering hole\n",
       "11     flying saucer\n",
       "12        act of god\n",
       "13        field work\n",
       "14           big wig\n",
       "Name: compound, dtype: object"
      ]
     },
     "execution_count": 8,
     "metadata": {},
     "output_type": "execute_result"
    }
   ],
   "source": [
    "compounds = dataA_test['compound']\n",
    "compounds = compounds.drop_duplicates()\n",
    "compounds"
   ]
  },
  {
   "cell_type": "code",
   "execution_count": 9,
   "metadata": {},
   "outputs": [
    {
     "data": {
      "text/plain": [
       "0            cold turkey\n",
       "1       seal of approval\n",
       "2               best man\n",
       "3              new blood\n",
       "4        ancient history\n",
       "5             agony aunt\n",
       "6              open goal\n",
       "7            white whale\n",
       "8              bad apple\n",
       "9             guinea pig\n",
       "10             dead wood\n",
       "11             panda car\n",
       "12    bells and whistles\n",
       "13             swan song\n",
       "14         silver bullet\n",
       "15             acid test\n",
       "16          cutting edge\n",
       "17         second nature\n",
       "18         dutch courage\n",
       "19           sour grapes\n",
       "20        one-horse race\n",
       "21          can of worms\n",
       "22     storm in a teacup\n",
       "23          trojan horse\n",
       "24      busman's holiday\n",
       "25           brain drain\n",
       "26            fish story\n",
       "27         silver lining\n",
       "28         glass ceiling\n",
       "29             snake oil\n",
       "Name: compound, dtype: object"
      ]
     },
     "execution_count": 9,
     "metadata": {},
     "output_type": "execute_result"
    }
   ],
   "source": [
    "compounds_train = dataB_train['compound']\n",
    "compounds_dev = dataB_dev['compound']\n",
    "compounds_test = dataB_test['compound']\n",
    "# in one dataframe\n",
    "compounds_all = pd.concat([compounds_train, compounds_dev, compounds_test], ignore_index=True)\n",
    "compounds_all = compounds_all.drop_duplicates()\n",
    "compounds_all\n"
   ]
  },
  {
   "cell_type": "markdown",
   "metadata": {},
   "source": [
    "Prompt: I will give you expressions that have a literal and a idiomatic meaning.  Define the literal and the idiomatic meaning starting with \"... is\". Additionally give an example sentence using the expression. Write the output in csv-format with the columns idiomatic_meaning, literal_meaning, idiomatic_sentence, literal_sentence.\n",
    "\n",
    "Input: outer space"
   ]
  },
  {
   "cell_type": "markdown",
   "metadata": {},
   "source": [
    "## prompt für image descriptions\n",
    "I will give you expressions (mainly compounds) that have a literal and a idiomatic meaning.  Give a description of an image that illustrates the literal and an image that illustrates the idiomatic meaning. Start the descriptions with \"The image depicts ...\". \n",
    "Write the output in csv-format with the columns compound, idiomatic_image, literal_image\n",
    "Is the task clear?"
   ]
  },
  {
   "cell_type": "code",
   "execution_count": null,
   "metadata": {},
   "outputs": [],
   "source": []
  }
 ],
 "metadata": {
  "kernelspec": {
   "display_name": "Python 3",
   "language": "python",
   "name": "python3"
  },
  "language_info": {
   "codemirror_mode": {
    "name": "ipython",
    "version": 3
   },
   "file_extension": ".py",
   "mimetype": "text/x-python",
   "name": "python",
   "nbconvert_exporter": "python",
   "pygments_lexer": "ipython3",
   "version": "3.11.4"
  }
 },
 "nbformat": 4,
 "nbformat_minor": 2
}
